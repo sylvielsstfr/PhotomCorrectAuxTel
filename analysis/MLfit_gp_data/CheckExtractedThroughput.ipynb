{
 "cells": [
  {
   "cell_type": "markdown",
   "metadata": {},
   "source": [
    "# Check the Extracted  Throughput\n",
    "\n",
    "\n",
    "- author Sylvie Dagoret-Campagne\n",
    "- affiliation : IJCLab/IN2P3/CNRS\n",
    "- creation : October 7th 2020 : update with titles\n"
   ]
  },
  {
   "cell_type": "code",
   "execution_count": 38,
   "metadata": {},
   "outputs": [],
   "source": [
    "import pandas as pd\n",
    "import matplotlib as mpl\n",
    "import matplotlib.cm as cm \n",
    "import matplotlib.pyplot as plt\n",
    "import numpy as np\n",
    "from mpl_toolkits.axes_grid1 import host_subplot\n",
    "import mpl_toolkits.axisartist as AA\n",
    "import os,sys,re\n",
    "\n",
    "from astropy.io import fits\n",
    "import matplotlib.colors as colors\n",
    "import matplotlib.cm as cmx\n",
    "import matplotlib.dates as mdates\n",
    "from matplotlib import gridspec\n",
    "%matplotlib inline\n"
   ]
  },
  {
   "cell_type": "code",
   "execution_count": 39,
   "metadata": {},
   "outputs": [],
   "source": [
    "# to enlarge the sizes\n",
    "params = {'legend.fontsize': 'x-large',\n",
    "          'figure.figsize': (12, 8),\n",
    "         'axes.labelsize': 'x-large',\n",
    "         'axes.titlesize':'x-large',\n",
    "         'xtick.labelsize':'x-large',\n",
    "         'ytick.labelsize':'x-large'}\n",
    "plt.rcParams.update(params)"
   ]
  },
  {
   "cell_type": "code",
   "execution_count": 40,
   "metadata": {},
   "outputs": [
    {
     "data": {
      "text/plain": [
       "{'graphtable': '/Users/dagoret/MacOSX/External/PySynPhotData/grp/hst/cdbs/mtab/14l1632sm_tmg.fits',\n",
       " 'comptable': '/Users/dagoret/MacOSX/External/PySynPhotData/grp/hst/cdbs/mtab/16n1832tm_tmc.fits',\n",
       " 'thermtable': '/Users/dagoret/MacOSX/External/PySynPhotData/grp/hst/cdbs/mtab/tae17277m_tmt.fits',\n",
       " 'area': 1,\n",
       " 'waveset': 'Min: 500, Max: 26000, Num: 10000, Delta: None, Log: True'}"
      ]
     },
     "execution_count": 40,
     "metadata": {},
     "output_type": "execute_result"
    }
   ],
   "source": [
    "pysynphot_root_path=os.environ['PYSYN_CDBS']\n",
    "path_sed_calspec=os.path.join(pysynphot_root_path,'calspec')\n",
    "# pysynphot\n",
    "import pysynphot as S\n",
    "S.refs.setref(area=1)\n",
    "S.refs.getref()"
   ]
  },
  {
   "cell_type": "code",
   "execution_count": 41,
   "metadata": {},
   "outputs": [],
   "source": [
    "import time\n",
    "from datetime import datetime,date\n",
    "import dateutil.parser\n",
    "import pytz\n",
    "\n",
    "import logging\n",
    "import coloredlogs\n",
    "\n",
    "import coloredlogs\n",
    "import configparser\n",
    "import argparse\n"
   ]
  },
  {
   "cell_type": "code",
   "execution_count": 42,
   "metadata": {},
   "outputs": [],
   "source": [
    "from scipy import interpolate\n",
    "from scipy.interpolate import UnivariateSpline"
   ]
  },
  {
   "cell_type": "code",
   "execution_count": 43,
   "metadata": {},
   "outputs": [],
   "source": [
    "from sklearn.gaussian_process import GaussianProcessRegressor\n",
    "from sklearn.gaussian_process.kernels import (RBF, Matern, RationalQuadratic,\n",
    "                                              ExpSineSquared, DotProduct,\n",
    "                                              ConstantKernel,WhiteKernel)"
   ]
  },
  {
   "cell_type": "markdown",
   "metadata": {},
   "source": [
    "# Initialisation"
   ]
  },
  {
   "cell_type": "code",
   "execution_count": 44,
   "metadata": {},
   "outputs": [],
   "source": [
    "# start with logs\n",
    "#-----------------\n",
    "logging.basicConfig()\n",
    "logging.root.setLevel(logging.NOTSET)\n",
    "\n",
    "handle = __name__\n",
    "\n",
    "logger = logging.getLogger(handle)\n",
    "# logging.getLogger().setLevel(logging.INFO)\n",
    "logger.setLevel(logging.DEBUG)\n",
    "\n",
    "# If you don't want to see log messages from libraries, you can pass a\n",
    "# specific logger object to the install() function. In this case only log\n",
    "# messages originating from that logger will show up on the terminal.\n",
    "coloredlogs.install(level='DEBUG', logger=logger)\n",
    "coloredlogs.install(fmt='%(asctime)s,%(msecs)03d %(hostname)s %(name)s[%(process)d] %(levelname)s %(message)s')"
   ]
  },
  {
   "cell_type": "code",
   "execution_count": 45,
   "metadata": {},
   "outputs": [
    {
     "name": "stderr",
     "output_type": "stream",
     "text": [
      "2020-10-07 18:38:56,495 MacBook-Pro-de-admin.local __main__[78298] INFO LA time:09:38:56\n",
      "2020-10-07 18:38:56,496 MacBook-Pro-de-admin.local __main__[78298] INFO NY time:12:38:56\n",
      "2020-10-07 18:38:56,498 MacBook-Pro-de-admin.local __main__[78298] INFO London time:17:38:56\n",
      "2020-10-07 18:38:56,499 MacBook-Pro-de-admin.local __main__[78298] INFO Paris time:18:38:56\n",
      "2020-10-07 18:38:56,500 MacBook-Pro-de-admin.local __main__[78298] INFO ************************ START *********************\n"
     ]
    }
   ],
   "source": [
    "# set time\n",
    "# date\n",
    "today = date.today()\n",
    "string_date = today.strftime(\"%Y-%m-%d\")\n",
    "\n",
    "# time\n",
    "now = datetime.now()\n",
    "current_time = now.strftime(\"%H:%M:%S\")\n",
    "\n",
    "tim = time.localtime()\n",
    "current_time = time.strftime(\"%H:%M:%S\", tim)\n",
    "\n",
    "# timezones\n",
    "tz_LA = pytz.timezone('America/Los_Angeles')\n",
    "datetime_LA = datetime.now(tz_LA)\n",
    "msg=\"LA time:\"+  datetime_LA.strftime(\"%H:%M:%S\")\n",
    "logger.info(msg)\n",
    "\n",
    "tz_NY = pytz.timezone('America/New_York')\n",
    "datetime_NY = datetime.now(tz_NY)\n",
    "msg=\"NY time:\"+ datetime_NY.strftime(\"%H:%M:%S\")\n",
    "logger.info(msg)\n",
    "\n",
    "tz_London = pytz.timezone('Europe/London')\n",
    "datetime_London = datetime.now(tz_London)\n",
    "msg=\"London time:\"+ datetime_London.strftime(\"%H:%M:%S\")\n",
    "logger.info(msg)\n",
    "\n",
    "tz_Paris = pytz.timezone('Europe/Paris')\n",
    "datetime_Paris = datetime.now(tz_Paris)\n",
    "msg=\"Paris time:\"+ datetime_Paris.strftime(\"%H:%M:%S\")\n",
    "logger.info(msg)\n",
    "\n",
    "msg=\"************************ START *********************\"\n",
    "logger.info(msg)\n"
   ]
  },
  {
   "cell_type": "code",
   "execution_count": 46,
   "metadata": {},
   "outputs": [],
   "source": [
    "# arguments\n",
    "#----------\n",
    "\n",
    "parser = argparse.ArgumentParser()\n",
    "parser.add_argument(\"--config\",action=\"store\", dest=\"configfile\",help=f\" run generate -config configfilename, with by ex configfilename = default.ini\")\n",
    "#results_args = parser.parse_args()\n",
    "\n",
    "results_args=\"\""
   ]
  },
  {
   "cell_type": "code",
   "execution_count": 47,
   "metadata": {},
   "outputs": [
    {
     "name": "stderr",
     "output_type": "stream",
     "text": [
      "2020-10-07 18:38:56,515 MacBook-Pro-de-admin.local __main__[78298] INFO Configuration file : config/default.ini\n"
     ]
    }
   ],
   "source": [
    "# config file\n",
    "# --------------\n",
    "configfile = \"config/default.ini\"\n",
    "#config_filename = results_args.configfile\n",
    "config_filename = configfile\n",
    "msg = f\"Configuration file : {config_filename}\"\n",
    "logger.info(msg)\n"
   ]
  },
  {
   "cell_type": "markdown",
   "metadata": {},
   "source": [
    "# Configuration"
   ]
  },
  {
   "cell_type": "code",
   "execution_count": 48,
   "metadata": {},
   "outputs": [
    {
     "name": "stderr",
     "output_type": "stream",
     "text": [
      "2020-10-07 18:38:56,522 MacBook-Pro-de-admin.local __main__[78298] INFO 1) Configuration\n"
     ]
    }
   ],
   "source": [
    "# 1) CONFIGURATION\n",
    "#------------------\n",
    "logger.info('1) Configuration')\n",
    "\n",
    "config = configparser.ConfigParser()\n",
    "\n",
    "if os.path.exists(config_filename):\n",
    "    config.read(config_filename)\n",
    "else:\n",
    "    msg = f\"config file {config_filename} does not exist !\"\n",
    "    logger.error(msg)"
   ]
  },
  {
   "cell_type": "code",
   "execution_count": 49,
   "metadata": {},
   "outputs": [],
   "source": [
    "config_section = config.sections()"
   ]
  },
  {
   "cell_type": "code",
   "execution_count": 50,
   "metadata": {},
   "outputs": [],
   "source": [
    "if len(config_section) == 0:\n",
    "    msg = f\"empty config file {config_filename} !\"\n",
    "    logger.error(msg)"
   ]
  },
  {
   "cell_type": "code",
   "execution_count": 51,
   "metadata": {},
   "outputs": [],
   "source": [
    "if 'GENERAL' in config_section:\n",
    "\n",
    "    FLAG_DEBUG = bool(int(config['GENERAL']['FLAG_DEBUG']))\n",
    "    FLAG_VERBOSE = bool(int(config['GENERAL']['FLAG_VERBOSE']))\n",
    "    FLAG_PLOT   = bool(int(config['GENERAL']['FLAG_PLOT']))\n",
    "    FLAG_PRINT  = bool(int(config['GENERAL']['FLAG_PRINT']))\n",
    "    inputdir    = config['GENERAL']['inputdir']\n",
    "    inputfile   = config['GENERAL']['inputfile']\n",
    "    target      = config['GENERAL']['object']\n",
    "    sedfilename = config['GENERAL']['sedfilename']\n",
    "    WLMINSEL      = float(config['GENERAL']['WLMINSEL'])\n",
    "    WLMAXSEL      = float(config['GENERAL']['WLMAXSEL'])\n",
    "    normalisation_factor = float(config['GENERAL']['normalisation_factor'])\n",
    "    NPOINTSVIEW       =    int(config['GENERAL']['NPOINTSVIEW']) \n",
    "    NPOINTSSAVE       =    int(config['GENERAL']['NPOINTSSAVE']) \n",
    "    outputfile_linearfit =  config['GENERAL']['outputfile_linearfit']\n",
    "    outputfile_gp        =  config['GENERAL']['outputfile_gp']\n",
    "    holodatadir      =  config['GENERAL']['holodatadir']\n",
    "    \n",
    "\n",
    "else:\n",
    "    msg = f\"Configuration file : empty section GENERAL in config file {config_filename} !\"   \n",
    "    logger.error(msg)"
   ]
  },
  {
   "cell_type": "code",
   "execution_count": 52,
   "metadata": {},
   "outputs": [
    {
     "name": "stderr",
     "output_type": "stream",
     "text": [
      "2020-10-07 18:38:56,548 MacBook-Pro-de-admin.local __main__[78298] INFO  Object observed HD116405\n"
     ]
    }
   ],
   "source": [
    "msg=f\" Object observed {target}\"\n",
    "logger.info(msg)"
   ]
  },
  {
   "cell_type": "code",
   "execution_count": 53,
   "metadata": {},
   "outputs": [],
   "source": [
    "# SELECT THE INPUT FILE\n",
    "inputfilename = outputfile_linearfit\n",
    "#inputfilename = outputfile_gp"
   ]
  },
  {
   "cell_type": "markdown",
   "metadata": {},
   "source": [
    "# SED"
   ]
  },
  {
   "cell_type": "code",
   "execution_count": 54,
   "metadata": {},
   "outputs": [],
   "source": [
    "s0=S.FileSpectrum(os.path.join(path_sed_calspec,sedfilename))\n",
    "s0.convert('flam')"
   ]
  },
  {
   "cell_type": "code",
   "execution_count": 55,
   "metadata": {},
   "outputs": [],
   "source": [
    "sed_w=s0.wave/10\n",
    "sed_f=s0.flux*10\n",
    "sed_idx=np.where(np.logical_and(sed_w>350,sed_w<1100))[0]\n",
    "sed_w=sed_w[sed_idx]\n",
    "sed_f=sed_f[sed_idx]"
   ]
  },
  {
   "cell_type": "code",
   "execution_count": 56,
   "metadata": {},
   "outputs": [],
   "source": [
    "sed_m=-2.5*np.log10(sed_f)"
   ]
  },
  {
   "cell_type": "code",
   "execution_count": 57,
   "metadata": {},
   "outputs": [
    {
     "data": {
      "image/png": "[encoded data removed]",
      "text/plain": [
       "<Figure size 864x576 with 1 Axes>"
      ]
     },
     "metadata": {
      "needs_background": "light"
     },
     "output_type": "display_data"
    }
   ],
   "source": [
    "fig=plt.figure()\n",
    "ax=fig.add_subplot(111)\n",
    "ax.plot(sed_w*10,sed_f/10,\"b-\")\n",
    "ax.set_xlabel(s0.waveunits.name)\n",
    "ax.set_ylabel(s0.fluxunits.name)\n",
    "ax.set_title(\"SED\")\n",
    "ax.grid()"
   ]
  },
  {
   "cell_type": "markdown",
   "metadata": {},
   "source": [
    "## Throughput and eff ratio"
   ]
  },
  {
   "cell_type": "code",
   "execution_count": 58,
   "metadata": {},
   "outputs": [],
   "source": [
    "file_throuput_effratio=\"pdm_extracted_throuput_and_o2o1ratio.csv\""
   ]
  },
  {
   "cell_type": "code",
   "execution_count": 59,
   "metadata": {},
   "outputs": [],
   "source": [
    "df_thr=pd.read_csv(file_throuput_effratio,index_col=0)"
   ]
  },
  {
   "cell_type": "code",
   "execution_count": 60,
   "metadata": {},
   "outputs": [
    {
     "data": {
      "text/html": [
       "<div>\n",
       "<style scoped>\n",
       "    .dataframe tbody tr th:only-of-type {\n",
       "        vertical-align: middle;\n",
       "    }\n",
       "\n",
       "    .dataframe tbody tr th {\n",
       "        vertical-align: top;\n",
       "    }\n",
       "\n",
       "    .dataframe thead th {\n",
       "        text-align: right;\n",
       "    }\n",
       "</style>\n",
       "<table border=\"1\" class=\"dataframe\">\n",
       "  <thead>\n",
       "    <tr style=\"text-align: right;\">\n",
       "      <th></th>\n",
       "      <th>wl</th>\n",
       "      <th>throughput</th>\n",
       "      <th>effratio</th>\n",
       "    </tr>\n",
       "  </thead>\n",
       "  <tbody>\n",
       "    <tr>\n",
       "      <th>0</th>\n",
       "      <td>385.000000</td>\n",
       "      <td>0.069184</td>\n",
       "      <td>0.178649</td>\n",
       "    </tr>\n",
       "    <tr>\n",
       "      <th>1</th>\n",
       "      <td>391.111111</td>\n",
       "      <td>0.083379</td>\n",
       "      <td>0.174997</td>\n",
       "    </tr>\n",
       "    <tr>\n",
       "      <th>2</th>\n",
       "      <td>397.222222</td>\n",
       "      <td>0.096944</td>\n",
       "      <td>0.173716</td>\n",
       "    </tr>\n",
       "    <tr>\n",
       "      <th>3</th>\n",
       "      <td>403.333333</td>\n",
       "      <td>0.109889</td>\n",
       "      <td>0.168024</td>\n",
       "    </tr>\n",
       "    <tr>\n",
       "      <th>4</th>\n",
       "      <td>409.444444</td>\n",
       "      <td>0.122225</td>\n",
       "      <td>0.157258</td>\n",
       "    </tr>\n",
       "    <tr>\n",
       "      <th>...</th>\n",
       "      <td>...</td>\n",
       "      <td>...</td>\n",
       "      <td>...</td>\n",
       "    </tr>\n",
       "    <tr>\n",
       "      <th>95</th>\n",
       "      <td>965.555556</td>\n",
       "      <td>0.025930</td>\n",
       "      <td>0.000000</td>\n",
       "    </tr>\n",
       "    <tr>\n",
       "      <th>96</th>\n",
       "      <td>971.666667</td>\n",
       "      <td>0.026114</td>\n",
       "      <td>0.000000</td>\n",
       "    </tr>\n",
       "    <tr>\n",
       "      <th>97</th>\n",
       "      <td>977.777778</td>\n",
       "      <td>0.026644</td>\n",
       "      <td>0.000000</td>\n",
       "    </tr>\n",
       "    <tr>\n",
       "      <th>98</th>\n",
       "      <td>983.888889</td>\n",
       "      <td>0.027528</td>\n",
       "      <td>0.000000</td>\n",
       "    </tr>\n",
       "    <tr>\n",
       "      <th>99</th>\n",
       "      <td>990.000000</td>\n",
       "      <td>0.028778</td>\n",
       "      <td>0.000000</td>\n",
       "    </tr>\n",
       "  </tbody>\n",
       "</table>\n",
       "<p>100 rows × 3 columns</p>\n",
       "</div>"
      ],
      "text/plain": [
       "            wl  throughput  effratio\n",
       "0   385.000000    0.069184  0.178649\n",
       "1   391.111111    0.083379  0.174997\n",
       "2   397.222222    0.096944  0.173716\n",
       "3   403.333333    0.109889  0.168024\n",
       "4   409.444444    0.122225  0.157258\n",
       "..         ...         ...       ...\n",
       "95  965.555556    0.025930  0.000000\n",
       "96  971.666667    0.026114  0.000000\n",
       "97  977.777778    0.026644  0.000000\n",
       "98  983.888889    0.027528  0.000000\n",
       "99  990.000000    0.028778  0.000000\n",
       "\n",
       "[100 rows x 3 columns]"
      ]
     },
     "execution_count": 60,
     "metadata": {},
     "output_type": "execute_result"
    }
   ],
   "source": [
    "df_thr"
   ]
  },
  {
   "cell_type": "code",
   "execution_count": 61,
   "metadata": {},
   "outputs": [],
   "source": [
    "wl_thr=df_thr[\"wl\"].values\n",
    "through=df_thr[\"throughput\"].values\n",
    "effratio=df_thr[\"effratio\"].values"
   ]
  },
  {
   "cell_type": "code",
   "execution_count": null,
   "metadata": {},
   "outputs": [],
   "source": []
  },
  {
   "cell_type": "markdown",
   "metadata": {},
   "source": [
    "## Get spectrum above the atmosphere\n",
    "The file has been generated by **MLfit_bouguer_linearfit.ipynb** or **MLfit_bouguer_gp.ipynb**     "
   ]
  },
  {
   "cell_type": "code",
   "execution_count": 62,
   "metadata": {},
   "outputs": [],
   "source": [
    "df=pd.read_csv(inputfilename,index_col=0)"
   ]
  },
  {
   "cell_type": "code",
   "execution_count": 63,
   "metadata": {},
   "outputs": [],
   "source": [
    "# decode the data\n",
    "Y0=df[\"throu\"]\n",
    "EY0=df[\"errthrou\"]\n",
    "wl0=df[\"wavelength\"]"
   ]
  },
  {
   "cell_type": "markdown",
   "metadata": {},
   "source": [
    "#### Spectrum above the atmosphere"
   ]
  },
  {
   "cell_type": "code",
   "execution_count": 64,
   "metadata": {},
   "outputs": [],
   "source": [
    "Y1=df[\"sedtoa\"]\n",
    "EY1=df[\"errsedtoa\"]\n",
    "wl1=df[\"wavelength\"]"
   ]
  },
  {
   "cell_type": "code",
   "execution_count": 65,
   "metadata": {},
   "outputs": [
    {
     "data": {
      "image/png": "[encoded data removed]",
      "text/plain": [
       "<Figure size 864x576 with 1 Axes>"
      ]
     },
     "metadata": {
      "needs_background": "light"
     },
     "output_type": "display_data"
    }
   ],
   "source": [
    "fig=plt.figure()\n",
    "ax=fig.add_subplot(111)\n",
    "ax.errorbar(wl1,Y1,yerr=EY1,  fmt = 'o', color=\"r\",capsize = 3, ecolor = 'k', elinewidth = 1, capthick = 1,label=\"data\")\n",
    "ax.set_xlabel(\"$\\lambda$ (nm)\")\n",
    "ax.set_ylabel(\"spectrum\")\n",
    "title=f\"Spectrum at TOA (with Bouguer lines)\"\n",
    "ax.set_title(title)\n",
    "ax.legend()\n",
    "ax.grid()\n",
    "#ax.set_yscale(\"log\")"
   ]
  },
  {
   "cell_type": "markdown",
   "metadata": {},
   "source": [
    "## try to extract the second order component from the shifted spline"
   ]
  },
  {
   "cell_type": "markdown",
   "metadata": {},
   "source": [
    "### Make observation throuth the throughput splined"
   ]
  },
  {
   "cell_type": "code",
   "execution_count": 66,
   "metadata": {},
   "outputs": [],
   "source": [
    "bp_order1 = S.ArrayBandpass(wl_thr*10, through, name='throughput_o1')\n",
    "bp_order2 = S.ArrayBandpass(wl_thr*10, through*effratio, name='throughput_o2')"
   ]
  },
  {
   "cell_type": "code",
   "execution_count": 67,
   "metadata": {},
   "outputs": [
    {
     "name": "stdout",
     "output_type": "stream",
     "text": [
      "(throughput_o1) does not have a defined binset in the wavecat table. The waveset of the spectrum will be used instead.\n",
      "(throughput_o2) does not have a defined binset in the wavecat table. The waveset of the spectrum will be used instead.\n"
     ]
    }
   ],
   "source": [
    "obs1 = S.Observation(s0, bp_order1, force='taper')  # order 1\n",
    "obs2 = S.Observation(s0, bp_order2, force='taper')  # order 2"
   ]
  },
  {
   "cell_type": "code",
   "execution_count": 75,
   "metadata": {},
   "outputs": [
    {
     "data": {
      "text/plain": [
       "(300.0, 1000.0)"
      ]
     },
     "execution_count": 75,
     "metadata": {},
     "output_type": "execute_result"
    },
    {
     "data": {
      "image/png": "[encoded data removed]",
      "text/plain": [
       "<Figure size 720x432 with 1 Axes>"
      ]
     },
     "metadata": {
      "needs_background": "light"
     },
     "output_type": "display_data"
    }
   ],
   "source": [
    "fig=plt.figure(figsize=(10,6),constrained_layout=True)\n",
    "\n",
    "\n",
    "widths = [1,1]\n",
    "heights = [1]\n",
    "\n",
    "spec = fig.add_gridspec(ncols=1, nrows=1, height_ratios=heights)\n",
    "\n",
    "ax1 = fig.add_subplot(spec[0, 0])\n",
    "\n",
    "\n",
    "# top panel\n",
    "ax1.errorbar(wl1,Y1,yerr=EY1,  fmt = 'o', color=\"r\",capsize = 3, ecolor = 'k', elinewidth = 1, capthick = 1,label=\"data\")\n",
    "\n",
    "ax1.plot(obs1.binwave/10, obs1.binflux*10,\"b-\",label=\"SED x throughput - order 1\")\n",
    "ax1.plot(obs2.binwave/10, obs2.binflux*10,\"g:\",label=\"SED x throughput - order 2\")\n",
    "ax1.plot(2*obs2.binwave/10, obs2.binflux*10/2,\"g-\",label=\"SED x throughput - order 2\")\n",
    "ax1.set_xlabel(\"$\\lambda$ (nm)\")\n",
    "ax1.set_ylabel(\"spectrum\")\n",
    "title=f\"Spectrum at TOA (with Bouguer lines)\"\n",
    "ax1.set_title(title)\n",
    "ax1.legend()\n",
    "ax1.grid()\n",
    "ax1.set_xlim(300,1000)\n",
    "#ax.set_yscale(\"log\")\n"
   ]
  },
  {
   "cell_type": "code",
   "execution_count": null,
   "metadata": {},
   "outputs": [],
   "source": []
  }
 ],
 "metadata": {
  "kernelspec": {
   "display_name": "Python 3",
   "language": "python",
   "name": "python3"
  },
  "language_info": {
   "codemirror_mode": {
    "name": "ipython",
    "version": 3
   },
   "file_extension": ".py",
   "mimetype": "text/x-python",
   "name": "python",
   "nbconvert_exporter": "python",
   "pygments_lexer": "ipython3",
   "version": "3.7.7"
  }
 },
 "nbformat": 4,
 "nbformat_minor": 4
}
