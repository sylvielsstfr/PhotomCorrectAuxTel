{
 "cells": [
  {
   "cell_type": "markdown",
   "metadata": {},
   "source": [
    "# Fit atmosphere parameters Airmass, VAOD, PWV, O3, including clouds OD\n",
    "# For Pic du Midi Data"
   ]
  },
  {
   "cell_type": "markdown",
   "metadata": {},
   "source": [
    "- author Sylvie Dagoret-Campagne\n",
    "- affiliation : IJCLab/IN2P3/CNRS\n",
    "- creation date : October 9th 2020"
   ]
  },
  {
   "cell_type": "markdown",
   "metadata": {},
   "source": [
    "# imports"
   ]
  },
  {
   "cell_type": "code",
   "execution_count": 2,
   "metadata": {},
   "outputs": [],
   "source": [
    "import pandas as pd\n",
    "import matplotlib.pyplot as plt\n",
    "import numpy as np\n",
    "from mpl_toolkits.axes_grid1 import host_subplot\n",
    "import mpl_toolkits.axisartist as AA\n",
    "import os,sys,re\n",
    "\n",
    "from astropy.io import fits\n",
    "import matplotlib.colors as colors\n",
    "import matplotlib.cm as cmx\n",
    "import matplotlib.dates as mdates\n",
    "from matplotlib import gridspec\n",
    "%matplotlib inline"
   ]
  },
  {
   "cell_type": "code",
   "execution_count": 3,
   "metadata": {},
   "outputs": [],
   "source": [
    "# to enlarge the sizes\n",
    "params = {'legend.fontsize': 'x-large',\n",
    "          'figure.figsize': (12, 8),\n",
    "         'axes.labelsize': 'x-large',\n",
    "         'axes.titlesize':'x-large',\n",
    "         'xtick.labelsize':'x-large',\n",
    "         'ytick.labelsize':'x-large'}\n",
    "plt.rcParams.update(params)"
   ]
  },
  {
   "cell_type": "code",
   "execution_count": 4,
   "metadata": {},
   "outputs": [],
   "source": [
    "from astropy.table import Table"
   ]
  },
  {
   "cell_type": "code",
   "execution_count": 5,
   "metadata": {},
   "outputs": [],
   "source": [
    "from scipy import interpolate"
   ]
  },
  {
   "cell_type": "code",
   "execution_count": 6,
   "metadata": {},
   "outputs": [],
   "source": [
    "from scipy.stats import rayleigh,beta,gamma,uniform"
   ]
  },
  {
   "cell_type": "code",
   "execution_count": 7,
   "metadata": {},
   "outputs": [],
   "source": [
    "# analytic for removing rayleigh\n",
    "sys.path.append(\"../../tools/atmanalyticsim\") # go to parent dir"
   ]
  },
  {
   "cell_type": "code",
   "execution_count": 8,
   "metadata": {},
   "outputs": [],
   "source": [
    "import libatmscattering as atm"
   ]
  },
  {
   "cell_type": "code",
   "execution_count": 9,
   "metadata": {},
   "outputs": [],
   "source": [
    "import seaborn as sns"
   ]
  },
  {
   "cell_type": "code",
   "execution_count": 10,
   "metadata": {},
   "outputs": [
    {
     "data": {
      "text/plain": [
       "{'graphtable': '/Users/dagoret/MacOSX/External/PySynPhotData/grp/hst/cdbs/mtab/14l1632sm_tmg.fits',\n",
       " 'comptable': '/Users/dagoret/MacOSX/External/PySynPhotData/grp/hst/cdbs/mtab/16n1832tm_tmc.fits',\n",
       " 'thermtable': '/Users/dagoret/MacOSX/External/PySynPhotData/grp/hst/cdbs/mtab/tae17277m_tmt.fits',\n",
       " 'area': 1,\n",
       " 'waveset': 'Min: 500, Max: 26000, Num: 10000, Delta: None, Log: True'}"
      ]
     },
     "execution_count": 10,
     "metadata": {},
     "output_type": "execute_result"
    }
   ],
   "source": [
    "# pysynphot\n",
    "import pysynphot as S\n",
    "S.refs.setref(area=1)\n",
    "S.refs.getref()"
   ]
  },
  {
   "cell_type": "code",
   "execution_count": 11,
   "metadata": {},
   "outputs": [],
   "source": [
    "pysynphot_root_path=os.environ['PYSYN_CDBS']\n",
    "path_sed_calspec=os.path.join(pysynphot_root_path,'calspec')"
   ]
  },
  {
   "cell_type": "code",
   "execution_count": 12,
   "metadata": {},
   "outputs": [],
   "source": [
    "import scipy.special as sp"
   ]
  },
  {
   "cell_type": "code",
   "execution_count": 13,
   "metadata": {},
   "outputs": [],
   "source": [
    "PATH_LSSTFiltersKG='../../data/lsst/LSSTFiltersKG'\n",
    "sys.path.append(PATH_LSSTFiltersKG)\n",
    "PATH_LSSTFiltersKGDATA='../../data/lsst/LSSTFiltersKG/fdata'\n",
    "sys.path.append(PATH_LSSTFiltersKGDATA)"
   ]
  },
  {
   "cell_type": "code",
   "execution_count": 14,
   "metadata": {},
   "outputs": [
    {
     "name": "stdout",
     "output_type": "stream",
     "text": [
      "liblsstfilter_path= ../../data/lsst/LSSTFiltersKG\n"
     ]
    }
   ],
   "source": [
    "import libLSSTFiltersKG as lsst"
   ]
  },
  {
   "cell_type": "code",
   "execution_count": 15,
   "metadata": {},
   "outputs": [],
   "source": [
    "import time\n",
    "from datetime import datetime,date\n",
    "import dateutil.parser\n",
    "import pytz\n",
    "\n",
    "import argparse\n",
    "\n",
    "import logging\n",
    "import coloredlogs\n",
    "import configparser"
   ]
  },
  {
   "cell_type": "markdown",
   "metadata": {},
   "source": [
    "# Pre defined Functions"
   ]
  },
  {
   "cell_type": "code",
   "execution_count": 16,
   "metadata": {},
   "outputs": [],
   "source": [
    "def find_nearest(a, a0):\n",
    "    \"Element in nd array `a` closest to the scalar value `a0`\"\n",
    "    idx = np.abs(a - a0).argmin()\n",
    "    return a.flat[idx],int(idx)"
   ]
  },
  {
   "cell_type": "markdown",
   "metadata": {},
   "source": [
    "## Functions to select the CALSPEC"
   ]
  },
  {
   "cell_type": "code",
   "execution_count": 17,
   "metadata": {},
   "outputs": [],
   "source": [
    "def GetListOfCalspec(file_sedsummary=\"sed/table_summary_allcalspec_torenorm.fits\"):\n",
    "    \"\"\"\n",
    "    GetListOfCalspec()\n",
    "    \n",
    "    the file include SED fro which color term has been caculated \n",
    "    in /examples_sed/calspec/ViewCalspecColors.ipynb\n",
    "    \n",
    "    - input:\n",
    "      file_sedsummary : filename of SED summary\n",
    "      \n",
    "    - output:\n",
    "      t : astropy table of summary \n",
    "    \"\"\"\n",
    "\n",
    "    t=Table.read(file_sedsummary)\n",
    "    return t"
   ]
  },
  {
   "cell_type": "code",
   "execution_count": 18,
   "metadata": {},
   "outputs": [],
   "source": [
    "def SelectFewSED(t):\n",
    "    \"\"\"\n",
    "    SelectFewSED(t)\n",
    "    \n",
    "    input : \n",
    "     - t astropy table of SED\n",
    "     \n",
    "    output :\n",
    "    - t_selected : table of presselected SED\n",
    "     \n",
    "    \"\"\"\n",
    "    \n",
    "    all_colors=t[\"VmI\"]\n",
    "    \n",
    "    \n",
    "    # list of target colors\n",
    "    target_VmI=np.array([-0.75,-0.5,-0.25,0,0.25,0.5,0.75,1])\n",
    "    NBVmItarget=len(target_VmI)\n",
    "    \n",
    "    filesselected_index=np.zeros(NBVmItarget)\n",
    "    filesselected_VmI=np.zeros(NBVmItarget)\n",
    "    \n",
    "    idx=0\n",
    "    for vmi in target_VmI:\n",
    "        thevmi,theidx=find_nearest(all_colors,vmi)\n",
    "        #print(thevmi,theidx)\n",
    "        filesselected_index[idx]=int(theidx)\n",
    "        filesselected_VmI[idx]=thevmi\n",
    "        idx+=1  \n",
    "        \n",
    "    t_selected=Table(t[0])\n",
    "    for idx in filesselected_index[1:]:\n",
    "        t_selected.add_row(t[int(idx)])\n",
    "        \n",
    "    return t_selected\n",
    "    "
   ]
  },
  {
   "cell_type": "code",
   "execution_count": 19,
   "metadata": {},
   "outputs": [],
   "source": [
    "def plot_sed(t,ax):\n",
    "    \"\"\"\n",
    "    \n",
    "    plot_sed(t, ax) : Plot SED from the astropy table t\n",
    "\n",
    "    input:\n",
    "        - t : tables of SED\n",
    "        - ax : matplotlib axis\n",
    "\n",
    "    \"\"\"\n",
    "    \n",
    "    NBFILES=len(t)\n",
    "    \n",
    "    # wavelength bin colors\n",
    "    jet = plt.get_cmap('jet')\n",
    "    cNorm = colors.Normalize(vmin=0, vmax=NBFILES)\n",
    "    scalarMap = cmx.ScalarMappable(norm=cNorm, cmap=jet)\n",
    "    all_colors = scalarMap.to_rgba(np.arange(NBFILES), alpha=1)\n",
    "    \n",
    "    idx=0\n",
    "    \n",
    "    flatsp = S.FlatSpectrum(10, fluxunits='photlam')\n",
    "\n",
    "    for filename in t[\"FILES\"]:\n",
    "    \n",
    "        # read the calspec file\n",
    "        fullfilename=os.path.join(path_sed_calspec,filename)\n",
    "        print(\"filename = \",filename,\"fullfilename = \", fullfilename)\n",
    "        \n",
    "        if filename==\"flat\":\n",
    "            spec=flatsp\n",
    "            spec_norm=spec\n",
    "        else:\n",
    "            spec=S.FileSpectrum(fullfilename)\n",
    "        \n",
    "        spec_norm = spec.renorm(10, 'vegamag', S.ObsBandpass('johnson,v'))\n",
    "    \n",
    "        spec_norm.convert('photlam')\n",
    "        #spec_norm.convert('nm')    \n",
    "        \n",
    "        #WLMINSEL=340.\n",
    "        #WLMAXSEL=1100.\n",
    "\n",
    "\n",
    "        magV=t[\"magV\"][idx]\n",
    "        label=t[\"OBJNAME\"][idx]+\" ( \"+t[\"SP_TYPE\"][idx]+\" ) \"+\" magV = {:.2g}\".format(magV) +\" v-i ={:.2f}\".format(t[\"VmI\"][idx])\n",
    "        \n",
    "        \n",
    "        \n",
    "        #X= spec_norm.wave[wavelengths_indexes]    \n",
    "        #Y= spec_norm.flux[wavelengths_indexes]  \n",
    "        \n",
    "        X= spec_norm.wave   \n",
    "        Y= spec_norm.flux \n",
    "        \n",
    "        wavelengths_indexes=np.where(np.logical_and(spec_norm.wave>WLMINSEL*10, spec_norm.wave<WLMAXSEL*10))[0]\n",
    "        \n",
    "        \n",
    "        #if filename!=\"flat\":\n",
    "        cm=ax.plot(X[wavelengths_indexes], Y[wavelengths_indexes],color=all_colors[idx],label=label)\n",
    "        \n",
    "        idx+=1\n",
    "    \n",
    "    #ax.set_xlim(3500.,11000.)\n",
    "    #ax.set_ylim(0.,3.)\n",
    "    ax.legend()\n",
    "    ax.grid()\n",
    "\n",
    "\n",
    "    xlabel=' $\\\\lambda$ (Angstrom)'\n",
    "    ylabel=' Flux (photlam) normalised to Mag-10'\n",
    "    ax.set_xlabel(xlabel,fontsize=15)\n",
    "    ax.set_ylabel(ylabel,fontsize=15)\n",
    "    ax.set_title(\"Preselected CALSPEC relative SED\")\n",
    "    \n",
    "    return cm\n",
    "\n",
    "    \n",
    "    "
   ]
  },
  {
   "cell_type": "markdown",
   "metadata": {},
   "source": [
    "## Functions to build spectrum "
   ]
  },
  {
   "cell_type": "code",
   "execution_count": 20,
   "metadata": {},
   "outputs": [],
   "source": [
    "def GetSpectra(sed,wl_atm,atm_transmission, order2=False,cut=False):\n",
    "    \"\"\"\n",
    "    \n",
    "    * input : \n",
    "     - sed : Pysynphot SED\n",
    "     -  wl  : wavelength of the atmospheric transmission (nm)\n",
    "     - transmission : atmospheric transmission array\n",
    "     - order2 : flag to compute the atmospheric transmission\n",
    "     \n",
    "    * output :\n",
    "     - array of spectra (corresponding to wl in nm)\n",
    "    \n",
    "    \"\"\"\n",
    "    \n",
    "    wl0=sed.wave  # in angstrom\n",
    "    spectra=np.zeros_like(atm_transmission)\n",
    "    spectra2=np.zeros_like(atm_transmission)  # order 2\n",
    "    \n",
    "    wl_atm_ang=10*wl_atm\n",
    "    \n",
    "    \n",
    "    \n",
    "    # quantum efficiency\n",
    "    wl_ccd,throughput,ccdqe,trans_opt_elec=lsst.GetThroughputAndCCDQE(\"../../data/lsst\")\n",
    "    bp_qe= S.ArrayBandpass(wl_ccd*10.,ccdqe, name='QE')\n",
    "    \n",
    "    \n",
    "    \n",
    "    # passband for atmosphere\n",
    "    Natm=atm_transmission.shape[0]\n",
    "    all_bp_atm=[]\n",
    "    for i_atm in np.arange(Natm):\n",
    "        label_atm=\"atm{:d}\".format(i_atm)\n",
    "        bp_atm= S.ArrayBandpass(wl_atm_ang,atm_transmission[i_atm,:], name=label_atm)\n",
    "        all_bp_atm.append(bp_atm)\n",
    "        \n",
    "    # Hologram transmission (analytic)\n",
    "    X0=10000 # in antstrom\n",
    "    X=wl0\n",
    "    X2=np.sort(np.unique(np.concatenate((wl0/2,wl0)))) \n",
    "    Eff_holo=sp.jv(1, X0/X)**2\n",
    "    Eff_holo2=sp.jv(2, X0/X2)**2\n",
    "    \n",
    "    bp_holo_order1= S.ArrayBandpass(X,Eff_holo, name='Holo')\n",
    "    bp_holo_order2= S.ArrayBandpass(X2,Eff_holo2, name='Holo2')\n",
    "    \n",
    "    all_obs1=[]\n",
    "    all_obs2=[]\n",
    "    \n",
    "    # compute spectra for order 1 and order 2\n",
    "    for i_atm in np.arange(Natm):\n",
    "        bp_all_order1=bp_qe*all_bp_atm[i_atm]* bp_holo_order1\n",
    "        bp_all_order2=bp_qe*all_bp_atm[i_atm]* bp_holo_order2\n",
    "\n",
    "        obs1 = S.Observation(sed, bp_all_order1,force='taper') # order 1\n",
    "        obs2 = S.Observation(sed, bp_all_order2,force='taper') # order 2\n",
    "    \n",
    "        all_obs1.append(obs1)\n",
    "        all_obs2.append(obs2)\n",
    "        \n",
    "   \n",
    "    for i_atm in np.arange(Natm):\n",
    "        obs1=all_obs1[i_atm]\n",
    "        func_order1 = interpolate.interp1d(obs1.binwave,obs1.binflux,bounds_error=False,fill_value=(0,0))\n",
    "    \n",
    "        spectra[i_atm,:]=func_order1(wl_atm_ang) \n",
    "    \n",
    "        obs2=all_obs2[i_atm]\n",
    "        func_order2 = interpolate.interp1d(2*obs2.binwave,obs2.binflux/2,bounds_error=False,fill_value=(0,0))\n",
    "        spectra2[i_atm,:]=func_order2(wl_atm_ang) \n",
    "    \n",
    "    if cut:\n",
    "         wlcut_indexes = np.where(wl_atm_ang<7600)[0]\n",
    "         spectra2[:,wlcut_indexes]=0\n",
    "        \n",
    "        \n",
    "    # add order 1 + order 2    \n",
    "    if order2:\n",
    "        spectra=spectra+spectra2\n",
    "        \n",
    "    spectra=spectra*10 # to get per unit of nm\n",
    "    spectra2=spectra2*10\n",
    "    \n",
    "    return spectra,spectra2\n",
    "    \n",
    "    "
   ]
  },
  {
   "cell_type": "code",
   "execution_count": 21,
   "metadata": {},
   "outputs": [],
   "source": [
    "if 0:\n",
    "    spectra,spectra2=GetSpectra(sed=spec_norm,wl_atm=wl,atm_transmission=transm[:22,:],order2=True)\n",
    "    fig=plt.figure(figsize=(16,4))\n",
    "    ax = fig.add_subplot(121)\n",
    "    for idx in np.arange(20):\n",
    "        ax.plot(wl,spectra[idx,:])\n",
    "    ax1 = ax.twinx()\n",
    "    ax1.set_ylim(ax.get_ylim())\n",
    "    ax.grid()\n",
    "    \n",
    "    ax = fig.add_subplot(122)\n",
    "    for idx in np.arange(20):\n",
    "        ax.plot(wl,spectra2[idx,:])\n",
    "    ax1 = ax.twinx()\n",
    "    ax1.set_ylim(ax.get_ylim())\n",
    "    ax.grid()"
   ]
  },
  {
   "cell_type": "markdown",
   "metadata": {},
   "source": [
    "## Functions for Plotting"
   ]
  },
  {
   "cell_type": "code",
   "execution_count": 22,
   "metadata": {},
   "outputs": [],
   "source": [
    "def plot_param(iparam,ax,all_Yin,all_Yout,mode,nsig=10):\n",
    "    \"\"\"\n",
    "    plot estimated parameters\n",
    "    \n",
    "    iparam = 0,1,2,3 : VAOD,PWV,O3,CLD\n",
    "    ax     = axis\n",
    "    \n",
    "    all_Yin : inverse transform of the input in the simulation\n",
    "    all_Yout : inverse transform predicted parameters\n",
    "    \n",
    "    mode : \n",
    "    - 0 : Yout vs Yin\n",
    "    - 1 : Yout - Yin vs Yin\n",
    "    - 2 : (Yout - Yin)/Yin vs Yin\n",
    "    \n",
    "    \"\"\"\n",
    "    N=4 # color mode corres ponding to parameter\n",
    "    jet = plt.get_cmap('jet')\n",
    "    cNorm = colors.Normalize(vmin=0, vmax=N)\n",
    "    scalarMap = cmx.ScalarMappable(norm=cNorm, cmap=jet)\n",
    "    all_colors = scalarMap.to_rgba(np.arange(N), alpha=1)\n",
    "\n",
    "    xlabel=[\"VAOD in \",\"PWV in (mm)\",\"Ozone in (dBU)\",\"Cloud OD in \"]\n",
    "    ylabel=[\"value out\",\"value rec - value in\",\"$\\delta V/V$\"]\n",
    "    ttitle=[\"Estimation of VAOD\",\n",
    "       \"Estimation of PWV\",\n",
    "       \"Estimation of Ozone\",\n",
    "       \"Estimation of Cloud OD\"]\n",
    "     \n",
    "    DY=all_Yout[:,iparam]-all_Yin[:,iparam]\n",
    "    Y0=all_Yin[:,iparam]\n",
    "    Y1=all_Yout[:,iparam]\n",
    "    RY=DY/Y0\n",
    "    \n",
    "    if mode   ==0:  \n",
    "        cm=ax.plot(Y0,Y1,\"o\",color=all_colors[iparam])\n",
    "    elif mode ==1:\n",
    "        \n",
    "        mu = DY.mean()\n",
    "        median = np.median(DY)\n",
    "        sigma = DY.std()\n",
    "        textstr = '\\n'.join((\n",
    "        r'$\\mu$={:3.2g}'.format(mu),\n",
    "        r'$median$={:3.2g}'.format(median),\n",
    "        r'$\\sigma$={:3.2g}'.format(sigma)))\n",
    "        \n",
    "       \n",
    "        cm=ax.plot(Y0,DY,\"o\",color=all_colors[iparam])\n",
    "        \n",
    "        # these are matplotlib.patch.Patch properties\n",
    "        props = dict(boxstyle='round', facecolor='wheat', alpha=0.5)\n",
    "\n",
    "        # place a text box in upper left in axes coords\n",
    "        ax.text(0.05, 0.95, textstr, transform=ax.transAxes, fontsize=14,verticalalignment='top', bbox=props)\n",
    "        \n",
    "        ax.set_ylim(mu-nsig*sigma,mu+nsig*sigma)\n",
    "        \n",
    "    else:\n",
    "        \n",
    "        mu = RY.mean()\n",
    "        median = np.median(RY)\n",
    "      \n",
    "        sigma = RY.std()\n",
    "        \n",
    "        \n",
    "        textstr = '\\n'.join((\n",
    "        '$\\mu$={:.3g}'.format(mu),\n",
    "        '$median$={:.3g}'.format(median),\n",
    "        '$\\sigma$={:.3g}'.format(sigma)))\n",
    "       \n",
    "        \n",
    "        \n",
    "        cm=ax.plot(Y0,RY,\"o\",color=all_colors[iparam])\n",
    "        \n",
    "        # these are matplotlib.patch.Patch properties\n",
    "        props = dict(boxstyle='round', facecolor='wheat', alpha=0.5)\n",
    "\n",
    "        # place a text box in upper left in axes coords\n",
    "        ax.text(0.05, 0.95, textstr, transform=ax.transAxes, fontsize=14,verticalalignment='top', bbox=props)\n",
    "            \n",
    "        ax.set_ylim(mu-nsig*sigma,mu+nsig*sigma)    \n",
    "            \n",
    "    ax.grid()\n",
    "    ax.set_title(ttitle[iparam])\n",
    "    ax.set_xlabel(xlabel[iparam])\n",
    "    ax.set_ylabel(ylabel[mode])\n",
    "\n",
    "    \n",
    "    ax.ticklabel_format(axis='y',style='sci', \n",
    "                          scilimits=None, \n",
    "                          useOffset=None, \n",
    "                          useLocale=None, \n",
    "                          useMathText=True)\n",
    "    \n",
    "    return cm\n",
    "    "
   ]
  },
  {
   "cell_type": "code",
   "execution_count": 23,
   "metadata": {},
   "outputs": [],
   "source": [
    "def plot_param_histo(iparam,ax,all_Yin,all_Yout,nsig=10):\n",
    "    \"\"\"\n",
    "    plot histo of parameters\n",
    "    \n",
    "    iparam = 0,1,2,3 : VAOD,PWV,O3,CLD\n",
    "    ax     = axis\n",
    "    \n",
    "    all_Yin : inverse transform of the input in the simulation\n",
    "    all_Yout : inverse transform predicted parameters\n",
    "    \n",
    "    mode : \n",
    "    - 0 : Yout vs Yin\n",
    "    - 1 : Yout - Yin vs Yin\n",
    "    - 2 : (Yout - Yin)/Yin vs Yin\n",
    "    \n",
    "    \"\"\"\n",
    "    N=4 # color mode corres ponding to parameter\n",
    "    jet = plt.get_cmap('jet')\n",
    "    cNorm = colors.Normalize(vmin=0, vmax=N)\n",
    "    scalarMap = cmx.ScalarMappable(norm=cNorm, cmap=jet)\n",
    "    all_colors = scalarMap.to_rgba(np.arange(N), alpha=1)\n",
    "\n",
    "     \n",
    "    DY=all_Yout[:,iparam]-all_Yin[:,iparam]\n",
    "    Y0=all_Yin[:,iparam]\n",
    "    Y1=all_Yout[:,iparam]\n",
    "    RY=DY/Y0\n",
    "    \n",
    "\n",
    "    xlabel=[\"$\\Delta$ VAOD\",\"$\\Delta$ PWV (mm)\",\"$\\Delta$ Ozone (dBU)\",\"$\\Delta$ OD\"]\n",
    "   \n",
    "    ttitle=[\"Estimation of VAOD\",\n",
    "       \"Estimation of PWV\",\n",
    "       \"Estimation of Ozone\",\n",
    "       \"Estimation of Cloud OD\"]\n",
    "\n",
    "    \n",
    "    mu = DY.mean()\n",
    "    median = np.median(DY)\n",
    "    sigma = DY.std()\n",
    "    textstr = '\\n'.join((\n",
    "    '$\\mu$={:.3g}'.format(mu),\n",
    "    '$median$={:.3g}'.format(median),\n",
    "    '$\\sigma$={:.3g}'.format(sigma)))\n",
    "   \n",
    "    \n",
    "    cm=ax.hist(DY,bins=50,color=all_colors[iparam])\n",
    "    ax.grid()\n",
    "    ax.set_title(ttitle[iparam])\n",
    "    ax.set_xlabel(xlabel[iparam])\n",
    "    ax.set_xlim(mu-nsig*sigma,mu+nsig*sigma)\n",
    "    \n",
    "    # these are matplotlib.patch.Patch properties\n",
    "    props = dict(boxstyle='round', facecolor='wheat', alpha=0.5)\n",
    "\n",
    "    # place a text box in upper left in axes coords\n",
    "    ax.text(0.05, 0.95, textstr, transform=ax.transAxes, fontsize=14,verticalalignment='top', bbox=props)\n",
    " \n",
    "    ax.ticklabel_format(axis='x', \n",
    "                          style='sci',\n",
    "                          scilimits=(-3,-3), \n",
    "                          useOffset=None, \n",
    "                          useLocale=None, \n",
    "                          useMathText=True)\n",
    "    \n",
    "    return cm\n",
    "    "
   ]
  },
  {
   "cell_type": "code",
   "execution_count": 24,
   "metadata": {},
   "outputs": [],
   "source": [
    "def plotcorrelation(ax,all_Y):\n",
    "    \"\"\"\n",
    "    \"\"\"\n",
    "    \n",
    "    df=pd.DataFrame(data=all_Y,columns=['VAOD', 'PWV', 'OZONE',\"CLD-OD\"])\n",
    "    Var_Corr = df.corr()\n",
    "    mask_ut=np.triu(np.ones(Var_Corr.shape)).astype(np.bool)\n",
    "    mask_lt=np.logical_not(np.tril(np.ones(Var_Corr.shape)).astype(np.bool))\n",
    "    \n",
    "    sns.heatmap(Var_Corr,mask=mask_lt,vmin=0, vmax=1 ,xticklabels=Var_Corr.columns, yticklabels=Var_Corr.columns, annot=True,ax=ax,cmap=\"jet\")"
   ]
  },
  {
   "cell_type": "code",
   "execution_count": 25,
   "metadata": {},
   "outputs": [],
   "source": [
    "#-----------------------------------------------------------------------------------------------------------------------\n",
    "def plot_ml_result(Yin,Yout,mode,title):\n",
    "    \"\"\"\n",
    "    plot_ml_result(Yin,Yout,mode,title)\n",
    "\n",
    "    :param Yin:\n",
    "    :param Yout:\n",
    "    :param mode:\n",
    "    :param title:\n",
    "    :return:\n",
    "    \"\"\"\n",
    "\n",
    "    fig = plt.figure(figsize=(8.5, 7.5))\n",
    "    ax = fig.add_subplot(221)\n",
    "    plot_param(0, ax, Yin, Yout, mode)\n",
    "\n",
    "    ax = fig.add_subplot(222)\n",
    "    plot_param(1, ax,Yin, Yout, mode)\n",
    "\n",
    "    ax = fig.add_subplot(223)\n",
    "    plot_param(2, ax, Yin, Yout, mode)\n",
    "\n",
    "    ax = fig.add_subplot(224)\n",
    "    plot_param(3, ax, Yin, Yout, mode)\n",
    "\n",
    "    plt.tight_layout()\n",
    "    plt.suptitle(title, Y=1.02, fontsize=18)\n",
    "    plt.show()\n",
    "#--------------------------------------------"
   ]
  },
  {
   "cell_type": "code",
   "execution_count": 26,
   "metadata": {},
   "outputs": [],
   "source": [
    "def histo_ml_result(Yin, Yout, title):\n",
    "    \"\"\"\n",
    "\n",
    "    :param Yin:\n",
    "    :param Yout:\n",
    "    :param mode:\n",
    "    :param title:\n",
    "    :return:\n",
    "    \"\"\"\n",
    "\n",
    "    fig = plt.figure(figsize=(8.5, 7.5))\n",
    "    ax = fig.add_subplot(221)\n",
    "    plot_param_histo(0, ax, Yin, Yout)\n",
    "\n",
    "    ax = fig.add_subplot(222)\n",
    "    plot_param_histo(1, ax, Yin, Yout)\n",
    "\n",
    "    ax = fig.add_subplot(223)\n",
    "    plot_param_histo(2, ax, Yin, Yout)\n",
    "\n",
    "    ax = fig.add_subplot(224)\n",
    "    plot_param_histo(3, ax, Yin, Yout)\n",
    "\n",
    "    plt.tight_layout()\n",
    "    plt.suptitle(title, Y=1.02, fontsize=18)\n",
    "    plt.show()\n",
    "#---------------------------------------------"
   ]
  },
  {
   "cell_type": "code",
   "execution_count": 27,
   "metadata": {},
   "outputs": [],
   "source": [
    "def plot_regularisation_coeff(alphas,alpha0,allcoefs,title):\n",
    "    \"\"\"\n",
    "\n",
    "    plot_regularisation_coeff(alpha,all_coeff,title) : plot coefficient vrt regularisation parameter\n",
    "\n",
    "    :param alphas: regularisation parameters\n",
    "    : param alpha0 : vertical line\n",
    "    :param allcoefs: coefficient\n",
    "    :param title: title\n",
    "    :return:\n",
    "    \"\"\"\n",
    "\n",
    "    N = allcoefs.shape[2] # number of coefficients\n",
    "    jet = plt.get_cmap('jet')\n",
    "    cNorm = colors.Normalize(vmin=0, vmax=N)\n",
    "    scalarMap = cmx.ScalarMappable(norm=cNorm, cmap=jet)\n",
    "    all_colors = scalarMap.to_rgba(np.arange(N), alpha=1)\n",
    "\n",
    "    fig = plt.figure(figsize=(12, 8))\n",
    "\n",
    "    ax1 = fig.add_subplot(221)\n",
    "    for idx in np.arange(allcoefs.shape[2]):\n",
    "        ax1.plot(alphas, allcoefs[:, 0, idx], color=all_colors[idx])\n",
    "    ax1.set_xscale('log')\n",
    "    ax1.axvline(x=alpha0, color='red')\n",
    "    ax1.set_ylabel('weights - vaod')\n",
    "    ax1.set_xlim(ax1.get_xlim()[::-1])  # reverse axis\n",
    "    ax1.grid(True)\n",
    "    ax1.set_title(title)\n",
    "\n",
    "    ax2 = fig.add_subplot(222, sharex=ax1)\n",
    "    for idx in np.arange(allcoefs.shape[2]):\n",
    "        ax2.plot(alphas, allcoefs[:, 1, idx], color=all_colors[idx])\n",
    "    ax2.axvline(x=alpha0, color='red')\n",
    "    ax2.set_xscale('log')\n",
    "    ax2.set_ylabel('weights - H2O')\n",
    "    ax2.set_xlim(ax2.get_xlim()[::-1])  # reverse axis\n",
    "    ax2.grid(True)\n",
    "\n",
    "    ax3 = fig.add_subplot(223, sharex=ax1)\n",
    "    for idx in np.arange(allcoefs.shape[2]):\n",
    "        ax3.plot(alphas, allcoefs[:, 2, idx], color=all_colors[idx])\n",
    "    ax3.axvline(x=alpha0, color='red')\n",
    "    ax3.set_ylabel('weights - O3')\n",
    "    ax3.set_xscale('log')\n",
    "    ax3.set_xlim(ax3.get_xlim()[::-1])  # reverse axis\n",
    "    ax3.grid(True)\n",
    "\n",
    "    ax4 = fig.add_subplot(224, sharex=ax1)\n",
    "    for idx in np.arange(allcoefs.shape[2]):\n",
    "        ax4.plot(alphas, allcoefs[:, 3, idx], color=all_colors[idx])\n",
    "    ax4.axvline(x=alpha0, color='red')\n",
    "    ax4.set_ylabel('weights - CLD')\n",
    "    ax4.set_xscale('log')\n",
    "    # ax4.set_xlim(ax4.get_xlim()[::-1])  # reverse axis\n",
    "    ax4.set_xlim(ax4.get_xlim())  # reverse axis\n",
    "    ax4.grid(True)\n",
    "\n",
    "    plt.xlabel('alpha')\n",
    "    plt.axis('tight')\n",
    "\n",
    "    plt.tight_layout()\n",
    "    plt.show()\n",
    "\n"
   ]
  },
  {
   "cell_type": "markdown",
   "metadata": {},
   "source": [
    "# GetAtmTransparency"
   ]
  },
  {
   "cell_type": "code",
   "execution_count": 28,
   "metadata": {},
   "outputs": [],
   "source": [
    "def GetAtmTransparency(inputdir,filelist):\n",
    "    \"\"\"\n",
    "    GetAtmTransparency(inputdir, filelist): retrieve atmospheric transparency from simulation\n",
    "\n",
    "    input arguments:\n",
    "     - inputdir : input directory\n",
    "     - filelist : list of file to read\n",
    "    \"\"\"\n",
    "    \n",
    "    filename=filelist[0]\n",
    "    full_inputfilename=os.path.join(inputdir,filename)\n",
    "    hduin = fits.open(full_inputfilename)\n",
    "    \n",
    "    headerin=hduin[0].header\n",
    "    datain=hduin[0].data\n",
    "    \n",
    "    hdr=headerin\n",
    "    NSIMH=hdr['NBATMSIM']\n",
    "    idx_num = hdr['ID_NUM']\n",
    "    idx_am = hdr['ID_AM']\n",
    "    idx_vaod=hdr['ID_VAOD']\n",
    "    idx_pwv= hdr['ID_PWV']\n",
    "    idx_o3=hdr['ID_O3']\n",
    "    idx_cld=hdr['ID_CLD']\n",
    "    idx_res= hdr['ID_RES']\n",
    "    \n",
    "    wl=datain[0,idx_res:]\n",
    "    \n",
    "    hduin.close() \n",
    "    \n",
    "    all_data=[]\n",
    "    # loop on files to extract data\n",
    "    for file in filelist:\n",
    "        full_inputfilename=os.path.join(inputdir,file)\n",
    "        hdu = fits.open(full_inputfilename)\n",
    "       \n",
    "        datain=hdu[0].data\n",
    "        all_data.append(datain[1:,:])\n",
    "        hdu.close\n",
    "        \n",
    "    dataout=np.concatenate(all_data,axis=0)\n",
    "    \n",
    "    return wl,dataout,idx_num,idx_am,idx_vaod,idx_pwv,idx_o3,idx_cld,idx_res,headerin\n",
    "        "
   ]
  },
  {
   "cell_type": "markdown",
   "metadata": {},
   "source": [
    "# Initialisation"
   ]
  },
  {
   "cell_type": "code",
   "execution_count": 29,
   "metadata": {},
   "outputs": [
    {
     "name": "stdout",
     "output_type": "stream",
     "text": [
      "LA time: 12:04:05\n",
      "NY time: 15:04:05\n",
      "London time: 20:04:05\n",
      "Paris time: 21:04:05\n"
     ]
    }
   ],
   "source": [
    "# date\n",
    "today = date.today()\n",
    "string_date = today.strftime(\"%Y-%m-%d\")\n",
    "\n",
    "\n",
    "# time\n",
    "now = datetime.now()\n",
    "current_time = now.strftime(\"%H:%M:%S\")\n",
    "\n",
    "tim = time.localtime()\n",
    "current_time = time.strftime(\"%H:%M:%S\", tim)\n",
    "\n",
    "\n",
    "#timezones\n",
    "tz_LA = pytz.timezone('America/Los_Angeles')\n",
    "datetime_LA = datetime.now(tz_LA)\n",
    "print(\"LA time:\", datetime_LA.strftime(\"%H:%M:%S\"))\n",
    "\n",
    "\n",
    "tz_NY = pytz.timezone('America/New_York')\n",
    "datetime_NY = datetime.now(tz_NY)\n",
    "print(\"NY time:\", datetime_NY.strftime(\"%H:%M:%S\"))\n",
    "\n",
    "tz_London = pytz.timezone('Europe/London')\n",
    "datetime_London = datetime.now(tz_London)\n",
    "print(\"London time:\", datetime_London.strftime(\"%H:%M:%S\"))\n",
    "\n",
    "tz_Paris = pytz.timezone('Europe/Paris')\n",
    "datetime_Paris = datetime.now(tz_Paris)\n",
    "print(\"Paris time:\", datetime_Paris.strftime(\"%H:%M:%S\"))"
   ]
  },
  {
   "cell_type": "markdown",
   "metadata": {},
   "source": [
    "# Configuration"
   ]
  },
  {
   "cell_type": "code",
   "execution_count": 30,
   "metadata": {},
   "outputs": [],
   "source": [
    "# start with logs\n",
    "#-----------------\n",
    "logging.basicConfig()\n",
    "logging.root.setLevel(logging.NOTSET)\n",
    "\n",
    "handle = __name__\n",
    "\n",
    "logger = logging.getLogger(handle)\n",
    "# logging.getLogger().setLevel(logging.INFO)\n",
    "logger.setLevel(logging.DEBUG)\n",
    "\n",
    "# If you don't want to see log messages from libraries, you can pass a\n",
    "# specific logger object to the install() function. In this case only log\n",
    "# messages originating from that logger will show up on the terminal.\n",
    "coloredlogs.install(level='DEBUG', logger=logger)\n",
    "coloredlogs.install(fmt='%(asctime)s,%(msecs)03d %(hostname)s %(name)s[%(process)d] %(levelname)s %(message)s')\n"
   ]
  },
  {
   "cell_type": "code",
   "execution_count": 31,
   "metadata": {},
   "outputs": [
    {
     "name": "stderr",
     "output_type": "stream",
     "text": [
      "2020-10-07 21:04:05,287 MacBook-Pro-de-admin.local __main__[8704] INFO LA time:12:04:05\n",
      "2020-10-07 21:04:05,290 MacBook-Pro-de-admin.local __main__[8704] INFO NY time:15:04:05\n",
      "2020-10-07 21:04:05,292 MacBook-Pro-de-admin.local __main__[8704] INFO London time:20:04:05\n",
      "2020-10-07 21:04:05,294 MacBook-Pro-de-admin.local __main__[8704] INFO Paris time:21:04:05\n",
      "2020-10-07 21:04:05,294 MacBook-Pro-de-admin.local __main__[8704] INFO ************************ START *********************\n"
     ]
    }
   ],
   "source": [
    "# set time\n",
    "# date\n",
    "today = date.today()\n",
    "string_date = today.strftime(\"%Y-%m-%d\")\n",
    "\n",
    "# time\n",
    "now = datetime.now()\n",
    "current_time = now.strftime(\"%H:%M:%S\")\n",
    "\n",
    "tim = time.localtime()\n",
    "current_time = time.strftime(\"%H:%M:%S\", tim)\n",
    "\n",
    "# timezones\n",
    "tz_LA = pytz.timezone('America/Los_Angeles')\n",
    "datetime_LA = datetime.now(tz_LA)\n",
    "msg=\"LA time:\"+  datetime_LA.strftime(\"%H:%M:%S\")\n",
    "logger.info(msg)\n",
    "\n",
    "tz_NY = pytz.timezone('America/New_York')\n",
    "datetime_NY = datetime.now(tz_NY)\n",
    "msg=\"NY time:\"+ datetime_NY.strftime(\"%H:%M:%S\")\n",
    "logger.info(msg)\n",
    "\n",
    "tz_London = pytz.timezone('Europe/London')\n",
    "datetime_London = datetime.now(tz_London)\n",
    "msg=\"London time:\"+ datetime_London.strftime(\"%H:%M:%S\")\n",
    "logger.info(msg)\n",
    "\n",
    "tz_Paris = pytz.timezone('Europe/Paris')\n",
    "datetime_Paris = datetime.now(tz_Paris)\n",
    "msg=\"Paris time:\"+ datetime_Paris.strftime(\"%H:%M:%S\")\n",
    "logger.info(msg)\n",
    "\n",
    "msg=\"************************ START *********************\"\n",
    "logger.info(msg)\n"
   ]
  },
  {
   "cell_type": "code",
   "execution_count": 32,
   "metadata": {},
   "outputs": [],
   "source": [
    "# arguments\n",
    "#----------\n",
    "\n",
    "parser = argparse.ArgumentParser()\n",
    "parser.add_argument(\"--config\",action=\"store\", dest=\"configfile\",help=f\" run generate -config configfilename, with by ex configfilename = default.ini\")\n",
    "#results_args = parser.parse_args()\n",
    "\n",
    "results_args=\"\""
   ]
  },
  {
   "cell_type": "code",
   "execution_count": 33,
   "metadata": {},
   "outputs": [
    {
     "name": "stderr",
     "output_type": "stream",
     "text": [
      "2020-10-07 21:04:05,331 MacBook-Pro-de-admin.local __main__[8704] INFO Configuration file : config/default.ini\n"
     ]
    }
   ],
   "source": [
    "# config file\n",
    "# --------------\n",
    "configfile = \"config/default.ini\"\n",
    "#config_filename = results_args.configfile\n",
    "config_filename = configfile\n",
    "msg = f\"Configuration file : {config_filename}\"\n",
    "logger.info(msg)\n"
   ]
  },
  {
   "cell_type": "code",
   "execution_count": 34,
   "metadata": {},
   "outputs": [
    {
     "name": "stderr",
     "output_type": "stream",
     "text": [
      "2020-10-07 21:04:05,355 MacBook-Pro-de-admin.local __main__[8704] INFO 1) Configuration\n"
     ]
    }
   ],
   "source": [
    "# 1) CONFIGURATION\n",
    "#------------------\n",
    "logger.info('1) Configuration')\n",
    "\n",
    "config = configparser.ConfigParser()\n",
    "\n",
    "if os.path.exists(config_filename):\n",
    "    config.read(config_filename)\n",
    "else:\n",
    "    msg = f\"config file {config_filename} does not exist !\"\n",
    "    logger.error(msg)\n",
    "\n",
    "config_section = config.sections()"
   ]
  },
  {
   "cell_type": "code",
   "execution_count": 35,
   "metadata": {},
   "outputs": [],
   "source": [
    "if len(config_section) == 0:\n",
    "    msg = f\"empty config file {config_filename} !\"\n",
    "    logger.error(msg)"
   ]
  },
  {
   "cell_type": "code",
   "execution_count": 36,
   "metadata": {},
   "outputs": [],
   "source": [
    "if 'GENERAL' in config_section:\n",
    "\n",
    "    FLAG_DEBUG = bool(int(config['GENERAL']['FLAG_DEBUG']))\n",
    "    FLAG_VERBOSE = bool(int(config['GENERAL']['FLAG_VERBOSE']))\n",
    "    FLAG_PLOT = bool(int(config['GENERAL']['FLAG_PLOT']))\n",
    "    FLAG_PRINT = bool(int(config['GENERAL']['FLAG_PRINT']))\n",
    "    \n",
    "    # filename of throuput and order\n",
    "    throuputfile  =   config['GENERAL']['throuputfile']\n",
    "\n",
    "    object        =   config['GENERAL']['object']\n",
    "    sedfilename   =   config['GENERAL']['sedfilename']\n",
    "    WLMINSEL      =   float(config['GENERAL']['WLMINSEL'])\n",
    "    WLMAXSEL      =   float(config['GENERAL']['WLMAXSEL'])\n",
    "    \n",
    "    \n",
    "    \n",
    "else:\n",
    "    msg = f\"Configuration file : empty section GENERAL in config file {config_filename} !\"   \n",
    "    logger.error(msg)\n",
    "\n",
    "\n",
    "if 'MLFIT'in config_section:\n",
    "    input_file = config['MLFIT']['inputfile']\n",
    "    input_dir = config['MLFIT']['inputdir']\n",
    "\n",
    "    packetsize = int(config['MLFIT']['packetsize'])\n",
    "    maxnbpacket = int(config['MLFIT']['maxnbpacket'])\n",
    "\n",
    "    input_file_split=input_file.split(\".\")    \n",
    "    basefilename=input_file_split[0]\n",
    "    extendfilename=input_file_split[1]\n",
    "else:\n",
    "    msg=\"Configuration file : Missing section MLFIT in config file {config_filename} !\"\n",
    "    logger.error(msg)\n",
    "    "
   ]
  },
  {
   "cell_type": "markdown",
   "metadata": {},
   "source": [
    "# Atmospheric transparency file and selection"
   ]
  },
  {
   "cell_type": "code",
   "execution_count": 37,
   "metadata": {},
   "outputs": [],
   "source": [
    "all_files = os.listdir(input_dir)\n",
    "sorted_files=sorted(all_files)"
   ]
  },
  {
   "cell_type": "code",
   "execution_count": 38,
   "metadata": {},
   "outputs": [],
   "source": [
    "# search string\n",
    "search_str=\"^\"+f\"{basefilename}.*fits$\""
   ]
  },
  {
   "cell_type": "code",
   "execution_count": 39,
   "metadata": {},
   "outputs": [],
   "source": [
    "selected_files=[]\n",
    "for file in sorted_files:\n",
    "    if re.search(search_str,file):\n",
    "        selected_files.append(file)"
   ]
  },
  {
   "cell_type": "markdown",
   "metadata": {},
   "source": [
    "### Keep a limited number of input files"
   ]
  },
  {
   "cell_type": "code",
   "execution_count": 40,
   "metadata": {},
   "outputs": [],
   "source": [
    "if maxnbpacket>0:\n",
    "    selected_files=selected_files[:maxnbpacket]"
   ]
  },
  {
   "cell_type": "code",
   "execution_count": 41,
   "metadata": {},
   "outputs": [],
   "source": [
    "NFiles=len(selected_files)"
   ]
  },
  {
   "cell_type": "markdown",
   "metadata": {},
   "source": [
    "# Read simulated atmospheric transparency"
   ]
  },
  {
   "cell_type": "code",
   "execution_count": 42,
   "metadata": {},
   "outputs": [],
   "source": [
    "wl,datain,idx_num,idx_am,idx_vaod,idx_pwv,idx_o3,idx_cld,idx_res,header=GetAtmTransparency(input_dir,selected_files)"
   ]
  },
  {
   "cell_type": "code",
   "execution_count": 43,
   "metadata": {},
   "outputs": [
    {
     "name": "stderr",
     "output_type": "stream",
     "text": [
      "2020-10-07 21:04:06,372 MacBook-Pro-de-admin.local __main__[8704] INFO SIMPLE  =                    T / conforms to FITS standard                      BITPIX  =                  -64 / array data type                                NAXIS   =                    2 / number of array dimensions                     NAXIS1  =                  957                                                  NAXIS2  =                  101                                                  NBATMSIM=                20000                                                  ID_NUM  =                    0                                                  ID_AM   =                    1                                                  ID_VAOD =                    2                                                  ID_PWV  =                    3                                                  ID_O3   =                    4                                                  ID_CLD  =                    5                                                  ID_RES  =                    6                                                  END                                                                                                                                                                                                                                                                                                                                                                                                                                                                                                                                                                                                                                                                                                                                                                                                                                                                                                                                                                                                                                                                                                                                                                                                                                                                                                                                                                                                                                                                                                                                                                                                                                                                                                                                                                                                                                                                                                             \n"
     ]
    }
   ],
   "source": [
    "logger.info(header)"
   ]
  },
  {
   "cell_type": "code",
   "execution_count": 44,
   "metadata": {},
   "outputs": [
    {
     "data": {
      "text/plain": [
       "5"
      ]
     },
     "execution_count": 44,
     "metadata": {},
     "output_type": "execute_result"
    }
   ],
   "source": [
    "idx_cld"
   ]
  },
  {
   "cell_type": "code",
   "execution_count": 45,
   "metadata": {},
   "outputs": [],
   "source": [
    "num=datain[0:,idx_num]\n",
    "airmass=datain[0:,idx_am]\n",
    "vaod=datain[0:,idx_vaod] # vertical aerosol depth\n",
    "pwv=datain[0:,idx_pwv]   # precipitable water vapor (mm)\n",
    "ozone=datain[0:,idx_o3]     # ozone\n",
    "cld=datain[0:,idx_cld]   # clouds (not us"
   ]
  },
  {
   "cell_type": "code",
   "execution_count": 46,
   "metadata": {},
   "outputs": [],
   "source": [
    "transm=datain[:,idx_res:]"
   ]
  },
  {
   "cell_type": "code",
   "execution_count": 47,
   "metadata": {},
   "outputs": [
    {
     "data": {
      "text/plain": [
       "(951,)"
      ]
     },
     "execution_count": 47,
     "metadata": {},
     "output_type": "execute_result"
    }
   ],
   "source": [
    "wl.shape"
   ]
  },
  {
   "cell_type": "code",
   "execution_count": 48,
   "metadata": {},
   "outputs": [
    {
     "data": {
      "text/plain": [
       "(10000, 951)"
      ]
     },
     "execution_count": 48,
     "metadata": {},
     "output_type": "execute_result"
    }
   ],
   "source": [
    "transm.shape"
   ]
  },
  {
   "cell_type": "code",
   "execution_count": 49,
   "metadata": {},
   "outputs": [
    {
     "name": "stderr",
     "output_type": "stream",
     "text": [
      "/Users/dagoret/anaconda3/lib/python3.7/site-packages/scipy/stats/_continuous_distns.py:621: RuntimeWarning: invalid value encountered in sqrt\n",
      "  sk = 2*(b-a)*np.sqrt(a + b + 1) / (a + b + 2) / np.sqrt(a*b)\n",
      "2020-10-07 21:04:07,619 MacBook-Pro-de-admin.local matplotlib.legend[8704] WARNING No handles with labels found to put in legend.\n"
     ]
    },
    {
     "data": {
      "image/png": "[encoded data removed]",
      "text/plain": [
       "<Figure size 1440x720 with 5 Axes>"
      ]
     },
     "metadata": {
      "needs_background": "light"
     },
     "output_type": "display_data"
    }
   ],
   "source": [
    "def GetDistribFromName(name):\n",
    "    \"\"\"\n",
    "    \n",
    "    GetDistribFromName(name): Get distribution from name in config file\n",
    "    \n",
    "    input arg:\n",
    "    \n",
    "    - name : string name of the distribution\n",
    "    \n",
    "    \"\"\"\n",
    "    \n",
    "    rayleigh,beta,gamma,uniform\n",
    "    \n",
    "    if name==\"rayleigh\":\n",
    "        return rayleigh\n",
    "    elif name==\"beta\":\n",
    "        return beta\n",
    "    elif name==\"gamma\":\n",
    "        return gamma\n",
    "    else:\n",
    "        return uniform\n",
    "    \n",
    "\n",
    "\n",
    "if FLAG_PLOT:\n",
    "    fig=plt.figure(figsize=(20,10))\n",
    "    ax1=fig.add_subplot(231)\n",
    "    ax2=fig.add_subplot(232)\n",
    "    ax3=fig.add_subplot(233)\n",
    "    ax4=fig.add_subplot(234)\n",
    "    ax5=fig.add_subplot(235)\n",
    "    #ax6=fig.add_subplot(326)\n",
    "\n",
    "    # -----------------  airmass\n",
    "    mu=np.average(airmass)\n",
    "    sigma=np.std(airmass)\n",
    "    ax1.hist(airmass,bins=50,facecolor='blue',alpha=0.2,density=True);\n",
    "    ax1.set_title(\"airmass\")\n",
    "    ax1.set_xlabel(\"z\")\n",
    "    textstr = '\\n'.join((\n",
    "    r'$\\mu=%.2f$' % (mu, ),\n",
    "    r'$\\sigma=%.2f$' % (sigma, )))\n",
    "\n",
    "\n",
    "    props = dict(boxstyle='round', facecolor='white', alpha=0.5)\n",
    "\n",
    "    # place a text box in upper left in axes coords\n",
    "    ax1.text(0.75, 0.8, textstr, transform=ax1.transAxes, fontsize=14,\n",
    "        verticalalignment='top', bbox=props)\n",
    "\n",
    "    \n",
    "    \n",
    "    if 'AIRMASS' in config_section:\n",
    "        distrib_name= config['AIRMASS']['distrib']\n",
    "        distrib=GetDistribFromName(distrib_name)\n",
    "        # fit dist to data\n",
    "        params = distrib.fit(airmass)\n",
    "\n",
    "        # Separate parts of parameters\n",
    "        arg = params[:-2]\n",
    "        loc = params[-2]\n",
    "        scale = params[-1]\n",
    "\n",
    "        # Calculate fitted PDF and error with fit in distribution\n",
    "        x=np.linspace(airmass.min(),airmass.max(),100)\n",
    "        pdf = distrib.pdf(x, loc=loc, scale=scale, *arg)\n",
    "        label=distrib_name + \" : a={:2.2f} b={:2.2f} s={:2.2f}\".format(arg[0],arg[1],scale)\n",
    "        #label=distrib_name + \" : s={:2.2f}\".format(scale)\n",
    "        ax1.plot(x,pdf,\"r-\",label=label)\n",
    "        ax1.legend()\n",
    "        ax1.grid()\n",
    "    \n",
    "    #----------------pwv--------------------\n",
    "    \n",
    "    mu=np.average(pwv)\n",
    "    sigma=np.std(pwv)\n",
    "    textstr = '\\n'.join((\n",
    "    r'$\\mu=%.2f$' % (mu, ),\n",
    "    r'$\\sigma=%.2f$' % (sigma, )))\n",
    "    props = dict(boxstyle='round', facecolor='white', alpha=0.5)\n",
    "    \n",
    "    ax2.hist(pwv,bins=50,facecolor='blue',alpha=0.2,density=True);\n",
    "    ax2.set_title(\"precipitable water vapor\")\n",
    "    ax2.set_xlabel(\"pwv (mm)\")\n",
    "    \n",
    "    ax2.text(0.75, 0.8, textstr, transform=ax2.transAxes, fontsize=14,\n",
    "        verticalalignment='top', bbox=props)\n",
    "    \n",
    "    if 'PWV' in config_section:\n",
    "        distrib_name= config['PWV']['distrib']\n",
    "        distrib=GetDistribFromName(distrib_name)\n",
    "        # fit dist to data\n",
    "        params = distrib.fit(pwv)\n",
    "\n",
    "        # Separate parts of parameters\n",
    "        arg = params[:-2]\n",
    "        loc = params[-2]\n",
    "        scale = params[-1]\n",
    "\n",
    "        # Calculate fitted PDF and error with fit in distribution\n",
    "        x=np.linspace(pwv.min(),pwv.max(),100)\n",
    "        pdf = distrib.pdf(x, loc=loc, scale=scale, *arg)\n",
    "        #label=distrib_name + \" : s={:2.2f}\".format(scale)\n",
    "        label=distrib_name + \" : a={:2.2f} b={:2.2f} s={:2.2f}\".format(arg[0],arg[1],scale)\n",
    "        ax2.plot(x,pdf,\"r-\",label=label)\n",
    "        ax2.legend()\n",
    "        ax2.grid()\n",
    "    \n",
    "        \n",
    "    #-------------- Ozone\n",
    "    \n",
    "    mu=np.average(ozone)\n",
    "    sigma=np.std(ozone)\n",
    "    textstr = '\\n'.join((\n",
    "    r'$\\mu=%.2f$' % (mu, ),\n",
    "    r'$\\sigma=%.2f$' % (sigma, )))\n",
    "    props = dict(boxstyle='round', facecolor='white', alpha=0.5)\n",
    "    \n",
    "    ax3.hist(ozone,bins=50,facecolor='blue',alpha=0.2,density=True);\n",
    "    ax3.set_title(\"ozone\")\n",
    "    ax3.set_xlabel(\"Ozone (DbU)\")\n",
    "    \n",
    "    ax3.text(0.75, 0.8, textstr, transform=ax3.transAxes, fontsize=14,\n",
    "        verticalalignment='top', bbox=props)\n",
    "    \n",
    "    \n",
    "    if 'OZONE' in config_section:\n",
    "        distrib_name= config['OZONE']['distrib']\n",
    "        distrib=GetDistribFromName(distrib_name)\n",
    "        # fit dist to data\n",
    "        params = distrib.fit(ozone)\n",
    "\n",
    "        # Separate parts of parameters\n",
    "        arg = params[:-2]\n",
    "        loc = params[-2]\n",
    "        scale = params[-1]\n",
    "\n",
    "        # Calculate fitted PDF and error with fit in distribution\n",
    "        x=np.linspace(ozone.min(),ozone.max(),100)\n",
    "        pdf = distrib.pdf(x, loc=loc, scale=scale, *arg)\n",
    "        #label=distrib_name + \" : s={:2.2f}\".format(scale)\n",
    "        label=distrib_name + \" : a={:2.2f} b={:2.2f} s={:2.2f}\".format(arg[0],arg[1],scale)\n",
    "        ax3.plot(x,pdf,\"r-\",label=label)\n",
    "        ax3.legend()\n",
    "        ax3.grid()\n",
    "    \n",
    "    \n",
    "    #-------------------- VAOD\n",
    "    \n",
    "    mu=np.average(vaod)\n",
    "    sigma=np.std(vaod)\n",
    "    textstr = '\\n'.join((\n",
    "    r'$\\mu=%.2f$' % (mu, ),\n",
    "    r'$\\sigma=%.2f$' % (sigma, )))\n",
    "    props = dict(boxstyle='round', facecolor='white', alpha=0.5)\n",
    "    \n",
    "    ax4.hist(vaod,bins=50,facecolor='blue',alpha=0.2,density=True);\n",
    "    ax4.set_title(\"Aerosols\")\n",
    "    ax4.set_xlabel(\"vaod\")\n",
    "    \n",
    "    ax4.text(0.75, 0.8, textstr, transform=ax4.transAxes, fontsize=14,\n",
    "        verticalalignment='top', bbox=props)\n",
    "    \n",
    "    \n",
    "    if 'AEROSOL' in config_section:\n",
    "        distrib_name= config['AEROSOL']['distrib']\n",
    "        distrib=GetDistribFromName(distrib_name)\n",
    "        # fit dist to data\n",
    "        params = distrib.fit(vaod)\n",
    "\n",
    "        # Separate parts of parameters\n",
    "        arg = params[:-2]\n",
    "        loc = params[-2]\n",
    "        scale = params[-1]\n",
    "\n",
    "        # Calculate fitted PDF and error with fit in distribution\n",
    "        x=np.linspace(vaod.min(),vaod.max(),100)\n",
    "        pdf = distrib.pdf(x, loc=loc, scale=scale, *arg)\n",
    "        #label=distrib_name + \" : s={:2.2f}\".format(scale)\n",
    "        label=distrib_name + \" : s={:2.2f}\".format(scale)\n",
    "        ax4.plot(x,pdf,\"r-\",label=label)\n",
    "        ax4.legend()\n",
    "        ax4.grid()\n",
    "    \n",
    "    #-------------- clouds\n",
    "    \n",
    "    mu=np.average(cld)\n",
    "    sigma=np.std(cld)\n",
    "    textstr = '\\n'.join((\n",
    "    r'$\\mu=%.2f$' % (mu, ),\n",
    "    r'$\\sigma=%.2f$' % (sigma, )))\n",
    "    props = dict(boxstyle='round', facecolor='white', alpha=0.5)\n",
    "    \n",
    "    \n",
    "    ax5.hist(cld,bins=50,facecolor='blue',alpha=0.2,density=True);\n",
    "    ax5.set_title(\"Cloud\")\n",
    "    ax5.set_xlabel(\"od\")\n",
    "    \n",
    "    ax5.text(0.75, 0.8, textstr, transform=ax5.transAxes, fontsize=14,\n",
    "        verticalalignment='top', bbox=props)\n",
    "    \n",
    "    \n",
    "    if 'CLOUD' in config_section:\n",
    "        distrib_name= config['CLOUD']['distrib']\n",
    "        distrib=GetDistribFromName(distrib_name)\n",
    "        # fit dist to data\n",
    "        params = distrib.fit(cld)\n",
    "\n",
    "        # Separate parts of parameters\n",
    "        arg = params[:-2]\n",
    "        loc = params[-2]\n",
    "        scale = params[-1]\n",
    "\n",
    "        # Calculate fitted PDF and error with fit in distribution\n",
    "        x=np.linspace(cld.min(),cld.max(),100)\n",
    "        pdf = distrib.pdf(x, loc=loc, scale=scale, *arg)\n",
    "        #label=distrib_name + \" : s={:2.2f}\".format(scale)\n",
    "        label=distrib_name + \" : s={:2.2f}\".format(scale)\n",
    "        #ax5.plot(x,pdf,\"r-\",label=label)\n",
    "        ax5.legend()\n",
    "        ax5.grid()\n",
    "        \n",
    "        \n",
    "    plt.tight_layout()"
   ]
  },
  {
   "cell_type": "markdown",
   "metadata": {},
   "source": [
    "### Select wavelength range\n",
    "\n",
    "Truncate wavelength"
   ]
  },
  {
   "cell_type": "code",
   "execution_count": 50,
   "metadata": {},
   "outputs": [
    {
     "ename": "SyntaxError",
     "evalue": "invalid syntax (<ipython-input-50-0039b9705ac8>, line 1)",
     "output_type": "error",
     "traceback": [
      "\u001b[0;36m  File \u001b[0;32m\"<ipython-input-50-0039b9705ac8>\"\u001b[0;36m, line \u001b[0;32m1\u001b[0m\n\u001b[0;31m    alert False\u001b[0m\n\u001b[0m              ^\u001b[0m\n\u001b[0;31mSyntaxError\u001b[0m\u001b[0;31m:\u001b[0m invalid syntax\n"
     ]
    }
   ],
   "source": [
    "alert False"
   ]
  },
  {
   "cell_type": "code",
   "execution_count": null,
   "metadata": {},
   "outputs": [],
   "source": [
    "WLMINSEL=340.\n",
    "WLMAXSEL=1100."
   ]
  },
  {
   "cell_type": "code",
   "execution_count": null,
   "metadata": {},
   "outputs": [],
   "source": [
    "indexes_selected=np.where(np.logical_and(wl>=WLMINSEL,wl<=WLMAXSEL))[0]"
   ]
  },
  {
   "cell_type": "code",
   "execution_count": null,
   "metadata": {},
   "outputs": [],
   "source": [
    "# need even number of bins\n",
    "if len(indexes_selected)%2:\n",
    "    indexes_selected=indexes_selected[:-1]"
   ]
  },
  {
   "cell_type": "code",
   "execution_count": null,
   "metadata": {},
   "outputs": [],
   "source": [
    "wl=wl[indexes_selected]\n",
    "transm_tot=transm[:,indexes_selected]"
   ]
  },
  {
   "cell_type": "markdown",
   "metadata": {},
   "source": [
    "### Remove rayleigh component"
   ]
  },
  {
   "cell_type": "code",
   "execution_count": null,
   "metadata": {},
   "outputs": [],
   "source": [
    "od_rayl=atm.RayOptDepth_adiabatic(wl, altitude=atm.altitude0, costh=1/1.2)\n",
    "att_rayleigh=np.exp(-od_rayl)"
   ]
  },
  {
   "cell_type": "code",
   "execution_count": null,
   "metadata": {},
   "outputs": [],
   "source": [
    "transm=transm_tot/att_rayleigh"
   ]
  },
  {
   "cell_type": "markdown",
   "metadata": {},
   "source": [
    "### Not removing the rayleigh"
   ]
  },
  {
   "cell_type": "code",
   "execution_count": null,
   "metadata": {},
   "outputs": [],
   "source": [
    "transm=transm_tot"
   ]
  },
  {
   "cell_type": "code",
   "execution_count": null,
   "metadata": {},
   "outputs": [],
   "source": [
    "if FLAG_PLOT:\n",
    "    N=20\n",
    "    jet = plt.get_cmap('jet')\n",
    "    cNorm = colors.Normalize(vmin=0, vmax=N)\n",
    "    scalarMap = cmx.ScalarMappable(norm=cNorm, cmap=jet)\n",
    "    all_colors = scalarMap.to_rgba(np.arange(N), alpha=1)\n",
    "\n",
    "    fig=plt.figure(figsize=(10,4))\n",
    "    ax = fig.add_subplot(111)\n",
    "    for idx in np.arange(N):\n",
    "        ax.plot(wl,transm[idx,:],c=all_colors[idx])\n",
    "        \n",
    "    ax.set_xlabel(\"$\\lambda$ (nm)\")\n",
    "    ax.set_ylabel(\"transmission\")\n",
    "    ax.set_title(\"atmospheric transmission (no clouds ext)\")\n",
    "    ax.grid()\n",
    "        \n",
    "    ax1 = ax.twinx()\n",
    "    ax1.set_ylim(ax.get_ylim())\n",
    "    #ax1.grid()\n",
    "    "
   ]
  },
  {
   "cell_type": "code",
   "execution_count": null,
   "metadata": {},
   "outputs": [],
   "source": [
    "NWL=wl.shape[0]"
   ]
  },
  {
   "cell_type": "code",
   "execution_count": null,
   "metadata": {},
   "outputs": [],
   "source": [
    "jet = plt.get_cmap('jet')\n",
    "cNorm = colors.Normalize(vmin=0, vmax=NWL)\n",
    "scalarMap = cmx.ScalarMappable(norm=cNorm, cmap=jet)\n",
    "all_colors = scalarMap.to_rgba(np.arange(NWL), alpha=1)"
   ]
  },
  {
   "cell_type": "code",
   "execution_count": null,
   "metadata": {},
   "outputs": [],
   "source": []
  },
  {
   "cell_type": "markdown",
   "metadata": {},
   "source": [
    "# Prepare data : X and Y"
   ]
  },
  {
   "cell_type": "code",
   "execution_count": null,
   "metadata": {},
   "outputs": [],
   "source": [
    "airmassarr=airmass[:,np.newaxis]\n",
    "vaodarr=vaod[:,np.newaxis]\n",
    "pwvarr=pwv[:,np.newaxis]\n",
    "o3arr=ozone[:,np.newaxis]\n",
    "cldarr=cld[:,np.newaxis]"
   ]
  },
  {
   "cell_type": "markdown",
   "metadata": {},
   "source": [
    "## Clouds"
   ]
  },
  {
   "cell_type": "markdown",
   "metadata": {},
   "source": [
    "## clouds in input data"
   ]
  },
  {
   "cell_type": "code",
   "execution_count": null,
   "metadata": {},
   "outputs": [],
   "source": [
    "transm_cloud=np.exp(-cld*airmass)\n",
    "transm_cloud_arr=np.exp(-cldarr*airmassarr)"
   ]
  },
  {
   "cell_type": "code",
   "execution_count": null,
   "metadata": {},
   "outputs": [],
   "source": [
    "if FLAG_PLOT:\n",
    "    fig=plt.figure(figsize=(10,5))\n",
    "\n",
    "    ax = fig.add_subplot(111)\n",
    "    ax.hist(cld,bins=50,facecolor=\"b\",label=\"in data\",alpha=0.5)\n",
    "    ax.set_yscale('log')\n",
    "    ax.set_xlabel(\"cloud optical depth \")\n",
    "    ax.grid()\n"
   ]
  },
  {
   "cell_type": "code",
   "execution_count": null,
   "metadata": {},
   "outputs": [],
   "source": []
  },
  {
   "cell_type": "markdown",
   "metadata": {},
   "source": [
    "### concatenate VAOD,PWV, Ozone"
   ]
  },
  {
   "cell_type": "code",
   "execution_count": null,
   "metadata": {},
   "outputs": [],
   "source": [
    "Y=np.concatenate((vaodarr,pwvarr,o3arr,cldarr),axis=1)\n",
    "Ylabel=[\"vaod\",\"pwv\",\"ozone\",\"cld\"]"
   ]
  },
  {
   "cell_type": "markdown",
   "metadata": {},
   "source": [
    "### Use magnitudes for X"
   ]
  },
  {
   "cell_type": "code",
   "execution_count": null,
   "metadata": {},
   "outputs": [],
   "source": [
    "t=GetListOfCalspec()\n",
    "t_sel=SelectFewSED(t)"
   ]
  },
  {
   "cell_type": "code",
   "execution_count": null,
   "metadata": {},
   "outputs": [],
   "source": [
    "t_sel"
   ]
  },
  {
   "cell_type": "markdown",
   "metadata": {},
   "source": [
    "### Show examples of SED to use"
   ]
  },
  {
   "cell_type": "code",
   "execution_count": null,
   "metadata": {},
   "outputs": [],
   "source": [
    "if FLAG_PLOT:\n",
    "    fig=plt.figure(figsize=(10,5))\n",
    "    ax=fig.add_subplot(111)\n",
    "    plot_sed(t_sel,ax)\n",
    "    plt.show()"
   ]
  },
  {
   "cell_type": "markdown",
   "metadata": {},
   "source": [
    "### Extract a row as a table"
   ]
  },
  {
   "cell_type": "code",
   "execution_count": null,
   "metadata": {},
   "outputs": [],
   "source": [
    "# Extract vega row\n",
    "t_vega_row = t_sel[3]"
   ]
  },
  {
   "cell_type": "code",
   "execution_count": null,
   "metadata": {},
   "outputs": [],
   "source": [
    "# create the astropy table with the format of the table row above\n",
    "t_vega_table=Table(names=t_vega_row.colnames)"
   ]
  },
  {
   "cell_type": "code",
   "execution_count": null,
   "metadata": {},
   "outputs": [],
   "source": [
    "# create the new table from the vega row\n",
    "t_vega_table=Table(t_vega_row)"
   ]
  },
  {
   "cell_type": "code",
   "execution_count": null,
   "metadata": {},
   "outputs": [],
   "source": [
    "if FLAG_PLOT:\n",
    "    fig=plt.figure(figsize=(10,5))\n",
    "    ax=fig.add_subplot(111)\n",
    "    plot_sed(t_vega_table,ax)\n",
    "    plt.show()"
   ]
  },
  {
   "cell_type": "markdown",
   "metadata": {},
   "source": [
    "### Get the Spectrum"
   ]
  },
  {
   "cell_type": "code",
   "execution_count": null,
   "metadata": {},
   "outputs": [],
   "source": [
    "idx_sed_sel=3\n",
    "sed_filename=t_sel[idx_sed_sel][\"FILES\"]\n",
    "sed_objname=t_sel[idx_sed_sel][\"OBJNAME\"]\n",
    "sed_fullfilename=os.path.join(path_sed_calspec,sed_filename)\n",
    "order2=True\n",
    "if order2:\n",
    "    specarrayfile=\"spec_\"+sed_objname+\"_ord12.npy\"\n",
    "    specarrayfile2=\"spec2_\"+sed_objname+\"_ord2.npy\"\n",
    "    title_spec1=\"spectra order 1 and 2\"\n",
    "    title_spec2=\"spectra order 2\"\n",
    "else:\n",
    "    specarrayfile=\"spec_\"+sed_objname+\"_ord1.npy\"\n",
    "    specarrayfile2=\"spec2_\"+sed_objname+\"_ord2.npy\"\n",
    "    title_spec1=\"spectra order 1\"\n",
    "    title_spec2=\"spectra order 2\""
   ]
  },
  {
   "cell_type": "code",
   "execution_count": null,
   "metadata": {},
   "outputs": [],
   "source": [
    "specarrayfile"
   ]
  },
  {
   "cell_type": "code",
   "execution_count": null,
   "metadata": {},
   "outputs": [],
   "source": [
    "specarrayfile2"
   ]
  },
  {
   "cell_type": "code",
   "execution_count": null,
   "metadata": {},
   "outputs": [],
   "source": [
    "if sed_filename==\"flat\":\n",
    "    flatsp = S.FlatSpectrum(10, fluxunits='photlam')\n",
    "    spec=flatsp\n",
    "else:\n",
    "    spec=S.FileSpectrum(sed_fullfilename)\n",
    "        \n",
    "spec_norm = spec.renorm(10, 'vegamag', S.ObsBandpass('johnson,v'))\n",
    "    \n",
    "spec_norm.convert('photlam')"
   ]
  },
  {
   "cell_type": "code",
   "execution_count": null,
   "metadata": {
    "scrolled": true
   },
   "outputs": [],
   "source": [
    "if not os.path.isfile(specarrayfile) or not os.path.isfile(specarrayfile2) :\n",
    "    spectra,spectra2=GetSpectra(sed=spec_norm,wl_atm=wl,atm_transmission=transm,order2=order2)\n",
    "    np.save(specarrayfile,spectra)\n",
    "    np.save(specarrayfile2,spectra2)   \n",
    "else:\n",
    "    spectra=np.load(specarrayfile)\n",
    "    spectra2=np.load(specarrayfile2)"
   ]
  },
  {
   "cell_type": "code",
   "execution_count": null,
   "metadata": {},
   "outputs": [],
   "source": [
    "if FLAG_PLOT:\n",
    "    \n",
    "    N=20\n",
    "    jet = plt.get_cmap('jet')\n",
    "    cNorm = colors.Normalize(vmin=0, vmax=N)\n",
    "    scalarMap = cmx.ScalarMappable(norm=cNorm, cmap=jet)\n",
    "    all_colors = scalarMap.to_rgba(np.arange(N), alpha=1)\n",
    "    \n",
    "    themax=0\n",
    "    themin=0\n",
    "    \n",
    "    fig=plt.figure(figsize=(16,4))\n",
    "    ax = fig.add_subplot(121)\n",
    "    for idx in np.arange(N):\n",
    "        if spectra[idx,:].max()>themax:\n",
    "            themax=spectra[idx,:].max()\n",
    "        ax.plot(wl,spectra[idx,:],color=all_colors[idx])\n",
    "    ax.set_ylim(0,1.1*themax)\n",
    "    ax.grid()\n",
    "    ax.set_xlabel(\"$\\lambda$ (nm)\")\n",
    "    ax.set_title(title_spec1)\n",
    "    \n",
    "    ax = fig.add_subplot(122)\n",
    "    for idx in np.arange(N):\n",
    "        ax.plot(wl,spectra2[idx,:],color=all_colors[idx])\n",
    "    ax.set_xlabel(\"$\\lambda$ (nm)\")\n",
    "    ax.set_ylim(0,1.1*themax)\n",
    "    ax.set_title(title_spec2)\n",
    "    ax.grid()"
   ]
  },
  {
   "cell_type": "code",
   "execution_count": null,
   "metadata": {},
   "outputs": [],
   "source": [
    "FLAG_MAG=True\n",
    "if FLAG_MAG:\n",
    "    X=-2.5*np.log10(spectra*transm_cloud_arr)/airmassarr\n",
    "else:\n",
    "    X=spectra*transm_cloud_arr"
   ]
  },
  {
   "cell_type": "code",
   "execution_count": null,
   "metadata": {},
   "outputs": [],
   "source": [
    "X.shape"
   ]
  },
  {
   "cell_type": "markdown",
   "metadata": {},
   "source": [
    "### Check transmission or spectrum"
   ]
  },
  {
   "cell_type": "code",
   "execution_count": null,
   "metadata": {
    "scrolled": true
   },
   "outputs": [],
   "source": [
    "if FLAG_PLOT:\n",
    "    N=50\n",
    "    jet = plt.get_cmap('jet')\n",
    "    cNorm = colors.Normalize(vmin=0, vmax=N)\n",
    "    scalarMap = cmx.ScalarMappable(norm=cNorm, cmap=jet)\n",
    "    all_colors = scalarMap.to_rgba(np.arange(N), alpha=1)\n",
    "\n",
    "\n",
    "    fig=plt.figure(figsize=(10,4))\n",
    "    ax = fig.add_subplot(111)\n",
    "    for idx in np.arange(N):\n",
    "        ax.plot(wl,X[idx,:],color=all_colors[idx])\n",
    "    ax.set_xlabel(\"$\\lambda$ (nm)\")\n",
    "    ax.set_ylabel(\"mag\")\n",
    "    ax.grid()\n",
    "    ax1 = ax.twinx()\n",
    "    ax1.set_ylim(ax.get_ylim())"
   ]
  },
  {
   "cell_type": "markdown",
   "metadata": {},
   "source": [
    "# Correlation coefficient X - Y"
   ]
  },
  {
   "cell_type": "code",
   "execution_count": null,
   "metadata": {},
   "outputs": [],
   "source": [
    "if FLAG_PLOT:\n",
    "    \n",
    "    fig = plt.figure(figsize=(12, 6))\n",
    "    ax = fig.add_subplot(111) \n",
    "    \n",
    "    Ny=Y.shape[1]\n",
    "    Nx=X.shape[1]\n",
    "    \n",
    "    N=Ny\n",
    "    jet = plt.get_cmap('jet')\n",
    "    cNorm = colors.Normalize(vmin=0, vmax=N)\n",
    "    scalarMap = cmx.ScalarMappable(norm=cNorm, cmap=jet)\n",
    "    all_colors = scalarMap.to_rgba(np.arange(N), alpha=1)\n",
    "    \n",
    "    corr=np.zeros((Ny,Nx))\n",
    "    \n",
    "    for iy in np.arange(Ny):\n",
    "        y=Y[:,iy]\n",
    "        \n",
    "        for ix in np.arange(Nx):\n",
    "            x=X[:,ix]\n",
    "            R=np.corrcoef(x=x, y=y, rowvar=False)\n",
    "            corr[iy,ix]=R[0,1]\n",
    "            \n",
    "        ax.plot(wl,corr[iy,:],color=all_colors[iy],label=Ylabel[iy],lw=4)\n",
    "            \n",
    "    ax.legend()\n",
    "    ax.set_xlabel(\"$\\lambda$  (nm)\")\n",
    "    ax.set_ylabel(\"Correlation\")\n",
    "    ax.set_title(\"ML : Correlation coefficient Y - X\")\n",
    "    ax.grid()\n",
    "    ax.set_ylim(0,1)"
   ]
  },
  {
   "cell_type": "markdown",
   "metadata": {},
   "source": [
    "## Splitting"
   ]
  },
  {
   "cell_type": "code",
   "execution_count": null,
   "metadata": {},
   "outputs": [],
   "source": [
    "from sklearn.model_selection import train_test_split\n",
    "X_train, X_test, Y_train, Y_test = train_test_split(X, Y, test_size=0.4, random_state=42)"
   ]
  },
  {
   "cell_type": "code",
   "execution_count": null,
   "metadata": {},
   "outputs": [],
   "source": [
    "X_val,X_test,Y_val,Y_test = train_test_split(X_test, Y_test, test_size=0.5, random_state=42)"
   ]
  },
  {
   "cell_type": "markdown",
   "metadata": {},
   "source": [
    "## Scaling"
   ]
  },
  {
   "cell_type": "code",
   "execution_count": null,
   "metadata": {},
   "outputs": [],
   "source": [
    "from sklearn.preprocessing import StandardScaler\n",
    "scaler_X = StandardScaler()\n",
    "scaler_Y = StandardScaler()"
   ]
  },
  {
   "cell_type": "code",
   "execution_count": null,
   "metadata": {},
   "outputs": [],
   "source": [
    "FLAG_SCALING=True"
   ]
  },
  {
   "cell_type": "code",
   "execution_count": null,
   "metadata": {},
   "outputs": [],
   "source": [
    "scaler_X.fit(X_train) \n",
    "scaler_Y.fit(Y_train) "
   ]
  },
  {
   "cell_type": "code",
   "execution_count": null,
   "metadata": {},
   "outputs": [],
   "source": [
    "scaler_X.mean_.shape"
   ]
  },
  {
   "cell_type": "code",
   "execution_count": null,
   "metadata": {},
   "outputs": [],
   "source": [
    "scaler_X.scale_.shape"
   ]
  },
  {
   "cell_type": "code",
   "execution_count": null,
   "metadata": {},
   "outputs": [],
   "source": [
    "scaler_Y.mean_.shape"
   ]
  },
  {
   "cell_type": "code",
   "execution_count": null,
   "metadata": {},
   "outputs": [],
   "source": [
    "scaler_Y.scale_.shape"
   ]
  },
  {
   "cell_type": "code",
   "execution_count": null,
   "metadata": {},
   "outputs": [],
   "source": [
    "X_train_scaled = scaler_X.transform(X_train)\n",
    "Y_train_scaled = scaler_Y.transform(Y_train)    \n",
    "X_val_scaled = scaler_X.transform(X_val)\n",
    "Y_val_scaled = scaler_Y.transform(Y_val)\n",
    "X_test_scaled = scaler_X.transform(X_test)\n",
    "Y_test_scaled = scaler_Y.transform(Y_test)"
   ]
  },
  {
   "cell_type": "code",
   "execution_count": null,
   "metadata": {},
   "outputs": [],
   "source": [
    "X_train_scaled.shape"
   ]
  },
  {
   "cell_type": "code",
   "execution_count": null,
   "metadata": {},
   "outputs": [],
   "source": [
    "X_val_scaled.shape "
   ]
  },
  {
   "cell_type": "code",
   "execution_count": null,
   "metadata": {},
   "outputs": [],
   "source": [
    "X_test_scaled.shape "
   ]
  },
  {
   "cell_type": "code",
   "execution_count": null,
   "metadata": {},
   "outputs": [],
   "source": [
    "if FLAG_PLOT:\n",
    "    fig=plt.figure(figsize=(10,3))\n",
    "    ax = fig.add_subplot(111)\n",
    "    ax.hist(np.concatenate((Y_train_scaled,Y_val_scaled,Y_test_scaled),axis=0),bins=50)\n",
    "    ax.set_title(\"Renormalised target (VAOD, O3, PWV,CLD)\")"
   ]
  },
  {
   "cell_type": "markdown",
   "metadata": {},
   "source": [
    "## Linear regression model"
   ]
  },
  {
   "cell_type": "code",
   "execution_count": null,
   "metadata": {},
   "outputs": [],
   "source": [
    "if 'LINEARREGRESSION' in config_section:\n",
    "    FLAG_LINEARREGRESSION = bool(int(config['LINEARREGRESSION']['FLAG_LINEARREGRESSION']))\n",
    "    FLAG_LINEARREGRESSION_RIDGE = bool(int(config['LINEARREGRESSION']['FLAG_LINEARREGRESSION_RIDGE']))\n",
    "    FLAG_LINEARREGRESSION_LASSO = bool(int(config['LINEARREGRESSION']['FLAG_LINEARREGRESSION_LASSO']))\n",
    "else:\n",
    "    msg = f\"Configuration file : Missing section LINEARREGRESSION in config file {config_filename} !\"\n",
    "    logger.error(msg)\n",
    "    sys.exit()\n"
   ]
  },
  {
   "cell_type": "code",
   "execution_count": null,
   "metadata": {},
   "outputs": [],
   "source": [
    "from sklearn import linear_model\n",
    "from sklearn.metrics import mean_squared_error, r2_score,explained_variance_score"
   ]
  },
  {
   "cell_type": "code",
   "execution_count": null,
   "metadata": {},
   "outputs": [],
   "source": [
    "reg = linear_model.LinearRegression()"
   ]
  },
  {
   "cell_type": "code",
   "execution_count": null,
   "metadata": {},
   "outputs": [],
   "source": [
    "#X_train, X_test, Y_train, Y_test = train_test_split(X, Y, test_size=0.33, random_state=42)"
   ]
  },
  {
   "cell_type": "code",
   "execution_count": null,
   "metadata": {},
   "outputs": [],
   "source": [
    "# Create linear regression object\n",
    "regr = linear_model.LinearRegression()\n",
    "\n",
    "# Train the model using the training sets\n",
    "\n",
    "if FLAG_SCALING:\n",
    "    regr.fit(X_train_scaled, Y_train_scaled)\n",
    "    # Make predictions using the testing set\n",
    "    Y_pred = regr.predict(X_test_scaled)\n",
    "else:\n",
    "    regr.fit(X_train, Y_train)\n",
    "    # Make predictions using the testing set\n",
    "    Y_pred = regr.predict(X_test)\n",
    "\n",
    "\n",
    "\n",
    "# The coefficients\n",
    "print('Coefficients: \\n', regr.coef_)\n",
    "if FLAG_SCALING:\n",
    "    # The mean squared error\n",
    "    print('Mean squared error: %.5f'% mean_squared_error(Y_test_scaled, Y_pred))\n",
    "    # The coefficient of determination: 1 is perfect prediction\n",
    "    print('Coefficient of determination: %.5f'% r2_score(Y_test_scaled, Y_pred))\n",
    "    # Explained variance : 1 is perfect prediction\n",
    "    print('Explained variance: %.5f'% explained_variance_score(Y_test_scaled, Y_pred))\n",
    "   \n",
    "else:\n",
    "    # The mean squared error\n",
    "    print('Mean squared error: %.5f'% mean_squared_error(Y_test, Y_pred))\n",
    "    # The coefficient of determination: 1 is perfect prediction\n",
    "    print('Coefficient of determination: %.5f'% r2_score(Y_test, Y_pred))\n",
    "    # Explained variance : 1 is perfect prediction\n",
    "    print('Explained variance: %.5f'% explained_variance_score(Y_test, Y_pred))\n"
   ]
  },
  {
   "cell_type": "code",
   "execution_count": null,
   "metadata": {},
   "outputs": [],
   "source": [
    "X_train_scaled.shape"
   ]
  },
  {
   "cell_type": "code",
   "execution_count": null,
   "metadata": {},
   "outputs": [],
   "source": [
    "regr.coef_.shape"
   ]
  },
  {
   "cell_type": "code",
   "execution_count": null,
   "metadata": {},
   "outputs": [],
   "source": [
    "nb_tot_test = len(Y_test)\n",
    "nb_tot_train = len(Y_train)\n",
    "\n",
    "nsamples_test = np.arange(10, nb_tot_test, 100)\n",
    "nsamples_train = np.arange(10, nb_tot_train, 100)"
   ]
  },
  {
   "cell_type": "code",
   "execution_count": null,
   "metadata": {},
   "outputs": [],
   "source": [
    "##################################################\n",
    "# Linear Regression : Learning curve\n",
    "##################################################\n",
    "\n",
    "if FLAG_LINEARREGRESSION:\n",
    "    logger.info('4) Linear Regression, no regularisation')\n",
    "    \n",
    "    all_MSE_train = np.zeros(len(nsamples_train))\n",
    "    all_MSE_test = np.zeros(len(nsamples_test))\n",
    "    all_MSE_test_full = np.zeros(len(nsamples_train))\n",
    "\n",
    "    count = 0\n",
    "    for n in nsamples_train:\n",
    "\n",
    "        regr = linear_model.LinearRegression(fit_intercept=True)\n",
    "\n",
    "        if FLAG_SCALING:\n",
    "            X_train_cut = np.copy(X_train_scaled[:n, :])\n",
    "            Y_train_cut = np.copy(Y_train_scaled[:n, :])\n",
    "            if n in nsamples_test:\n",
    "                X_test_cut = np.copy(X_test_scaled[:n, :])\n",
    "                Y_test_cut = np.copy(Y_test_scaled[:n, :])\n",
    "        else:\n",
    "            X_train_cut = X_train[:n, :]\n",
    "            Y_train_cut = Y_train[:n, :]\n",
    "            if n in nsamples_test:\n",
    "                X_test_cut = X_test[:n, :]\n",
    "                Y_test_cut = Y_test[:n, :]\n",
    "\n",
    "        # does the fit\n",
    "        regr.fit(X_train_cut, Y_train_cut)\n",
    "\n",
    "        # calculate metric\n",
    "        # Make predictions using the testing set\n",
    "        Y_pred_train = regr.predict(X_train_cut)\n",
    "        if n in nsamples_test:\n",
    "            Y_pred_test = regr.predict(X_test_cut)\n",
    "\n",
    "        if FLAG_SCALING:\n",
    "            Y_pred_test_full = regr.predict(np.copy(X_test_scaled))\n",
    "        else:\n",
    "            Y_pred_test_full = regr.predict(np.copy(X_test))\n",
    "\n",
    "        MSE_train = mean_squared_error(Y_train_cut, Y_pred_train)\n",
    "\n",
    "        if n in nsamples_test:\n",
    "            MSE_test = mean_squared_error(Y_test_cut, Y_pred_test)\n",
    "\n",
    "        if FLAG_SCALING:\n",
    "            MSE_test_full = mean_squared_error(Y_test_scaled, Y_pred_test_full)\n",
    "        else:\n",
    "            MSE_test_full = mean_squared_error(Y_test, Y_pred_test_full)\n",
    "\n",
    "        all_MSE_train[count] = MSE_train\n",
    "        all_MSE_test_full[count] = MSE_test_full\n",
    "\n",
    "        if n in nsamples_test:\n",
    "            all_MSE_test[count] = MSE_test\n",
    "\n",
    "        count += 1\n",
    "        # end of loop"
   ]
  },
  {
   "cell_type": "code",
   "execution_count": null,
   "metadata": {},
   "outputs": [],
   "source": [
    "if FLAG_LINEARREGRESSION and FLAG_PLOT:\n",
    "    fig = plt.figure(figsize=(12, 4))\n",
    "    ax = fig.add_subplot(111)\n",
    "    ax.plot(nsamples_train, all_MSE_train, 'b-o', label=\"train\")\n",
    "    # ax.plot(nsamples_test, all_MSE_test,'r-o',label=\"test\")\n",
    "    ax.plot(nsamples_train, all_MSE_test_full, 'r:o', label=\"test\")\n",
    "    ax.legend()\n",
    "    ax.set_yscale(\"log\")\n",
    "    ax.set_xlabel(\"$N$\")\n",
    "    ax.set_ylabel(\"MSE\")\n",
    "    ax.set_title(\"Linear Regression - No reg : MSE with test vs N\")\n",
    "    ax.grid()\n",
    "    # ax.set_ylim(1e-6,1e-2)\n",
    "    ax1 = ax.twinx()\n",
    "    ax1.set_ylim(ax.get_ylim())\n",
    "    ax1.set_yscale(\"log\")\n",
    "    ax1.grid()\n",
    "    plt.tight_layout()\n",
    "    plt.show()\n"
   ]
  },
  {
   "cell_type": "code",
   "execution_count": null,
   "metadata": {},
   "outputs": [],
   "source": [
    "##############\n",
    "# Final fit\n",
    "#############\n",
    "\n",
    "if FLAG_LINEARREGRESSION:\n",
    "    \n",
    "    regr = linear_model.LinearRegression(fit_intercept=True)\n",
    "\n",
    "    if FLAG_SCALING:\n",
    "        regr.fit(X_train_scaled, Y_train_scaled)\n",
    "    else:\n",
    "        regr.fit(X_train, Y_train)\n",
    "\n",
    "    # calculate metric\n",
    "    # Make predictions using the testing set\n",
    "\n",
    "    if FLAG_SCALING:\n",
    "        Y_pred_test = regr.predict(X_test_scaled)\n",
    "        Y_pred_test_inv = scaler_Y.inverse_transform(Y_pred_test)\n",
    "        DY = Y_pred_test - Y_test_scaled\n",
    "    else:\n",
    "        Y_pred_test = regr.predict(X_test)\n",
    "        DY = Y_pred_test - Y_test\n",
    "\n",
    "    if FLAG_SCALING:\n",
    "        # The mean squared error\n",
    "        msg='Mean squared error: %.5f' % mean_squared_error(Y_test_scaled, Y_pred_test)\n",
    "        logger.info(msg)\n",
    "        # The coefficient of determination: 1 is perfect prediction\n",
    "        msg='Coefficient of determination: %.5f' % r2_score(Y_test_scaled, Y_pred_test)\n",
    "        logger.info(msg)\n",
    "        # Explained variance : 1 is perfect prediction\n",
    "        msg='Explained variance: %.5f' % explained_variance_score(Y_test_scaled, Y_pred_test)\n",
    "        logger.info(msg)\n",
    "\n",
    "    else:\n",
    "        # The mean squared error\n",
    "        msg='Mean squared error: %.5f' % mean_squared_error(Y_test, Y_pred_test)\n",
    "        logger.info(msg)\n",
    "        # The coefficient of determination: 1 is perfect prediction\n",
    "        msg='Coefficient of determination: %.5f' % r2_score(Y_test, Y_pred_test)\n",
    "        logger.info(msg)\n",
    "        # Explained variance : 1 is perfect prediction\n",
    "        msg='Explained variance: %.5f' % explained_variance_score(Y_test, Y_pred_test)\n",
    "        logger.info(msg)"
   ]
  },
  {
   "cell_type": "code",
   "execution_count": null,
   "metadata": {
    "scrolled": false
   },
   "outputs": [],
   "source": [
    "if FLAG_LINEARREGRESSION and FLAG_PLOT:\n",
    "    plot_ml_result(Y_test, Y_pred_test_inv, mode=0, title=\"Linear Regression - No reg (with cloud)\")\n",
    "    plot_ml_result(Y_test, Y_pred_test_inv, mode=1, title=\"Linear Regression - No reg (with cloud)\")\n",
    "    plot_ml_result(Y_test, Y_pred_test_inv, mode=2, title=\"Linear Regression - No reg (with cloud)\")\n",
    "    #plot_ml_result(Y_test, Y_pred_test_inv, mode=3, title=\"Linear Regression - No reg (with cloud)\")\n",
    "\n",
    "    histo_ml_result(Y_test, Y_pred_test_inv, title=\"Linear Regression - No reg (with cloud)\")"
   ]
  },
  {
   "cell_type": "code",
   "execution_count": null,
   "metadata": {},
   "outputs": [],
   "source": [
    "if FLAG_LINEARREGRESSION and FLAG_PLOT:\n",
    "    fig = plt.figure(figsize=(12, 4))\n",
    "    ax = fig.add_subplot(121)\n",
    "    plotcorrelation(ax, Y_test)\n",
    "    ax.set_title(\"atmospheric param at input\")\n",
    "    ax = fig.add_subplot(122)\n",
    "    plotcorrelation(ax, Y_pred_test_inv)\n",
    "    ax.set_title(\"atmospheric param at output\")\n",
    "    plt.tight_layout()\n",
    "    plt.suptitle(\"Linear Regression - No reg (with cloud)\", Y=1.02, fontsize=18)\n",
    "    plt.show()"
   ]
  },
  {
   "cell_type": "code",
   "execution_count": null,
   "metadata": {},
   "outputs": [],
   "source": [
    "if FLAG_LINEARREGRESSION and FLAG_PLOT:\n",
    "    \n",
    "    fig = plt.figure(figsize=(12, 6))\n",
    "    ax = fig.add_subplot(111) \n",
    "    \n",
    "    Ny=Y.shape[1]\n",
    "    Nx=X.shape[1]\n",
    "    \n",
    "    corr=np.zeros((Ny,Nx))\n",
    "    \n",
    "    for iy in np.arange(Ny):\n",
    "        y=Y[:,iy]\n",
    "        \n",
    "        for ix in np.arange(Nx):\n",
    "            x=X[:,ix]\n",
    "            R=np.corrcoef(x=x, y=y, rowvar=False)\n",
    "            corr[iy,ix]=R[0,1]\n",
    "            \n",
    "        ax.plot(wl,corr[iy,:],label=Ylabel[iy],lw=3)\n",
    "            \n",
    "    ax.legend()\n",
    "    ax.set_xlabel(\"$\\lambda$  (nm)\")\n",
    "    ax.set_ylabel(\"Correlation\")\n",
    "    ax.set_title(\"Linear regression : Correlation coefficient Y - X\")\n",
    "    ax.grid()\n",
    "    ax.set_ylim(0,1)"
   ]
  },
  {
   "cell_type": "code",
   "execution_count": null,
   "metadata": {},
   "outputs": [],
   "source": [
    "R=np.corrcoef(x=X[:,0], y=Y[:,0], rowvar=False)"
   ]
  },
  {
   "cell_type": "code",
   "execution_count": null,
   "metadata": {},
   "outputs": [],
   "source": [
    "R.shape"
   ]
  },
  {
   "cell_type": "code",
   "execution_count": null,
   "metadata": {},
   "outputs": [],
   "source": [
    "R"
   ]
  },
  {
   "cell_type": "code",
   "execution_count": null,
   "metadata": {},
   "outputs": [],
   "source": [
    "Y.shape"
   ]
  },
  {
   "cell_type": "code",
   "execution_count": null,
   "metadata": {},
   "outputs": [],
   "source": [
    "X.shape"
   ]
  },
  {
   "cell_type": "code",
   "execution_count": null,
   "metadata": {},
   "outputs": [],
   "source": [
    "R.shape"
   ]
  },
  {
   "cell_type": "markdown",
   "metadata": {},
   "source": [
    "# Linear Regression with Ridge"
   ]
  },
  {
   "cell_type": "code",
   "execution_count": null,
   "metadata": {},
   "outputs": [],
   "source": [
    "from sklearn import linear_model\n",
    "regr_ridge = linear_model.Ridge(alpha=1e-5)"
   ]
  },
  {
   "cell_type": "code",
   "execution_count": null,
   "metadata": {},
   "outputs": [],
   "source": [
    "# Train the model using the training sets\n",
    "\n",
    "if FLAG_SCALING:\n",
    "    regr_ridge.fit(X_train_scaled, Y_train_scaled)\n",
    "\n",
    "    # Make predictions using the testing set\n",
    "    Y_pred = regr_ridge.predict(X_test_scaled)\n",
    "else:\n",
    "    regr_ridge.fit(X_train, Y_train)\n",
    "\n",
    "    # Make predictions using the testing set\n",
    "    Y_pred = regr_ridge.predict(X_test)\n",
    "\n",
    "print(regr_ridge)\n",
    "\n",
    "# The coefficients\n",
    "print('Coefficients: \\n', regr_ridge.coef_)\n",
    "\n",
    "if FLAG_SCALING:\n",
    "    # The mean squared error\n",
    "    print('Mean squared error: %.5f'% mean_squared_error(Y_test_scaled, Y_pred))\n",
    "    # The coefficient of determination: 1 is perfect prediction\n",
    "    print('Coefficient of determination: %.5f' % r2_score(Y_test_scaled, Y_pred))\n",
    "    # Explained variance : 1 is perfect prediction\n",
    "    print('Explained variance: %.5f'% explained_variance_score(Y_test_scaled, Y_pred))\n",
    "else:\n",
    "    # The mean squared error\n",
    "    print('Mean squared error: %.5f'% mean_squared_error(Y_test, Y_pred))\n",
    "    # The coefficient of determination: 1 is perfect prediction\n",
    "    print('Coefficient of determination: %.5f' % r2_score(Y_test, Y_pred))\n",
    "    # Explained variance : 1 is perfect prediction\n",
    "    print('Explained variance: %.5f'% explained_variance_score(Y_test, Y_pred))"
   ]
  },
  {
   "cell_type": "code",
   "execution_count": null,
   "metadata": {},
   "outputs": [],
   "source": [
    "regr_ridge.coef_.shape"
   ]
  },
  {
   "cell_type": "markdown",
   "metadata": {},
   "source": [
    "## Tune hyper parameter with Ridge"
   ]
  },
  {
   "cell_type": "code",
   "execution_count": null,
   "metadata": {
    "scrolled": false
   },
   "outputs": [],
   "source": [
    "fig=plt.figure(figsize=(15,15))\n",
    "##############################################################################\n",
    "# Compute paths\n",
    "\n",
    "n_alphas = 200\n",
    "alphas = np.logspace(-10, -1, n_alphas)\n",
    "all_MSE = []\n",
    "\n",
    "coefs = []\n",
    "for a in alphas:\n",
    "    ridge = linear_model.Ridge(alpha=a, fit_intercept=True)\n",
    "    \n",
    "    if FLAG_SCALING:\n",
    "    \n",
    "        ridge.fit(X_train_scaled,Y_train_scaled)\n",
    "        coefs.append(ridge.coef_)\n",
    "    \n",
    "        # calculate metric\n",
    "        # Make predictions using the testing set\n",
    "        Y_pred = ridge.predict(X_val_scaled)\n",
    "        MSE=mean_squared_error(Y_val_scaled, Y_pred)\n",
    "    else:\n",
    "        ridge.fit(X_train,Y_train)\n",
    "        coefs.append(ridge.coef_)\n",
    "    \n",
    "        # calculate metric\n",
    "        # Make predictions using the testing set\n",
    "        Y_pred = ridge.predict(X_val)\n",
    "        MSE=mean_squared_error(Y_val, Y_pred)\n",
    "        \n",
    "    # book MSE result\n",
    "    all_MSE.append(MSE)\n",
    "    \n",
    "allcoefs=np.array(coefs)\n",
    "alphas=np.array(alphas)\n",
    "all_MSE=np.array(all_MSE)"
   ]
  },
  {
   "cell_type": "code",
   "execution_count": null,
   "metadata": {},
   "outputs": [],
   "source": [
    "allcoefs.shape"
   ]
  },
  {
   "cell_type": "code",
   "execution_count": null,
   "metadata": {},
   "outputs": [],
   "source": [
    "RIDGE_MSE_THRES=[\n",
    "    1e-7,\n",
    "    0.016,      #level 1\n",
    "    3e-6,      #level 2 \n",
    "    1e-7,      #level 3 \n",
    "    1e-7,      #level 4\n",
    "    1e-7,      #level 5\n",
    "    1e-7,      #level 6\n",
    "    1e-7,      #level 7\n",
    "    1e-7,      #level 8\n",
    "    1e-7,      #level 9\n",
    "]"
   ]
  },
  {
   "cell_type": "code",
   "execution_count": null,
   "metadata": {},
   "outputs": [],
   "source": [
    "idx_min=np.where(all_MSE==all_MSE.min())[0][0]"
   ]
  },
  {
   "cell_type": "code",
   "execution_count": null,
   "metadata": {},
   "outputs": [],
   "source": [
    "alpha_ridge_min=alphas[idx_min]\n",
    "alpha_ridge_min"
   ]
  },
  {
   "cell_type": "code",
   "execution_count": null,
   "metadata": {},
   "outputs": [],
   "source": [
    "fig=plt.figure(figsize=(15,3))\n",
    "ax = fig.add_subplot(111)\n",
    "ax.plot(alphas,all_MSE,'b-o')\n",
    "ax.set_xscale(\"log\")\n",
    "#if FLAG_MAG:\n",
    "#    idx_min=np.where(all_MSE<1e-6)[0][-1]\n",
    "#else:\n",
    "#    idx_min=np.where(all_MSE<1e-6)[0][-1]\n",
    "alpha_ridge=alphas[idx_min]\n",
    "ax.axvline(x=alpha_ridge,color='red')\n",
    "ax.set_xlabel(\"$\\\\alpha$\")\n",
    "ax.set_ylabel(\"MSE\")\n",
    "ax.set_title(\"Ridge : MSE with validation test\")\n",
    "ax.grid()\n",
    "ax1 = ax.twinx()\n",
    "ax1.set_ylim(ax.get_ylim())\n",
    "ax1.grid()\n",
    "alpha_ridge"
   ]
  },
  {
   "cell_type": "markdown",
   "metadata": {},
   "source": [
    "### Display results"
   ]
  },
  {
   "cell_type": "code",
   "execution_count": null,
   "metadata": {},
   "outputs": [],
   "source": [
    "fig=plt.figure(figsize=(10,5))\n",
    "ax = fig.add_subplot(111)\n",
    "ax.plot(alphas,all_MSE,'b-')\n",
    "ax.set_xscale('log')\n",
    "ax.axvline(x=alpha_ridge,color='red')\n",
    "ax.grid()\n",
    "#ax.set_yscale('log')\n",
    "ax.set_xlim(ax.get_xlim()[::-1])  # reverse axis\n",
    "ax.set_xlabel(\"$\\\\alpha$\")\n",
    "ax.set_ylabel(\"MSE\")\n",
    "ax.set_title(\"Ridge : MSE with validation test\")\n",
    "ax1 = ax.twinx()\n",
    "ax1.set_ylim(ax.get_ylim())\n",
    "ax1.grid()"
   ]
  },
  {
   "cell_type": "code",
   "execution_count": null,
   "metadata": {},
   "outputs": [],
   "source": [
    "allcoefs.shape"
   ]
  },
  {
   "cell_type": "code",
   "execution_count": null,
   "metadata": {},
   "outputs": [],
   "source": [
    "N=NWL\n",
    "jet = plt.get_cmap('jet')\n",
    "cNorm = colors.Normalize(vmin=0, vmax=N)\n",
    "scalarMap = cmx.ScalarMappable(norm=cNorm, cmap=jet)\n",
    "all_colors = scalarMap.to_rgba(np.arange(N), alpha=1)"
   ]
  },
  {
   "cell_type": "code",
   "execution_count": null,
   "metadata": {},
   "outputs": [],
   "source": [
    "fig=plt.figure(figsize=(15,20))\n",
    "\n",
    "ax1 = fig.add_subplot(411)\n",
    "for idx in np.arange(allcoefs.shape[2]):\n",
    "    ax1.plot(alphas, allcoefs[:,0,idx],color=all_colors[idx])\n",
    "ax1.set_xscale('log')\n",
    "ax1.axvline(x=alpha_ridge,color='red')\n",
    "ax1.set_ylabel('weights - vaod')\n",
    "ax1.set_xlim(ax1.get_xlim()[::-1])  # reverse axis\n",
    "ax1.grid(True)\n",
    "ax1.set_title('Ridge coefficients as a function of the regularization')\n",
    "\n",
    "ax2 = fig.add_subplot(412,sharex=ax1)\n",
    "for idx in np.arange(allcoefs.shape[2]):\n",
    "    ax2.plot(alphas, allcoefs[:,1,idx],color=all_colors[idx])\n",
    "ax2.axvline(x=alpha_ridge,color='red')\n",
    "ax2.set_xscale('log')\n",
    "ax2.set_ylabel('weights - H2O')\n",
    "ax2.set_xlim(ax2.get_xlim()[::-1])  # reverse axis\n",
    "ax2.grid(True)\n",
    "\n",
    "ax3= fig.add_subplot(413,sharex=ax1)\n",
    "for idx in np.arange(allcoefs.shape[2]):\n",
    "    ax3.plot(alphas, allcoefs[:,2,idx],color=all_colors[idx])\n",
    "ax3.axvline(x=alpha_ridge,color='red')\n",
    "ax3.set_ylabel('weights - O3')\n",
    "ax3.set_xscale('log')\n",
    "ax3.set_xlim(ax3.get_xlim()[::-1])  # reverse axis\n",
    "ax3.grid(True)\n",
    "\n",
    "ax4= fig.add_subplot(414,sharex=ax1)\n",
    "for idx in np.arange(allcoefs.shape[2]):\n",
    "    ax4.plot(alphas, allcoefs[:,3,idx],color=all_colors[idx])\n",
    "ax4.axvline(x=alpha_ridge,color='red')\n",
    "ax4.set_ylabel('weights - CLD')\n",
    "ax4.set_xscale('log')\n",
    "#ax4.set_xlim(ax4.get_xlim()[::-1])  # reverse axis\n",
    "ax4.set_xlim(ax4.get_xlim())  # reverse axis\n",
    "ax4.grid(True)\n",
    "\n",
    "\n",
    "plt.xlabel('alpha')\n",
    "plt.axis('tight')\n",
    "plt.show()"
   ]
  },
  {
   "cell_type": "markdown",
   "metadata": {},
   "source": [
    "# Linear Regression with Lasso"
   ]
  },
  {
   "cell_type": "code",
   "execution_count": null,
   "metadata": {},
   "outputs": [],
   "source": [
    "from sklearn import linear_model"
   ]
  },
  {
   "cell_type": "code",
   "execution_count": null,
   "metadata": {},
   "outputs": [],
   "source": [
    "regr_lasso = linear_model.Lasso(alpha=1e-5)"
   ]
  },
  {
   "cell_type": "code",
   "execution_count": null,
   "metadata": {},
   "outputs": [],
   "source": [
    "# Train the model using the training sets\n",
    "\n",
    "if FLAG_SCALING:\n",
    "    regr_lasso.fit(X_train_scaled, Y_train_scaled)\n",
    "    Y_pred_lasso = regr_lasso.predict(X_test_scaled)\n",
    "    \n",
    "else:\n",
    "    regr_lasso.fit(X_train, Y_train)\n",
    "    Y_pred_lasso = regr_lasso.predict(X_test)\n",
    "    \n",
    "    \n",
    "# The coefficients\n",
    "print('Coefficients: \\n', regr_lasso.coef_)\n",
    "\n",
    "if FLAG_SCALING:\n",
    "    # The mean squared error\n",
    "    print('Mean squared error: %.5f'% mean_squared_error(Y_test_scaled, Y_pred_lasso))\n",
    "    # The coefficient of determination: 1 is perfect prediction\n",
    "    print('Coefficient of determination: %.5f' % r2_score(Y_test_scaled, Y_pred_lasso))\n",
    "    # Explained variance : 1 is perfect prediction\n",
    "    print('Explained variance: %.5f'% explained_variance_score(Y_test_scaled, Y_pred_lasso))\n",
    "   \n",
    "else:\n",
    "    # The mean squared error\n",
    "    print('Mean squared error: %.5f'% mean_squared_error(Y_test, Y_pred_lasso))\n",
    "    # The coefficient of determination: 1 is perfect prediction\n",
    "    print('Coefficient of determination: %.5f' % r2_score(Y_test, Y_pred_lasso))\n",
    "    # Explained variance : 1 is perfect prediction\n",
    "    print('Explained variance: %.5f'% explained_variance_score(Y_test, Y_pred_lasso))"
   ]
  },
  {
   "cell_type": "code",
   "execution_count": null,
   "metadata": {
    "scrolled": true
   },
   "outputs": [],
   "source": [
    "fig=plt.figure(figsize=(15,15))\n",
    "##############################################################################\n",
    "# Compute paths\n",
    "\n",
    "n_alphas = 20\n",
    "alphas = np.logspace(-10, -1, n_alphas)\n",
    "\n",
    "all_MSE = []\n",
    "coefs = []\n",
    "coefs_noconst = []\n",
    "\n",
    "for a in alphas:\n",
    "    # fit with intercept\n",
    "    lasso = linear_model.Lasso(alpha=a, fit_intercept=True,max_iter=1000)\n",
    "    # fit without intercept\n",
    "    lasso2 = linear_model.Lasso(alpha=a, fit_intercept=False,max_iter=1000)\n",
    "        \n",
    "    if FLAG_SCALING:\n",
    "        lasso.fit(X_train_scaled,Y_train_scaled);\n",
    "        lasso2.fit(X_train_scaled,Y_train_scaled);\n",
    "    else:\n",
    "        lasso.fit(X_train,Y_train);\n",
    "        lasso2.fit(X_train,Y_train);\n",
    "            \n",
    "    # book coefficients        \n",
    "    coefs.append(lasso.coef_) \n",
    "    coefs_noconst.append(lasso2.coef_)\n",
    "    \n",
    "    # calculate metric\n",
    "    # Make predictions using the testing set\n",
    "    \n",
    "    if FLAG_SCALING:\n",
    "        Y_pred = lasso.predict(X_val_scaled)\n",
    "        MSE=mean_squared_error(Y_val_scaled, Y_pred)\n",
    "    else:\n",
    "        Y_pred = lasso.predict(X_val)\n",
    "        MSE=mean_squared_error(Y_val, Y_pred)\n",
    "        \n",
    "    # book MSE    \n",
    "    all_MSE.append(MSE)\n",
    "\n",
    "alphas=np.array(alphas)\n",
    "allcoefs=np.array(coefs)\n",
    "allcoefs2=np.array(coefs_noconst)\n",
    "all_MSE=np.array(all_MSE)"
   ]
  },
  {
   "cell_type": "code",
   "execution_count": null,
   "metadata": {},
   "outputs": [],
   "source": [
    "LASSO_MSE_THRES=[\n",
    "    1e-7,\n",
    "    0.016,      #level 1\n",
    "    3e-6,      #level 2 \n",
    "    1e-7,      #level 3 \n",
    "    1e-7,      #level 4\n",
    "    1e-7,      #level 5\n",
    "    1e-7,      #level 6\n",
    "    1e-7,      #level 7\n",
    "    1e-7,      #level 8\n",
    "    1e-7,      #level 9\n",
    "]"
   ]
  },
  {
   "cell_type": "code",
   "execution_count": null,
   "metadata": {},
   "outputs": [],
   "source": [
    "idx_min=np.where(all_MSE==all_MSE.min())[0][0]"
   ]
  },
  {
   "cell_type": "code",
   "execution_count": null,
   "metadata": {},
   "outputs": [],
   "source": [
    "alpha_lasso_min=alphas[idx_min]\n",
    "alpha_lasso_min"
   ]
  },
  {
   "cell_type": "code",
   "execution_count": null,
   "metadata": {},
   "outputs": [],
   "source": [
    "fig=plt.figure(figsize=(15,3))\n",
    "ax = fig.add_subplot(111)\n",
    "ax.plot(alphas,all_MSE,'b-o')\n",
    "ax.set_xscale(\"log\")\n",
    "if FLAG_MAG:\n",
    "    idx_min=np.where(all_MSE==all_MSE.min())[0][0]\n",
    "else:\n",
    "    idx_min=np.where(all_MSE==all_MSE.min())[0][0]\n",
    "alpha_lasso=alphas[idx_min]\n",
    "ax.axvline(x=alpha_lasso,color='red')\n",
    "ax.set_xlabel(\"$\\\\alpha$\")\n",
    "ax.set_ylabel(\"MSE\")\n",
    "ax.set_title(\"LASSO : MSE with validation test\")\n",
    "ax.grid()\n",
    "alpha_lasso"
   ]
  },
  {
   "cell_type": "code",
   "execution_count": null,
   "metadata": {},
   "outputs": [],
   "source": [
    "fig=plt.figure(figsize=(10,5))\n",
    "ax = fig.add_subplot(111)\n",
    "ax.plot(alphas,all_MSE,'b-')\n",
    "ax.set_xscale('log')\n",
    "#ax.set_yscale('log')\n",
    "ax.axvline(x=alpha_lasso,color='red')\n",
    "ax.set_xlim(ax.get_xlim()[::-1])  # reverse axis\n",
    "ax.set_xlabel(\"$\\\\alpha$\")\n",
    "ax.set_ylabel(\"MSE\")\n",
    "ax.set_title(\"LASSO : MSE with validation test\")\n",
    "ax.grid()\n",
    "ax1 = ax.twinx()\n",
    "ax1.set_ylim(ax.get_ylim())\n",
    "ax1.grid()"
   ]
  },
  {
   "cell_type": "code",
   "execution_count": null,
   "metadata": {},
   "outputs": [],
   "source": [
    "N=NWL\n",
    "jet = plt.get_cmap('jet')\n",
    "cNorm = colors.Normalize(vmin=0, vmax=N)\n",
    "scalarMap = cmx.ScalarMappable(norm=cNorm, cmap=jet)\n",
    "all_colors = scalarMap.to_rgba(np.arange(N), alpha=1)\n",
    "\n",
    "fig=plt.figure(figsize=(15,20))\n",
    "ax1 = fig.add_subplot(411)\n",
    "for idx in np.arange(allcoefs2.shape[2]):\n",
    "    ax1.plot(alphas, allcoefs2[:,0,idx],color=all_colors[idx])\n",
    "ax1.set_xscale('log')\n",
    "ax1.set_ylabel('weights - vaod')\n",
    "ax1.set_xlim(ax1.get_xlim()[::-1])  # reverse axis\n",
    "ax1.axvline(x=alpha_lasso,color='red')\n",
    "ax1.grid(True)\n",
    "ax1.set_title('Lasso coefficients as a function of the regularization')\n",
    "\n",
    "ax2 = fig.add_subplot(412,sharex=ax1)\n",
    "for idx in np.arange(allcoefs2.shape[2]):\n",
    "    ax2.plot(alphas, allcoefs2[:,1,idx],color=all_colors[idx])\n",
    "ax2.set_xscale('log')\n",
    "ax2.set_ylabel('weights - H2O')\n",
    "ax2.axvline(x=alpha_lasso,color='red')\n",
    "ax2.set_xlim(ax2.get_xlim()[::-1])  # reverse axis\n",
    "ax2.grid(True)\n",
    "\n",
    "ax3= fig.add_subplot(413,sharex=ax2)\n",
    "for idx in np.arange(allcoefs2.shape[2]):\n",
    "    ax3.plot(alphas, allcoefs2[:,2,idx],color=all_colors[idx])\n",
    "ax3.set_ylabel('weights - O3')\n",
    "ax3.axvline(x=alpha_lasso,color='red')\n",
    "ax3.set_xscale('log')\n",
    "ax3.set_xlim(ax3.get_xlim()[::-1])  # reverse axis\n",
    "ax3.grid(True)\n",
    "\n",
    "ax4= fig.add_subplot(414,sharex=ax2)\n",
    "for idx in np.arange(allcoefs2.shape[2]):\n",
    "    ax4.plot(alphas, allcoefs2[:,3,idx],color=all_colors[idx])\n",
    "ax4.set_ylabel('weights - CLD')\n",
    "ax4.axvline(x=alpha_lasso,color='red')\n",
    "ax4.set_xscale('log')\n",
    "#ax4.set_xlim(ax4.get_xlim()[::-1])  # reverse axis\n",
    "ax4.set_xlim(ax4.get_xlim())  # reverse axis\n",
    "ax4.grid(True)\n",
    "\n",
    "plt.xlabel('alpha')\n",
    "plt.axis('tight')\n",
    "plt.show()"
   ]
  },
  {
   "cell_type": "markdown",
   "metadata": {},
   "source": [
    "# Verification with test  set"
   ]
  },
  {
   "cell_type": "markdown",
   "metadata": {},
   "source": [
    "## Check learning curves"
   ]
  },
  {
   "cell_type": "code",
   "execution_count": null,
   "metadata": {},
   "outputs": [],
   "source": [
    "nb_tot_test=len(Y_test)\n",
    "nb_tot_train=len(Y_train)"
   ]
  },
  {
   "cell_type": "code",
   "execution_count": null,
   "metadata": {},
   "outputs": [],
   "source": [
    "nsamples_test=np.arange(10,nb_tot_test,100)\n",
    "nsamples_train=np.arange(10,nb_tot_train,100)"
   ]
  },
  {
   "cell_type": "markdown",
   "metadata": {},
   "source": [
    "### Leraning curves for linear regression"
   ]
  },
  {
   "cell_type": "code",
   "execution_count": null,
   "metadata": {},
   "outputs": [],
   "source": [
    "all_MSE_train=np.zeros(len(nsamples_train))\n",
    "all_MSE_test=np.zeros(len(nsamples_test))\n",
    "all_MSE_test_full=np.zeros(len(nsamples_train))"
   ]
  },
  {
   "cell_type": "code",
   "execution_count": null,
   "metadata": {},
   "outputs": [],
   "source": [
    "count=0\n",
    "for n in nsamples_train:\n",
    "    \n",
    "    regr = linear_model.LinearRegression(fit_intercept=True)\n",
    "  \n",
    "    \n",
    "    if FLAG_SCALING:       \n",
    "        X_train_cut=np.copy(X_train_scaled[:n,:])\n",
    "        Y_train_cut=np.copy(Y_train_scaled[:n,:] ) \n",
    "        if n in nsamples_test:\n",
    "            X_test_cut=np.copy(X_test_scaled[:n,:])\n",
    "            Y_test_cut=np.copy(Y_test_scaled[:n,:] ) \n",
    "    else:\n",
    "        X_train_cut=X_train[:n,:]\n",
    "        Y_train_cut=Y_train[:n,:]\n",
    "        if n in nsamples_test:\n",
    "            X_test_cut=X_test[:n,:]\n",
    "            Y_test_cut=Y_test[:n,:]  \n",
    "        \n",
    "    # does the fit    \n",
    "    regr.fit(X_train_cut,Y_train_cut)\n",
    "    \n",
    "    \n",
    "    # calculate metric\n",
    "    # Make predictions using the testing set\n",
    "    Y_pred_train = regr.predict(X_train_cut)\n",
    "    if n in nsamples_test:\n",
    "        Y_pred_test  = regr.predict(X_test_cut)\n",
    "        \n",
    "    if FLAG_SCALING:     \n",
    "        Y_pred_test_full = regr.predict(np.copy(X_test_scaled))\n",
    "    else:\n",
    "        Y_pred_test_full = regr.predict(np.copy(X_test))\n",
    "    \n",
    "    MSE_train=mean_squared_error(Y_train_cut, Y_pred_train)\n",
    "    \n",
    "    if n in nsamples_test:\n",
    "        MSE_test=mean_squared_error(Y_test_cut, Y_pred_test)\n",
    "        \n",
    "    if FLAG_SCALING:    \n",
    "        MSE_test_full=mean_squared_error(Y_test_scaled, Y_pred_test_full) \n",
    "    else:\n",
    "         MSE_test_full=mean_squared_error(Y_test, Y_pred_test_full) \n",
    "            \n",
    "    all_MSE_train[count]=MSE_train\n",
    "    all_MSE_test_full[count]=MSE_test_full\n",
    "    \n",
    "    if n in nsamples_test:\n",
    "        all_MSE_test[count]=MSE_test\n",
    "        \n",
    "    \n",
    "    count+=1\n",
    "    # end of loop\n",
    "    "
   ]
  },
  {
   "cell_type": "code",
   "execution_count": null,
   "metadata": {},
   "outputs": [],
   "source": [
    "fig=plt.figure(figsize=(15,5))\n",
    "ax = fig.add_subplot(111)\n",
    "ax.plot(nsamples_train, all_MSE_train,'b-o',label=\"train\")\n",
    "#ax.plot(nsamples_test, all_MSE_test,'r-o',label=\"test\")\n",
    "ax.plot(nsamples_train, all_MSE_test_full,'r:o',label=\"test\")\n",
    "ax.legend()\n",
    "ax.set_yscale(\"log\")\n",
    "ax.set_xlabel(\"$N$\")\n",
    "ax.set_ylabel(\"MSE\")\n",
    "ax.set_title(\"Linear Regression - No reg : MSE with test vs N\")\n",
    "ax.grid()\n",
    "#ax.set_ylim(1e-6,1e-2)\n",
    "ax1 = ax.twinx()\n",
    "ax1.set_ylim(ax.get_ylim())\n",
    "ax1.set_yscale(\"log\")\n",
    "ax1.grid()"
   ]
  },
  {
   "cell_type": "markdown",
   "metadata": {},
   "source": [
    "### Learning curves for Ridge"
   ]
  },
  {
   "cell_type": "code",
   "execution_count": null,
   "metadata": {},
   "outputs": [],
   "source": [
    "all_MSE_train=np.zeros(len(nsamples_train))\n",
    "all_MSE_test=np.zeros(len(nsamples_test))\n",
    "all_MSE_test_full=np.zeros(len(nsamples_train))"
   ]
  },
  {
   "cell_type": "code",
   "execution_count": null,
   "metadata": {},
   "outputs": [],
   "source": []
  },
  {
   "cell_type": "code",
   "execution_count": null,
   "metadata": {},
   "outputs": [],
   "source": [
    "count=0\n",
    "for n in nsamples_train:\n",
    "    \n",
    "\n",
    "    ridge = linear_model.Ridge(alpha=alpha_ridge_min, fit_intercept=True)\n",
    "    \n",
    "    if FLAG_SCALING:       \n",
    "        X_train_cut=np.copy(X_train_scaled[:n,:])\n",
    "        Y_train_cut=np.copy(Y_train_scaled[:n,:] ) \n",
    "        if n in nsamples_test:\n",
    "            X_test_cut=np.copy(X_test_scaled[:n,:])\n",
    "            Y_test_cut=np.copy(Y_test_scaled[:n,:] ) \n",
    "    else:\n",
    "        X_train_cut=X_train[:n,:]\n",
    "        Y_train_cut=Y_train[:n,:]\n",
    "        if n in nsamples_test:\n",
    "            X_test_cut=X_test[:n,:]\n",
    "            Y_test_cut=Y_test[:n,:]  \n",
    "        \n",
    "    ridge.fit(X_train_cut,Y_train_cut)\n",
    "    \n",
    "    \n",
    "    # calculate metric\n",
    "    # Make predictions using the testing set\n",
    "    Y_pred_train = ridge.predict(X_train_cut)\n",
    "    \n",
    "    if FLAG_SCALING:  \n",
    "        Y_pred_test_full = ridge.predict(X_test_scaled)\n",
    "    else:\n",
    "        Y_pred_test_full = ridge.predict(X_test)\n",
    "        \n",
    "        \n",
    "    if n in nsamples_test:\n",
    "        Y_pred_test  = ridge.predict(X_test_cut)\n",
    "    \n",
    "    MSE_train=mean_squared_error(Y_train_cut, Y_pred_train)\n",
    "    \n",
    "    if FLAG_SCALING:    \n",
    "        MSE_test_full=mean_squared_error(Y_test_scaled, Y_pred_test_full) \n",
    "    else:\n",
    "        MSE_test_full=mean_squared_error(Y_test, Y_pred_test_full)   \n",
    "    \n",
    "    if n in nsamples_test:\n",
    "        MSE_test=mean_squared_error(Y_test_cut, Y_pred_test)\n",
    "\n",
    "    all_MSE_train[count]=MSE_train\n",
    "    all_MSE_test_full[count]=MSE_test_full\n",
    "    \n",
    "    if n in nsamples_test:\n",
    "        all_MSE_test[count]=MSE_test\n",
    "    \n",
    "    count+=1\n",
    "    # end of loop\n",
    "    "
   ]
  },
  {
   "cell_type": "code",
   "execution_count": null,
   "metadata": {},
   "outputs": [],
   "source": [
    "fig=plt.figure(figsize=(15,5))\n",
    "ax = fig.add_subplot(111)\n",
    "ax.plot(nsamples_train, all_MSE_train,'b-o',label=\"train\")\n",
    "#ax.plot(nsamples_test, all_MSE_test,'r-o',label=\"test\")\n",
    "ax.plot(nsamples_train, all_MSE_test_full,'r-o',label=\"test\")\n",
    "ax.legend()\n",
    "ax.set_yscale(\"log\")\n",
    "ax.set_xlabel(\"$N$\")\n",
    "ax.set_ylabel(\"MSE\")\n",
    "ax.set_title(\"RIDGE : MSE with test vs N\")\n",
    "ax.grid()\n",
    "#ax.set_ylim(1e-6,1e-2)\n",
    "ax1 = ax.twinx()\n",
    "ax1.set_ylim(ax.get_ylim())\n",
    "ax1.set_yscale(\"log\")\n",
    "ax1.grid()"
   ]
  },
  {
   "cell_type": "markdown",
   "metadata": {},
   "source": [
    "### Learning curves for Lasso"
   ]
  },
  {
   "cell_type": "code",
   "execution_count": null,
   "metadata": {},
   "outputs": [],
   "source": [
    "all_MSE_train=np.zeros(len(nsamples_train))\n",
    "all_MSE_test=np.zeros(len(nsamples_test))\n",
    "all_MSE_test_full=np.zeros(len(nsamples_train))"
   ]
  },
  {
   "cell_type": "code",
   "execution_count": null,
   "metadata": {},
   "outputs": [],
   "source": [
    "alpha_lasso"
   ]
  },
  {
   "cell_type": "code",
   "execution_count": null,
   "metadata": {},
   "outputs": [],
   "source": [
    "alpha_lasso_min"
   ]
  },
  {
   "cell_type": "code",
   "execution_count": null,
   "metadata": {},
   "outputs": [],
   "source": [
    "alpha_lasso_0=1e-3"
   ]
  },
  {
   "cell_type": "code",
   "execution_count": null,
   "metadata": {
    "scrolled": true
   },
   "outputs": [],
   "source": [
    "count=0\n",
    "for n in nsamples_train:\n",
    "    \n",
    "\n",
    "    lasso = linear_model.Lasso(alpha=alpha_lasso_0, fit_intercept=True)\n",
    "    \n",
    "    if FLAG_SCALING:       \n",
    "        X_train_cut=np.copy(X_train_scaled[:n,:])\n",
    "        Y_train_cut=np.copy(Y_train_scaled[:n,:] ) \n",
    "        if n in nsamples_test:\n",
    "            X_test_cut=np.copy(X_test_scaled[:n,:])\n",
    "            Y_test_cut=np.copy(Y_test_scaled[:n,:] ) \n",
    "    else:\n",
    "        X_train_cut=X_train[:n,:]\n",
    "        Y_train_cut=Y_train[:n,:]\n",
    "        if n in nsamples_test:\n",
    "            X_test_cut=X_test[:n,:]\n",
    "            Y_test_cut=Y_test[:n,:]  \n",
    "        \n",
    "    lasso.fit(X_train_cut,Y_train_cut)\n",
    "    \n",
    "    \n",
    "    # calculate metric\n",
    "    # Make predictions using the testing set\n",
    "    Y_pred_train = lasso.predict(X_train_cut)\n",
    "    \n",
    "    if FLAG_SCALING:  \n",
    "        Y_pred_test_full = lasso.predict(X_test_scaled)\n",
    "    else:\n",
    "        Y_pred_test_full = lasso.predict(X_test)\n",
    "    \n",
    "    if n in nsamples_test:\n",
    "        Y_pred_test  = lasso.predict(X_test_cut)\n",
    "    \n",
    "    MSE_train=mean_squared_error(Y_train_cut, Y_pred_train)\n",
    "    \n",
    "    \n",
    "    \n",
    "    if FLAG_SCALING:    \n",
    "        MSE_test_full=mean_squared_error(Y_test_scaled, Y_pred_test_full) \n",
    "    else:\n",
    "        MSE_test_full=mean_squared_error(Y_test, Y_pred_test_full)   \n",
    "    \n",
    "    if n in nsamples_test:\n",
    "        MSE_test=mean_squared_error(Y_test_cut, Y_pred_test)\n",
    "\n",
    "    all_MSE_train[count]=MSE_train\n",
    "    all_MSE_test_full[count]=MSE_test_full\n",
    "    \n",
    "    if n in nsamples_test:\n",
    "        all_MSE_test[count]=MSE_test\n",
    "    \n",
    "    count+=1\n",
    "    # end of loop\n",
    "    "
   ]
  },
  {
   "cell_type": "code",
   "execution_count": null,
   "metadata": {},
   "outputs": [],
   "source": [
    "fig=plt.figure(figsize=(15,5))\n",
    "ax = fig.add_subplot(111)\n",
    "ax.plot(nsamples_train, all_MSE_train,'b-o',label=\"train\")\n",
    "#ax.plot(nsamples_test, all_MSE_test,'r-o',label=\"test\")\n",
    "ax.plot(nsamples_train, all_MSE_test_full,'r-o',label=\"test\")\n",
    "ax.legend()\n",
    "ax.grid()\n",
    "ax.set_yscale(\"log\")\n",
    "ax.set_xlabel(\"$N$\")\n",
    "ax.set_ylabel(\"MSE\")\n",
    "ax.set_title(\"LASSO : MSE with test vs N\")\n",
    "ax1 = ax.twinx()\n",
    "ax1.set_ylim(ax.get_ylim())\n",
    "ax1.set_yscale(\"log\")\n",
    "ax1.grid()"
   ]
  },
  {
   "cell_type": "markdown",
   "metadata": {},
   "source": [
    "# Final"
   ]
  },
  {
   "cell_type": "markdown",
   "metadata": {},
   "source": [
    "# No regularisation"
   ]
  },
  {
   "cell_type": "code",
   "execution_count": null,
   "metadata": {},
   "outputs": [],
   "source": [
    "regr = linear_model.LinearRegression(fit_intercept=True)\n",
    "    \n",
    "if FLAG_SCALING:           \n",
    "    regr.fit(X_train_scaled,Y_train_scaled)\n",
    "else:\n",
    "    regr.fit(X_train,Y_train)\n",
    "       \n",
    "    # calculate metric\n",
    "    # Make predictions using the testing set\n",
    "\n",
    "if FLAG_SCALING:    \n",
    "    Y_pred_test  = regr.predict(X_test_scaled)\n",
    "    Y_pred_test_inv = scaler_Y.inverse_transform(Y_pred_test)\n",
    "    DY=Y_pred_test-Y_test_scaled\n",
    "else:\n",
    "    Y_pred_test  = regr.predict(X_test)\n",
    "    DY=Y_pred_test-Y_test\n",
    "    "
   ]
  },
  {
   "cell_type": "code",
   "execution_count": null,
   "metadata": {},
   "outputs": [],
   "source": [
    "if FLAG_SCALING:\n",
    "    # The mean squared error\n",
    "    print('Mean squared error: %.5f'% mean_squared_error(Y_test_scaled, Y_pred_test))\n",
    "    # The coefficient of determination: 1 is perfect prediction\n",
    "    print('Coefficient of determination: %.5f' % r2_score(Y_test_scaled, Y_pred_test))\n",
    "    # Explained variance : 1 is perfect prediction\n",
    "    print('Explained variance: %.5f'% explained_variance_score(Y_test_scaled, Y_pred_test))\n",
    "   \n",
    "else:\n",
    "    # The mean squared error\n",
    "    print('Mean squared error: %.5f'% mean_squared_error(Y_test, Y_pred_test))\n",
    "    # The coefficient of determination: 1 is perfect prediction\n",
    "    print('Coefficient of determination: %.5f' % r2_score(Y_test, Y_pred_test))\n",
    "    # Explained variance : 1 is perfect prediction\n",
    "    print('Explained variance: %.5f'% explained_variance_score(Y_test, Y_pred_test))"
   ]
  },
  {
   "cell_type": "code",
   "execution_count": null,
   "metadata": {},
   "outputs": [],
   "source": [
    "fig=plt.figure(figsize=(11,10))\n",
    "ax = fig.add_subplot(221)\n",
    "plot_param(0,ax,Y_test,Y_pred_test_inv,mode=0)\n",
    "\n",
    "ax = fig.add_subplot(222)\n",
    "plot_param(1,ax,Y_test,Y_pred_test_inv,mode=0)\n",
    "\n",
    "ax = fig.add_subplot(223)\n",
    "plot_param(2,ax,Y_test,Y_pred_test_inv,mode=0)\n",
    "\n",
    "ax = fig.add_subplot(224)\n",
    "plot_param(3,ax,Y_test,Y_pred_test_inv,mode=0)\n",
    "\n",
    "plt.tight_layout()\n",
    "plt.suptitle(\"Linear Regression - No reg (with cloud)\",Y=1.1,fontsize=25)\n",
    "\n",
    "plt.show()"
   ]
  },
  {
   "cell_type": "code",
   "execution_count": null,
   "metadata": {},
   "outputs": [],
   "source": [
    "fig=plt.figure(figsize=(11,10))\n",
    "ax = fig.add_subplot(221)\n",
    "plot_param(0,ax,Y_test,Y_pred_test_inv,mode=1)\n",
    "\n",
    "ax = fig.add_subplot(222)\n",
    "plot_param(1,ax,Y_test,Y_pred_test_inv,mode=1)\n",
    "\n",
    "ax = fig.add_subplot(223)\n",
    "plot_param(2,ax,Y_test,Y_pred_test_inv,mode=1)\n",
    "\n",
    "ax = fig.add_subplot(224)\n",
    "plot_param(3,ax,Y_test,Y_pred_test_inv,mode=1)\n",
    "\n",
    "plt.tight_layout()\n",
    "plt.suptitle(\"Linear Regression - No reg (with cloud)\",Y=1.1,fontsize=25)\n",
    "\n",
    "plt.show()"
   ]
  },
  {
   "cell_type": "code",
   "execution_count": null,
   "metadata": {},
   "outputs": [],
   "source": [
    "fig=plt.figure(figsize=(11,10))\n",
    "ax = fig.add_subplot(221)\n",
    "plot_param(0,ax,Y_test,Y_pred_test_inv,mode=2)\n",
    "\n",
    "ax = fig.add_subplot(222)\n",
    "plot_param(1,ax,Y_test,Y_pred_test_inv,mode=2)\n",
    "\n",
    "ax = fig.add_subplot(223)\n",
    "plot_param(2,ax,Y_test,Y_pred_test_inv,mode=2)\n",
    "\n",
    "ax = fig.add_subplot(224)\n",
    "plot_param(3,ax,Y_test,Y_pred_test_inv,mode=2)\n",
    "\n",
    "plt.tight_layout()\n",
    "plt.suptitle(\"Linear Regression - No reg (with cloud)\",Y=1.1,fontsize=25)\n",
    "\n",
    "plt.show()"
   ]
  },
  {
   "cell_type": "code",
   "execution_count": null,
   "metadata": {},
   "outputs": [],
   "source": [
    "fig=plt.figure(figsize=(11,10))\n",
    "ax = fig.add_subplot(221)\n",
    "plot_param_histo(0,ax,Y_test,Y_pred_test_inv)\n",
    "\n",
    "ax = fig.add_subplot(222)\n",
    "plot_param_histo(1,ax,Y_test,Y_pred_test_inv)\n",
    "\n",
    "ax = fig.add_subplot(223)\n",
    "plot_param_histo(2,ax,Y_test,Y_pred_test_inv)\n",
    "\n",
    "ax = fig.add_subplot(224)\n",
    "plot_param_histo(3,ax,Y_test,Y_pred_test_inv)\n",
    "\n",
    "plt.tight_layout()\n",
    "plt.suptitle(\"Linear Regression - No reg (with cloud)\",Y=1.1,fontsize=25)\n",
    "\n",
    "plt.show()\n"
   ]
  },
  {
   "cell_type": "code",
   "execution_count": null,
   "metadata": {},
   "outputs": [],
   "source": [
    "fig=plt.figure(figsize=(14,6))\n",
    "ax = fig.add_subplot(121)\n",
    "plotcorrelation(ax,Y_test)\n",
    "ax.set_title(\"atmospheric param at input\")\n",
    "ax = fig.add_subplot(122)\n",
    "plotcorrelation(ax,Y_pred_test_inv)\n",
    "ax.set_title(\"atmospheric param at output\")\n",
    "plt.tight_layout()\n",
    "plt.suptitle(\"Linear Regression - No reg (with cloud)\",Y=1.05,fontsize=22)"
   ]
  },
  {
   "cell_type": "markdown",
   "metadata": {},
   "source": [
    "## Ridge"
   ]
  },
  {
   "cell_type": "code",
   "execution_count": null,
   "metadata": {},
   "outputs": [],
   "source": [
    "ridge = linear_model.Ridge(alpha=alpha_ridge_min, fit_intercept=True)\n",
    "    \n",
    "if FLAG_SCALING:           \n",
    "    ridge.fit(X_train_scaled,Y_train_scaled)\n",
    "else:\n",
    "    ridge.fit(X_train,Y_train)\n",
    "       \n",
    "    # calculate metric\n",
    "    # Make predictions using the testing set\n",
    "\n",
    "if FLAG_SCALING:    \n",
    "    Y_pred_test  = ridge.predict(X_test_scaled)\n",
    "    Y_pred_test_inv = scaler_Y.inverse_transform(Y_pred_test)\n",
    "    DY=Y_pred_test-Y_test_scaled\n",
    "else:\n",
    "    Y_pred_test  = ridge.predict(X_test)\n",
    "    DY=Y_pred_test-Y_test\n",
    "    \n",
    "    \n"
   ]
  },
  {
   "cell_type": "code",
   "execution_count": null,
   "metadata": {},
   "outputs": [],
   "source": [
    "if FLAG_SCALING:\n",
    "    # The mean squared error\n",
    "    print('Mean squared error: %.5f'% mean_squared_error(Y_test_scaled, Y_pred_test))\n",
    "    # The coefficient of determination: 1 is perfect prediction\n",
    "    print('Coefficient of determination: %.5f' % r2_score(Y_test_scaled, Y_pred_test))\n",
    "    # Explained variance : 1 is perfect prediction\n",
    "    print('Explained variance: %.5f'% explained_variance_score(Y_test_scaled, Y_pred_test))\n",
    "   \n",
    "else:\n",
    "    # The mean squared error\n",
    "    print('Mean squared error: %.5f'% mean_squared_error(Y_test, Y_pred_test))\n",
    "    # The coefficient of determination: 1 is perfect prediction\n",
    "    print('Coefficient of determination: %.5f' % r2_score(Y_test, Y_pred_test))\n",
    "    # Explained variance : 1 is perfect prediction\n",
    "    print('Explained variance: %.5f'% explained_variance_score(Y_test, Y_pred_test))"
   ]
  },
  {
   "cell_type": "code",
   "execution_count": null,
   "metadata": {},
   "outputs": [],
   "source": [
    "ridge.coef_"
   ]
  },
  {
   "cell_type": "code",
   "execution_count": null,
   "metadata": {},
   "outputs": [],
   "source": [
    "fig=plt.figure(figsize=(11,10))\n",
    "ax = fig.add_subplot(221)\n",
    "plot_param(0,ax,Y_test,Y_pred_test_inv,mode=0)\n",
    "\n",
    "ax = fig.add_subplot(222)\n",
    "plot_param(1,ax,Y_test,Y_pred_test_inv,mode=0)\n",
    "\n",
    "ax = fig.add_subplot(223)\n",
    "plot_param(2,ax,Y_test,Y_pred_test_inv,mode=0)\n",
    "\n",
    "ax = fig.add_subplot(224)\n",
    "plot_param(3,ax,Y_test,Y_pred_test_inv,mode=0)\n",
    "\n",
    "plt.tight_layout()\n",
    "plt.suptitle(\"Linear Regression + Ridge reg, (with cloud)\",Y=1.1,fontsize=25)\n",
    "\n",
    "plt.show()"
   ]
  },
  {
   "cell_type": "code",
   "execution_count": null,
   "metadata": {},
   "outputs": [],
   "source": [
    "fig=plt.figure(figsize=(11,10))\n",
    "ax = fig.add_subplot(221)\n",
    "plot_param(0,ax,Y_test,Y_pred_test_inv,mode=1)\n",
    "\n",
    "ax = fig.add_subplot(222)\n",
    "plot_param(1,ax,Y_test,Y_pred_test_inv,mode=1)\n",
    "\n",
    "ax = fig.add_subplot(223)\n",
    "plot_param(2,ax,Y_test,Y_pred_test_inv,mode=1)\n",
    "\n",
    "ax = fig.add_subplot(224)\n",
    "plot_param(3,ax,Y_test,Y_pred_test_inv,mode=1)\n",
    "\n",
    "plt.tight_layout()\n",
    "plt.suptitle(\"Linear Regression + Ridge reg, (with cloud)\",Y=1.1,fontsize=25)\n",
    "\n",
    "plt.show()"
   ]
  },
  {
   "cell_type": "code",
   "execution_count": null,
   "metadata": {},
   "outputs": [],
   "source": [
    "fig=plt.figure(figsize=(11,10))\n",
    "ax = fig.add_subplot(221)\n",
    "plot_param(0,ax,Y_test,Y_pred_test_inv,mode=2)\n",
    "\n",
    "ax = fig.add_subplot(222)\n",
    "plot_param(1,ax,Y_test,Y_pred_test_inv,mode=2)\n",
    "\n",
    "ax = fig.add_subplot(223)\n",
    "plot_param(2,ax,Y_test,Y_pred_test_inv,mode=2)\n",
    "\n",
    "ax = fig.add_subplot(224)\n",
    "plot_param(3,ax,Y_test,Y_pred_test_inv,mode=2)\n",
    "\n",
    "plt.tight_layout()\n",
    "plt.suptitle(\"Linear Regression + Ridge reg, (with cloud)\",Y=1.1,fontsize=25)\n",
    "\n",
    "plt.show()"
   ]
  },
  {
   "cell_type": "code",
   "execution_count": null,
   "metadata": {},
   "outputs": [],
   "source": [
    "fig=plt.figure(figsize=(11,10))\n",
    "ax = fig.add_subplot(221)\n",
    "plot_param_histo(0,ax,Y_test,Y_pred_test_inv)\n",
    "\n",
    "ax = fig.add_subplot(222)\n",
    "plot_param_histo(1,ax,Y_test,Y_pred_test_inv)\n",
    "\n",
    "ax = fig.add_subplot(223)\n",
    "plot_param_histo(2,ax,Y_test,Y_pred_test_inv)\n",
    "\n",
    "ax = fig.add_subplot(224)\n",
    "plot_param_histo(3,ax,Y_test,Y_pred_test_inv)\n",
    "\n",
    "plt.tight_layout()\n",
    "plt.suptitle(\"Linear Regression + Ridge reg, (with cloud)\",Y=1.1,fontsize=25)\n",
    "\n",
    "plt.show()"
   ]
  },
  {
   "cell_type": "code",
   "execution_count": null,
   "metadata": {},
   "outputs": [],
   "source": [
    "fig=plt.figure(figsize=(14,6))\n",
    "ax = fig.add_subplot(121)\n",
    "plotcorrelation(ax,Y_test)\n",
    "ax.set_title(\"atmospheric param at input\")\n",
    "ax = fig.add_subplot(122)\n",
    "plotcorrelation(ax,Y_pred_test_inv)\n",
    "ax.set_title(\"atmospheric param at output\")\n",
    "plt.tight_layout()\n",
    "plt.suptitle(\"Linear Regression - Ridge (with cloud)\",Y=1.05,fontsize=22)"
   ]
  },
  {
   "cell_type": "markdown",
   "metadata": {},
   "source": [
    "## Lasso"
   ]
  },
  {
   "cell_type": "code",
   "execution_count": null,
   "metadata": {},
   "outputs": [],
   "source": [
    "#lasso = linear_model.Lasso(alpha=alpha_lasso_min, fit_intercept=True)\n",
    "lasso = linear_model.Lasso(alpha=alpha_lasso_min, fit_intercept=True)\n",
    "    \n",
    "if FLAG_SCALING:           \n",
    "    lasso.fit(X_train_scaled,Y_train_scaled)\n",
    "else:\n",
    "    lasso.fit(X_train,Y_train)\n",
    "       \n",
    "    # calculate metric\n",
    "    # Make predictions using the testing set\n",
    "\n",
    "if FLAG_SCALING:    \n",
    "    Y_pred_test  = lasso.predict(X_test_scaled)\n",
    "    Y_pred_test_inv = scaler_Y.inverse_transform(Y_pred_test)\n",
    "    DY=Y_pred_test-Y_test_scaled\n",
    "else:\n",
    "    Y_pred_test  = lasso.predict(X_test)\n",
    "    DY=Y_pred_test-Y_test\n",
    "    \n",
    "    "
   ]
  },
  {
   "cell_type": "code",
   "execution_count": null,
   "metadata": {},
   "outputs": [],
   "source": [
    "if FLAG_SCALING:\n",
    "    # The mean squared error\n",
    "    print('Mean squared error: %.5f'% mean_squared_error(Y_test_scaled, Y_pred_test))\n",
    "    # The coefficient of determination: 1 is perfect prediction\n",
    "    print('Coefficient of determination: %.5f' % r2_score(Y_test_scaled, Y_pred_test))\n",
    "    # Explained variance : 1 is perfect prediction\n",
    "    print('Explained variance: %.5f'% explained_variance_score(Y_test_scaled, Y_pred_test))\n",
    "   \n",
    "else:\n",
    "    # The mean squared error\n",
    "    print('Mean squared error: %.5f'% mean_squared_error(Y_test, Y_pred_test))\n",
    "    # The coefficient of determination: 1 is perfect prediction\n",
    "    print('Coefficient of determination: %.5f' % r2_score(Y_test, Y_pred_test))\n",
    "    # Explained variance : 1 is perfect prediction\n",
    "    print('Explained variance: %.5f'% explained_variance_score(Y_test, Y_pred_test))"
   ]
  },
  {
   "cell_type": "code",
   "execution_count": null,
   "metadata": {},
   "outputs": [],
   "source": [
    "fig=plt.figure(figsize=(11,10))\n",
    "ax = fig.add_subplot(221)\n",
    "plot_param(0,ax,Y_test,Y_pred_test_inv,mode=0)\n",
    "\n",
    "ax = fig.add_subplot(222)\n",
    "plot_param(1,ax,Y_test,Y_pred_test_inv,mode=0)\n",
    "\n",
    "ax = fig.add_subplot(223)\n",
    "plot_param(2,ax,Y_test,Y_pred_test_inv,mode=0)\n",
    "\n",
    "ax = fig.add_subplot(224)\n",
    "plot_param(3,ax,Y_test,Y_pred_test_inv,mode=0)\n",
    "\n",
    "plt.tight_layout()\n",
    "plt.suptitle(\"Linear Regression + Lasso reg, (with cloud)\",Y=1.1,fontsize=25)\n",
    "\n",
    "plt.show()"
   ]
  },
  {
   "cell_type": "code",
   "execution_count": null,
   "metadata": {},
   "outputs": [],
   "source": [
    "fig=plt.figure(figsize=(11,10))\n",
    "ax = fig.add_subplot(221)\n",
    "plot_param(0,ax,Y_test,Y_pred_test_inv,mode=1)\n",
    "\n",
    "ax = fig.add_subplot(222)\n",
    "plot_param(1,ax,Y_test,Y_pred_test_inv,mode=1)\n",
    "\n",
    "ax = fig.add_subplot(223)\n",
    "plot_param(2,ax,Y_test,Y_pred_test_inv,mode=1)\n",
    "\n",
    "ax = fig.add_subplot(224)\n",
    "plot_param(3,ax,Y_test,Y_pred_test_inv,mode=1)\n",
    "\n",
    "plt.tight_layout()\n",
    "plt.suptitle(\"Linear Regression + Lasso reg, (with cloud)\",Y=1.1,fontsize=25)\n",
    "\n",
    "plt.show()"
   ]
  },
  {
   "cell_type": "code",
   "execution_count": null,
   "metadata": {},
   "outputs": [],
   "source": [
    "fig=plt.figure(figsize=(11,10))\n",
    "ax = fig.add_subplot(221)\n",
    "plot_param(0,ax,Y_test,Y_pred_test_inv,mode=2)\n",
    "\n",
    "ax = fig.add_subplot(222)\n",
    "plot_param(1,ax,Y_test,Y_pred_test_inv,mode=2)\n",
    "\n",
    "ax = fig.add_subplot(223)\n",
    "plot_param(2,ax,Y_test,Y_pred_test_inv,mode=2)\n",
    "\n",
    "ax = fig.add_subplot(224)\n",
    "plot_param(3,ax,Y_test,Y_pred_test_inv,mode=2)\n",
    "\n",
    "plt.tight_layout()\n",
    "plt.suptitle(\"Linear Regression + Lasso reg, (with cloud)\",Y=1.1,fontsize=25)\n",
    "\n",
    "plt.show()"
   ]
  },
  {
   "cell_type": "code",
   "execution_count": null,
   "metadata": {},
   "outputs": [],
   "source": [
    "fig=plt.figure(figsize=(11,10))\n",
    "ax = fig.add_subplot(221)\n",
    "plot_param_histo(0,ax,Y_test,Y_pred_test_inv)\n",
    "\n",
    "ax = fig.add_subplot(222)\n",
    "plot_param_histo(1,ax,Y_test,Y_pred_test_inv)\n",
    "\n",
    "ax = fig.add_subplot(223)\n",
    "plot_param_histo(2,ax,Y_test,Y_pred_test_inv)\n",
    "\n",
    "ax = fig.add_subplot(224)\n",
    "plot_param_histo(3,ax,Y_test,Y_pred_test_inv)\n",
    "\n",
    "plt.tight_layout()\n",
    "plt.suptitle(\"Linear Regression + Lasso reg, (with cloud)\",Y=1.1,fontsize=25)\n",
    "\n",
    "plt.show()"
   ]
  },
  {
   "cell_type": "code",
   "execution_count": null,
   "metadata": {},
   "outputs": [],
   "source": [
    "fig=plt.figure(figsize=(14,6))\n",
    "ax = fig.add_subplot(121)\n",
    "plotcorrelation(ax,Y_test)\n",
    "ax.set_title(\"atmospheric param at input\")\n",
    "ax = fig.add_subplot(122)\n",
    "plotcorrelation(ax,Y_pred_test_inv)\n",
    "ax.set_title(\"atmospheric param at output\")\n",
    "plt.tight_layout()\n",
    "plt.suptitle(\"Linear Regression - Lasso (with cloud)\",Y=1.05,fontsize=22)"
   ]
  },
  {
   "cell_type": "code",
   "execution_count": null,
   "metadata": {},
   "outputs": [],
   "source": []
  }
 ],
 "metadata": {
  "kernelspec": {
   "display_name": "Python 3",
   "language": "python",
   "name": "python3"
  },
  "language_info": {
   "codemirror_mode": {
    "name": "ipython",
    "version": 3
   },
   "file_extension": ".py",
   "mimetype": "text/x-python",
   "name": "python",
   "nbconvert_exporter": "python",
   "pygments_lexer": "ipython3",
   "version": "3.7.7"
  }
 },
 "nbformat": 4,
 "nbformat_minor": 4
}
