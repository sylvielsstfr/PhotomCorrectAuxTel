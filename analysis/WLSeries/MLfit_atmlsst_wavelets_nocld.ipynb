{
 "cells": [
  {
   "cell_type": "markdown",
   "metadata": {},
   "source": [
    "# Fit atmosphere parameters using wavelet decomposition as input"
   ]
  },
  {
   "cell_type": "markdown",
   "metadata": {},
   "source": [
    "- author Sylvie Dagoret-Campagne\n",
    "- creation date : August 19th 2020"
   ]
  },
  {
   "cell_type": "code",
   "execution_count": 2,
   "metadata": {},
   "outputs": [],
   "source": [
    "import pandas as pd\n",
    "import matplotlib.pyplot as plt\n",
    "import numpy as np\n",
    "from mpl_toolkits.axes_grid1 import host_subplot\n",
    "import mpl_toolkits.axisartist as AA\n",
    "import os,sys\n",
    "\n",
    "from astropy.io import fits\n",
    "import matplotlib.colors as colors\n",
    "import matplotlib.cm as cmx\n",
    "import matplotlib.dates as mdates\n",
    "from matplotlib import gridspec\n",
    "%matplotlib inline"
   ]
  },
  {
   "cell_type": "code",
   "execution_count": 3,
   "metadata": {},
   "outputs": [],
   "source": [
    "# to enlarge the sizes\n",
    "params = {'legend.fontsize': 'x-large',\n",
    "          'figure.figsize': (12, 8),\n",
    "         'axes.labelsize': 'x-large',\n",
    "         'axes.titlesize':'x-large',\n",
    "         'xtick.labelsize':'x-large',\n",
    "         'ytick.labelsize':'x-large'}\n",
    "plt.rcParams.update(params)"
   ]
  },
  {
   "cell_type": "code",
   "execution_count": 4,
   "metadata": {},
   "outputs": [],
   "source": [
    "sys.path.append(\"../../tools/atmanalyticsim\") # go to parent dir"
   ]
  },
  {
   "cell_type": "code",
   "execution_count": 5,
   "metadata": {},
   "outputs": [],
   "source": [
    "import libatmscattering as atm"
   ]
  },
  {
   "cell_type": "code",
   "execution_count": 6,
   "metadata": {},
   "outputs": [],
   "source": [
    "all_files=[\"lsst_atm_10year_wavelets_dataset1.fits\",\n",
    "           \"lsst_atm_10year_wavelets_dataset2.fits\",\n",
    "           \"lsst_atm_10year_wavelets_dataset3.fits\",\n",
    "           \"lsst_atm_10year_wavelets_dataset4.fits\",\n",
    "           \"lsst_atm_10year_wavelets_dataset5.fits\",\n",
    "           \"lsst_atm_10year_wavelets_dataset6.fits\",\n",
    "           \"lsst_atm_10year_wavelets_dataset7.fits\",\n",
    "           \"lsst_atm_10year_wavelets_dataset8.fits\",\n",
    "           \"lsst_atm_10year_wavelets_dataset9.fits\"]"
   ]
  },
  {
   "cell_type": "code",
   "execution_count": 7,
   "metadata": {},
   "outputs": [],
   "source": [
    "input_file=all_files[2]"
   ]
  },
  {
   "cell_type": "code",
   "execution_count": 8,
   "metadata": {},
   "outputs": [],
   "source": [
    "hdu = fits.open(input_file)"
   ]
  },
  {
   "cell_type": "code",
   "execution_count": 9,
   "metadata": {},
   "outputs": [],
   "source": [
    "hdr=hdu[0].header\n",
    "data=hdu[0].data"
   ]
  },
  {
   "cell_type": "code",
   "execution_count": 10,
   "metadata": {},
   "outputs": [
    {
     "data": {
      "text/plain": [
       "SIMPLE  =                    T / conforms to FITS standard                      \n",
       "BITPIX  =                  -64 / array data type                                \n",
       "NAXIS   =                    2 / number of array dimensions                     \n",
       "NAXIS1  =                   20                                                  \n",
       "NAXIS2  =                 3650                                                  \n",
       "NBATMSIM=                 3650                                                  \n",
       "ID_NUM  =                    0                                                  \n",
       "ID_YEAR =                    1                                                  \n",
       "ID_AM   =                    2                                                  \n",
       "ID_VAOD =                    3                                                  \n",
       "ID_PWV  =                    4                                                  \n",
       "ID_O3   =                    5                                                  \n",
       "ID_CLD  =                    6                                                  \n",
       "ID_RES  =                    7                                                  \n",
       "OBSERVER= 'SDC     '                                                            \n",
       "COMMENT atm sim data challenge                                                  "
      ]
     },
     "execution_count": 10,
     "metadata": {},
     "output_type": "execute_result"
    }
   ],
   "source": [
    "hdr"
   ]
  },
  {
   "cell_type": "code",
   "execution_count": 11,
   "metadata": {},
   "outputs": [],
   "source": [
    "#NbAtmSimul=hdr['NBATMSIM']\n",
    "idx_out_num=hdr['ID_NUM']\n",
    "idx_out_year=hdr['ID_YEAR']\n",
    "idx_out_am=hdr['ID_AM']\n",
    "idx_out_vaod=hdr['ID_VAOD']\n",
    "idx_out_pwv=hdr['ID_PWV']\n",
    "idx_out_o3=hdr['ID_O3']\n",
    "idx_out_cld=hdr['ID_CLD']\n",
    "idx_out_res=hdr['ID_RES']"
   ]
  },
  {
   "cell_type": "code",
   "execution_count": 12,
   "metadata": {},
   "outputs": [],
   "source": [
    "num=data[0:,idx_out_num]\n",
    "year=data[0:,idx_out_year]\n",
    "airmass=data[0:,idx_out_year]\n",
    "vaod=data[0:,idx_out_vaod] # vertical aerosol depth\n",
    "pwv=data[0:,idx_out_pwv]   # precipitable water vapor (mm)\n",
    "o3=data[0:,idx_out_o3]     # ozone\n",
    "cld=data[0:,idx_out_cld]   # clouds (not used)"
   ]
  },
  {
   "cell_type": "code",
   "execution_count": 13,
   "metadata": {},
   "outputs": [],
   "source": [
    "coeff=data[:,idx_out_res:]"
   ]
  },
  {
   "cell_type": "code",
   "execution_count": 14,
   "metadata": {},
   "outputs": [
    {
     "data": {
      "text/plain": [
       "array([[ 2.00324219,  1.52381444, -0.09222375, ...,  0.24631883,\n",
       "        -1.65551047, -0.00520482],\n",
       "       [ 1.53320036,  1.46361626, -0.19350372, ...,  0.23165237,\n",
       "        -1.73079587, -0.01709568],\n",
       "       [ 2.11070673,  1.91002227, -0.18253978, ...,  0.20016853,\n",
       "        -2.16991793, -0.01065391],\n",
       "       ...,\n",
       "       [ 2.16239243,  0.86796922,  0.19323001, ...,  0.32793005,\n",
       "        -0.71318396,  0.00794895],\n",
       "       [ 2.20309423,  1.15453053,  0.14201087, ...,  0.29740147,\n",
       "        -1.10438126,  0.00551588],\n",
       "       [ 1.88785076,  1.1490328 ,  0.04532459, ...,  0.28472018,\n",
       "        -1.19548717, -0.00266076]])"
      ]
     },
     "execution_count": 14,
     "metadata": {},
     "output_type": "execute_result"
    }
   ],
   "source": [
    "coeff"
   ]
  },
  {
   "cell_type": "code",
   "execution_count": 15,
   "metadata": {},
   "outputs": [],
   "source": [
    "N=coeff.shape[1]\n",
    "jet = plt.get_cmap('jet')\n",
    "cNorm = colors.Normalize(vmin=0, vmax=N)\n",
    "scalarMap = cmx.ScalarMappable(norm=cNorm, cmap=jet)\n",
    "all_colors = scalarMap.to_rgba(np.arange(N), alpha=1)"
   ]
  },
  {
   "cell_type": "code",
   "execution_count": 16,
   "metadata": {},
   "outputs": [
    {
     "data": {
      "image/png": "[encoded data removed]",
      "text/plain": [
       "<Figure size 1080x216 with 1 Axes>"
      ]
     },
     "metadata": {
      "needs_background": "light"
     },
     "output_type": "display_data"
    }
   ],
   "source": [
    "fig=plt.figure(figsize=(15,3))\n",
    "ax = fig.add_subplot(111)\n",
    "for idx in np.arange(20):\n",
    "    ax.plot(coeff[idx,:],\"o-\")"
   ]
  },
  {
   "cell_type": "code",
   "execution_count": 17,
   "metadata": {},
   "outputs": [
    {
     "ename": "SyntaxError",
     "evalue": "invalid syntax (<ipython-input-17-0039b9705ac8>, line 1)",
     "output_type": "error",
     "traceback": [
      "\u001b[0;36m  File \u001b[0;32m\"<ipython-input-17-0039b9705ac8>\"\u001b[0;36m, line \u001b[0;32m1\u001b[0m\n\u001b[0;31m    alert False\u001b[0m\n\u001b[0m              ^\u001b[0m\n\u001b[0;31mSyntaxError\u001b[0m\u001b[0;31m:\u001b[0m invalid syntax\n"
     ]
    }
   ],
   "source": [
    "alert False"
   ]
  },
  {
   "cell_type": "markdown",
   "metadata": {},
   "source": [
    "# Prepare data"
   ]
  },
  {
   "cell_type": "code",
   "execution_count": null,
   "metadata": {},
   "outputs": [],
   "source": [
    "vaodarr=vaod[:,np.newaxis]\n",
    "pwvarr=pwv[:,np.newaxis]\n",
    "o3arr=o3[:,np.newaxis]"
   ]
  },
  {
   "cell_type": "markdown",
   "metadata": {},
   "source": [
    "### concatenate VAOD,PWV, Ozone"
   ]
  },
  {
   "cell_type": "code",
   "execution_count": null,
   "metadata": {},
   "outputs": [],
   "source": [
    "Y=np.concatenate((vaodarr,pwvarr,o3arr),axis=1)"
   ]
  },
  {
   "cell_type": "code",
   "execution_count": null,
   "metadata": {},
   "outputs": [],
   "source": [
    "X=coeff"
   ]
  },
  {
   "cell_type": "markdown",
   "metadata": {},
   "source": [
    "## Splitting"
   ]
  },
  {
   "cell_type": "code",
   "execution_count": null,
   "metadata": {},
   "outputs": [],
   "source": [
    "from sklearn.model_selection import train_test_split\n",
    "X_train, X_test, Y_train, Y_test = train_test_split(X, Y, test_size=0.4, random_state=42)"
   ]
  },
  {
   "cell_type": "code",
   "execution_count": null,
   "metadata": {},
   "outputs": [],
   "source": [
    "X_val,X_test,Y_val,Y_test = train_test_split(X_test, Y_test, test_size=0.5, random_state=42)"
   ]
  },
  {
   "cell_type": "markdown",
   "metadata": {},
   "source": [
    "## Scaling"
   ]
  },
  {
   "cell_type": "code",
   "execution_count": null,
   "metadata": {},
   "outputs": [],
   "source": [
    "from sklearn.preprocessing import StandardScaler\n",
    "scaler_X = StandardScaler()\n",
    "scaler_Y = StandardScaler()"
   ]
  },
  {
   "cell_type": "code",
   "execution_count": null,
   "metadata": {},
   "outputs": [],
   "source": [
    "FLAG_SCALING=True"
   ]
  },
  {
   "cell_type": "code",
   "execution_count": null,
   "metadata": {},
   "outputs": [],
   "source": [
    "scaler_X.fit(X_train) \n",
    "scaler_Y.fit(Y_train) "
   ]
  },
  {
   "cell_type": "code",
   "execution_count": null,
   "metadata": {},
   "outputs": [],
   "source": [
    "scaler_X.mean_.shape"
   ]
  },
  {
   "cell_type": "code",
   "execution_count": null,
   "metadata": {},
   "outputs": [],
   "source": [
    "scaler_X.scale_.shape"
   ]
  },
  {
   "cell_type": "code",
   "execution_count": null,
   "metadata": {},
   "outputs": [],
   "source": [
    "scaler_Y.mean_.shape"
   ]
  },
  {
   "cell_type": "code",
   "execution_count": null,
   "metadata": {},
   "outputs": [],
   "source": [
    "scaler_Y.scale_.shape"
   ]
  },
  {
   "cell_type": "code",
   "execution_count": null,
   "metadata": {},
   "outputs": [],
   "source": [
    "X_train_scaled = scaler_X.transform(X_train)\n",
    "Y_train_scaled = scaler_Y.transform(Y_train)    \n",
    "X_val_scaled = scaler_X.transform(X_val)\n",
    "Y_val_scaled = scaler_Y.transform(Y_val)\n",
    "X_test_scaled = scaler_X.transform(X_test)\n",
    "Y_test_scaled = scaler_Y.transform(Y_test)"
   ]
  },
  {
   "cell_type": "code",
   "execution_count": null,
   "metadata": {},
   "outputs": [],
   "source": [
    "fig=plt.figure(figsize=(10,3))\n",
    "ax = fig.add_subplot(111)\n",
    "ax.hist(np.concatenate((Y_train_scaled,Y_val_scaled,Y_test_scaled),axis=0),bins=50)\n",
    "ax.set_title(\"Renormalised target (VAOD, O3, PWV)\")"
   ]
  },
  {
   "cell_type": "markdown",
   "metadata": {},
   "source": [
    "## Linear regression model"
   ]
  },
  {
   "cell_type": "code",
   "execution_count": null,
   "metadata": {},
   "outputs": [],
   "source": [
    "from sklearn import linear_model\n",
    "from sklearn.metrics import mean_squared_error, r2_score,explained_variance_score"
   ]
  },
  {
   "cell_type": "code",
   "execution_count": null,
   "metadata": {},
   "outputs": [],
   "source": [
    "reg = linear_model.LinearRegression()"
   ]
  },
  {
   "cell_type": "code",
   "execution_count": null,
   "metadata": {},
   "outputs": [],
   "source": [
    "#X_train, X_test, Y_train, Y_test = train_test_split(X, Y, test_size=0.33, random_state=42)"
   ]
  },
  {
   "cell_type": "code",
   "execution_count": null,
   "metadata": {},
   "outputs": [],
   "source": [
    "# Create linear regression object\n",
    "regr = linear_model.LinearRegression()\n",
    "\n",
    "# Train the model using the training sets\n",
    "\n",
    "if FLAG_SCALING:\n",
    "    regr.fit(X_train_scaled, Y_train_scaled)\n",
    "    # Make predictions using the testing set\n",
    "    Y_pred = regr.predict(X_test_scaled)\n",
    "else:\n",
    "    regr.fit(X_train, Y_train)\n",
    "    # Make predictions using the testing set\n",
    "    Y_pred = regr.predict(X_test)\n",
    "\n",
    "\n",
    "\n",
    "# The coefficients\n",
    "print('Coefficients: \\n', regr.coef_)\n",
    "if FLAG_SCALING:\n",
    "    # The mean squared error\n",
    "    print('Mean squared error: %.5f'% mean_squared_error(Y_test_scaled, Y_pred))\n",
    "    # The coefficient of determination: 1 is perfect prediction\n",
    "    print('Coefficient of determination: %.5f'% r2_score(Y_test_scaled, Y_pred))\n",
    "    # Explained variance : 1 is perfect prediction\n",
    "    print('Explained variance: %.5f'% explained_variance_score(Y_test_scaled, Y_pred))\n",
    "   \n",
    "else:\n",
    "    # The mean squared error\n",
    "    print('Mean squared error: %.5f'% mean_squared_error(Y_test, Y_pred))\n",
    "    # The coefficient of determination: 1 is perfect prediction\n",
    "    print('Coefficient of determination: %.5f'% r2_score(Y_test, Y_pred))\n",
    "    # Explained variance : 1 is perfect prediction\n",
    "    print('Explained variance: %.5f'% explained_variance_score(Y_test, Y_pred))\n"
   ]
  },
  {
   "cell_type": "markdown",
   "metadata": {},
   "source": [
    "# Linear Regression with Ridge"
   ]
  },
  {
   "cell_type": "code",
   "execution_count": null,
   "metadata": {},
   "outputs": [],
   "source": [
    "from sklearn import linear_model\n",
    "regr_ridge = linear_model.Ridge(alpha=1e-5)"
   ]
  },
  {
   "cell_type": "code",
   "execution_count": null,
   "metadata": {},
   "outputs": [],
   "source": [
    "# Train the model using the training sets\n",
    "\n",
    "if FLAG_SCALING:\n",
    "    regr_ridge.fit(X_train_scaled, Y_train_scaled)\n",
    "\n",
    "    # Make predictions using the testing set\n",
    "    Y_pred = regr_ridge.predict(X_test_scaled)\n",
    "else:\n",
    "    regr_ridge.fit(X_train, Y_train)\n",
    "\n",
    "    # Make predictions using the testing set\n",
    "    Y_pred = regr_ridge.predict(X_test)\n",
    "\n",
    "print(regr_ridge)\n",
    "\n",
    "# The coefficients\n",
    "print('Coefficients: \\n', regr_ridge.coef_)\n",
    "\n",
    "if FLAG_SCALING:\n",
    "    # The mean squared error\n",
    "    print('Mean squared error: %.5f'% mean_squared_error(Y_test_scaled, Y_pred))\n",
    "    # The coefficient of determination: 1 is perfect prediction\n",
    "    print('Coefficient of determination: %.5f' % r2_score(Y_test_scaled, Y_pred))\n",
    "    # Explained variance : 1 is perfect prediction\n",
    "    print('Explained variance: %.5f'% explained_variance_score(Y_test_scaled, Y_pred))\n",
    "else:\n",
    "    # The mean squared error\n",
    "    print('Mean squared error: %.5f'% mean_squared_error(Y_test, Y_pred))\n",
    "    # The coefficient of determination: 1 is perfect prediction\n",
    "    print('Coefficient of determination: %.5f' % r2_score(Y_test, Y_pred))\n",
    "    # Explained variance : 1 is perfect prediction\n",
    "    print('Explained variance: %.5f'% explained_variance_score(Y_test, Y_pred))"
   ]
  },
  {
   "cell_type": "markdown",
   "metadata": {},
   "source": [
    "## Tune hyper parameter with Ridge"
   ]
  },
  {
   "cell_type": "code",
   "execution_count": null,
   "metadata": {
    "scrolled": false
   },
   "outputs": [],
   "source": [
    "fig=plt.figure(figsize=(15,15))\n",
    "##############################################################################\n",
    "# Compute paths\n",
    "\n",
    "n_alphas = 200\n",
    "alphas = np.logspace(-10, -1, n_alphas)\n",
    "all_MSE = []\n",
    "\n",
    "coefs = []\n",
    "for a in alphas:\n",
    "    ridge = linear_model.Ridge(alpha=a, fit_intercept=True)\n",
    "    \n",
    "    if FLAG_SCALING:\n",
    "    \n",
    "        ridge.fit(X_train_scaled,Y_train_scaled)\n",
    "        coefs.append(ridge.coef_)\n",
    "    \n",
    "        # calculate metric\n",
    "        # Make predictions using the testing set\n",
    "        Y_pred = ridge.predict(X_val_scaled)\n",
    "        MSE=mean_squared_error(Y_val_scaled, Y_pred)\n",
    "    else:\n",
    "        ridge.fit(X_train,Y_train)\n",
    "        coefs.append(ridge.coef_)\n",
    "    \n",
    "        # calculate metric\n",
    "        # Make predictions using the testing set\n",
    "        Y_pred = ridge.predict(X_val)\n",
    "        MSE=mean_squared_error(Y_val, Y_pred)\n",
    "        \n",
    "    # book MSE result\n",
    "    all_MSE.append(MSE)\n",
    "    \n",
    "allcoefs=np.array(coefs)\n",
    "alphas=np.array(alphas)\n",
    "all_MSE=np.array(all_MSE)"
   ]
  },
  {
   "cell_type": "code",
   "execution_count": null,
   "metadata": {},
   "outputs": [],
   "source": [
    "idx_min=np.where(all_MSE==all_MSE.min())[0][0]"
   ]
  },
  {
   "cell_type": "code",
   "execution_count": null,
   "metadata": {},
   "outputs": [],
   "source": [
    "alpha_ridge_min=alphas[idx_min]\n",
    "alpha_ridge_min"
   ]
  },
  {
   "cell_type": "code",
   "execution_count": null,
   "metadata": {},
   "outputs": [],
   "source": [
    "fig=plt.figure(figsize=(15,3))\n",
    "ax = fig.add_subplot(111)\n",
    "ax.plot(alphas,all_MSE,'b-o')\n",
    "ax.set_xscale(\"log\")\n",
    "\n",
    "idx_min=np.where(all_MSE<5e-9)[0][-1]\n",
    "\n",
    "alpha_ridge=alphas[idx_min]\n",
    "ax.axvline(x=alpha_ridge,color='red')\n",
    "ax.set_xlabel(\"$\\\\alpha$\")\n",
    "ax.set_ylabel(\"MSE\")\n",
    "ax.set_title(\"Ridge : MSE with validation test\")\n",
    "ax1 = ax.twinx()\n",
    "ax1.set_ylim(ax.get_ylim())\n",
    "alpha_ridge"
   ]
  },
  {
   "cell_type": "markdown",
   "metadata": {},
   "source": [
    "### Display results"
   ]
  },
  {
   "cell_type": "code",
   "execution_count": null,
   "metadata": {},
   "outputs": [],
   "source": [
    "fig=plt.figure(figsize=(10,5))\n",
    "ax = fig.add_subplot(111)\n",
    "ax.plot(alphas,all_MSE,'b-')\n",
    "ax.set_xscale('log')\n",
    "ax.axvline(x=alpha_ridge,color='red')\n",
    "#ax.set_yscale('log')\n",
    "ax.set_xlim(ax.get_xlim()[::-1])  # reverse axis\n",
    "ax.set_xlabel(\"$\\\\alpha$\")\n",
    "ax.set_ylabel(\"MSE\")\n",
    "ax.set_title(\"Ridge : MSE with validation test\")\n",
    "ax1 = ax.twinx()\n",
    "ax1.set_ylim(ax.get_ylim())"
   ]
  },
  {
   "cell_type": "code",
   "execution_count": null,
   "metadata": {},
   "outputs": [],
   "source": [
    "fig=plt.figure(figsize=(15,15))\n",
    "\n",
    "ax1 = fig.add_subplot(311)\n",
    "for idx in np.arange(allcoefs.shape[2]):\n",
    "    ax1.plot(alphas, allcoefs[:,0,idx],color=all_colors[idx])\n",
    "ax1.set_xscale('log')\n",
    "ax1.set_ylabel('weights - vaod')\n",
    "ax1.set_xlim(ax1.get_xlim()[::-1])  # reverse axis\n",
    "ax1.grid(True)\n",
    "ax1.set_title('Ridge coefficients as a function of the regularization')\n",
    "\n",
    "ax2 = fig.add_subplot(312,sharex=ax1)\n",
    "for idx in np.arange(allcoefs.shape[2]):\n",
    "    ax2.plot(alphas, allcoefs[:,1,idx],color=all_colors[idx])\n",
    "ax2.set_xscale('log')\n",
    "ax2.set_ylabel('weights - H2O')\n",
    "ax2.set_xlim(ax2.get_xlim()[::-1])  # reverse axis\n",
    "ax2.grid(True)\n",
    "\n",
    "ax3= fig.add_subplot(313,sharex=ax1)\n",
    "for idx in np.arange(allcoefs.shape[2]):\n",
    "    ax3.plot(alphas, allcoefs[:,2,idx],color=all_colors[idx])\n",
    "ax3.set_ylabel('weights - O3')\n",
    "ax3.set_xscale('log')\n",
    "ax3.set_xlim(ax3.get_xlim()[::-1])  # reverse axis\n",
    "ax3.grid(True)\n",
    "\n",
    "plt.xlabel('alpha')\n",
    "plt.axis('tight')\n",
    "plt.show()"
   ]
  },
  {
   "cell_type": "markdown",
   "metadata": {},
   "source": [
    "# Linear Regression with Lasso"
   ]
  },
  {
   "cell_type": "code",
   "execution_count": null,
   "metadata": {},
   "outputs": [],
   "source": [
    "from sklearn import linear_model"
   ]
  },
  {
   "cell_type": "code",
   "execution_count": null,
   "metadata": {},
   "outputs": [],
   "source": [
    "regr_lasso = linear_model.Lasso(alpha=1e-5)"
   ]
  },
  {
   "cell_type": "code",
   "execution_count": null,
   "metadata": {},
   "outputs": [],
   "source": [
    "# Train the model using the training sets\n",
    "\n",
    "if FLAG_SCALING:\n",
    "    regr_lasso.fit(X_train_scaled, Y_train_scaled)\n",
    "    Y_pred_lasso = regr_lasso.predict(X_test_scaled)\n",
    "    \n",
    "else:\n",
    "    regr_lasso.fit(X_train, Y_train)\n",
    "    Y_pred_lasso = regr_lasso.predict(X_test)\n",
    "    \n",
    "    \n",
    "# The coefficients\n",
    "print('Coefficients: \\n', regr_lasso.coef_)\n",
    "\n",
    "if FLAG_SCALING:\n",
    "    # The mean squared error\n",
    "    print('Mean squared error: %.5f'% mean_squared_error(Y_test_scaled, Y_pred_lasso))\n",
    "    # The coefficient of determination: 1 is perfect prediction\n",
    "    print('Coefficient of determination: %.5f' % r2_score(Y_test_scaled, Y_pred_lasso))\n",
    "    # Explained variance : 1 is perfect prediction\n",
    "    print('Explained variance: %.5f'% explained_variance_score(Y_test_scaled, Y_pred_lasso))\n",
    "   \n",
    "else:\n",
    "    # The mean squared error\n",
    "    print('Mean squared error: %.5f'% mean_squared_error(Y_test, Y_pred_lasso))\n",
    "    # The coefficient of determination: 1 is perfect prediction\n",
    "    print('Coefficient of determination: %.5f' % r2_score(Y_test, Y_pred_lasso))\n",
    "    # Explained variance : 1 is perfect prediction\n",
    "    print('Explained variance: %.5f'% explained_variance_score(Y_test, Y_pred_lasso))"
   ]
  },
  {
   "cell_type": "code",
   "execution_count": null,
   "metadata": {
    "scrolled": false
   },
   "outputs": [],
   "source": [
    "fig=plt.figure(figsize=(15,15))\n",
    "##############################################################################\n",
    "# Compute paths\n",
    "\n",
    "n_alphas = 20\n",
    "alphas = np.logspace(-10, -1, n_alphas)\n",
    "\n",
    "all_MSE = []\n",
    "coefs = []\n",
    "coefs_noconst = []\n",
    "\n",
    "for a in alphas:\n",
    "    # fit with intercept\n",
    "    lasso = linear_model.Lasso(alpha=a, fit_intercept=True,max_iter=1000)\n",
    "    # fit without intercept\n",
    "    lasso2 = linear_model.Lasso(alpha=a, fit_intercept=False,max_iter=1000)\n",
    "        \n",
    "    if FLAG_SCALING:\n",
    "        lasso.fit(X_train_scaled,Y_train_scaled);\n",
    "        lasso2.fit(X_train_scaled,Y_train_scaled);\n",
    "    else:\n",
    "        lasso.fit(X_train,Y_train);\n",
    "        lasso2.fit(X_train,Y_train);\n",
    "            \n",
    "    # book coefficients        \n",
    "    coefs.append(lasso.coef_) \n",
    "    coefs_noconst.append(lasso2.coef_)\n",
    "    \n",
    "    # calculate metric\n",
    "    # Make predictions using the testing set\n",
    "    \n",
    "    if FLAG_SCALING:\n",
    "        Y_pred = lasso.predict(X_val_scaled)\n",
    "        MSE=mean_squared_error(Y_val_scaled, Y_pred)\n",
    "    else:\n",
    "        Y_pred = lasso.predict(X_val)\n",
    "        MSE=mean_squared_error(Y_val, Y_pred)\n",
    "        \n",
    "    # book MSE    \n",
    "    all_MSE.append(MSE)\n",
    "\n",
    "alphas=np.array(alphas)\n",
    "allcoefs=np.array(coefs)\n",
    "allcoefs2=np.array(coefs_noconst)\n",
    "all_MSE=np.array(all_MSE)"
   ]
  },
  {
   "cell_type": "code",
   "execution_count": null,
   "metadata": {},
   "outputs": [],
   "source": [
    "idx_min=np.where(all_MSE==all_MSE.min())[0][0]"
   ]
  },
  {
   "cell_type": "code",
   "execution_count": null,
   "metadata": {},
   "outputs": [],
   "source": [
    "alpha_lasso_min=alphas[idx_min]\n",
    "alpha_lasso_min"
   ]
  },
  {
   "cell_type": "code",
   "execution_count": null,
   "metadata": {},
   "outputs": [],
   "source": [
    "fig=plt.figure(figsize=(15,3))\n",
    "ax = fig.add_subplot(111)\n",
    "ax.plot(alphas,all_MSE,'b-o')\n",
    "ax.set_xscale(\"log\")\n",
    "\n",
    "idx_min=np.where(all_MSE==all_MSE.min())[0][0]\n",
    "\n",
    "alpha_lasso=alphas[idx_min]\n",
    "ax.axvline(x=alpha_lasso,color='red')\n",
    "ax.set_xlabel(\"$\\\\alpha$\")\n",
    "ax.set_ylabel(\"MSE\")\n",
    "ax.set_title(\"LASSO : MSE with validation test\")\n",
    "alpha_lasso"
   ]
  },
  {
   "cell_type": "code",
   "execution_count": null,
   "metadata": {},
   "outputs": [],
   "source": [
    "fig=plt.figure(figsize=(10,5))\n",
    "ax = fig.add_subplot(111)\n",
    "ax.plot(alphas,all_MSE,'b-')\n",
    "ax.set_xscale('log')\n",
    "#ax.set_yscale('log')\n",
    "ax.axvline(x=alpha_lasso,color='red')\n",
    "ax.set_xlim(ax.get_xlim()[::-1])  # reverse axis\n",
    "ax.set_xlabel(\"$\\\\alpha$\")\n",
    "ax.set_ylabel(\"MSE\")\n",
    "ax.set_title(\"LASSO : MSE with validation test\")\n",
    "ax1 = ax.twinx()\n",
    "ax1.set_ylim(ax.get_ylim())"
   ]
  },
  {
   "cell_type": "code",
   "execution_count": null,
   "metadata": {},
   "outputs": [],
   "source": [
    "fig=plt.figure(figsize=(15,15))\n",
    "ax1 = fig.add_subplot(311)\n",
    "for idx in np.arange(allcoefs2.shape[2]):\n",
    "    ax1.plot(alphas, allcoefs2[:,0,idx],color=all_colors[idx])\n",
    "ax1.set_xscale('log')\n",
    "ax1.set_ylabel('weights - vaod')\n",
    "ax1.set_xlim(ax1.get_xlim()[::-1])  # reverse axis\n",
    "ax1.grid(True)\n",
    "ax1.set_title('Lasso coefficients as a function of the regularization')\n",
    "\n",
    "ax2 = fig.add_subplot(312,sharex=ax1)\n",
    "for idx in np.arange(allcoefs2.shape[2]):\n",
    "    ax2.plot(alphas, allcoefs2[:,1,idx],color=all_colors[idx])\n",
    "ax2.set_xscale('log')\n",
    "ax2.set_ylabel('weights - H2O')\n",
    "ax2.set_xlim(ax2.get_xlim()[::-1])  # reverse axis\n",
    "ax2.grid(True)\n",
    "\n",
    "ax3= fig.add_subplot(313,sharex=ax2)\n",
    "for idx in np.arange(allcoefs2.shape[2]):\n",
    "    ax3.plot(alphas, allcoefs2[:,2,idx],color=all_colors[idx])\n",
    "ax3.set_ylabel('weights - O3')\n",
    "ax3.set_xscale('log')\n",
    "ax3.set_xlim(ax3.get_xlim()[::-1])  # reverse axis\n",
    "ax3.grid(True)\n",
    "\n",
    "plt.xlabel('alpha')\n",
    "plt.axis('tight')\n",
    "plt.show()"
   ]
  },
  {
   "cell_type": "markdown",
   "metadata": {},
   "source": [
    "# Verification with test  set"
   ]
  },
  {
   "cell_type": "markdown",
   "metadata": {},
   "source": [
    "## Check learning curves"
   ]
  },
  {
   "cell_type": "code",
   "execution_count": null,
   "metadata": {},
   "outputs": [],
   "source": [
    "nb_tot_test=len(Y_test)"
   ]
  },
  {
   "cell_type": "code",
   "execution_count": null,
   "metadata": {},
   "outputs": [],
   "source": [
    "nsamples=np.arange(10,nb_tot_test,10)"
   ]
  },
  {
   "cell_type": "markdown",
   "metadata": {},
   "source": [
    "### Leraning curves for linear regression"
   ]
  },
  {
   "cell_type": "code",
   "execution_count": null,
   "metadata": {},
   "outputs": [],
   "source": [
    "all_MSE_train=np.zeros(len(nsamples))\n",
    "all_MSE_test=np.zeros(len(nsamples))"
   ]
  },
  {
   "cell_type": "code",
   "execution_count": null,
   "metadata": {},
   "outputs": [],
   "source": [
    "count=0\n",
    "for n in nsamples:\n",
    "    \n",
    "    regr = linear_model.LinearRegression(fit_intercept=True)\n",
    "  \n",
    "    \n",
    "    if FLAG_SCALING:       \n",
    "        X_train_cut=np.copy(X_train_scaled[:n,:])\n",
    "        Y_train_cut=np.copy(Y_train_scaled[:n,:] ) \n",
    "        X_test_cut=np.copy(X_test_scaled[:n,:])\n",
    "        Y_test_cut=np.copy(Y_test_scaled[:n,:] ) \n",
    "    else:\n",
    "        X_train_cut=X_train[:n,:]\n",
    "        Y_train_cut=Y_train[:n,:]\n",
    "        X_test_cut=X_test[:n,:]\n",
    "        Y_test_cut=Y_test[:n,:]  \n",
    "        \n",
    "    regr.fit(X_train_cut,Y_train_cut)\n",
    "    \n",
    "    \n",
    "    # calculate metric\n",
    "    # Make predictions using the testing set\n",
    "    Y_pred_train = regr.predict(X_train_cut)\n",
    "    Y_pred_test  = regr.predict(X_test_cut)\n",
    "    \n",
    "    MSE_train=mean_squared_error(Y_train_cut, Y_pred_train)\n",
    "    MSE_test=mean_squared_error(Y_test_cut, Y_pred_test)\n",
    "\n",
    "    all_MSE_train[count]=MSE_train\n",
    "    all_MSE_test[count]=MSE_test\n",
    "    \n",
    "    count+=1\n",
    "    # end of loop\n",
    "    "
   ]
  },
  {
   "cell_type": "code",
   "execution_count": null,
   "metadata": {},
   "outputs": [],
   "source": [
    "fig=plt.figure(figsize=(15,5))\n",
    "ax = fig.add_subplot(111)\n",
    "ax.plot(nsamples, all_MSE_train,'b-o',label=\"train\")\n",
    "ax.plot(nsamples, all_MSE_test,'r-o',label=\"test\")\n",
    "ax.legend()\n",
    "ax.set_yscale(\"log\")\n",
    "ax.set_xlabel(\"$N$\")\n",
    "ax.set_ylabel(\"MSE\")\n",
    "ax.set_title(\"Linear Regression - No reg : MSE with test vs N\")\n",
    "ax.grid()\n",
    "#ax.set_ylim(1e-6,1e-2)\n",
    "ax1 = ax.twinx()\n",
    "ax1.set_ylim(ax.get_ylim())\n",
    "ax1.set_yscale(\"log\")\n",
    "ax.grid()"
   ]
  },
  {
   "cell_type": "markdown",
   "metadata": {},
   "source": [
    "### Learning curves for Ridge"
   ]
  },
  {
   "cell_type": "code",
   "execution_count": null,
   "metadata": {},
   "outputs": [],
   "source": [
    "all_MSE_train=np.zeros(len(nsamples))\n",
    "all_MSE_test=np.zeros(len(nsamples))"
   ]
  },
  {
   "cell_type": "code",
   "execution_count": null,
   "metadata": {},
   "outputs": [],
   "source": [
    "alpha_ridge"
   ]
  },
  {
   "cell_type": "code",
   "execution_count": null,
   "metadata": {},
   "outputs": [],
   "source": [
    "alpha_ridge=1e-4"
   ]
  },
  {
   "cell_type": "code",
   "execution_count": null,
   "metadata": {},
   "outputs": [],
   "source": [
    "count=0\n",
    "for n in nsamples:\n",
    "    \n",
    "\n",
    "    ridge = linear_model.Ridge(alpha=alpha_ridge_min, fit_intercept=True)\n",
    "    \n",
    "    if FLAG_SCALING:       \n",
    "        X_train_cut=np.copy(X_train_scaled[:n,:])\n",
    "        Y_train_cut=np.copy(Y_train_scaled[:n,:] ) \n",
    "        X_test_cut=np.copy(X_test_scaled[:n,:])\n",
    "        Y_test_cut=np.copy(Y_test_scaled[:n,:] ) \n",
    "    else:\n",
    "        X_train_cut=X_train[:n,:]\n",
    "        Y_train_cut=Y_train[:n,:]\n",
    "        X_test_cut=X_test[:n,:]\n",
    "        Y_test_cut=Y_test[:n,:]  \n",
    "        \n",
    "    ridge.fit(X_train_cut,Y_train_cut)\n",
    "    \n",
    "    \n",
    "    # calculate metric\n",
    "    # Make predictions using the testing set\n",
    "    Y_pred_train = ridge.predict(X_train_cut)\n",
    "    Y_pred_test  = ridge.predict(X_test_cut)\n",
    "    \n",
    "    MSE_train=mean_squared_error(Y_train_cut, Y_pred_train)\n",
    "    MSE_test=mean_squared_error(Y_test_cut, Y_pred_test)\n",
    "\n",
    "    all_MSE_train[count]=MSE_train\n",
    "    all_MSE_test[count]=MSE_test\n",
    "    \n",
    "    count+=1\n",
    "    # end of loop\n",
    "    "
   ]
  },
  {
   "cell_type": "code",
   "execution_count": null,
   "metadata": {},
   "outputs": [],
   "source": [
    "fig=plt.figure(figsize=(15,5))\n",
    "ax = fig.add_subplot(111)\n",
    "ax.plot(nsamples, all_MSE_train,'b-o',label=\"train\")\n",
    "ax.plot(nsamples, all_MSE_test,'r-o',label=\"test\")\n",
    "ax.legend()\n",
    "ax.set_yscale(\"log\")\n",
    "ax.set_xlabel(\"$N$\")\n",
    "ax.set_ylabel(\"MSE\")\n",
    "ax.set_title(\"RIDGE : MSE with test vs N\")\n",
    "ax.grid()\n",
    "#ax.set_ylim(1e-6,1e-2)\n",
    "ax1 = ax.twinx()\n",
    "ax1.set_ylim(ax.get_ylim())\n",
    "ax1.set_yscale(\"log\")\n",
    "ax1.grid()"
   ]
  },
  {
   "cell_type": "markdown",
   "metadata": {},
   "source": [
    "### Learning curves for Lasso"
   ]
  },
  {
   "cell_type": "code",
   "execution_count": null,
   "metadata": {},
   "outputs": [],
   "source": [
    "all_MSE_train=np.zeros(len(nsamples))\n",
    "all_MSE_test=np.zeros(len(nsamples))"
   ]
  },
  {
   "cell_type": "code",
   "execution_count": null,
   "metadata": {},
   "outputs": [],
   "source": [
    "alpha_lasso"
   ]
  },
  {
   "cell_type": "code",
   "execution_count": null,
   "metadata": {},
   "outputs": [],
   "source": [
    "alpha_lasso_min"
   ]
  },
  {
   "cell_type": "code",
   "execution_count": null,
   "metadata": {},
   "outputs": [],
   "source": [
    "alpha_lasso_0=1e-3"
   ]
  },
  {
   "cell_type": "code",
   "execution_count": null,
   "metadata": {
    "scrolled": true
   },
   "outputs": [],
   "source": [
    "count=0\n",
    "for n in nsamples:\n",
    "    \n",
    "\n",
    "    lasso = linear_model.Lasso(alpha=alpha_lasso_0, fit_intercept=True)\n",
    "    \n",
    "    if FLAG_SCALING:       \n",
    "        X_train_cut=np.copy(X_train_scaled[:n,:])\n",
    "        Y_train_cut=np.copy(Y_train_scaled[:n,:] ) \n",
    "        X_test_cut=np.copy(X_test_scaled[:n,:])\n",
    "        Y_test_cut=np.copy(Y_test_scaled[:n,:] ) \n",
    "    else:\n",
    "        X_train_cut=X_train[:n,:]\n",
    "        Y_train_cut=Y_train[:n,:]\n",
    "        X_test_cut=X_test[:n,:]\n",
    "        Y_test_cut=Y_test[:n,:]  \n",
    "        \n",
    "    lasso.fit(X_train_cut,Y_train_cut)\n",
    "    \n",
    "    \n",
    "    # calculate metric\n",
    "    # Make predictions using the testing set\n",
    "    Y_pred_train = lasso.predict(X_train_cut)\n",
    "    Y_pred_test  = lasso.predict(X_test_cut)\n",
    "    \n",
    "    MSE_train=mean_squared_error(Y_train_cut, Y_pred_train)\n",
    "    MSE_test=mean_squared_error(Y_test_cut, Y_pred_test)\n",
    "\n",
    "    all_MSE_train[count]=MSE_train\n",
    "    all_MSE_test[count]=MSE_test\n",
    "    \n",
    "    count+=1\n",
    "    # end of loop\n",
    "    "
   ]
  },
  {
   "cell_type": "code",
   "execution_count": null,
   "metadata": {},
   "outputs": [],
   "source": [
    "fig=plt.figure(figsize=(15,5))\n",
    "ax = fig.add_subplot(111)\n",
    "ax.plot(nsamples, all_MSE_train,'b-o',label=\"train\")\n",
    "ax.plot(nsamples, all_MSE_test,'r-o',label=\"test\")\n",
    "ax.legend()\n",
    "ax.grid()\n",
    "ax.set_yscale(\"log\")\n",
    "ax.set_xlabel(\"$N$\")\n",
    "ax.set_ylabel(\"MSE\")\n",
    "ax.set_title(\"LASSO : MSE with test vs N\")\n",
    "ax1 = ax.twinx()\n",
    "ax1.set_ylim(ax.get_ylim())\n",
    "ax1.set_yscale(\"log\")\n",
    "ax1.grid()"
   ]
  },
  {
   "cell_type": "markdown",
   "metadata": {},
   "source": [
    "# Final"
   ]
  },
  {
   "cell_type": "markdown",
   "metadata": {},
   "source": [
    "# No regularisation"
   ]
  },
  {
   "cell_type": "code",
   "execution_count": null,
   "metadata": {},
   "outputs": [],
   "source": [
    "regr = linear_model.LinearRegression(fit_intercept=True)\n",
    "    \n",
    "if FLAG_SCALING:           \n",
    "    regr.fit(X_train_scaled,Y_train_scaled)\n",
    "else:\n",
    "    regr.fit(X_train,Y_train)\n",
    "       \n",
    "    # calculate metric\n",
    "    # Make predictions using the testing set\n",
    "\n",
    "if FLAG_SCALING:    \n",
    "    Y_pred_test  = regr.predict(X_test_scaled)\n",
    "    Y_pred_test_inv = scaler_Y.inverse_transform(Y_pred_test)\n",
    "    DY=Y_pred_test-Y_test_scaled\n",
    "else:\n",
    "    Y_pred_test  = regr.predict(X_test)\n",
    "    DY=Y_pred_test-Y_test\n",
    "    "
   ]
  },
  {
   "cell_type": "code",
   "execution_count": null,
   "metadata": {},
   "outputs": [],
   "source": [
    "if FLAG_SCALING:\n",
    "    # The mean squared error\n",
    "    print('Mean squared error: %.5f'% mean_squared_error(Y_test_scaled, Y_pred_test))\n",
    "    # The coefficient of determination: 1 is perfect prediction\n",
    "    print('Coefficient of determination: %.5f' % r2_score(Y_test_scaled, Y_pred_test))\n",
    "    # Explained variance : 1 is perfect prediction\n",
    "    print('Explained variance: %.5f'% explained_variance_score(Y_test_scaled, Y_pred_test))\n",
    "   \n",
    "else:\n",
    "    # The mean squared error\n",
    "    print('Mean squared error: %.5f'% mean_squared_error(Y_test, Y_pred_test))\n",
    "    # The coefficient of determination: 1 is perfect prediction\n",
    "    print('Coefficient of determination: %.5f' % r2_score(Y_test, Y_pred_test))\n",
    "    # Explained variance : 1 is perfect prediction\n",
    "    print('Explained variance: %.5f'% explained_variance_score(Y_test, Y_pred_test))"
   ]
  },
  {
   "cell_type": "code",
   "execution_count": null,
   "metadata": {},
   "outputs": [],
   "source": [
    "fig=plt.figure(figsize=(20,5.5))\n",
    "ax = fig.add_subplot(131)\n",
    "ax.plot(Y_test[:,0],Y_pred_test_inv[:,0],'bo')\n",
    "ax.set_xlabel(\"VAOD sim\")\n",
    "ax.set_ylabel(\"VAOD pred\")\n",
    "ax.set_title(\"VAOD estimation\")\n",
    "\n",
    "ax = fig.add_subplot(132)\n",
    "ax.plot(Y_test[:,1],Y_pred_test_inv[:,1],'ro')\n",
    "ax.set_xlabel(\"PWV sim (mm)\")\n",
    "ax.set_ylabel(\"PWV pred (mm)\")\n",
    "ax.set_title(\"PWV estimation\")\n",
    "\n",
    "\n",
    "ax = fig.add_subplot(133)\n",
    "ax.plot(Y_test[:,2],Y_pred_test_inv[:,2],'go')\n",
    "ax.set_xlabel(\"O3 sim (DbU)\")\n",
    "ax.set_ylabel(\"O3 pred (DbU)\")\n",
    "ax.set_title(\"O3 estimation\")\n",
    "\n",
    "plt.tight_layout()\n",
    "plt.suptitle(\"Linear Regression - No reg (no cloud)\",Y=1.1,fontsize=25)"
   ]
  },
  {
   "cell_type": "code",
   "execution_count": null,
   "metadata": {},
   "outputs": [],
   "source": [
    "fig=plt.figure(figsize=(20,5.5))\n",
    "ax = fig.add_subplot(131)\n",
    "ax.plot(Y_test[:,0],Y_pred_test_inv[:,0]-Y_test[:,0],'bo')\n",
    "ax.set_xlabel(\"VAOD sim\")\n",
    "ax.set_ylabel(\"$\\\\Delta$ VAOD\")\n",
    "ax.set_title(\"VAOD estimation\")\n",
    "\n",
    "\n",
    "ax = fig.add_subplot(132)\n",
    "ax.plot(Y_test[:,1],Y_pred_test_inv[:,1]-Y_test[:,1],'ro')\n",
    "ax.set_xlabel(\"PWV sim\")\n",
    "ax.set_ylabel(\"$\\\\Delta$ PWV\")\n",
    "ax.set_title(\"PWV estimation\")\n",
    "#ax.set_ylim(-0.002,0.002)\n",
    "\n",
    "\n",
    "ax = fig.add_subplot(133)\n",
    "ax.plot(Y_test[:,2],Y_pred_test_inv[:,2]-Y_test[:,2],'go')\n",
    "ax.set_xlabel(\"O3 sim\")\n",
    "ax.set_ylabel(\"$\\\\Delta$ O3\")\n",
    "ax.set_title(\"O3 estimation\")\n",
    "\n",
    "plt.tight_layout()\n",
    "plt.suptitle(\"Linear Regression + No Reg (no cloud)\",Y=1.1,fontsize=25)"
   ]
  },
  {
   "cell_type": "code",
   "execution_count": null,
   "metadata": {},
   "outputs": [],
   "source": [
    "fig=plt.figure(figsize=(20,5.5))\n",
    "ax = fig.add_subplot(131)\n",
    "ax.plot(Y_test[:,0],(Y_pred_test_inv[:,0]-Y_test[:,0])/Y_test[:,0],'bo')\n",
    "ax.set_xlabel(\"VAOD sim\")\n",
    "ax.set_ylabel(\"$\\\\Delta$ VAOD / VAOD\")\n",
    "ax.set_title(\"VAOD estimation\")\n",
    "\n",
    "\n",
    "ax = fig.add_subplot(132)\n",
    "ax.plot(Y_test[:,1],(Y_pred_test_inv[:,1]-Y_test[:,1])/Y_test[:,1],'ro')\n",
    "ax.set_xlabel(\"PWV sim\")\n",
    "ax.set_ylabel(\"$\\\\Delta$ PWV / PWV\")\n",
    "ax.set_title(\"PWV estimation\")\n",
    "\n",
    "ax = fig.add_subplot(133)\n",
    "ax.plot(Y_test[:,2],(Y_pred_test_inv[:,2]-Y_test[:,2])/Y_test[:,2],'go')\n",
    "ax.set_xlabel(\"O3 sim\")\n",
    "ax.set_ylabel(\"$\\\\Delta$ O3 / O3\")\n",
    "ax.set_title(\"O3 estimation\")\n",
    "\n",
    "plt.tight_layout()\n",
    "plt.suptitle(\"Linear Regression + No Reg reg, (no cloud)\",Y=1.1,fontsize=25)"
   ]
  },
  {
   "cell_type": "markdown",
   "metadata": {},
   "source": [
    "## Ridge"
   ]
  },
  {
   "cell_type": "code",
   "execution_count": null,
   "metadata": {},
   "outputs": [],
   "source": [
    "ridge = linear_model.Ridge(alpha=alpha_ridge_min, fit_intercept=True)\n",
    "    \n",
    "if FLAG_SCALING:           \n",
    "    ridge.fit(X_train_scaled,Y_train_scaled)\n",
    "else:\n",
    "    ridge.fit(X_train,Y_train)\n",
    "       \n",
    "    # calculate metric\n",
    "    # Make predictions using the testing set\n",
    "\n",
    "if FLAG_SCALING:    \n",
    "    Y_pred_test  = ridge.predict(X_test_scaled)\n",
    "    Y_pred_test_inv = scaler_Y.inverse_transform(Y_pred_test)\n",
    "    DY=Y_pred_test-Y_test_scaled\n",
    "else:\n",
    "    Y_pred_test  = ridge.predict(X_test)\n",
    "    DY=Y_pred_test-Y_test\n",
    "    \n",
    "    \n"
   ]
  },
  {
   "cell_type": "code",
   "execution_count": null,
   "metadata": {},
   "outputs": [],
   "source": [
    "if FLAG_SCALING:\n",
    "    # The mean squared error\n",
    "    print('Mean squared error: %.5f'% mean_squared_error(Y_test_scaled, Y_pred_test))\n",
    "    # The coefficient of determination: 1 is perfect prediction\n",
    "    print('Coefficient of determination: %.5f' % r2_score(Y_test_scaled, Y_pred_test))\n",
    "    # Explained variance : 1 is perfect prediction\n",
    "    print('Explained variance: %.5f'% explained_variance_score(Y_test_scaled, Y_pred_test))\n",
    "   \n",
    "else:\n",
    "    # The mean squared error\n",
    "    print('Mean squared error: %.5f'% mean_squared_error(Y_test, Y_pred_test))\n",
    "    # The coefficient of determination: 1 is perfect prediction\n",
    "    print('Coefficient of determination: %.5f' % r2_score(Y_test, Y_pred_test))\n",
    "    # Explained variance : 1 is perfect prediction\n",
    "    print('Explained variance: %.5f'% explained_variance_score(Y_test, Y_pred_test))"
   ]
  },
  {
   "cell_type": "code",
   "execution_count": null,
   "metadata": {},
   "outputs": [],
   "source": [
    "ridge.coef_"
   ]
  },
  {
   "cell_type": "code",
   "execution_count": null,
   "metadata": {},
   "outputs": [],
   "source": [
    "fig=plt.figure(figsize=(20,5.5))\n",
    "ax = fig.add_subplot(131)\n",
    "ax.plot(Y_test[:,0],Y_pred_test_inv[:,0],'bo')\n",
    "ax.set_xlabel(\"VAOD sim\")\n",
    "ax.set_ylabel(\"VAOD pred\")\n",
    "ax.set_title(\"VAOD estimation\")\n",
    "\n",
    "ax = fig.add_subplot(132)\n",
    "ax.plot(Y_test[:,1],Y_pred_test_inv[:,1],'ro')\n",
    "ax.set_xlabel(\"PWV sim (mm)\")\n",
    "ax.set_ylabel(\"PWV pred (mm)\")\n",
    "ax.set_title(\"PWV estimation\")\n",
    "\n",
    "\n",
    "ax = fig.add_subplot(133)\n",
    "ax.plot(Y_test[:,2],Y_pred_test_inv[:,2],'go')\n",
    "ax.set_xlabel(\"O3 sim (DbU)\")\n",
    "ax.set_ylabel(\"O3 pred (DbU)\")\n",
    "ax.set_title(\"O3 estimation\")\n",
    "\n",
    "plt.tight_layout()\n",
    "plt.suptitle(\"Linear Regression + Ridge reg, (no cloud)\",Y=1.1,fontsize=25)"
   ]
  },
  {
   "cell_type": "code",
   "execution_count": null,
   "metadata": {},
   "outputs": [],
   "source": [
    "fig=plt.figure(figsize=(20,5.5))\n",
    "ax = fig.add_subplot(131)\n",
    "ax.plot(Y_test[:,0],Y_pred_test_inv[:,0]-Y_test[:,0],'bo')\n",
    "ax.set_xlabel(\"VAOD sim\")\n",
    "ax.set_ylabel(\"$\\\\Delta$ VAOD\")\n",
    "ax.set_title(\"VAOD estimation\")\n",
    "\n",
    "\n",
    "ax = fig.add_subplot(132)\n",
    "ax.plot(Y_test[:,1],Y_pred_test_inv[:,1]-Y_test[:,1],'ro')\n",
    "ax.set_xlabel(\"PWV sim\")\n",
    "ax.set_ylabel(\"$\\\\Delta$ PWV\")\n",
    "ax.set_title(\"PWV estimation\")\n",
    "ax.set_ylim(-0.002,0.002)\n",
    "\n",
    "\n",
    "ax = fig.add_subplot(133)\n",
    "ax.plot(Y_test[:,2],Y_pred_test_inv[:,2]-Y_test[:,2],'go')\n",
    "ax.set_xlabel(\"O3 sim\")\n",
    "ax.set_ylabel(\"$\\\\Delta$ O3\")\n",
    "ax.set_title(\"O3 estimation\")\n",
    "\n",
    "plt.tight_layout()\n",
    "plt.suptitle(\"Linear Regression + Ridge reg, (no cloud)\",Y=1.1,fontsize=25)"
   ]
  },
  {
   "cell_type": "code",
   "execution_count": null,
   "metadata": {},
   "outputs": [],
   "source": [
    "fig=plt.figure(figsize=(20,5.5))\n",
    "ax = fig.add_subplot(131)\n",
    "ax.plot(Y_test[:,0],(Y_pred_test_inv[:,0]-Y_test[:,0])/Y_test[:,0],'bo')\n",
    "ax.set_xlabel(\"VAOD sim\")\n",
    "ax.set_ylabel(\"$\\\\Delta$ VAOD / VAOD\")\n",
    "ax.set_title(\"VAOD estimation\")\n",
    "\n",
    "\n",
    "ax = fig.add_subplot(132)\n",
    "ax.plot(Y_test[:,1],(Y_pred_test_inv[:,1]-Y_test[:,1])/Y_test[:,1],'ro')\n",
    "ax.set_xlabel(\"PWV sim\")\n",
    "ax.set_ylabel(\"$\\\\Delta$ PWV / PWV\")\n",
    "ax.set_title(\"PWV estimation\")\n",
    "\n",
    "ax = fig.add_subplot(133)\n",
    "ax.plot(Y_test[:,2],(Y_pred_test_inv[:,2]-Y_test[:,2])/Y_test[:,2],'go')\n",
    "ax.set_xlabel(\"O3 sim\")\n",
    "ax.set_ylabel(\"$\\\\Delta$ O3 / O3\")\n",
    "ax.set_title(\"O3 estimation\")\n",
    "\n",
    "plt.tight_layout()\n",
    "plt.suptitle(\"Linear Regression + Ridge reg, (no cloud)\",Y=1.1,fontsize=25)"
   ]
  },
  {
   "cell_type": "markdown",
   "metadata": {},
   "source": [
    "## Lasso"
   ]
  },
  {
   "cell_type": "code",
   "execution_count": null,
   "metadata": {},
   "outputs": [],
   "source": [
    "#lasso = linear_model.Lasso(alpha=alpha_lasso_min, fit_intercept=True)\n",
    "lasso = linear_model.Lasso(alpha=alpha_lasso_0, fit_intercept=True)\n",
    "    \n",
    "if FLAG_SCALING:           \n",
    "    lasso.fit(X_train_scaled,Y_train_scaled)\n",
    "else:\n",
    "    lasso.fit(X_train,Y_train)\n",
    "       \n",
    "    # calculate metric\n",
    "    # Make predictions using the testing set\n",
    "\n",
    "if FLAG_SCALING:    \n",
    "    Y_pred_test  = lasso.predict(X_test_scaled)\n",
    "    Y_pred_test_inv = scaler_Y.inverse_transform(Y_pred_test)\n",
    "    DY=Y_pred_test-Y_test_scaled\n",
    "else:\n",
    "    Y_pred_test  = lasso.predict(X_test)\n",
    "    DY=Y_pred_test-Y_test\n",
    "    \n",
    "    "
   ]
  },
  {
   "cell_type": "code",
   "execution_count": null,
   "metadata": {},
   "outputs": [],
   "source": [
    "if FLAG_SCALING:\n",
    "    # The mean squared error\n",
    "    print('Mean squared error: %.5f'% mean_squared_error(Y_test_scaled, Y_pred_test))\n",
    "    # The coefficient of determination: 1 is perfect prediction\n",
    "    print('Coefficient of determination: %.5f' % r2_score(Y_test_scaled, Y_pred_test))\n",
    "    # Explained variance : 1 is perfect prediction\n",
    "    print('Explained variance: %.5f'% explained_variance_score(Y_test_scaled, Y_pred_test))\n",
    "   \n",
    "else:\n",
    "    # The mean squared error\n",
    "    print('Mean squared error: %.5f'% mean_squared_error(Y_test, Y_pred_test))\n",
    "    # The coefficient of determination: 1 is perfect prediction\n",
    "    print('Coefficient of determination: %.5f' % r2_score(Y_test, Y_pred_test))\n",
    "    # Explained variance : 1 is perfect prediction\n",
    "    print('Explained variance: %.5f'% explained_variance_score(Y_test, Y_pred_test))"
   ]
  },
  {
   "cell_type": "code",
   "execution_count": null,
   "metadata": {},
   "outputs": [],
   "source": [
    "fig=plt.figure(figsize=(20,5.5))\n",
    "ax = fig.add_subplot(131)\n",
    "ax.plot(Y_test[:,0],Y_pred_test_inv[:,0],'bo')\n",
    "ax.set_xlabel(\"VAOD sim\")\n",
    "ax.set_ylabel(\"VAOD pred\")\n",
    "ax.set_title(\"VAOD estimation\")\n",
    "\n",
    "ax = fig.add_subplot(132)\n",
    "ax.plot(Y_test[:,1],Y_pred_test_inv[:,1],'ro')\n",
    "ax.set_xlabel(\"PWV sim (mm)\")\n",
    "ax.set_ylabel(\"PWV pred (mm)\")\n",
    "ax.set_title(\"PWV estimation\")\n",
    "\n",
    "ax = fig.add_subplot(133)\n",
    "ax.plot(Y_test[:,2],Y_pred_test_inv[:,2],'go')\n",
    "ax.set_xlabel(\"O3 sim (DbU)\")\n",
    "ax.set_ylabel(\"O3 pred (DbU)\")\n",
    "ax.set_title(\"O3 estimation\")\n",
    "\n",
    "plt.tight_layout()\n",
    "plt.suptitle(\"Linear Regression + Lasso reg, (no cloud)\",Y=1.1,fontsize=25)"
   ]
  },
  {
   "cell_type": "code",
   "execution_count": null,
   "metadata": {},
   "outputs": [],
   "source": [
    "fig=plt.figure(figsize=(20,5.5))\n",
    "ax = fig.add_subplot(131)\n",
    "ax.plot(Y_test[:,0],Y_pred_test_inv[:,0]-Y_test[:,0],'bo')\n",
    "ax.set_xlabel(\"VAOD sim\")\n",
    "ax.set_ylabel(\"$\\\\Delta$ VAOD\")\n",
    "ax.set_title(\"VAOD estimation\")\n",
    "\n",
    "\n",
    "ax = fig.add_subplot(132)\n",
    "ax.plot(Y_test[:,1],Y_pred_test_inv[:,1]-Y_test[:,1],'ro')\n",
    "ax.set_xlabel(\"PWV sim\")\n",
    "ax.set_ylabel(\"$\\\\Delta$ PWV\")\n",
    "ax.set_title(\"PWV estimation\")\n",
    "#ax.set_ylim(-0.002,0.002)\n",
    "\n",
    "\n",
    "ax = fig.add_subplot(133)\n",
    "ax.plot(Y_test[:,2],Y_pred_test_inv[:,2]-Y_test[:,2],'go')\n",
    "ax.set_xlabel(\"O3 sim\")\n",
    "ax.set_ylabel(\"$\\\\Delta$ O3\")\n",
    "ax.set_title(\"O3 estimation\")\n",
    "\n",
    "plt.tight_layout()\n",
    "plt.suptitle(\"Linear Regression + Lasso reg, (no cloud)\",Y=1.1,fontsize=25)"
   ]
  },
  {
   "cell_type": "code",
   "execution_count": null,
   "metadata": {},
   "outputs": [],
   "source": [
    "fig=plt.figure(figsize=(20,5.5))\n",
    "ax = fig.add_subplot(131)\n",
    "ax.plot(Y_test[:,0],(Y_pred_test_inv[:,0]-Y_test[:,0])/Y_test[:,0],'bo')\n",
    "ax.set_xlabel(\"VAOD sim\")\n",
    "ax.set_ylabel(\"$\\\\Delta$ VAOD / VAOD\")\n",
    "ax.set_title(\"VAOD estimation\")\n",
    "\n",
    "\n",
    "ax = fig.add_subplot(132)\n",
    "ax.plot(Y_test[:,1],(Y_pred_test_inv[:,1]-Y_test[:,1])/Y_test[:,1],'ro')\n",
    "ax.set_xlabel(\"PWV sim\")\n",
    "ax.set_ylabel(\"$\\\\Delta$ PWV / PWV\")\n",
    "ax.set_title(\"PWV estimation\")\n",
    "\n",
    "ax = fig.add_subplot(133)\n",
    "ax.plot(Y_test[:,2],(Y_pred_test_inv[:,2]-Y_test[:,2])/Y_test[:,2],'go')\n",
    "ax.set_xlabel(\"O3 sim\")\n",
    "ax.set_ylabel(\"$\\\\Delta$ O3 / O3\")\n",
    "ax.set_title(\"O3 estimation\")\n",
    "\n",
    "plt.tight_layout()\n",
    "plt.suptitle(\"Linear Regression + Lasso reg, (no cloud)\",Y=1.1,fontsize=25)"
   ]
  },
  {
   "cell_type": "code",
   "execution_count": null,
   "metadata": {},
   "outputs": [],
   "source": []
  }
 ],
 "metadata": {
  "kernelspec": {
   "display_name": "Python 3",
   "language": "python",
   "name": "python3"
  },
  "language_info": {
   "codemirror_mode": {
    "name": "ipython",
    "version": 3
   },
   "file_extension": ".py",
   "mimetype": "text/x-python",
   "name": "python",
   "nbconvert_exporter": "python",
   "pygments_lexer": "ipython3",
   "version": "3.7.7"
  }
 },
 "nbformat": 4,
 "nbformat_minor": 4
}
