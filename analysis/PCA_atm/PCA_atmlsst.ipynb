{
 "cells": [
  {
   "cell_type": "markdown",
   "metadata": {},
   "source": [
    "# Apply PCA for atmosphere"
   ]
  },
  {
   "cell_type": "code",
   "execution_count": 1,
   "metadata": {},
   "outputs": [],
   "source": [
    "import pandas as pd\n",
    "import matplotlib.pyplot as plt\n",
    "import numpy as np\n",
    "from mpl_toolkits.axes_grid1 import host_subplot\n",
    "import mpl_toolkits.axisartist as AA\n",
    "import os\n",
    "%matplotlib inline\n",
    "from astropy.io import fits"
   ]
  },
  {
   "cell_type": "code",
   "execution_count": 2,
   "metadata": {},
   "outputs": [],
   "source": [
    "# to enlarge the sizes\n",
    "params = {'legend.fontsize': 'x-large',\n",
    "          'figure.figsize': (12, 8),\n",
    "         'axes.labelsize': 'x-large',\n",
    "         'axes.titlesize':'x-large',\n",
    "         'xtick.labelsize':'x-large',\n",
    "         'ytick.labelsize':'x-large'}\n",
    "plt.rcParams.update(params)"
   ]
  },
  {
   "cell_type": "code",
   "execution_count": 3,
   "metadata": {},
   "outputs": [],
   "source": [
    "from sklearn.decomposition import NMF, FastICA, PCA\n",
    "from astroML.utils.decorators import pickle_results"
   ]
  },
  {
   "cell_type": "code",
   "execution_count": 4,
   "metadata": {},
   "outputs": [],
   "source": [
    "#----------------------------------------------------------------------\n",
    "# This function adjusts matplotlib settings for a uniform feel in the textbook.\n",
    "# Note that with usetex=True, fonts are rendered with LaTeX.  This may\n",
    "# result in an error if LaTeX is not installed on your system.  In that case,\n",
    "# you can set usetex to False.\n",
    "if \"setup_text_plots\" not in globals():\n",
    "    from astroML.plotting import setup_text_plots\n",
    "setup_text_plots(fontsize=16, usetex=True)\n"
   ]
  },
  {
   "cell_type": "code",
   "execution_count": 5,
   "metadata": {},
   "outputs": [],
   "source": [
    "#----------------------------------------------------------------------\n",
    "# Compute PCA, ICA, and NMF components\n",
    "#  we'll save the results so that they can be re-used\n",
    "@pickle_results('atmtrams_decompositions.pkl')\n",
    "def compute_PCA_ICA_NMF(n_components=5):\n",
    "    spec_mean = spectra.mean(0)\n",
    "\n",
    "    # PCA: use randomized PCA for speed\n",
    "    pca = PCA(n_components - 1, random_state=0, svd_solver='randomized')\n",
    "    pca.fit(spectra)\n",
    "    pca_comp = np.vstack([spec_mean,\n",
    "                          pca.components_])\n",
    "\n",
    "    # ICA treats sequential observations as related.  Because of this, we need\n",
    "    # to fit with the transpose of the spectra\n",
    "    ica = FastICA(n_components - 1, random_state=0)\n",
    "    ica.fit(spectra.T)\n",
    "    ica_comp = np.vstack([spec_mean,\n",
    "                          ica.transform(spectra.T).T])\n",
    "\n",
    "    # NMF requires all elements of the input to be greater than zero\n",
    "    spectra[spectra < 0] = 0\n",
    "    nmf = NMF(n_components, random_state=0)\n",
    "    nmf.fit(spectra)\n",
    "    nmf_comp = nmf.components_\n",
    "\n",
    "    return pca_comp, ica_comp, nmf_comp\n"
   ]
  },
  {
   "cell_type": "code",
   "execution_count": 6,
   "metadata": {},
   "outputs": [],
   "source": [
    "DATADIR=\"../../data/atm\""
   ]
  },
  {
   "cell_type": "code",
   "execution_count": 7,
   "metadata": {},
   "outputs": [],
   "source": [
    "atmospheric_basename_files=os.listdir(DATADIR)"
   ]
  },
  {
   "cell_type": "code",
   "execution_count": 8,
   "metadata": {},
   "outputs": [
    {
     "data": {
      "text/plain": [
       "['lsst_atm_10year_01.fits',\n",
       " 'lsst_atm_10year_bigimg.fits',\n",
       " 'lsst_atm_10year_07.fits',\n",
       " 'lsst_atm_10year_06.fits',\n",
       " 'lsst_atm_10year_10.fits',\n",
       " 'lsst_atm_10year_09.fits',\n",
       " 'lsst_atm_10year_bintab.fits',\n",
       " 'lsst_atm_10year_05.fits',\n",
       " 'lsst_atm_10year_04.fits',\n",
       " 'lsst_atm_10year_bintab_small.fits',\n",
       " 'lsst_atm_10year_08.fits',\n",
       " 'lsst_atm_10year_03.fits',\n",
       " '.ipynb_checkpoints',\n",
       " 'lsst_atm_10year_02.fits']"
      ]
     },
     "execution_count": 8,
     "metadata": {},
     "output_type": "execute_result"
    }
   ],
   "source": [
    "atmospheric_basename_files"
   ]
  },
  {
   "cell_type": "code",
   "execution_count": 9,
   "metadata": {},
   "outputs": [],
   "source": [
    "input_file=os.path.join(DATADIR,'lsst_atm_10year_bigimg.fits')"
   ]
  },
  {
   "cell_type": "code",
   "execution_count": 10,
   "metadata": {},
   "outputs": [],
   "source": [
    "hdu = fits.open(input_file)"
   ]
  },
  {
   "cell_type": "code",
   "execution_count": 11,
   "metadata": {},
   "outputs": [],
   "source": [
    "hdr=hdu[0].header\n",
    "data=hdu[0].data"
   ]
  },
  {
   "cell_type": "code",
   "execution_count": 12,
   "metadata": {},
   "outputs": [
    {
     "data": {
      "text/plain": [
       "SIMPLE  =                    T / conforms to FITS standard                      \n",
       "BITPIX  =                  -64 / array data type                                \n",
       "NAXIS   =                    2 / number of array dimensions                     \n",
       "NAXIS1  =                  958                                                  \n",
       "NAXIS2  =                10950                                                  \n",
       "NBATMSIM=                10949                                                  \n",
       "ID_NUM  =                    0                                                  \n",
       "ID_YEAR =                    1                                                  \n",
       "ID_AM   =                    2                                                  \n",
       "ID_VAOD =                    3                                                  \n",
       "ID_PWV  =                    4                                                  \n",
       "ID_O3   =                    5                                                  \n",
       "ID_CLD  =                    6                                                  \n",
       "ID_RES  =                    7                                                  \n",
       "OBSERVER= 'SDC     '                                                            \n",
       "COMMENT atm sim data challenge                                                  "
      ]
     },
     "execution_count": 12,
     "metadata": {},
     "output_type": "execute_result"
    }
   ],
   "source": [
    "hdr"
   ]
  },
  {
   "cell_type": "code",
   "execution_count": 13,
   "metadata": {},
   "outputs": [],
   "source": [
    "#NbAtmSimul=hdr['NBATMSIM']\n",
    "idx_out_num=hdr['ID_NUM']\n",
    "idx_out_year=hdr['ID_YEAR']\n",
    "idx_out_am=hdr['ID_AM']\n",
    "idx_out_vaod=hdr['ID_VAOD']\n",
    "idx_out_pwv=hdr['ID_PWV']\n",
    "idx_out_o3=hdr['ID_O3']\n",
    "idx_out_cld=hdr['ID_CLD']\n",
    "idx_out_res=hdr['ID_RES']"
   ]
  },
  {
   "cell_type": "code",
   "execution_count": 14,
   "metadata": {},
   "outputs": [],
   "source": [
    "num=data[1:,idx_out_num]\n",
    "year=data[1:,idx_out_year]\n",
    "airmass=data[1:,idx_out_year]\n",
    "vaod=data[1:,idx_out_vaod] # vertical aerosol depth\n",
    "pwv=data[1:,idx_out_pwv]   # precipitable water vapor (mm)\n",
    "o3=data[1:,idx_out_o3]     # ozone\n",
    "cld=data[1:,idx_out_cld]   # clouds (not used)"
   ]
  },
  {
   "cell_type": "code",
   "execution_count": 17,
   "metadata": {},
   "outputs": [],
   "source": [
    "# Extract wavelength Wavelength\n",
    "wl=data[0,idx_out_res:]\n",
    "transm=data[1:,idx_out_res:]"
   ]
  },
  {
   "cell_type": "code",
   "execution_count": 20,
   "metadata": {},
   "outputs": [
    {
     "data": {
      "text/plain": [
       "(951,)"
      ]
     },
     "execution_count": 20,
     "metadata": {},
     "output_type": "execute_result"
    }
   ],
   "source": [
    "wl.shape"
   ]
  },
  {
   "cell_type": "code",
   "execution_count": 19,
   "metadata": {},
   "outputs": [
    {
     "data": {
      "text/plain": [
       "(10949, 951)"
      ]
     },
     "execution_count": 19,
     "metadata": {},
     "output_type": "execute_result"
    }
   ],
   "source": [
    "transm.shape"
   ]
  },
  {
   "cell_type": "code",
   "execution_count": null,
   "metadata": {},
   "outputs": [],
   "source": []
  }
 ],
 "metadata": {
  "kernelspec": {
   "display_name": "Python 3",
   "language": "python",
   "name": "python3"
  },
  "language_info": {
   "codemirror_mode": {
    "name": "ipython",
    "version": 3
   },
   "file_extension": ".py",
   "mimetype": "text/x-python",
   "name": "python",
   "nbconvert_exporter": "python",
   "pygments_lexer": "ipython3",
   "version": "3.7.7"
  }
 },
 "nbformat": 4,
 "nbformat_minor": 4
}
