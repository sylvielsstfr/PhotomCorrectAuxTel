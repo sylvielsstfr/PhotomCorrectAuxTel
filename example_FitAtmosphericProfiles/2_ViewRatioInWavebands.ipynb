{
 "cells": [
  {
   "cell_type": "markdown",
   "metadata": {},
   "source": [
    "# View atmospheric profile ratio to that of a standard atmosphere\n",
    "\n",
    "- author  :Sylvie Dagoret-Campagne\n",
    "- affiliaiton : IJCLab/IN2P3/CNRS\n",
    "- creation date : April 24th 2020\n",
    "- update date :\n",
    "\n",
    "\n",
    "Study the relative atmosphere relative to an ideal profile in **libradtran/info_verbose/RT_MPL_pp_us_sa_rtvis_z10_wv40_oz30_cld0000.OUT**\n",
    "- no aerosol\n",
    "- pwv =4 mm\n",
    "- ozone = 3000 DU\n",
    "- No extinction coefficient\n",
    "- airmass = 1\n",
    "\n"
   ]
  },
  {
   "cell_type": "code",
   "execution_count": 1,
   "metadata": {},
   "outputs": [],
   "source": [
    "import matplotlib as mpl\n",
    "import matplotlib.pyplot as plt\n",
    "import matplotlib.colors as colors\n",
    "import matplotlib.cm as cmx\n",
    "import numpy as np\n",
    "import pandas as pd\n",
    "import os\n",
    "import sys\n",
    "%matplotlib inline"
   ]
  },
  {
   "cell_type": "code",
   "execution_count": 2,
   "metadata": {},
   "outputs": [],
   "source": [
    "from astropy.io import fits"
   ]
  },
  {
   "cell_type": "code",
   "execution_count": 21,
   "metadata": {},
   "outputs": [],
   "source": [
    "from datetime import datetime,date\n",
    "today = date.today()\n",
    "string_date=today.strftime(\"%Y-%m-%d\")"
   ]
  },
  {
   "cell_type": "code",
   "execution_count": 3,
   "metadata": {},
   "outputs": [],
   "source": [
    "#to enlarge the sizes\n",
    "params = {'legend.fontsize': 'x-large',\n",
    "          'figure.figsize': (10,6),\n",
    "         'axes.labelsize': 'x-large',\n",
    "         'axes.titlesize':'x-large',\n",
    "         'xtick.labelsize':'x-large',\n",
    "         'ytick.labelsize':'x-large'}\n",
    "plt.rcParams.update(params)"
   ]
  },
  {
   "cell_type": "code",
   "execution_count": 4,
   "metadata": {},
   "outputs": [],
   "source": [
    "plt.rcParams.update({'figure.max_open_warning': 0}) # to see a large number of files"
   ]
  },
  {
   "cell_type": "code",
   "execution_count": 5,
   "metadata": {},
   "outputs": [],
   "source": [
    "%load_ext autoreload\n",
    "%autoreload 2"
   ]
  },
  {
   "cell_type": "markdown",
   "metadata": {},
   "source": [
    "# Configuration"
   ]
  },
  {
   "cell_type": "markdown",
   "metadata": {},
   "source": [
    "## Filter boudaries"
   ]
  },
  {
   "cell_type": "code",
   "execution_count": 6,
   "metadata": {},
   "outputs": [],
   "source": [
    "file_wavelengthbins=\"data/WaveLengthBins.csv\""
   ]
  },
  {
   "cell_type": "code",
   "execution_count": 7,
   "metadata": {},
   "outputs": [],
   "source": [
    "df=pd.read_csv(file_wavelengthbins,index_col=0)"
   ]
  },
  {
   "cell_type": "code",
   "execution_count": 8,
   "metadata": {},
   "outputs": [
    {
     "data": {
      "text/html": [
       "<div>\n",
       "<style scoped>\n",
       "    .dataframe tbody tr th:only-of-type {\n",
       "        vertical-align: middle;\n",
       "    }\n",
       "\n",
       "    .dataframe tbody tr th {\n",
       "        vertical-align: top;\n",
       "    }\n",
       "\n",
       "    .dataframe thead th {\n",
       "        text-align: right;\n",
       "    }\n",
       "</style>\n",
       "<table border=\"1\" class=\"dataframe\">\n",
       "  <thead>\n",
       "    <tr style=\"text-align: right;\">\n",
       "      <th></th>\n",
       "      <th>band</th>\n",
       "      <th>wl_aver</th>\n",
       "      <th>wl_wdth</th>\n",
       "      <th>wl_min</th>\n",
       "      <th>wl_max</th>\n",
       "    </tr>\n",
       "  </thead>\n",
       "  <tbody>\n",
       "    <tr>\n",
       "      <th>0</th>\n",
       "      <td>u</td>\n",
       "      <td>356.0</td>\n",
       "      <td>78.0</td>\n",
       "      <td>317.0</td>\n",
       "      <td>395.0</td>\n",
       "    </tr>\n",
       "    <tr>\n",
       "      <th>1</th>\n",
       "      <td>g</td>\n",
       "      <td>472.0</td>\n",
       "      <td>154.0</td>\n",
       "      <td>395.0</td>\n",
       "      <td>549.0</td>\n",
       "    </tr>\n",
       "    <tr>\n",
       "      <th>2</th>\n",
       "      <td>r</td>\n",
       "      <td>619.0</td>\n",
       "      <td>140.0</td>\n",
       "      <td>549.0</td>\n",
       "      <td>689.0</td>\n",
       "    </tr>\n",
       "    <tr>\n",
       "      <th>3</th>\n",
       "      <td>i</td>\n",
       "      <td>754.0</td>\n",
       "      <td>130.0</td>\n",
       "      <td>689.0</td>\n",
       "      <td>819.0</td>\n",
       "    </tr>\n",
       "    <tr>\n",
       "      <th>4</th>\n",
       "      <td>z</td>\n",
       "      <td>870.5</td>\n",
       "      <td>103.0</td>\n",
       "      <td>819.0</td>\n",
       "      <td>922.0</td>\n",
       "    </tr>\n",
       "    <tr>\n",
       "      <th>5</th>\n",
       "      <td>y</td>\n",
       "      <td>1010.0</td>\n",
       "      <td>176.0</td>\n",
       "      <td>922.0</td>\n",
       "      <td>1098.0</td>\n",
       "    </tr>\n",
       "  </tbody>\n",
       "</table>\n",
       "</div>"
      ],
      "text/plain": [
       "  band  wl_aver  wl_wdth  wl_min  wl_max\n",
       "0    u    356.0     78.0   317.0   395.0\n",
       "1    g    472.0    154.0   395.0   549.0\n",
       "2    r    619.0    140.0   549.0   689.0\n",
       "3    i    754.0    130.0   689.0   819.0\n",
       "4    z    870.5    103.0   819.0   922.0\n",
       "5    y   1010.0    176.0   922.0  1098.0"
      ]
     },
     "execution_count": 8,
     "metadata": {},
     "output_type": "execute_result"
    }
   ],
   "source": [
    "df"
   ]
  },
  {
   "cell_type": "code",
   "execution_count": 9,
   "metadata": {},
   "outputs": [],
   "source": [
    "NBFILTER=len(df)"
   ]
  },
  {
   "cell_type": "code",
   "execution_count": 10,
   "metadata": {},
   "outputs": [],
   "source": [
    "FILTER_NAME=df[\"band\"].values\n",
    "WL_MIN=df[\"wl_min\"].values\n",
    "WL_MAX=df[\"wl_max\"].values"
   ]
  },
  {
   "cell_type": "markdown",
   "metadata": {},
   "source": [
    "## Atmospheric data"
   ]
  },
  {
   "cell_type": "code",
   "execution_count": 11,
   "metadata": {},
   "outputs": [],
   "source": [
    "DATADIR=\"../data/atm\""
   ]
  },
  {
   "cell_type": "markdown",
   "metadata": {},
   "source": [
    "## Reference atmosphere"
   ]
  },
  {
   "cell_type": "code",
   "execution_count": 12,
   "metadata": {},
   "outputs": [],
   "source": [
    "data=np.loadtxt(\"data/RT_MPL_pp_us_sa_rtvis_z10_wv40_oz30_cld0000.OUT\")\n",
    "wl0=data[:,0]\n",
    "transm0=data[:,1]"
   ]
  },
  {
   "cell_type": "code",
   "execution_count": 13,
   "metadata": {},
   "outputs": [],
   "source": [
    "def GetAtmosphericProfiles(dir,wl_ref,transm_ref):\n",
    "    \"\"\"\n",
    "    \"\"\"\n",
    "    atmospheric_basename_files=os.listdir(dir)\n",
    "    inputfile=os.path.join(DATADIR,atmospheric_basename_files[0])\n",
    "    \n",
    "    idx=0\n",
    "    # containers\n",
    "    all_data=[]\n",
    "    all_hdr=[]\n",
    "    all_wl=[]\n",
    "    \n",
    "    # loop on files\n",
    "    for file in atmospheric_basename_files:\n",
    "        inputfile=os.path.join(DATADIR,file)\n",
    "        hdu = fits.open(inputfile)\n",
    "        all_hdr.append(hdu[0].header)\n",
    "        all_data.append(hdu[0].data[1:,:])\n",
    "        all_wl.append(hdu[0].data[0,:])\n",
    "        idx+=1\n",
    "        hdu.close()\n",
    "        \n",
    "    data=np.vstack(all_data)\n",
    "    hdr=all_hdr[0]\n",
    "    \n",
    "    #decode index from header\n",
    "    NbAtmSimul=hdr['NBATMSIM']\n",
    "    idx_out_num=hdr['ID_NUM']\n",
    "    idx_out_year=hdr['ID_YEAR']\n",
    "    idx_out_am=hdr['ID_AM']\n",
    "    idx_out_vaod=hdr['ID_VAOD']\n",
    "    idx_out_pwv=hdr['ID_PWV']\n",
    "    idx_out_o3=hdr['ID_O3']\n",
    "    idx_out_cld=hdr['ID_CLD']\n",
    "    idx_out_res=hdr['ID_RES']\n",
    "    \n",
    "    vaod=data[1:,idx_out_vaod] # vertical aerosol depth\n",
    "    pwv=data[1:,idx_out_pwv]   # precipitable water vapor (mm)\n",
    "    o3=data[1:,idx_out_o3]     # ozone\n",
    "    cld=data[1:,idx_out_cld]   # clouds (not used)\n",
    "    \n",
    "    \n",
    "    # Extract wavelength Wavelength\n",
    "    wl=all_wl[0][idx_out_res:]\n",
    "    transm=data[:,idx_out_res:]\n",
    "    \n",
    "    if len(wl)==len(wl_ref) and wl[0]== wl_ref[0]:\n",
    "        transm/=transm_ref\n",
    "    else:\n",
    "        print(\"error reference does not match\")\n",
    "        \n",
    "    \n",
    "    return wl,transm,vaod,pwv,o3,cld\n",
    "     "
   ]
  },
  {
   "cell_type": "markdown",
   "metadata": {},
   "source": [
    "# Open all atmospheric files"
   ]
  },
  {
   "cell_type": "code",
   "execution_count": 14,
   "metadata": {},
   "outputs": [
    {
     "name": "stderr",
     "output_type": "stream",
     "text": [
      "/Users/dagoret/anaconda3/lib/python3.7/site-packages/ipykernel_launcher.py:48: RuntimeWarning: divide by zero encountered in true_divide\n",
      "/Users/dagoret/anaconda3/lib/python3.7/site-packages/ipykernel_launcher.py:48: RuntimeWarning: invalid value encountered in true_divide\n"
     ]
    }
   ],
   "source": [
    "wl,transm,vaod,pwv,o3,cld=GetAtmosphericProfiles(DATADIR,wl0,transm0)"
   ]
  },
  {
   "cell_type": "code",
   "execution_count": 15,
   "metadata": {},
   "outputs": [],
   "source": [
    "NBSIM=transm.shape[0]\n",
    "# bins in wevelength\n",
    "jet = plt.get_cmap('jet')\n",
    "cNorm = colors.Normalize(vmin=0, vmax=NBSIM)\n",
    "scalarMap = cmx.ScalarMappable(norm=cNorm, cmap=jet)\n",
    "all_colors = scalarMap.to_rgba(np.arange(NBSIM), alpha=1)"
   ]
  },
  {
   "cell_type": "markdown",
   "metadata": {},
   "source": [
    "# Distribute the relative transmission in the different filters"
   ]
  },
  {
   "cell_type": "code",
   "execution_count": 16,
   "metadata": {},
   "outputs": [],
   "source": [
    "all_wl_filt=[]\n",
    "all_transm_filt=[]\n",
    "for iband in np.arange(NBFILTER):\n",
    "    wl_indexes=np.where(np.logical_and(wl>=WL_MIN[iband],wl<=WL_MAX[iband]))[0]\n",
    "    wl_filt=wl[wl_indexes]\n",
    "    transm_filt=transm[:,wl_indexes]\n",
    "    all_wl_filt.append(wl_filt)\n",
    "    all_transm_filt.append(transm_filt)\n",
    "    "
   ]
  },
  {
   "cell_type": "markdown",
   "metadata": {},
   "source": [
    "# Plot"
   ]
  },
  {
   "cell_type": "code",
   "execution_count": null,
   "metadata": {
    "scrolled": false
   },
   "outputs": [],
   "source": [
    "plt.figure(figsize=(16,16))\n",
    "# loop on filter\n",
    "for iband in np.arange(NBFILTER):\n",
    "    wl=all_wl_filt[iband]\n",
    "    transm=all_transm_filt[iband] \n",
    "    \n",
    "    plt.subplot(3,2,iband+1)  \n",
    "    # loop on simulation\n",
    "    for idx in np.arange(NBSIM):\n",
    "        colorVal=scalarMap.to_rgba(idx, alpha=1)\n",
    "        plt.plot(wl,transm[idx,:],color=colorVal)\n",
    "    plt.grid(True)\n",
    "    plt.ylim(0.2,1.5)\n",
    "    plt.yscale(\"log\")\n",
    "    plt.xlabel(\"$\\lambda$ (nm)\")\n",
    "    title=\"relative transmission in filter {}\".format(FILTER_NAME[iband])\n",
    "    plt.title(title,fontweight=\"bold\",fontsize=15)\n",
    "plt.suptitle(\"Relative transmission in filters\",fontweight=\"bold\",fontsize=15,y=0.92)\n",
    "figname=string_date+\"_RelativeTransmissionFilters.png\"\n",
    "plt.savefig(figname)\n",
    "plt.show()  "
   ]
  },
  {
   "cell_type": "code",
   "execution_count": null,
   "metadata": {},
   "outputs": [],
   "source": []
  },
  {
   "cell_type": "code",
   "execution_count": null,
   "metadata": {},
   "outputs": [],
   "source": []
  }
 ],
 "metadata": {
  "kernelspec": {
   "display_name": "Python 3",
   "language": "python",
   "name": "python3"
  },
  "language_info": {
   "codemirror_mode": {
    "name": "ipython",
    "version": 3
   },
   "file_extension": ".py",
   "mimetype": "text/x-python",
   "name": "python",
   "nbconvert_exporter": "python",
   "pygments_lexer": "ipython3",
   "version": "3.7.6"
  },
  "toc": {
   "nav_menu": {},
   "number_sections": true,
   "sideBar": true,
   "skip_h1_title": false,
   "toc_cell": false,
   "toc_position": {},
   "toc_section_display": "block",
   "toc_window_display": false
  }
 },
 "nbformat": 4,
 "nbformat_minor": 4
}
