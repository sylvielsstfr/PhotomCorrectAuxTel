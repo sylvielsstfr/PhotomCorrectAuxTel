{
 "cells": [
  {
   "cell_type": "markdown",
   "metadata": {},
   "source": [
    "# Fit One profile in All U,G,R,I Z band\n",
    "\n",
    "- author  :Sylvie Dagoret-Campagne\n",
    "- affiliaiton : IJCLab/IN2P3/CNRS\n",
    "- creation date : April 26th 2020\n",
    "- update date :\n",
    "\n",
    "\n",
    "Study the relative atmosphere relative to an ideal profile in **libradtran/info_verbose/RT_MPL_pp_us_sa_rtvis_z10_wv40_oz30_cld0000.OUT**\n",
    "- no aerosol\n",
    "- pwv =4 mm\n",
    "- ozone = 3000 DU\n",
    "- No extinction coefficient\n",
    "- airmass = 1\n",
    "\n",
    "\n",
    "Fit components:\n",
    "\n",
    "- h2o,\n",
    "- o2,\n",
    "- o3\n",
    "\n",
    "\n",
    "The linear fit for the aerosols is added\n"
   ]
  },
  {
   "cell_type": "code",
   "execution_count": 51,
   "metadata": {},
   "outputs": [],
   "source": [
    "import matplotlib as mpl\n",
    "import matplotlib.pyplot as plt\n",
    "import matplotlib.colors as colors\n",
    "import matplotlib.cm as cmx\n",
    "import numpy as np\n",
    "import pandas as pd\n",
    "import os\n",
    "import sys\n",
    "%matplotlib inline"
   ]
  },
  {
   "cell_type": "code",
   "execution_count": 52,
   "metadata": {},
   "outputs": [],
   "source": [
    "from astropy.io import fits"
   ]
  },
  {
   "cell_type": "code",
   "execution_count": 53,
   "metadata": {},
   "outputs": [],
   "source": [
    "from pprint import pprint # we use this to pretty print some stuff later\n",
    "\n",
    "# everything in iminuit is done through the Minuit object, so we import it\n",
    "from iminuit import Minuit\n",
    "\n",
    "from iminuit import minimize  # has same interface as scipy.optimize.minimize"
   ]
  },
  {
   "cell_type": "code",
   "execution_count": 54,
   "metadata": {},
   "outputs": [],
   "source": [
    "from datetime import datetime,date\n",
    "today = date.today()\n",
    "string_date=today.strftime(\"%Y-%m-%d\")"
   ]
  },
  {
   "cell_type": "code",
   "execution_count": 55,
   "metadata": {},
   "outputs": [],
   "source": [
    "#to enlarge the sizes\n",
    "params = {'legend.fontsize': 'x-large',\n",
    "          'figure.figsize': (10,6),\n",
    "         'axes.labelsize': 'x-large',\n",
    "         'axes.titlesize':'x-large',\n",
    "         'xtick.labelsize':'x-large',\n",
    "         'ytick.labelsize':'x-large'}\n",
    "plt.rcParams.update(params)"
   ]
  },
  {
   "cell_type": "code",
   "execution_count": 56,
   "metadata": {},
   "outputs": [],
   "source": [
    "plt.rcParams.update({'figure.max_open_warning': 0}) # to see a large number of files"
   ]
  },
  {
   "cell_type": "code",
   "execution_count": 57,
   "metadata": {},
   "outputs": [
    {
     "name": "stdout",
     "output_type": "stream",
     "text": [
      "The autoreload extension is already loaded. To reload it, use:\n",
      "  %reload_ext autoreload\n"
     ]
    }
   ],
   "source": [
    "%load_ext autoreload\n",
    "%autoreload 2"
   ]
  },
  {
   "cell_type": "markdown",
   "metadata": {},
   "source": [
    "# Configuration"
   ]
  },
  {
   "cell_type": "markdown",
   "metadata": {},
   "source": [
    "## Filter boudaries"
   ]
  },
  {
   "cell_type": "code",
   "execution_count": 58,
   "metadata": {},
   "outputs": [],
   "source": [
    "file_wavelengthbins=\"data/WaveLengthBins.csv\""
   ]
  },
  {
   "cell_type": "code",
   "execution_count": 59,
   "metadata": {},
   "outputs": [],
   "source": [
    "df=pd.read_csv(file_wavelengthbins,index_col=0)"
   ]
  },
  {
   "cell_type": "code",
   "execution_count": 60,
   "metadata": {},
   "outputs": [
    {
     "data": {
      "text/html": [
       "<div>\n",
       "<style scoped>\n",
       "    .dataframe tbody tr th:only-of-type {\n",
       "        vertical-align: middle;\n",
       "    }\n",
       "\n",
       "    .dataframe tbody tr th {\n",
       "        vertical-align: top;\n",
       "    }\n",
       "\n",
       "    .dataframe thead th {\n",
       "        text-align: right;\n",
       "    }\n",
       "</style>\n",
       "<table border=\"1\" class=\"dataframe\">\n",
       "  <thead>\n",
       "    <tr style=\"text-align: right;\">\n",
       "      <th></th>\n",
       "      <th>band</th>\n",
       "      <th>wl_aver</th>\n",
       "      <th>wl_wdth</th>\n",
       "      <th>wl_min</th>\n",
       "      <th>wl_max</th>\n",
       "    </tr>\n",
       "  </thead>\n",
       "  <tbody>\n",
       "    <tr>\n",
       "      <th>0</th>\n",
       "      <td>u</td>\n",
       "      <td>356.0</td>\n",
       "      <td>78.0</td>\n",
       "      <td>317.0</td>\n",
       "      <td>395.0</td>\n",
       "    </tr>\n",
       "    <tr>\n",
       "      <th>1</th>\n",
       "      <td>g</td>\n",
       "      <td>472.0</td>\n",
       "      <td>154.0</td>\n",
       "      <td>395.0</td>\n",
       "      <td>549.0</td>\n",
       "    </tr>\n",
       "    <tr>\n",
       "      <th>2</th>\n",
       "      <td>r</td>\n",
       "      <td>619.0</td>\n",
       "      <td>140.0</td>\n",
       "      <td>549.0</td>\n",
       "      <td>689.0</td>\n",
       "    </tr>\n",
       "    <tr>\n",
       "      <th>3</th>\n",
       "      <td>i</td>\n",
       "      <td>754.0</td>\n",
       "      <td>130.0</td>\n",
       "      <td>689.0</td>\n",
       "      <td>819.0</td>\n",
       "    </tr>\n",
       "    <tr>\n",
       "      <th>4</th>\n",
       "      <td>z</td>\n",
       "      <td>870.5</td>\n",
       "      <td>103.0</td>\n",
       "      <td>819.0</td>\n",
       "      <td>922.0</td>\n",
       "    </tr>\n",
       "    <tr>\n",
       "      <th>5</th>\n",
       "      <td>y</td>\n",
       "      <td>1010.0</td>\n",
       "      <td>176.0</td>\n",
       "      <td>922.0</td>\n",
       "      <td>1098.0</td>\n",
       "    </tr>\n",
       "  </tbody>\n",
       "</table>\n",
       "</div>"
      ],
      "text/plain": [
       "  band  wl_aver  wl_wdth  wl_min  wl_max\n",
       "0    u    356.0     78.0   317.0   395.0\n",
       "1    g    472.0    154.0   395.0   549.0\n",
       "2    r    619.0    140.0   549.0   689.0\n",
       "3    i    754.0    130.0   689.0   819.0\n",
       "4    z    870.5    103.0   819.0   922.0\n",
       "5    y   1010.0    176.0   922.0  1098.0"
      ]
     },
     "execution_count": 60,
     "metadata": {},
     "output_type": "execute_result"
    }
   ],
   "source": [
    "df"
   ]
  },
  {
   "cell_type": "code",
   "execution_count": 61,
   "metadata": {},
   "outputs": [],
   "source": [
    "NBFILTER=len(df)"
   ]
  },
  {
   "cell_type": "code",
   "execution_count": 62,
   "metadata": {},
   "outputs": [],
   "source": [
    "FILTER_NAME=df[\"band\"].values\n",
    "WL_MIN=df[\"wl_min\"].values\n",
    "WL_MAX=df[\"wl_max\"].values\n",
    "WL_WIDTH=df[\"wl_wdth\"].values"
   ]
  },
  {
   "cell_type": "markdown",
   "metadata": {},
   "source": [
    "## Absorption pattern"
   ]
  },
  {
   "cell_type": "code",
   "execution_count": 63,
   "metadata": {},
   "outputs": [],
   "source": [
    "file_abspattern=\"data/absorption_pattern.csv\""
   ]
  },
  {
   "cell_type": "code",
   "execution_count": 64,
   "metadata": {},
   "outputs": [],
   "source": [
    "df_atm=pd.read_csv(file_abspattern,index_col=0)"
   ]
  },
  {
   "cell_type": "code",
   "execution_count": 65,
   "metadata": {},
   "outputs": [
    {
     "name": "stdout",
     "output_type": "stream",
     "text": [
      "['wl', 'o2_10', 'o2_11', 'o2_12', 'o2_13', 'o2_14', 'o2_15', 'o2_16', 'o2_17', 'o2_18', 'o2_19', 'o2_20', 'o2_21', 'o2_22', 'o2_23', 'o2_24', 'o2_25', 'o3_10', 'o3_11', 'o3_12', 'o3_13', 'o3_14', 'o3_15', 'o3_16', 'o3_17', 'o3_18', 'o3_19', 'o3_20', 'o3_21', 'o3_22', 'o3_23', 'o3_24', 'o3_25', 'h2o_10', 'h2o_11', 'h2o_12', 'h2o_13', 'h2o_14', 'h2o_15', 'h2o_16', 'h2o_17', 'h2o_18', 'h2o_19', 'h2o_20', 'h2o_21', 'h2o_22', 'h2o_23', 'h2o_24', 'h2o_25', 'no2_10', 'no2_11', 'no2_12', 'no2_13', 'no2_14', 'no2_15', 'no2_16', 'no2_17', 'no2_18', 'no2_19', 'no2_20', 'no2_21', 'no2_22', 'no2_23', 'no2_24', 'no2_25']\n"
     ]
    }
   ],
   "source": [
    "print(df_atm.columns.tolist())"
   ]
  },
  {
   "cell_type": "code",
   "execution_count": 66,
   "metadata": {},
   "outputs": [],
   "source": [
    "rootfilename=file_abspattern.split(\".\")[0]"
   ]
  },
  {
   "cell_type": "code",
   "execution_count": 67,
   "metadata": {},
   "outputs": [
    {
     "name": "stdout",
     "output_type": "stream",
     "text": [
      "==================== data/absorption_pattern_u.csv =======================\n",
      "==================== data/absorption_pattern_g.csv =======================\n",
      "==================== data/absorption_pattern_r.csv =======================\n",
      "==================== data/absorption_pattern_i.csv =======================\n",
      "==================== data/absorption_pattern_z.csv =======================\n",
      "==================== data/absorption_pattern_y.csv =======================\n"
     ]
    }
   ],
   "source": [
    "all_df_atm=[]\n",
    "for iband in np.arange(NBFILTER):\n",
    "    filename=rootfilename+\"_\"+FILTER_NAME[iband]+\".csv\"\n",
    "    print(\"====================\",filename,\"=======================\")\n",
    "    df=pd.read_csv(filename,index_col=0)\n",
    "    #df=df.reset_index(drop=True)\n",
    "    all_df_atm.append(df)"
   ]
  },
  {
   "cell_type": "markdown",
   "metadata": {},
   "source": [
    "## Atmospheric data"
   ]
  },
  {
   "cell_type": "code",
   "execution_count": 68,
   "metadata": {},
   "outputs": [],
   "source": [
    "DATADIR=\"../data/atm\""
   ]
  },
  {
   "cell_type": "markdown",
   "metadata": {},
   "source": [
    "## Reference atmosphere"
   ]
  },
  {
   "cell_type": "code",
   "execution_count": 69,
   "metadata": {},
   "outputs": [],
   "source": [
    "data=np.loadtxt(\"data/RT_MPL_pp_us_sa_rtvis_z10_wv40_oz30_cld0000.OUT\")\n",
    "wl0=data[:,0]\n",
    "transm0=data[:,1]"
   ]
  },
  {
   "cell_type": "markdown",
   "metadata": {},
   "source": [
    "## Decoding function"
   ]
  },
  {
   "cell_type": "code",
   "execution_count": 70,
   "metadata": {},
   "outputs": [],
   "source": [
    "def GetAtmosphericProfiles(dir,wl_ref,transm_ref):\n",
    "    \"\"\"\n",
    "    \"\"\"\n",
    "    atmospheric_basename_files=os.listdir(dir)\n",
    "    inputfile=os.path.join(DATADIR,atmospheric_basename_files[0])\n",
    "    \n",
    "    idx=0\n",
    "    # containers\n",
    "    all_data=[]\n",
    "    all_hdr=[]\n",
    "    all_wl=[]\n",
    "    \n",
    "    # loop on files\n",
    "    for file in atmospheric_basename_files:\n",
    "        inputfile=os.path.join(DATADIR,file)\n",
    "        hdu = fits.open(inputfile)\n",
    "        all_hdr.append(hdu[0].header)\n",
    "        all_data.append(hdu[0].data[1:,:])\n",
    "        all_wl.append(hdu[0].data[0,:])\n",
    "        idx+=1\n",
    "        hdu.close()\n",
    "        \n",
    "    data=np.vstack(all_data)\n",
    "    hdr=all_hdr[0]\n",
    "    \n",
    "    #decode index from header\n",
    "    NbAtmSimul=hdr['NBATMSIM']\n",
    "    idx_out_num=hdr['ID_NUM']\n",
    "    idx_out_year=hdr['ID_YEAR']\n",
    "    idx_out_am=hdr['ID_AM']\n",
    "    idx_out_vaod=hdr['ID_VAOD']\n",
    "    idx_out_pwv=hdr['ID_PWV']\n",
    "    idx_out_o3=hdr['ID_O3']\n",
    "    idx_out_cld=hdr['ID_CLD']\n",
    "    idx_out_res=hdr['ID_RES']\n",
    "    \n",
    "    vaod=data[1:,idx_out_vaod] # vertical aerosol depth\n",
    "    pwv=data[1:,idx_out_pwv]   # precipitable water vapor (mm)\n",
    "    o3=data[1:,idx_out_o3]     # ozone\n",
    "    cld=data[1:,idx_out_cld]   # clouds (not used)\n",
    "    \n",
    "    \n",
    "    # Extract wavelength Wavelength\n",
    "    wl=all_wl[0][idx_out_res:]\n",
    "    transm=data[:,idx_out_res:]\n",
    "    \n",
    "    if len(wl)==len(wl_ref) and wl[0]== wl_ref[0]:\n",
    "        transm/=transm_ref\n",
    "    else:\n",
    "        print(\"error reference does not match\")\n",
    "        \n",
    "    \n",
    "    return wl,transm,vaod,pwv,o3,cld\n",
    "     "
   ]
  },
  {
   "cell_type": "markdown",
   "metadata": {},
   "source": [
    "# Open all atmospheric files"
   ]
  },
  {
   "cell_type": "code",
   "execution_count": 71,
   "metadata": {},
   "outputs": [
    {
     "name": "stderr",
     "output_type": "stream",
     "text": [
      "/Users/dagoret/anaconda3/lib/python3.7/site-packages/ipykernel_launcher.py:48: RuntimeWarning: divide by zero encountered in true_divide\n",
      "/Users/dagoret/anaconda3/lib/python3.7/site-packages/ipykernel_launcher.py:48: RuntimeWarning: invalid value encountered in true_divide\n"
     ]
    }
   ],
   "source": [
    "wl,transm,vaod,pwv,o3,cld=GetAtmosphericProfiles(DATADIR,wl0,transm0)"
   ]
  },
  {
   "cell_type": "code",
   "execution_count": 72,
   "metadata": {},
   "outputs": [],
   "source": [
    "NBSIM=transm.shape[0]"
   ]
  },
  {
   "cell_type": "markdown",
   "metadata": {},
   "source": [
    "# Distribute the relative transmission in the different filters"
   ]
  },
  {
   "cell_type": "code",
   "execution_count": 73,
   "metadata": {},
   "outputs": [],
   "source": [
    "all_wl_filt=[]\n",
    "all_transm_filt=[]\n",
    "for iband in np.arange(NBFILTER):\n",
    "    wl_indexes=np.where(np.logical_and(wl>=WL_MIN[iband],wl<=WL_MAX[iband]))[0]\n",
    "    wl_filt=wl[wl_indexes]\n",
    "    transm_filt=transm[:,wl_indexes]\n",
    "    all_wl_filt.append(wl_filt)\n",
    "    all_transm_filt.append(transm_filt)"
   ]
  },
  {
   "cell_type": "code",
   "execution_count": 74,
   "metadata": {},
   "outputs": [
    {
     "data": {
      "text/plain": [
       "(3650, 79)"
      ]
     },
     "execution_count": 74,
     "metadata": {},
     "output_type": "execute_result"
    }
   ],
   "source": [
    "all_transm_filt[0].shape"
   ]
  },
  {
   "cell_type": "markdown",
   "metadata": {},
   "source": [
    "# Preview"
   ]
  },
  {
   "cell_type": "code",
   "execution_count": 75,
   "metadata": {},
   "outputs": [],
   "source": [
    "IDX_SIM=0"
   ]
  },
  {
   "cell_type": "code",
   "execution_count": 76,
   "metadata": {},
   "outputs": [],
   "source": [
    "# bins in wevelength\n",
    "jet = plt.get_cmap('jet')\n",
    "cNorm = colors.Normalize(vmin=0, vmax=NBSIM)\n",
    "scalarMap = cmx.ScalarMappable(norm=cNorm, cmap=jet)\n",
    "all_colors = scalarMap.to_rgba(np.arange(NBSIM), alpha=1)"
   ]
  },
  {
   "cell_type": "code",
   "execution_count": 77,
   "metadata": {
    "scrolled": false
   },
   "outputs": [
    {
     "data": {
      "image/png": "[encoded data removed]",
      "text/plain": [
       "<Figure size 1152x1152 with 6 Axes>"
      ]
     },
     "metadata": {
      "needs_background": "light"
     },
     "output_type": "display_data"
    }
   ],
   "source": [
    "plt.figure(figsize=(16,16))\n",
    "# loop on filter\n",
    "for iband in np.arange(NBFILTER):\n",
    "   \n",
    "    wl=all_wl_filt[iband]\n",
    "    transm=all_transm_filt[iband] \n",
    "    \n",
    "    plt.subplot(3,2,iband+1)  \n",
    "    # loop on simulation\n",
    "    for idx in np.arange(IDX_SIM,IDX_SIM+1):\n",
    "        \n",
    "        colorVal=scalarMap.to_rgba(idx, alpha=1)\n",
    "        plt.plot(wl,transm[idx,:],\":\",color=colorVal)\n",
    "        \n",
    "    plt.plot(all_df_atm[iband][\"wl\"],all_df_atm[iband][\"no2_12\"],\"g-\",label=\"no2\")\n",
    "    plt.plot(all_df_atm[iband][\"wl\"],all_df_atm[iband][\"o3_12\"],\"-\",color=\"orange\",label=\"o3\")\n",
    "    plt.plot(all_df_atm[iband][\"wl\"],all_df_atm[iband][\"o2_12\"],\"r-\",label=\"o2\")\n",
    "    plt.plot(all_df_atm[iband][\"wl\"],all_df_atm[iband][\"h2o_12\"],\"b-\",label=\"h2o\")\n",
    "            \n",
    "    plt.grid(True)\n",
    "    if iband<=2:\n",
    "        plt.ylim(0.7,1.1)\n",
    "    elif iband<=3:\n",
    "        plt.ylim(0.6,1.1)\n",
    "    elif iband<=4:\n",
    "        plt.ylim(0.7,1.1)\n",
    "    else:\n",
    "        plt.ylim(0.6,1.1)\n",
    "        \n",
    "    plt.yscale(\"log\")\n",
    "    plt.xlabel(\"$\\lambda$ (nm)\")\n",
    "    plt.legend(loc=\"best\")\n",
    "    title=\"relative transmission in filter {}\".format(FILTER_NAME[iband])\n",
    "    plt.title(title,fontweight=\"bold\",fontsize=15)\n",
    "plt.suptitle(\"Comparison of Relative transmission in filters and absorption profiles\",fontweight=\"bold\",fontsize=15,y=1.02)\n",
    "figname=string_date+\"_RelativeTransmissionFiltersAndAbsPatterns.png\"\n",
    "plt.tight_layout()\n",
    "plt.savefig(figname)\n",
    "plt.show()  "
   ]
  },
  {
   "cell_type": "markdown",
   "metadata": {},
   "source": [
    "# Fit"
   ]
  },
  {
   "cell_type": "markdown",
   "metadata": {},
   "source": [
    "## Definition of the parameter structure"
   ]
  },
  {
   "cell_type": "markdown",
   "metadata": {},
   "source": [
    "- params is defined as follow\n",
    "\n",
    "### First components\n",
    "\n",
    "- h2o\n",
    "- o2\n",
    "- o3\n",
    "\n",
    "#### Continuous background\n",
    "\n",
    "- a0 : grey term\n",
    "- s1 : slope in Z band\n",
    "- s2 : slope in I band\n",
    "- s3 : slope in R band\n",
    "- s4 : slope in G band\n",
    "- s5 : slope in U band"
   ]
  },
  {
   "cell_type": "code",
   "execution_count": 78,
   "metadata": {},
   "outputs": [],
   "source": [
    "PARAMS_NAMES = [\"h2o\",\"o2\",\"o3\",\"a0\",\"s1\",\"s2\",\"s3\",\"s4\",\"s5\"]\n",
    "NPARAMS =len(PARAMS_NAMES )"
   ]
  },
  {
   "cell_type": "markdown",
   "metadata": {},
   "source": [
    "#### Inititalisation "
   ]
  },
  {
   "cell_type": "code",
   "execution_count": 79,
   "metadata": {},
   "outputs": [],
   "source": [
    "PARAMS0_   = np.array([0,1])\n",
    "PARAMSERR_ = np.array([0.0001,0.0001])   "
   ]
  },
  {
   "cell_type": "markdown",
   "metadata": {},
   "source": [
    "## Flags"
   ]
  },
  {
   "cell_type": "code",
   "execution_count": 80,
   "metadata": {},
   "outputs": [],
   "source": [
    "FLAG_FIT_U = False\n",
    "FLAG_FIT_G = False\n",
    "FLAG_FIT_R = True\n",
    "FLAG_FIT_I = True\n",
    "FLAG_FIT_Z = True\n",
    "FLAG_FIT_Y = True"
   ]
  },
  {
   "cell_type": "code",
   "execution_count": 81,
   "metadata": {},
   "outputs": [],
   "source": [
    "FLAGS_FIT_SEL = np.array([FLAG_FIT_Y,FLAG_FIT_Z,FLAG_FIT_I,FLAG_FIT_R,FLAG_FIT_G,FLAG_FIT_U])\n",
    "FLAGS_FIT_NUM = np.array([5,4,3,2,1,0])"
   ]
  },
  {
   "cell_type": "markdown",
   "metadata": {},
   "source": [
    "## Global variables"
   ]
  },
  {
   "cell_type": "code",
   "execution_count": 82,
   "metadata": {},
   "outputs": [],
   "source": [
    "IBAND_     = 5\n",
    "DATA_      = all_transm_filt[iband][IDX_SIM,:]\n",
    "WL_        = all_wl_filt[iband]\n",
    "PATTERNS_  = [all_df_atm[iband][\"h2o_12\"].values , all_df_atm[iband][\"o2_12\"].values , all_df_atm[iband][\"o3_12\"].values] # only one pattern"
   ]
  },
  {
   "cell_type": "markdown",
   "metadata": {},
   "source": [
    "## Fit function"
   ]
  },
  {
   "cell_type": "code",
   "execution_count": 83,
   "metadata": {},
   "outputs": [],
   "source": [
    "def SetGlobals(iband):\n",
    "    \"\"\"\n",
    "    Defines global variables used by fit function:\n",
    "    \n",
    "    DATA_     :  transmission ratio data\n",
    "    PATTERNS_ :  array of absorption pattern\n",
    "    WL_       :  wavelength\n",
    "    \n",
    "    \"\"\"\n",
    "    global IBAND_       # Current band \n",
    "    global DATA_        # transmission ratio data\n",
    "    global PATTERNS_    # array of absorption pattern\n",
    "    global WL_          # wavelength\n",
    "    \n",
    "    IBAND_     = iband\n",
    "    DATA_      = all_transm_filt[iband][IDX_SIM,:]\n",
    "    WL_        = all_wl_filt[iband]\n",
    "    PATTERNS_  = [all_df_atm[iband][\"h2o_12\"].values , all_df_atm[iband][\"o2_12\"].values , all_df_atm[iband][\"o3_12\"].values] # only one pattern\n"
   ]
  },
  {
   "cell_type": "code",
   "execution_count": 84,
   "metadata": {},
   "outputs": [],
   "source": [
    "def ContinuousComponent(x,cparams):\n",
    "    \"\"\"\n",
    "    ContinuousComponent(x,iband,cparams):\n",
    "    \n",
    "    input argument :\n",
    "     x     : wavelength, can be a numpy array\n",
    "    \n",
    "    \"\"\"\n",
    "    \n",
    "    a0=cparam[0]\n",
    "    a1=cparam[1]\n",
    "    a2=cparam[2]\n",
    "    a3=cparam[3]\n",
    "    a4=cparam[4]\n",
    "    a5=cparam[5]\n",
    "    \n",
    "    x0=WL_MIN[0]\n",
    "    x1=WL_MIN[1]\n",
    "    x2=WL_MIN[2]\n",
    "    x3=WL_MIN[3]\n",
    "    x4=WL_MIN[4]\n",
    "    x5=WL_MIN[5]\n",
    "    x6=WL_MAX[5]\n",
    "    \n",
    "    w0=x6-x5\n",
    "    w1=x5-x4\n",
    "    w2=x4-x3\n",
    "    w3=x3-x2\n",
    "    w4=x2-x1\n",
    "    w5=x1-x0\n",
    "    \n",
    "    \n",
    "    if   IBAND_ == 5 :    # Y band\n",
    "        y = a0\n",
    "    elif IBAND_ == 4 : # Z band\n",
    "        y = a0 + a1*(x-x5)\n",
    "    elif IBAND_ == 3 : # I band\n",
    "        y = a0 - a1*w1 + a2*(x-x4)\n",
    "    elif IBAND_ == 2 : # R band\n",
    "        y = a0 - a1*w1 - a2*w2 + a3*(x-x3)\n",
    "    elif IBAND_ == 1 : # R band\n",
    "        y = a0 - a1*w1 - a2*w2 - a3*w3 +a4*(x-x2)\n",
    "    elif IBAND_ == 0 : # R band\n",
    "        y = a0 - a1*w1 - a2*w2 - a3*w3 +a4*w4 + a5*(x-x1)\n",
    "    \n",
    "    return y"
   ]
  },
  {
   "cell_type": "code",
   "execution_count": 91,
   "metadata": {},
   "outputs": [],
   "source": [
    "NBPATTERNS=len(PATTERNS_)    # number of absorption patterns in the model\n",
    "CPARAMS=PARAMS0_[NBPATTERNS:-1]  # parameters for the continuous modem"
   ]
  },
  {
   "cell_type": "code",
   "execution_count": 95,
   "metadata": {},
   "outputs": [
    {
     "data": {
      "text/plain": [
       "array([], dtype=int64)"
      ]
     },
     "execution_count": 95,
     "metadata": {},
     "output_type": "execute_result"
    }
   ],
   "source": [
    "CPARAMS"
   ]
  },
  {
   "cell_type": "code",
   "execution_count": 93,
   "metadata": {},
   "outputs": [
    {
     "data": {
      "text/plain": [
       "3"
      ]
     },
     "execution_count": 93,
     "metadata": {},
     "output_type": "execute_result"
    }
   ],
   "source": [
    "NBPATTERNS"
   ]
  },
  {
   "cell_type": "code",
   "execution_count": 94,
   "metadata": {},
   "outputs": [],
   "source": [
    "# create the model, one value per wavelength in the band (numpy array)\n",
    "model=np.zeros(DATA_.shape)"
   ]
  },
  {
   "cell_type": "code",
   "execution_count": null,
   "metadata": {},
   "outputs": [],
   "source": []
  },
  {
   "cell_type": "code",
   "execution_count": 86,
   "metadata": {},
   "outputs": [
    {
     "ename": "SyntaxError",
     "evalue": "invalid syntax (<ipython-input-86-bd2bca644c53>, line 14)",
     "output_type": "error",
     "traceback": [
      "\u001b[0;36m  File \u001b[0;32m\"<ipython-input-86-bd2bca644c53>\"\u001b[0;36m, line \u001b[0;32m14\u001b[0m\n\u001b[0;31m    model+ = ContinuousComponent(WL_,CPARAMS)\u001b[0m\n\u001b[0m           ^\u001b[0m\n\u001b[0;31mSyntaxError\u001b[0m\u001b[0;31m:\u001b[0m invalid syntax\n"
     ]
    }
   ],
   "source": [
    "def ModelInBand(params):\n",
    "    \"\"\"\n",
    "    \"\"\"\n",
    "    NBPATTERNS=len(PATTERNS_)    # number of absorption patterns in the model\n",
    "    CPARAMS=params[NBPATTERNS:]  # parameters for the continuous modem\n",
    "    \n",
    "    # create the model, one value per wavelength in the band (numpy array)\n",
    "    model=np.zeros(DATA_.shape)\n",
    "    \n",
    "    for idx_component in np.arange(NBPATTERNS):\n",
    "        model += params[idx_component]*PATTERNS_[idx_component]\n",
    "        \n",
    "    # add the continuous model    \n",
    "    model+ = ContinuousComponent(WL_,CPARAMS)\n",
    "    \n",
    "    return model  "
   ]
  },
  {
   "cell_type": "code",
   "execution_count": null,
   "metadata": {},
   "outputs": [],
   "source": [
    "def Chi2OneFiltAbsPatternAndGrey_np(params):\n",
    "    \"\"\"\n",
    "    Chi2(data,patterns,params) compute the chi2 in one band\n",
    "    \n",
    "    The format is complient with iMinuit\n",
    "    \n",
    "    External DATA_,PATTERNS_\n",
    "    \n",
    "    \n",
    "    - data: one numpy array of data (ratio for each wavelength bin)\n",
    "    - patterns : list of arrays of absorption patterns\n",
    "    - params : array of values one grey plus one factor for each of the pattern \n",
    "    \n",
    "    The data and the patterns much match in size\n",
    "    \n",
    "    Compute the chi2: \n",
    "    \n",
    "    Note no error is probided at the moment\n",
    "    \n",
    "    \"\"\"\n",
    "    \n",
    "    global DATA_\n",
    "    \n",
    "    \n",
    "    model = ModelInBand(params)\n",
    "   \n",
    "    diff=DATA_- model\n",
    "        \n",
    "    diff2=diff**2    # compute the difference \n",
    "    chi2=diff2.sum() # compute the sum\n",
    "    \n",
    "    return chi2\n",
    "    "
   ]
  },
  {
   "cell_type": "markdown",
   "metadata": {},
   "source": [
    "# Fit in Three bands"
   ]
  },
  {
   "cell_type": "markdown",
   "metadata": {},
   "source": [
    "## Fit in Y filter : H2O and Grey scale"
   ]
  },
  {
   "cell_type": "code",
   "execution_count": null,
   "metadata": {},
   "outputs": [],
   "source": [
    "iband=5"
   ]
  },
  {
   "cell_type": "code",
   "execution_count": null,
   "metadata": {},
   "outputs": [],
   "source": [
    "IBAND_     = 5\n",
    "WL_        = all_wl_filt[iband]\n",
    "DATA_      = all_transm_filt[iband][IDX_SIM,:]\n",
    "PATTERNS_  = [all_df_atm[iband][\"h2o_12\"].values] # only one pattern\n",
    "PARAMS0_   = np.array([0,1])\n",
    "PARAMSERR_ = np.array([0.0001,0.0001])"
   ]
  },
  {
   "cell_type": "code",
   "execution_count": null,
   "metadata": {},
   "outputs": [],
   "source": [
    "m = Minuit.from_array_func(Chi2OneFiltAbsPatternAndGrey_np, PARAMS0_, error=PARAMSERR_, name = (\"grey\", \"h2o\"),errordef=1)\n",
    "m.get_param_states()"
   ]
  },
  {
   "cell_type": "code",
   "execution_count": null,
   "metadata": {},
   "outputs": [],
   "source": [
    "m.migrad()"
   ]
  },
  {
   "cell_type": "code",
   "execution_count": null,
   "metadata": {},
   "outputs": [],
   "source": [
    "#minimize(Chi2OneFiltAbsPatternAndGrey_np, PARAMS0_)"
   ]
  },
  {
   "cell_type": "code",
   "execution_count": null,
   "metadata": {},
   "outputs": [],
   "source": [
    "grey_fit=m.values[0]\n",
    "h2o_fit=m.values[1]\n",
    "grey_fit_err=m.errors[0]\n",
    "h2o_fit_err=m.errors[1]"
   ]
  },
  {
   "cell_type": "code",
   "execution_count": null,
   "metadata": {},
   "outputs": [],
   "source": [
    "wl=all_wl_filt[iband]\n",
    "transm=all_transm_filt[iband][IDX_SIM,:]"
   ]
  },
  {
   "cell_type": "code",
   "execution_count": null,
   "metadata": {},
   "outputs": [],
   "source": [
    "plt.title(\"Fit in Y band\")\n",
    "plt.plot(wl,transm,\"k-\",label=\"data\")\n",
    "label=\"fit grey={:1.3f} +/- {:1.3f}, h2o={:1.3f}+/- {:1.3f} \".format(grey_fit,grey_fit_err,h2o_fit,h2o_fit_err)\n",
    "plt.plot(wl,grey_fit+h2o_fit*PATTERNS_[0],'r-',label=label)\n",
    "plt.grid()\n",
    "plt.xlabel(\"$\\lambda$ (nm)\")\n",
    "plt.legend()"
   ]
  },
  {
   "cell_type": "markdown",
   "metadata": {},
   "source": [
    "## Fit in all bands"
   ]
  },
  {
   "cell_type": "code",
   "execution_count": null,
   "metadata": {},
   "outputs": [],
   "source": [
    "grey_0 = grey_fit\n",
    "h2o_0  = h2o_fit\n",
    "o2_0   = 1.\n",
    "o3_0   = 1.\n"
   ]
  },
  {
   "cell_type": "code",
   "execution_count": null,
   "metadata": {},
   "outputs": [],
   "source": [
    "DATA_      = all_transm_filt[iband][IDX_SIM,:]\n",
    "PATTERNS_  = [all_df_atm[iband][\"h2o_12\"].values , all_df_atm[iband][\"o2_12\"].values, all_df_atm[iband][\"o3_12\"].values ] # only one pattern\n",
    "PARAMS0_   = np.array([grey_0,h2o_0,o2_0,o3_0])\n",
    "PARAMSERR_ = np.array([0.0001,0.0001,0.0001,0.0001])"
   ]
  },
  {
   "cell_type": "code",
   "execution_count": null,
   "metadata": {},
   "outputs": [],
   "source": [
    "FLAG_FIT_U = False\n",
    "FLAG_FIT_G = False\n",
    "FLAG_FIT_R = True\n",
    "FLAG_FIT_I = True\n",
    "FLAG_FIT_Z = True\n",
    "FLAG_FIT_Y = True"
   ]
  },
  {
   "cell_type": "code",
   "execution_count": null,
   "metadata": {},
   "outputs": [],
   "source": [
    "FLAGS_FIT_SEL = np.array([FLAG_FIT_Y,FLAG_FIT_Z,FLAG_FIT_I,FLAG_FIT_R,FLAG_FIT_G,FLAG_FIT_U])\n",
    "FLAGS_FIT_NUM = np.array([5,4,3,2,1,0])"
   ]
  },
  {
   "cell_type": "code",
   "execution_count": null,
   "metadata": {},
   "outputs": [],
   "source": [
    "def Chi2ManyFiltAbsPatternAndGrey_np(params):\n",
    "    \"\"\"\n",
    "    Chi2(data,patterns,params) compute the chi2 in one band\n",
    "    \n",
    "    The format is complient with iMinuit\n",
    "    \n",
    "    External DATA_,PATTERNS_\n",
    "    \n",
    "    \n",
    "    - data: one numpy array of data (ratio for each wavelength bin)\n",
    "    - patterns : list of arrays of absorption patterns\n",
    "    - params : array of values one grey plus one factor for each of the pattern \n",
    "    \n",
    "    The data and the patterns much match in size\n",
    "    \n",
    "    Compute the chi2: \n",
    "    \n",
    "    Note no error is probided at the moment\n",
    "    \n",
    "    \"\"\"\n",
    "    # first band\n",
    "    \n",
    "    \n",
    "    global DATA_\n",
    "    global PATTERNS_\n",
    "    \n",
    "    \n",
    "    chi2=0\n",
    "    \n",
    "    # loop on bands starting by Y only for validated \n",
    "    for idx,iband in np.ndenumerate(FLAGS_FIT_NUM):\n",
    "        \n",
    "        if FLAGS_FIT_SEL[idx[0]]:    \n",
    "            \n",
    "            DATA_      = all_transm_filt[iband][IDX_SIM,:]\n",
    "            PATTERNS_   = [all_df_atm[iband][\"h2o_12\"].values, all_df_atm[iband][\"o2_12\"].values, all_df_atm[iband][\"o3_12\"].values] # only one pattern\n",
    "\n",
    "            chi2+=Chi2OneFiltAbsPatternAndGrey_np(params)     # Compute for that band\n",
    "            \n",
    "    return chi2\n",
    "    "
   ]
  },
  {
   "cell_type": "code",
   "execution_count": null,
   "metadata": {},
   "outputs": [],
   "source": [
    "m = Minuit.from_array_func(Chi2ManyFiltAbsPatternAndGrey_np, PARAMS0_, error=PARAMSERR_, name = (\"grey\", \"h2o\",\"o2\",\"o3\"),errordef=1)\n",
    "m.get_param_states()"
   ]
  },
  {
   "cell_type": "code",
   "execution_count": null,
   "metadata": {},
   "outputs": [],
   "source": [
    "m.migrad()"
   ]
  },
  {
   "cell_type": "code",
   "execution_count": null,
   "metadata": {},
   "outputs": [],
   "source": [
    "grey_fit=m.values[0]\n",
    "h2o_fit=m.values[1]\n",
    "o2_fit=m.values[2]\n",
    "o3_fit=m.values[3]\n",
    "grey_fit_err=m.errors[0]\n",
    "h2o_fit_err=m.errors[1]\n",
    "o2_fit_err=m.errors[2]\n",
    "o3_fit_err=m.errors[3]"
   ]
  },
  {
   "cell_type": "code",
   "execution_count": null,
   "metadata": {},
   "outputs": [],
   "source": [
    "\n",
    "\n",
    "plt.figure(figsize=(16,16))\n",
    "#---------------------------------\n",
    "\n",
    "\n",
    "#----------------------------------\n",
    "\n",
    "plt.subplot(3,2,1)\n",
    "iband=0\n",
    "wl=all_wl_filt[iband]\n",
    "DATA_      = all_transm_filt[iband][IDX_SIM,:]\n",
    "PATTERNS_  = [all_df_atm[iband][\"h2o_12\"].values, all_df_atm[iband][\"o2_12\"].values,all_df_atm[iband][\"o3_12\"].values ] # only one pattern\n",
    "\n",
    "plt.title(\"Fit in G,R,I,Z band\")\n",
    "plt.plot(wl,DATA_,\"k-\",label=\"data\")\n",
    "plt.plot(wl,grey_fit+h2o_fit*PATTERNS_[0]+o2_fit*PATTERNS_[1]+o3_fit*PATTERNS_[2],'r-',label=\"fit\")\n",
    "plt.grid()\n",
    "plt.xlabel(\"$\\lambda$ (nm)\")\n",
    "plt.legend()\n",
    "\n",
    "#plt.yscale(\"log\")\n",
    "if iband<=2:\n",
    "    plt.ylim(0.7,1.)\n",
    "elif iband<=3:\n",
    "    plt.ylim(0.8,1.)\n",
    "elif iband<=4:\n",
    "    plt.ylim(0.8,1.)\n",
    "else:\n",
    "    plt.ylim(0.6,1.)\n",
    "\n",
    "#-----------------\n",
    "\n",
    "\n",
    "\n",
    "\n",
    "#----------------------------------\n",
    "\n",
    "plt.subplot(3,2,2)\n",
    "iband=1\n",
    "wl=all_wl_filt[iband]\n",
    "DATA_      = all_transm_filt[iband][IDX_SIM,:]\n",
    "PATTERNS_  = [all_df_atm[iband][\"h2o_12\"].values, all_df_atm[iband][\"o2_12\"].values,all_df_atm[iband][\"o3_12\"].values ] # only one pattern\n",
    "\n",
    "plt.title(\"Fit in G,R,I,Z band\")\n",
    "plt.plot(wl,DATA_,\"k-\",label=\"data\")\n",
    "plt.plot(wl,grey_fit+h2o_fit*PATTERNS_[0]+o2_fit*PATTERNS_[1]+o3_fit*PATTERNS_[2],'r-',label=\"fit\")\n",
    "plt.grid()\n",
    "plt.xlabel(\"$\\lambda$ (nm)\")\n",
    "plt.legend()\n",
    "\n",
    "#plt.yscale(\"log\")\n",
    "if iband<=2:\n",
    "    plt.ylim(0.7,1.)\n",
    "elif iband<=3:\n",
    "    plt.ylim(0.8,1.)\n",
    "elif iband<=4:\n",
    "    plt.ylim(0.8,1.)\n",
    "else:\n",
    "    plt.ylim(0.6,1.)\n",
    "\n",
    "#-----------------\n",
    "\n",
    "\n",
    "\n",
    "#----------------------------------\n",
    "\n",
    "plt.subplot(3,2,3)\n",
    "iband=2\n",
    "wl=all_wl_filt[iband]\n",
    "DATA_      = all_transm_filt[iband][IDX_SIM,:]\n",
    "PATTERNS_  = [all_df_atm[iband][\"h2o_12\"].values, all_df_atm[iband][\"o2_12\"].values,all_df_atm[iband][\"o3_12\"].values ] # only one pattern\n",
    "\n",
    "plt.title(\"Fit in G band\")\n",
    "plt.plot(wl,DATA_,\"k-\",label=\"data\")\n",
    "plt.plot(wl,grey_fit+h2o_fit*PATTERNS_[0]+o2_fit*PATTERNS_[1]+o3_fit*PATTERNS_[2],'r-',label=\"fit\")\n",
    "plt.grid()\n",
    "plt.xlabel(\"$\\lambda$ (nm)\")\n",
    "plt.legend()\n",
    "\n",
    "#plt.yscale(\"log\")\n",
    "if iband<=2:\n",
    "    plt.ylim(0.7,1.)\n",
    "elif iband<=3:\n",
    "    plt.ylim(0.8,1.)\n",
    "elif iband<=4:\n",
    "    plt.ylim(0.8,1.)\n",
    "else:\n",
    "    plt.ylim(0.6,1.)\n",
    "\n",
    "#-----------------\n",
    "\n",
    "\n",
    "plt.subplot(3,2,4)\n",
    "iband=3\n",
    "wl=all_wl_filt[iband]\n",
    "DATA_      = all_transm_filt[iband][IDX_SIM,:]\n",
    "PATTERNS_  = [all_df_atm[iband][\"h2o_12\"].values, all_df_atm[iband][\"o2_12\"].values ,all_df_atm[iband][\"o3_12\"].values ] # only one pattern\n",
    "\n",
    "plt.title(\"Fit in I band\")\n",
    "plt.plot(wl,DATA_,\"k-\",label=\"data\")\n",
    "plt.plot(wl,grey_fit+h2o_fit*PATTERNS_[0]+o2_fit*PATTERNS_[1]+o3_fit*PATTERNS_[2],'r-',label=\"fit\")\n",
    "plt.grid()\n",
    "plt.xlabel(\"$\\lambda$ (nm)\")\n",
    "plt.legend()\n",
    "\n",
    "#plt.yscale(\"log\")\n",
    "if iband<=2:\n",
    "    plt.ylim(0.7,1.)\n",
    "elif iband<=3:\n",
    "    plt.ylim(0.8,1.)\n",
    "elif iband<=4:\n",
    "    plt.ylim(0.8,1.)\n",
    "else:\n",
    "    plt.ylim(0.6,1.)\n",
    "\n",
    "#------------------\n",
    "\n",
    "plt.subplot(3,2,5)\n",
    "iband=4\n",
    "wl=all_wl_filt[iband]\n",
    "\n",
    "\n",
    "DATA_      = all_transm_filt[iband][IDX_SIM,:]\n",
    "PATTERNS_  = [all_df_atm[iband][\"h2o_12\"].values, all_df_atm[iband][\"o2_12\"].values, all_df_atm[iband][\"o3_12\"].values] # only one pattern\n",
    "\n",
    "plt.title(\"Fit in Z band\")\n",
    "plt.plot(wl,DATA_,\"k-\",label=\"data\")\n",
    "plt.plot(wl,grey_fit+h2o_fit*PATTERNS_[0]+o2_fit*PATTERNS_[1]+o3_fit*PATTERNS_[2],'r-',label=\"fit\")\n",
    "plt.grid()\n",
    "plt.xlabel(\"$\\lambda$ (nm)\")\n",
    "plt.legend()\n",
    "\n",
    "#plt.yscale(\"log\")\n",
    "if iband<=2:\n",
    "    plt.ylim(0.7,1.)\n",
    "elif iband<=3:\n",
    "    plt.ylim(0.8,1.)\n",
    "elif iband<=4:\n",
    "    plt.ylim(0.8,1.)\n",
    "else:\n",
    "    plt.ylim(0.6,1.)\n",
    "    \n",
    "#-----------------------    \n",
    "\n",
    "plt.subplot(3,2,6)\n",
    "iband=5\n",
    "wl=all_wl_filt[iband]\n",
    "transm=all_transm_filt[iband][IDX_SIM,:]\n",
    "\n",
    "DATA_      = all_transm_filt[iband][IDX_SIM,:]\n",
    "PATTERNS_  = [all_df_atm[iband][\"h2o_12\"].values, all_df_atm[iband][\"o2_12\"].values,  all_df_atm[iband][\"o3_12\"].values] # only one pattern\n",
    "\n",
    "plt.title(\"Fit in Y band\")\n",
    "plt.plot(wl,DATA_,\"k-\",label=\"data\")\n",
    "plt.plot(wl,grey_fit+h2o_fit*PATTERNS_[0]++o2_fit*PATTERNS_[1]+o3_fit*PATTERNS_[2],'r-',label=\"fit\")\n",
    "plt.grid()\n",
    "plt.xlabel(\"$\\lambda$ (nm)\")\n",
    "plt.legend()\n",
    "\n",
    "#plt.yscale(\"log\")\n",
    "if iband<=2:\n",
    "    plt.ylim(0.7,1.)\n",
    "elif iband<=3:\n",
    "    plt.ylim(0.8,1.)\n",
    "elif iband<=4:\n",
    "    plt.ylim(0.8,1.)\n",
    "else:\n",
    "    plt.ylim(0.6,1.)\n",
    "    \n",
    "#----------------------------    \n",
    "plt.tight_layout()\n",
    "\n",
    "\n",
    "suptitle=\"fit in R,I,Z,Y band grey={:1.3f} +/- {:1.3f}, h2o={:1.3f}+/- {:1.3f} , o2={:1.3f}+/- {:1.3f} , o3={:1.3f}+/- {:1.3f} \".format(grey_fit,grey_fit_err,h2o_fit,h2o_fit_err,o2_fit,o2_fit_err,o3_fit,o3_fit_err)\n",
    "plt.suptitle(suptitle,y=1.02,fontweight=\"bold\",fontsize=15)"
   ]
  },
  {
   "cell_type": "code",
   "execution_count": null,
   "metadata": {},
   "outputs": [],
   "source": []
  }
 ],
 "metadata": {
  "kernelspec": {
   "display_name": "Python 3",
   "language": "python",
   "name": "python3"
  },
  "language_info": {
   "codemirror_mode": {
    "name": "ipython",
    "version": 3
   },
   "file_extension": ".py",
   "mimetype": "text/x-python",
   "name": "python",
   "nbconvert_exporter": "python",
   "pygments_lexer": "ipython3",
   "version": "3.7.6"
  },
  "toc": {
   "nav_menu": {},
   "number_sections": true,
   "sideBar": true,
   "skip_h1_title": false,
   "toc_cell": false,
   "toc_position": {},
   "toc_section_display": "block",
   "toc_window_display": false
  }
 },
 "nbformat": 4,
 "nbformat_minor": 4
}
