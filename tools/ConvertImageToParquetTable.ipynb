{
 "cells": [
  {
   "cell_type": "markdown",
   "metadata": {},
   "source": [
    "# Convert Images into Parquet Table (For Spark)\n",
    "\n",
    "- author  :Sylvie Dagoret-Campagne\n",
    "- affiliaiton : IJCLab/IN2P3/CNRS\n",
    "- creation date : July 8th 2020\n",
    "- update date :"
   ]
  },
  {
   "cell_type": "code",
   "execution_count": 1,
   "metadata": {},
   "outputs": [],
   "source": [
    "import matplotlib as mpl\n",
    "import matplotlib.pyplot as plt\n",
    "import matplotlib.colors as colors\n",
    "import matplotlib.cm as cmx\n",
    "import numpy as np\n",
    "import pandas as pd\n",
    "import os\n",
    "import sys\n",
    "%matplotlib inline"
   ]
  },
  {
   "cell_type": "code",
   "execution_count": 2,
   "metadata": {},
   "outputs": [],
   "source": [
    "from astropy.io import fits"
   ]
  },
  {
   "cell_type": "code",
   "execution_count": 3,
   "metadata": {},
   "outputs": [],
   "source": [
    "import re"
   ]
  },
  {
   "cell_type": "code",
   "execution_count": 4,
   "metadata": {},
   "outputs": [],
   "source": [
    "#to enlarge the sizes\n",
    "params = {'legend.fontsize': 'x-large',\n",
    "          'figure.figsize': (10,6),\n",
    "         'axes.labelsize': 'x-large',\n",
    "         'axes.titlesize':'x-large',\n",
    "         'xtick.labelsize':'x-large',\n",
    "         'ytick.labelsize':'x-large'}\n",
    "plt.rcParams.update(params)"
   ]
  },
  {
   "cell_type": "code",
   "execution_count": 5,
   "metadata": {},
   "outputs": [],
   "source": [
    "plt.rcParams.update({'figure.max_open_warning': 0}) # to see a large number of files"
   ]
  },
  {
   "cell_type": "code",
   "execution_count": 6,
   "metadata": {},
   "outputs": [],
   "source": [
    "%load_ext autoreload\n",
    "%autoreload 2"
   ]
  },
  {
   "cell_type": "markdown",
   "metadata": {},
   "source": [
    "# Configuration"
   ]
  },
  {
   "cell_type": "code",
   "execution_count": 7,
   "metadata": {},
   "outputs": [],
   "source": [
    "FLAG_FEWCOLUMNS=False"
   ]
  },
  {
   "cell_type": "code",
   "execution_count": 8,
   "metadata": {},
   "outputs": [],
   "source": [
    "DATADIR=\"../data/atm\""
   ]
  },
  {
   "cell_type": "code",
   "execution_count": 9,
   "metadata": {},
   "outputs": [],
   "source": [
    "atmospheric_basename_files=os.listdir(DATADIR)"
   ]
  },
  {
   "cell_type": "code",
   "execution_count": 10,
   "metadata": {},
   "outputs": [],
   "source": [
    "inputfile=os.path.join(DATADIR,atmospheric_basename_files[0])"
   ]
  },
  {
   "cell_type": "code",
   "execution_count": 11,
   "metadata": {},
   "outputs": [
    {
     "data": {
      "text/plain": [
       "['.ipynb_checkpoints',\n",
       " 'lsst_atm_10year_01.fits',\n",
       " 'lsst_atm_10year_02.fits',\n",
       " 'lsst_atm_10year_03.fits',\n",
       " 'lsst_atm_10year_04.fits',\n",
       " 'lsst_atm_10year_05.fits',\n",
       " 'lsst_atm_10year_06.fits',\n",
       " 'lsst_atm_10year_07.fits',\n",
       " 'lsst_atm_10year_08.fits',\n",
       " 'lsst_atm_10year_09.fits',\n",
       " 'lsst_atm_10year_10.fits',\n",
       " 'lsst_atm_10year_bigimg.fits',\n",
       " 'lsst_atm_10year_bintab.fits',\n",
       " 'lsst_atm_10year_bintab_small.fits']"
      ]
     },
     "execution_count": 11,
     "metadata": {},
     "output_type": "execute_result"
    }
   ],
   "source": [
    "sorted(atmospheric_basename_files)"
   ]
  },
  {
   "cell_type": "code",
   "execution_count": 12,
   "metadata": {},
   "outputs": [
    {
     "data": {
      "text/plain": [
       "['lsst_atm_10year_01.fits',\n",
       " 'lsst_atm_10year_bigimg.fits',\n",
       " 'lsst_atm_10year_07.fits',\n",
       " 'lsst_atm_10year_06.fits',\n",
       " 'lsst_atm_10year_10.fits',\n",
       " 'lsst_atm_10year_09.fits',\n",
       " 'lsst_atm_10year_bintab.fits',\n",
       " 'lsst_atm_10year_05.fits',\n",
       " 'lsst_atm_10year_04.fits',\n",
       " 'lsst_atm_10year_bintab_small.fits',\n",
       " 'lsst_atm_10year_08.fits',\n",
       " 'lsst_atm_10year_03.fits',\n",
       " '.ipynb_checkpoints',\n",
       " 'lsst_atm_10year_02.fits']"
      ]
     },
     "execution_count": 12,
     "metadata": {},
     "output_type": "execute_result"
    }
   ],
   "source": [
    "atmospheric_basename_files"
   ]
  },
  {
   "cell_type": "code",
   "execution_count": 13,
   "metadata": {},
   "outputs": [
    {
     "data": {
      "text/plain": [
       "['lsst_atm_10year_01', 'fits']"
      ]
     },
     "execution_count": 13,
     "metadata": {},
     "output_type": "execute_result"
    }
   ],
   "source": [
    "'lsst_atm_10year_01.fits'.split('.')"
   ]
  },
  {
   "cell_type": "markdown",
   "metadata": {},
   "source": [
    "# Open all atmospheric files"
   ]
  },
  {
   "cell_type": "code",
   "execution_count": 14,
   "metadata": {},
   "outputs": [
    {
     "name": "stdout",
     "output_type": "stream",
     "text": [
      "lsst_atm_10year_01.fits\n",
      "lsst_atm_10year_02.fits\n",
      "lsst_atm_10year_03.fits\n",
      "lsst_atm_10year_04.fits\n",
      "lsst_atm_10year_05.fits\n",
      "lsst_atm_10year_06.fits\n",
      "lsst_atm_10year_07.fits\n",
      "lsst_atm_10year_08.fits\n",
      "lsst_atm_10year_09.fits\n",
      "lsst_atm_10year_10.fits\n",
      "lsst_atm_10year_bigimg.fits\n"
     ]
    }
   ],
   "source": [
    "idx=0\n",
    "all_data=[]\n",
    "all_hdr=[]\n",
    "all_wl=[]\n",
    "for file in sorted(atmospheric_basename_files):\n",
    "    \n",
    "    if file.split(\".\")[-1]==\"fits\":\n",
    "       \n",
    "        if re.search('.*(bintab).*',file):\n",
    "            continue\n",
    "        \n",
    "        print(file)\n",
    "        inputfile=os.path.join(DATADIR,file)\n",
    "        hdu = fits.open(inputfile)\n",
    "        all_hdr.append(hdu[0].header)\n",
    "        all_data.append(hdu[0].data[1:,:])\n",
    "        all_wl.append(hdu[0].data[0,:])\n",
    "        hdu.close()\n",
    "        \n",
    "    idx+=1\n",
    "    "
   ]
  },
  {
   "cell_type": "code",
   "execution_count": 15,
   "metadata": {},
   "outputs": [],
   "source": [
    "data=np.vstack(all_data)"
   ]
  },
  {
   "cell_type": "markdown",
   "metadata": {},
   "source": [
    "## Extract info from header"
   ]
  },
  {
   "cell_type": "markdown",
   "metadata": {},
   "source": [
    "### Pick up the header column index "
   ]
  },
  {
   "cell_type": "code",
   "execution_count": 16,
   "metadata": {},
   "outputs": [],
   "source": [
    "hdr=all_hdr[0]"
   ]
  },
  {
   "cell_type": "code",
   "execution_count": 17,
   "metadata": {},
   "outputs": [],
   "source": [
    "NbAtmSimul=hdr['NBATMSIM']\n",
    "idx_out_num=hdr['ID_NUM']\n",
    "idx_out_year=hdr['ID_YEAR']\n",
    "idx_out_am=hdr['ID_AM']\n",
    "idx_out_vaod=hdr['ID_VAOD']\n",
    "idx_out_pwv=hdr['ID_PWV']\n",
    "idx_out_o3=hdr['ID_O3']\n",
    "idx_out_cld=hdr['ID_CLD']\n",
    "idx_out_res=hdr['ID_RES']"
   ]
  },
  {
   "cell_type": "code",
   "execution_count": 18,
   "metadata": {},
   "outputs": [
    {
     "data": {
      "text/plain": [
       "1"
      ]
     },
     "execution_count": 18,
     "metadata": {},
     "output_type": "execute_result"
    }
   ],
   "source": [
    "idx_out_year"
   ]
  },
  {
   "cell_type": "markdown",
   "metadata": {},
   "source": [
    "## Atmospheric data"
   ]
  },
  {
   "cell_type": "code",
   "execution_count": 19,
   "metadata": {},
   "outputs": [],
   "source": [
    "num=data[1:,idx_out_num]\n",
    "year=data[1:,idx_out_year]\n",
    "airmass=data[1:,idx_out_year]\n",
    "vaod=data[1:,idx_out_vaod] # vertical aerosol depth\n",
    "pwv=data[1:,idx_out_pwv]   # precipitable water vapor (mm)\n",
    "o3=data[1:,idx_out_o3]     # ozone\n",
    "cld=data[1:,idx_out_cld]   # clouds (not used)"
   ]
  },
  {
   "cell_type": "code",
   "execution_count": 20,
   "metadata": {},
   "outputs": [],
   "source": [
    "# Extract wavelength Wavelength\n",
    "wl=all_wl[0][idx_out_res:]\n",
    "transm=data[:,idx_out_res:]"
   ]
  },
  {
   "cell_type": "code",
   "execution_count": 21,
   "metadata": {},
   "outputs": [
    {
     "data": {
      "text/plain": [
       "951"
      ]
     },
     "execution_count": 21,
     "metadata": {},
     "output_type": "execute_result"
    }
   ],
   "source": [
    "len(transm[0,:])"
   ]
  },
  {
   "cell_type": "code",
   "execution_count": 22,
   "metadata": {},
   "outputs": [
    {
     "data": {
      "text/plain": [
       "951"
      ]
     },
     "execution_count": 22,
     "metadata": {},
     "output_type": "execute_result"
    }
   ],
   "source": [
    "len(wl)"
   ]
  },
  {
   "cell_type": "code",
   "execution_count": 23,
   "metadata": {},
   "outputs": [],
   "source": [
    "NBSIM=transm.shape[0]"
   ]
  },
  {
   "cell_type": "code",
   "execution_count": 24,
   "metadata": {},
   "outputs": [
    {
     "data": {
      "text/plain": [
       "Text(0.5, 1.0, 'image of atmospheric simulation')"
      ]
     },
     "execution_count": 24,
     "metadata": {},
     "output_type": "execute_result"
    },
    {
     "data": {
      "image/png": "[encoded data removed]",
      "text/plain": [
       "<Figure size 720x432 with 1 Axes>"
      ]
     },
     "metadata": {
      "needs_background": "light"
     },
     "output_type": "display_data"
    }
   ],
   "source": [
    "plt.imshow(transm,origin=\"lower\",cmap='jet')\n",
    "plt.xlabel(\"$\\\\lambda$ (nm)\")\n",
    "plt.ylabel(\"simulation number\")\n",
    "plt.title(\"image of atmospheric simulation\")"
   ]
  },
  {
   "cell_type": "markdown",
   "metadata": {},
   "source": [
    "# Output binary table"
   ]
  },
  {
   "cell_type": "markdown",
   "metadata": {},
   "source": [
    "  col0 = fits.Column(name=names[0], format='D', array=index)\n",
    "  \n",
    "  col1 = fits.Column(name=names[1], format='D', array=x)\n",
    "  \n",
    "  col2 = fits.Column(name=names[2], format='D', array=y)\n",
    "\n",
    "  ### Format into columns\n",
    "  \n",
    "  cols = fits.ColDefs([col0,col1, col2])\n",
    "\n",
    "\n",
    "  ### Make the first HDU.\n",
    "  \n",
    "  hdu1 = fits.BinTableHDU.from_columns(cols)\n",
    "\n",
    "  ### Concatenate all HDU\n",
    "  ### Primary HDU - just a header\n",
    "  \n",
    "  hdr = fits.Header()\n",
    "  \n",
    "  hdr['OBSERVER'] = \"JEC\"\n",
    "  \n",
    "  hdr['COMMENT'] = \"Pour debugger RP-DBSCAN\"\n",
    "  \n",
    "  primary_hdu = fits.PrimaryHDU(header=hdr)\n",
    "\n",
    "  hdul = fits.HDUList([primary_hdu, hdu1])\n",
    "\n",
    "  ### Save on disk\n",
    "  \n",
    "  hdul.writeto(\"debug.fits\",overwrite=True)\n"
   ]
  },
  {
   "cell_type": "markdown",
   "metadata": {},
   "source": [
    "### Header columns"
   ]
  },
  {
   "cell_type": "code",
   "execution_count": 25,
   "metadata": {},
   "outputs": [],
   "source": [
    "col1 = fits.Column(name='num', format='I', array=num)\n",
    "col2 = fits.Column(name='year', format='I', array=year)\n",
    "col3 = fits.Column(name='airmass', format='F', array=airmass)\n",
    "col4 = fits.Column(name='vaod', format='F', array=vaod)\n",
    "col5 = fits.Column(name='pwv', format='F', array=pwv)\n",
    "col6 = fits.Column(name='o3', format='F', array=o3)\n",
    "col7 = fits.Column(name='cld', format='F', array=cld)"
   ]
  },
  {
   "cell_type": "code",
   "execution_count": 26,
   "metadata": {},
   "outputs": [],
   "source": [
    "col_headers=[col1, col2, col3, col4, col5, col6, col7]"
   ]
  },
  {
   "cell_type": "markdown",
   "metadata": {},
   "source": [
    "### Data columns"
   ]
  },
  {
   "cell_type": "code",
   "execution_count": 27,
   "metadata": {},
   "outputs": [],
   "source": [
    "col_data = []\n",
    "idx=0\n",
    "for thewl in wl:\n",
    "    tagname = \"wl{:04d}\".format(int(thewl))\n",
    "    col = fits.Column(name=tagname, format='F', array=transm[:,idx])\n",
    "    col_data.append(col)\n",
    "    if FLAG_FEWCOLUMNS and idx>20:\n",
    "        break\n",
    "    idx+=1"
   ]
  },
  {
   "cell_type": "markdown",
   "metadata": {},
   "source": [
    "### All columns"
   ]
  },
  {
   "cell_type": "code",
   "execution_count": 28,
   "metadata": {},
   "outputs": [],
   "source": [
    "col_all = col_headers + col_data"
   ]
  },
  {
   "cell_type": "code",
   "execution_count": 29,
   "metadata": {},
   "outputs": [],
   "source": [
    "## Format into columns\n",
    "cols = fits.ColDefs(col_all) "
   ]
  },
  {
   "cell_type": "code",
   "execution_count": 30,
   "metadata": {},
   "outputs": [],
   "source": [
    "hdu1 = fits.BinTableHDU.from_columns(cols)"
   ]
  },
  {
   "cell_type": "markdown",
   "metadata": {},
   "source": [
    "## hdu and output file"
   ]
  },
  {
   "cell_type": "code",
   "execution_count": 31,
   "metadata": {},
   "outputs": [
    {
     "data": {
      "text/plain": [
       "SIMPLE  =                    T / conforms to FITS standard                      \n",
       "BITPIX  =                  -64 / array data type                                \n",
       "NAXIS   =                    2 / number of array dimensions                     \n",
       "NAXIS1  =                  958                                                  \n",
       "NAXIS2  =                  366                                                  \n",
       "NBATMSIM=                  365                                                  \n",
       "ID_NUM  =                    0                                                  \n",
       "ID_YEAR =                    1                                                  \n",
       "ID_AM   =                    2                                                  \n",
       "ID_VAOD =                    3                                                  \n",
       "ID_PWV  =                    4                                                  \n",
       "ID_O3   =                    5                                                  \n",
       "ID_CLD  =                    6                                                  \n",
       "ID_RES  =                    7                                                  "
      ]
     },
     "execution_count": 31,
     "metadata": {},
     "output_type": "execute_result"
    }
   ],
   "source": [
    "hdr"
   ]
  },
  {
   "cell_type": "code",
   "execution_count": 32,
   "metadata": {},
   "outputs": [],
   "source": [
    "hdr['OBSERVER'] = \"SDC\"\n",
    "hdr['COMMENT'] = \"atm sim data challenge\""
   ]
  },
  {
   "cell_type": "code",
   "execution_count": 33,
   "metadata": {},
   "outputs": [],
   "source": [
    "primary_hdu = fits.PrimaryHDU(header=hdr)\n",
    "\n",
    "hdul = fits.HDUList([primary_hdu, hdu1])"
   ]
  },
  {
   "cell_type": "code",
   "execution_count": null,
   "metadata": {},
   "outputs": [],
   "source": []
  },
  {
   "cell_type": "code",
   "execution_count": 34,
   "metadata": {},
   "outputs": [],
   "source": [
    "#if FLAG_FEWCOLUMNS:\n",
    "#    hdu1.writeto('lsst_atm_10year_bintab_small.fits',overwrite=True)\n",
    "#else:\n",
    "#    hdu1.writeto('lsst_atm_10year_bintab.fits',overwrite=True)"
   ]
  },
  {
   "cell_type": "code",
   "execution_count": 36,
   "metadata": {},
   "outputs": [
    {
     "ename": "AttributeError",
     "evalue": "'BinTableHDU' object has no attribute 'to_pandas'",
     "output_type": "error",
     "traceback": [
      "\u001b[0;31m---------------------------------------------------------------------------\u001b[0m",
      "\u001b[0;31mAttributeError\u001b[0m                            Traceback (most recent call last)",
      "\u001b[0;32m<ipython-input-36-ebd85f5408e6>\u001b[0m in \u001b[0;36m<module>\u001b[0;34m\u001b[0m\n\u001b[0;32m----> 1\u001b[0;31m \u001b[0mhdu1\u001b[0m\u001b[0;34m.\u001b[0m\u001b[0mto_pandas\u001b[0m\u001b[0;34m(\u001b[0m\u001b[0;34m)\u001b[0m\u001b[0;34m\u001b[0m\u001b[0;34m\u001b[0m\u001b[0m\n\u001b[0m",
      "\u001b[0;31mAttributeError\u001b[0m: 'BinTableHDU' object has no attribute 'to_pandas'"
     ]
    }
   ],
   "source": [
    "hdu1.to_pandas()"
   ]
  }
 ],
 "metadata": {
  "kernelspec": {
   "display_name": "Python 3",
   "language": "python",
   "name": "python3"
  },
  "language_info": {
   "codemirror_mode": {
    "name": "ipython",
    "version": 3
   },
   "file_extension": ".py",
   "mimetype": "text/x-python",
   "name": "python",
   "nbconvert_exporter": "python",
   "pygments_lexer": "ipython3",
   "version": "3.7.7"
  },
  "toc": {
   "nav_menu": {},
   "number_sections": true,
   "sideBar": true,
   "skip_h1_title": false,
   "toc_cell": false,
   "toc_position": {},
   "toc_section_display": "block",
   "toc_window_display": false
  }
 },
 "nbformat": 4,
 "nbformat_minor": 4
}
