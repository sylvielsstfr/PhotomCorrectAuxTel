{
 "cells": [
  {
   "cell_type": "markdown",
   "metadata": {},
   "source": [
    "# Convert Images into Binary Table (For Spark)\n",
    "\n",
    "- author  :Sylvie Dagoret-Campagne\n",
    "- affiliaiton : IJCLab/IN2P3/CNRS\n",
    "- creation date : July 8th 2020\n",
    "- update date :"
   ]
  },
  {
   "cell_type": "code",
   "execution_count": 36,
   "metadata": {},
   "outputs": [],
   "source": [
    "import matplotlib as mpl\n",
    "import matplotlib.pyplot as plt\n",
    "import matplotlib.colors as colors\n",
    "import matplotlib.cm as cmx\n",
    "import numpy as np\n",
    "import pandas as pd\n",
    "import os\n",
    "import sys\n",
    "%matplotlib inline"
   ]
  },
  {
   "cell_type": "code",
   "execution_count": 37,
   "metadata": {},
   "outputs": [],
   "source": [
    "from astropy.io import fits"
   ]
  },
  {
   "cell_type": "code",
   "execution_count": 38,
   "metadata": {},
   "outputs": [],
   "source": [
    "import re"
   ]
  },
  {
   "cell_type": "code",
   "execution_count": 39,
   "metadata": {},
   "outputs": [],
   "source": [
    "#to enlarge the sizes\n",
    "params = {'legend.fontsize': 'x-large',\n",
    "          'figure.figsize': (10,6),\n",
    "         'axes.labelsize': 'x-large',\n",
    "         'axes.titlesize':'x-large',\n",
    "         'xtick.labelsize':'x-large',\n",
    "         'ytick.labelsize':'x-large'}\n",
    "plt.rcParams.update(params)"
   ]
  },
  {
   "cell_type": "code",
   "execution_count": 40,
   "metadata": {},
   "outputs": [],
   "source": [
    "plt.rcParams.update({'figure.max_open_warning': 0}) # to see a large number of files"
   ]
  },
  {
   "cell_type": "code",
   "execution_count": 41,
   "metadata": {},
   "outputs": [
    {
     "name": "stdout",
     "output_type": "stream",
     "text": [
      "The autoreload extension is already loaded. To reload it, use:\n",
      "  %reload_ext autoreload\n"
     ]
    }
   ],
   "source": [
    "%load_ext autoreload\n",
    "%autoreload 2"
   ]
  },
  {
   "cell_type": "markdown",
   "metadata": {},
   "source": [
    "# Configuration"
   ]
  },
  {
   "cell_type": "code",
   "execution_count": 42,
   "metadata": {},
   "outputs": [],
   "source": [
    "FLAG_FEWCOLUMNS=False"
   ]
  },
  {
   "cell_type": "code",
   "execution_count": 43,
   "metadata": {},
   "outputs": [],
   "source": [
    "DATADIR=\"../data/atm\""
   ]
  },
  {
   "cell_type": "code",
   "execution_count": 44,
   "metadata": {},
   "outputs": [],
   "source": [
    "atmospheric_basename_files=os.listdir(DATADIR)"
   ]
  },
  {
   "cell_type": "code",
   "execution_count": 45,
   "metadata": {},
   "outputs": [],
   "source": [
    "inputfile=os.path.join(DATADIR,atmospheric_basename_files[0])"
   ]
  },
  {
   "cell_type": "code",
   "execution_count": 46,
   "metadata": {},
   "outputs": [
    {
     "data": {
      "text/plain": [
       "['.ipynb_checkpoints',\n",
       " 'lsst_atm_10year_01.fits',\n",
       " 'lsst_atm_10year_02.fits',\n",
       " 'lsst_atm_10year_03.fits',\n",
       " 'lsst_atm_10year_04.fits',\n",
       " 'lsst_atm_10year_05.fits',\n",
       " 'lsst_atm_10year_06.fits',\n",
       " 'lsst_atm_10year_07.fits',\n",
       " 'lsst_atm_10year_08.fits',\n",
       " 'lsst_atm_10year_09.fits',\n",
       " 'lsst_atm_10year_10.fits',\n",
       " 'lsst_atm_10year_bintab.fits']"
      ]
     },
     "execution_count": 46,
     "metadata": {},
     "output_type": "execute_result"
    }
   ],
   "source": [
    "sorted(atmospheric_basename_files)"
   ]
  },
  {
   "cell_type": "code",
   "execution_count": 47,
   "metadata": {},
   "outputs": [
    {
     "data": {
      "text/plain": [
       "['lsst_atm_10year_01.fits',\n",
       " 'lsst_atm_10year_07.fits',\n",
       " 'lsst_atm_10year_06.fits',\n",
       " 'lsst_atm_10year_10.fits',\n",
       " 'lsst_atm_10year_09.fits',\n",
       " 'lsst_atm_10year_bintab.fits',\n",
       " 'lsst_atm_10year_05.fits',\n",
       " 'lsst_atm_10year_04.fits',\n",
       " 'lsst_atm_10year_08.fits',\n",
       " 'lsst_atm_10year_03.fits',\n",
       " '.ipynb_checkpoints',\n",
       " 'lsst_atm_10year_02.fits']"
      ]
     },
     "execution_count": 47,
     "metadata": {},
     "output_type": "execute_result"
    }
   ],
   "source": [
    "atmospheric_basename_files"
   ]
  },
  {
   "cell_type": "code",
   "execution_count": 48,
   "metadata": {},
   "outputs": [
    {
     "data": {
      "text/plain": [
       "['lsst_atm_10year_01', 'fits']"
      ]
     },
     "execution_count": 48,
     "metadata": {},
     "output_type": "execute_result"
    }
   ],
   "source": [
    "'lsst_atm_10year_01.fits'.split('.')"
   ]
  },
  {
   "cell_type": "markdown",
   "metadata": {},
   "source": [
    "# Open all atmospheric files"
   ]
  },
  {
   "cell_type": "code",
   "execution_count": 49,
   "metadata": {},
   "outputs": [
    {
     "name": "stdout",
     "output_type": "stream",
     "text": [
      "lsst_atm_10year_01.fits\n",
      "lsst_atm_10year_02.fits\n",
      "lsst_atm_10year_03.fits\n",
      "lsst_atm_10year_04.fits\n",
      "lsst_atm_10year_05.fits\n",
      "lsst_atm_10year_06.fits\n",
      "lsst_atm_10year_07.fits\n",
      "lsst_atm_10year_08.fits\n",
      "lsst_atm_10year_09.fits\n",
      "lsst_atm_10year_10.fits\n"
     ]
    }
   ],
   "source": [
    "idx=0\n",
    "all_data=[]\n",
    "all_hdr=[]\n",
    "all_wl=[]\n",
    "for file in sorted(atmospheric_basename_files):\n",
    "    \n",
    "    if file.split(\".\")[-1]==\"fits\":\n",
    "       \n",
    "        if re.search('.*(bintab).*',file):\n",
    "            continue\n",
    "        \n",
    "        print(file)\n",
    "        inputfile=os.path.join(DATADIR,file)\n",
    "        hdu = fits.open(inputfile)\n",
    "        all_hdr.append(hdu[0].header)\n",
    "        all_data.append(hdu[0].data[1:,:])\n",
    "        all_wl.append(hdu[0].data[0,:])\n",
    "        hdu.close()\n",
    "        \n",
    "    idx+=1\n",
    "    "
   ]
  },
  {
   "cell_type": "code",
   "execution_count": 50,
   "metadata": {},
   "outputs": [],
   "source": [
    "data=np.vstack(all_data)"
   ]
  },
  {
   "cell_type": "markdown",
   "metadata": {},
   "source": [
    "## Extract info from header"
   ]
  },
  {
   "cell_type": "markdown",
   "metadata": {},
   "source": [
    "### Pick up the header column index "
   ]
  },
  {
   "cell_type": "code",
   "execution_count": 51,
   "metadata": {},
   "outputs": [],
   "source": [
    "hdr=all_hdr[0]"
   ]
  },
  {
   "cell_type": "code",
   "execution_count": 52,
   "metadata": {},
   "outputs": [],
   "source": [
    "NbAtmSimul=hdr['NBATMSIM']\n",
    "idx_out_num=hdr['ID_NUM']\n",
    "idx_out_year=hdr['ID_YEAR']\n",
    "idx_out_am=hdr['ID_AM']\n",
    "idx_out_vaod=hdr['ID_VAOD']\n",
    "idx_out_pwv=hdr['ID_PWV']\n",
    "idx_out_o3=hdr['ID_O3']\n",
    "idx_out_cld=hdr['ID_CLD']\n",
    "idx_out_res=hdr['ID_RES']"
   ]
  },
  {
   "cell_type": "code",
   "execution_count": 53,
   "metadata": {},
   "outputs": [
    {
     "data": {
      "text/plain": [
       "1"
      ]
     },
     "execution_count": 53,
     "metadata": {},
     "output_type": "execute_result"
    }
   ],
   "source": [
    "idx_out_year"
   ]
  },
  {
   "cell_type": "markdown",
   "metadata": {},
   "source": [
    "## Atmospheric data"
   ]
  },
  {
   "cell_type": "code",
   "execution_count": 54,
   "metadata": {},
   "outputs": [],
   "source": [
    "num=data[1:,idx_out_num]\n",
    "year=data[1:,idx_out_year]\n",
    "airmass=data[1:,idx_out_year]\n",
    "vaod=data[1:,idx_out_vaod] # vertical aerosol depth\n",
    "pwv=data[1:,idx_out_pwv]   # precipitable water vapor (mm)\n",
    "o3=data[1:,idx_out_o3]     # ozone\n",
    "cld=data[1:,idx_out_cld]   # clouds (not used)"
   ]
  },
  {
   "cell_type": "code",
   "execution_count": 55,
   "metadata": {},
   "outputs": [],
   "source": [
    "# Extract wavelength Wavelength\n",
    "wl=all_wl[0][idx_out_res:]\n",
    "transm=data[:,idx_out_res:]"
   ]
  },
  {
   "cell_type": "code",
   "execution_count": 56,
   "metadata": {},
   "outputs": [
    {
     "data": {
      "text/plain": [
       "951"
      ]
     },
     "execution_count": 56,
     "metadata": {},
     "output_type": "execute_result"
    }
   ],
   "source": [
    "len(transm[0,:])"
   ]
  },
  {
   "cell_type": "code",
   "execution_count": 57,
   "metadata": {},
   "outputs": [
    {
     "data": {
      "text/plain": [
       "951"
      ]
     },
     "execution_count": 57,
     "metadata": {},
     "output_type": "execute_result"
    }
   ],
   "source": [
    "len(wl)"
   ]
  },
  {
   "cell_type": "code",
   "execution_count": 58,
   "metadata": {},
   "outputs": [],
   "source": [
    "NBSIM=transm.shape[0]"
   ]
  },
  {
   "cell_type": "code",
   "execution_count": 59,
   "metadata": {},
   "outputs": [
    {
     "data": {
      "text/plain": [
       "Text(0.5, 1.0, 'image of atmospheric simulation')"
      ]
     },
     "execution_count": 59,
     "metadata": {},
     "output_type": "execute_result"
    },
    {
     "data": {
      "image/png": "[encoded data removed]",
      "text/plain": [
       "<Figure size 720x432 with 1 Axes>"
      ]
     },
     "metadata": {
      "needs_background": "light"
     },
     "output_type": "display_data"
    }
   ],
   "source": [
    "plt.imshow(transm,origin=\"lower\",cmap='jet')\n",
    "plt.xlabel(\"$\\\\lambda$ (nm)\")\n",
    "plt.ylabel(\"simulation number\")\n",
    "plt.title(\"image of atmospheric simulation\")"
   ]
  },
  {
   "cell_type": "markdown",
   "metadata": {},
   "source": [
    "# Output binary table"
   ]
  },
  {
   "cell_type": "markdown",
   "metadata": {},
   "source": [
    "  col0 = fits.Column(name=names[0], format='D', array=index)\n",
    "  \n",
    "  col1 = fits.Column(name=names[1], format='D', array=x)\n",
    "  \n",
    "  col2 = fits.Column(name=names[2], format='D', array=y)\n",
    "\n",
    "  ### Format into columns\n",
    "  \n",
    "  cols = fits.ColDefs([col0,col1, col2])\n",
    "\n",
    "\n",
    "  ### Make the first HDU.\n",
    "  \n",
    "  hdu1 = fits.BinTableHDU.from_columns(cols)\n",
    "\n",
    "  ### Concatenate all HDU\n",
    "  ### Primary HDU - just a header\n",
    "  \n",
    "  hdr = fits.Header()\n",
    "  \n",
    "  hdr['OBSERVER'] = \"JEC\"\n",
    "  \n",
    "  hdr['COMMENT'] = \"Pour debugger RP-DBSCAN\"\n",
    "  \n",
    "  primary_hdu = fits.PrimaryHDU(header=hdr)\n",
    "\n",
    "  hdul = fits.HDUList([primary_hdu, hdu1])\n",
    "\n",
    "  ### Save on disk\n",
    "  \n",
    "  hdul.writeto(\"debug.fits\",overwrite=True)\n"
   ]
  },
  {
   "cell_type": "markdown",
   "metadata": {},
   "source": [
    "### Header columns"
   ]
  },
  {
   "cell_type": "code",
   "execution_count": 60,
   "metadata": {},
   "outputs": [],
   "source": [
    "col1 = fits.Column(name='num', format='I', array=num)\n",
    "col2 = fits.Column(name='year', format='I', array=year)\n",
    "col3 = fits.Column(name='airmass', format='F', array=airmass)\n",
    "col4 = fits.Column(name='vaod', format='F', array=vaod)\n",
    "col5 = fits.Column(name='pwv', format='F', array=pwv)\n",
    "col6 = fits.Column(name='o3', format='F', array=o3)\n",
    "col7 = fits.Column(name='cld', format='F', array=cld)"
   ]
  },
  {
   "cell_type": "code",
   "execution_count": 61,
   "metadata": {},
   "outputs": [],
   "source": [
    "col_headers=[col1, col2, col3, col4, col5, col6, col7]"
   ]
  },
  {
   "cell_type": "markdown",
   "metadata": {},
   "source": [
    "### Data columns"
   ]
  },
  {
   "cell_type": "code",
   "execution_count": 62,
   "metadata": {},
   "outputs": [],
   "source": [
    "col_data = []\n",
    "idx=0\n",
    "for thewl in wl:\n",
    "    tagname = \"wl{:04d}\".format(int(thewl))\n",
    "    col = fits.Column(name=tagname, format='F', array=transm[:,idx])\n",
    "    col_data.append(col)\n",
    "    if FLAG_FEWCOLUMNS and idx>20:\n",
    "        break\n",
    "    idx+=1"
   ]
  },
  {
   "cell_type": "markdown",
   "metadata": {},
   "source": [
    "### All columns"
   ]
  },
  {
   "cell_type": "code",
   "execution_count": 63,
   "metadata": {},
   "outputs": [],
   "source": [
    "col_all = col_headers + col_data"
   ]
  },
  {
   "cell_type": "code",
   "execution_count": 64,
   "metadata": {},
   "outputs": [],
   "source": [
    "## Format into columns\n",
    "cols = fits.ColDefs(col_all) "
   ]
  },
  {
   "cell_type": "code",
   "execution_count": 65,
   "metadata": {},
   "outputs": [],
   "source": [
    "hdu1 = fits.BinTableHDU.from_columns(cols)"
   ]
  },
  {
   "cell_type": "markdown",
   "metadata": {},
   "source": [
    "## hdu and output file"
   ]
  },
  {
   "cell_type": "code",
   "execution_count": 66,
   "metadata": {},
   "outputs": [
    {
     "data": {
      "text/plain": [
       "SIMPLE  =                    T / conforms to FITS standard                      \n",
       "BITPIX  =                  -64 / array data type                                \n",
       "NAXIS   =                    2 / number of array dimensions                     \n",
       "NAXIS1  =                  958                                                  \n",
       "NAXIS2  =                  366                                                  \n",
       "NBATMSIM=                  365                                                  \n",
       "ID_NUM  =                    0                                                  \n",
       "ID_YEAR =                    1                                                  \n",
       "ID_AM   =                    2                                                  \n",
       "ID_VAOD =                    3                                                  \n",
       "ID_PWV  =                    4                                                  \n",
       "ID_O3   =                    5                                                  \n",
       "ID_CLD  =                    6                                                  \n",
       "ID_RES  =                    7                                                  "
      ]
     },
     "execution_count": 66,
     "metadata": {},
     "output_type": "execute_result"
    }
   ],
   "source": [
    "hdr"
   ]
  },
  {
   "cell_type": "code",
   "execution_count": 67,
   "metadata": {},
   "outputs": [],
   "source": [
    "hdr['OBSERVER'] = \"SDC\"\n",
    "hdr['COMMENT'] = \"atm sim data challenge\""
   ]
  },
  {
   "cell_type": "code",
   "execution_count": 68,
   "metadata": {},
   "outputs": [],
   "source": [
    "primary_hdu = fits.PrimaryHDU(header=hdr)\n",
    "\n",
    "hdul = fits.HDUList([primary_hdu, hdu1])"
   ]
  },
  {
   "cell_type": "code",
   "execution_count": null,
   "metadata": {},
   "outputs": [],
   "source": []
  },
  {
   "cell_type": "code",
   "execution_count": 69,
   "metadata": {},
   "outputs": [],
   "source": [
    "if FLAG_FEWCOLUMNS:\n",
    "    hdu1.writeto('lsst_atm_10year_bintab_small.fits',overwrite=True)\n",
    "else:\n",
    "    hdu1.writeto('lsst_atm_10year_bintab.fits',overwrite=True)"
   ]
  },
  {
   "cell_type": "code",
   "execution_count": 70,
   "metadata": {},
   "outputs": [
    {
     "data": {
      "text/plain": [
       "FITS_rec([(   1, 1, 1., 0.03028811,  9.80267611, 260.20741077, 1.18333122, 0., 0., 0., 0., 0., 0., 0., 0., 0., 0., 0., 0., 0., 0., 0., 0., 0., 0., 0., 0., 0., 0., 0., 0., 0., 0., 0., 0., 0., 0., 0., 0., 0., 0., 0., 0., 0., 0., 0., 0., 0.000000e+00, 0.000000e+00, 6.561121e-06, 2.042765e-05, 7.405638e-05, 0.00016981, 0.0005446 , 0.00109527, 0.00252432, 0.00445825, 0.0080388 , 0.0130288 , 0.01946472, 0.03152498, 0.03766095, 0.05570962, 0.06922395, 0.09050691, 0.1073294, 0.1258275, 0.1551018, 0.1685035, 0.1901484, 0.2159686, 0.2269134, 0.2574379, 0.2655237, 0.2885185, 0.3019335, 0.3373415, 0.3147286, 0.366462 , 0.3459152, 0.3698055, 0.4029565, 0.3797262, 0.4127915, 0.4231024, 0.4063187, 0.4430891, 0.4494021, 0.4341306, 0.4591765, 0.4645803, 0.4610517, 0.4767413, 0.4830181, 0.4790138, 0.4890971, 0.4963374, 0.4952493, 0.5033216, 0.5089131, 0.5124149, 0.5112254, 0.5198085, 0.5240847, 0.5276632, 0.5314761, 0.5360307, 0.5395971, 0.5437511, 0.5471334, 0.5511643, 0.5540521, 0.5571977, 0.5611693, 0.5637631, 0.566658 , 0.5695074, 0.5722804, 0.5751611, 0.5795495, 0.5832609, 0.5869464, 0.5900308, 0.5934526, 0.596666 , 0.5997252, 0.6022933, 0.6053427, 0.6085551, 0.6112069, 0.6144529, 0.6175396, 0.6200364, 0.622628 , 0.6255848, 0.627879 , 0.6303671, 0.6327456, 0.6353224, 0.6387435, 0.6422219, 0.6445923, 0.6476336, 0.6500637, 0.6529223, 0.6551672, 0.6574481, 0.660297 , 0.6626322, 0.6645882, 0.6678584, 0.6701089, 0.6722876, 0.6750315, 0.677517 , 0.6792462, 0.6816166, 0.6836421, 0.6863188, 0.6887186, 0.6911785, 0.6928196, 0.6950865, 0.6972234, 0.699985 , 0.7013425, 0.7033098, 0.705387 , 0.7077085, 0.7101064, 0.7114091, 0.7138744, 0.7158113, 0.7183032, 0.719771 , 0.7214396, 0.7238131, 0.7254089, 0.7272602, 0.7287741, 0.7308546, 0.732456 , 0.7348559, 0.7366401, 0.7383059, 0.7398147, 0.7419817, 0.7437761, 0.7444863, 0.7469928, 0.7487322, 0.7498657, 0.7510536, 0.7530617, 0.7556752, 0.7570093, 0.7573733, 0.7593312, 0.7610244, 0.763026 , 0.764046 , 0.7655312, 0.7660051, 0.7678182, 0.7698931, 0.770028 , 0.772527 , 0.774578 , 0.7758111, 0.7768238, 0.7783422, 0.7804334, 0.7811561, 0.7823623, 0.7837533, 0.7846606, 0.7858899, 0.7866511, 0.787945 , 0.7897346, 0.7898608, 0.7916139, 0.7928252, 0.79502  , 0.7957186, 0.7969931, 0.7979426, 0.7990825, 0.8004116, 0.8009424, 0.8013089, 0.8007349, 0.8009005, 0.8014812, 0.8019702, 0.8025653, 0.8037125, 0.8051187, 0.8074889, 0.8094187, 0.8111935, 0.8121194, 0.812824 , 0.8134771, 0.8150218, 0.8158132, 0.8164394, 0.8180487, 0.8190042, 0.8198989, 0.8207836, 0.8214005, 0.8220803, 0.8225434, 0.8233159, 0.8238727, 0.8245822, 0.82508  , 0.8250228, 0.8243226, 0.8234363, 0.82208  , 0.8243581, 0.8249264, 0.8253058, 0.8273546, 0.828615 , 0.830093 , 0.8310329, 0.8317316, 0.833195 , 0.8337864, 0.8348864, 0.8353215, 0.8361081, 0.8362873, 0.8367935, 0.8370467, 0.837649 , 0.8378056, 0.8380451, 0.8381996, 0.8378706, 0.8379566, 0.8378986, 0.8377534, 0.8376011, 0.8375604, 0.8378949, 0.8381785, 0.8386484, 0.8392594, 0.8396376, 0.8402955, 0.8409838, 0.8413567, 0.8415592, 0.8421206, 0.8409991, 0.8417348, 0.8428188, 0.8433224, 0.8427122, 0.8424543, 0.8438771, 0.8451769, 0.8454477, 0.8458003, 0.8465901, 0.8468089, 0.8471367, 0.8474825, 0.8477573, 0.8475445, 0.847149 , 0.8468415, 0.8464348, 0.8460498, 0.8457496, 0.845566 , 0.8451784, 0.8447886, 0.8444534, 0.8443247, 0.8437743, 0.8431284, 0.8393373, 0.8382751, 0.8398269, 0.8375251, 0.838798 , 0.8374909, 0.8384261, 0.8382673, 0.8386228, 0.8408683, 0.8421826, 0.8434383, 0.8453283, 0.8469605, 0.8485388, 0.8506126, 0.8511581, 0.8522587, 0.8522985, 0.8513549, 0.8381835, 0.8382721, 0.8432702, 0.8333623, 0.849834 , 0.8418669, 0.847129 , 0.8496289, 0.8495733, 0.8500142, 0.8529438, 0.8534678, 0.8555411, 0.8567299, 0.8572345, 0.8580012, 0.8584844, 0.8595962, 0.8605266, 0.861671 , 0.8621399, 0.8630751, 0.8638266, 0.864943 , 0.8658656, 0.8665369, 0.8673186, 0.8684344, 0.8692438, 0.8697932, 0.8706012, 0.8713288, 0.8718755, 0.8721192, 0.8726762, 0.8728846, 0.8731835, 0.8733321, 0.8731285, 0.8566216, 0.8642541, 0.8695502, 0.8743397, 0.8752847, 0.8770286, 0.8789592, 0.8797077, 0.8812814, 0.8832933, 0.8852564, 0.8864365, 0.8873357, 0.8884618, 0.8898673, 0.8899288, 0.8910922, 0.8914284, 0.8882144, 0.8831035, 0.8780178, 0.8830227, 0.8933133, 0.8947033, 0.8920887, 0.8955975, 0.8960244, 0.8853131, 0.8931399, 0.8954039, 0.8994728, 0.9019566, 0.9017999, 0.9033452, 0.9035021, 0.9037487, 0.9046498, 0.9052753, 0.9059452, 0.9069136, 0.9073416, 0.9080672, 0.9085135, 0.9093934, 0.9095875, 0.9103281, 0.910612 , 0.9113762, 0.9116046, 0.9120134, 0.9126772, 0.9130236, 0.9137068, 0.9139065, 0.9148761, 0.9146459, 0.9154605, 0.916239 , 0.9165915, 0.6769732, 0.8305821, 0.8547572, 0.8756378, 0.8857055, 0.905538 , 0.892302 , 0.8709295, 0.8949369, 0.8884314, 0.9179913, 0.91712  , 0.9044112, 0.9058213, 0.895856 , 0.900734 , 0.9049801, 0.9080873, 0.9090625, 0.9138748, 0.9177936, 0.9205776, 0.9208223, 0.9196034, 0.9230431, 0.9210787, 0.9239796, 0.9216681, 0.915306 , 0.9165027, 0.8894396, 0.8195873, 0.7683107, 0.828309 , 0.9048997, 0.9031394, 0.8990386, 0.8113169, 0.8351007, 0.8765159, 0.8581505, 0.8260967, 0.8438669, 0.8821263, 0.8611031, 0.873054 , 0.9046976, 0.9214323, 0.9098834, 0.9179446, 0.9179982, 0.9228745, 0.9243359, 0.9305291, 0.9338446, 0.9343333, 0.9342216, 0.9352556, 0.9358858, 0.9365544, 0.9366626, 0.9369274, 0.9370371, 0.937308 , 0.9373875, 0.9381138, 0.9382902, 0.9384517, 0.9386105, 0.9387078, 0.9391094, 0.9395291, 0.9327839, 0.414858 , 0.3294993, 0.6786231, 0.5901222, 0.6344801, 0.7437642, 0.8575909, 0.892688 , 0.9274209, 0.9367729, 0.9364989, 0.9405249, 0.9419318, 0.9420345, 0.9420665, 0.9421815, 0.9423403, 0.9425465, 0.9426714, 0.9428041, 0.9429151, 0.9432233, 0.9433746, 0.9436001, 0.9433077, 0.9429962, 0.9408488, 0.9407285, 0.9362339, 0.93622  , 0.9282589, 0.9291866, 0.932586 , 0.9349478, 0.9448197, 0.9413554, 0.9195985, 0.9354415, 0.9370359, 0.9404288, 0.9312207, 0.9268877, 0.9330382, 0.931818 , 0.9314338, 0.9355991, 0.9436966, 0.9388574, 0.9439599, 0.9362348, 0.9323326, 0.9337751, 0.9252512, 0.9089135, 0.8807657, 0.8488946, 0.8733867, 0.7658688, 0.8427143, 0.8727648, 0.8340036, 0.9310402, 0.9173682, 0.7346305, 0.898868 , 0.9239237, 0.8978501, 0.9224654, 0.856995 , 0.9076245, 0.8959076, 0.9016182, 0.9006049, 0.9203279, 0.9204043, 0.9313302, 0.9326848, 0.9321389, 0.9396617, 0.9434831, 0.9445013, 0.9445013, 0.9379034, 0.9505262, 0.9430198, 0.9491552, 0.9507974, 0.9520012, 0.9504723, 0.9512699, 0.9507838, 0.9496882, 0.9524987, 0.9531351, 0.9526559, 0.9526559, 0.953279 , 0.9547395, 0.953513 , 0.9544234, 0.9552464, 0.9549916, 0.9554633, 0.9554977, 0.9558352, 0.9558352, 0.9559173, 0.9560241, 0.956084 , 0.9562089, 0.956247 , 0.9564396, 0.9565762, 0.9565627, 0.9565627, 0.9568975, 0.9569823, 0.9569832, 0.9569737, 0.9569818, 0.9573504, 0.9573504, 0.9566768, 0.956951 , 0.9571091, 0.9573452, 0.9529238, 0.9571344, 0.9571344, 0.9561072, 0.9537446, 0.9572701, 0.9532554, 0.9425477, 0.9425477, 0.9190422, 0.8966737, 0.8065773, 0.8911515, 0.7372964, 0.7372964, 0.7735807, 0.804343 , 0.8419496, 0.9267835, 0.9142056, 0.9142056, 0.817014 , 0.7980238, 0.806497 , 0.7847325, 0.7847325, 0.8782419, 0.8306426, 0.8011771, 0.7584344, 0.7584344, 0.8735134, 0.7781846, 0.8551493, 0.9242299, 0.9242299, 0.9047185, 0.9031685, 0.882886 , 0.882886 , 0.8929157, 0.9009271, 0.7941414, 0.7720926, 0.7720926, 0.6432553, 0.4700216, 0.4858955, 0.4858955, 0.4493774, 0.420642 , 0.3971567, 0.3971567, 0.5430601, 0.6752579, 0.6252487, 0.6252487, 0.5303684, 0.5411555, 0.6119239, 0.6119239, 0.5400418, 0.559473 , 0.6261138, 0.6261138, 0.6437614, 0.5308218, 0.6697968, 0.6697968, 0.6679699, 0.5602013, 0.7192175, 0.7192175, 0.6105708, 0.6914356, 0.6914356, 0.7317044, 0.788101 , 0.690041 , 0.690041 , 0.7615673, 0.8466176, 0.8466176, 0.8668286, 0.9043733, 0.9184393, 0.9184393, 0.9012219, 0.8238396, 0.8238396, 0.8078128, 0.8837103, 0.8726379, 0.8726379, 0.8732734, 0.9375795, 0.9375795, 0.9179793, 0.9353925, 0.9353925, 0.9579474, 0.9494146, 0.9494146, 0.9626137, 0.9572837, 0.9572837, 0.9610395, 0.9603508, 0.9603508, 0.9659364, 0.9660848, 0.9660848, 0.9661951, 0.9658337, 0.9658337, 0.9661745, 0.9587781, 0.9587781, 0.9663184, 0.9667193, 0.9667193, 0.9670305, 0.9656644, 0.9656644, 0.960188 , 0.9672132, 0.9672132, 0.9675854, 0.9674729, 0.9674729, 0.9678991, 0.9676031, 0.9676031, 0.9671862, 0.96829  , 0.96829  , 0.9674622, 0.9674622, 0.9672762, 0.9685759, 0.9685759, 0.9680994, 0.9688051, 0.9688051, 0.9691867, 0.9691431, 0.9691431, 0.9693404, 0.9693404, 0.9695521, 0.9693497, 0.9693497, 0.9693695, 0.9692023, 0.9692023, 0.9690376, 0.9690376, 0.9688436, 0.9684961, 0.9684961, 0.9679953, 0.9679953, 0.9674796, 0.9663578, 0.9663578, 0.9659378, 0.9659378, 0.9652048, 0.9645746, 0.9645746, 0.9638299, 0.9638299, 0.9631947, 0.9625754, 0.9625754, 0.9621598, 0.9621598, 0.9613178, 0.9606072, 0.9606072, 0.9617505, 0.9617505, 0.96106  , 0.9613056, 0.9613056, 0.9627665, 0.9627665, 0.9635846, 0.9635846, 0.9593628, 0.9587129, 0.9587129, 0.963466 , 0.963466 , 0.9588915, 0.9588915, 0.9615806, 0.9575029, 0.9575029, 0.950126 , 0.950126 , 0.9610652, 0.9610652, 0.9555417, 0.9527549, 0.9527549, 0.9440522, 0.9440522, 0.9440472, 0.9440472, 0.9389138, 0.9389138, 0.9273671, 0.8887609, 0.8887609, 0.8900872, 0.8900872, 0.8748462, 0.8748462, 0.8626939, 0.8626939, 0.8612906, 0.8612906, 0.8316829, 0.7925296, 0.7925296, 0.7616116, 0.7616116, 0.6800417, 0.6800417, 0.4596215, 0.4596215, 0.5658583, 0.5658583, 0.4912574, 0.4912574, 0.3093613, 0.5286278, 0.5286278, 0.3493698, 0.3493698, 0.4106133, 0.4106133, 0.4077008, 0.4077008, 0.6790084, 0.6790084, 0.4092291, 0.4092291, 0.2440555, 0.2440555, 0.6823152, 0.6823152, 0.6336088, 0.6336088, 0.6180937, 0.6180937, 0.6513696, 0.6513696, 0.4549458, 0.4549458, 0.4383757, 0.4383757, 0.5529236, 0.5529236, 0.6478011, 0.6478011, 0.6015851, 0.6015851, 0.6501393, 0.6501393, 0.7251093, 0.7251093, 0.8132029, 0.8132029, 0.7956493, 0.7956493, 0.8589178, 0.8589178, 0.835872 , 0.835872 , 0.8812453, 0.8812453, 0.8949335, 0.8949335, 0.9038596, 0.9038596, 0.832434 , 0.832434 , 0.942913 , 0.942913 , 0.8750412, 0.8750412, 0.9245503, 0.9245503, 0.8257645, 0.8257645, 0.8988774, 0.8988774, 0.9218666, 0.9218666, 0.8435656, 0.8435656, 0.8435656, 0.8990977, 0.8990977, 0.9460466, 0.9460466, 0.9122866, 0.9122866, 0.9266525, 0.9266525, 0.8951863, 0.8951863, 0.891646 ),\n",
       "          (   2, 1, 1., 0.04656914, 13.8741054 , 328.41194315, 1.18333122, 0., 0., 0., 0., 0., 0., 0., 0., 0., 0., 0., 0., 0., 0., 0., 0., 0., 0., 0., 0., 0., 0., 0., 0., 0., 0., 0., 0., 0., 0., 0., 0., 0., 0., 0., 0., 0., 0., 0., 0., 2.930196e-06, 9.590615e-06, 4.635416e-05, 1.179523e-04, 3.400039e-04, 0.00067303, 0.00175448, 0.00311871, 0.00620104, 0.00991278, 0.01611136, 0.02399394, 0.03343609, 0.04976228, 0.05771104, 0.07973675, 0.09553219, 0.1192836 , 0.1374903, 0.1569838, 0.1867648, 0.2003382, 0.2216171, 0.2465319, 0.2572868, 0.2859305, 0.2938092, 0.315163 , 0.3277963, 0.3596215, 0.3404255, 0.3863164, 0.3692043, 0.3906278, 0.4199242, 0.4006297, 0.4297032, 0.4391908, 0.4256488, 0.4576941, 0.4637473, 0.4514981, 0.4734623, 0.4787119, 0.4764793, 0.4904352, 0.4964626, 0.4938001, 0.5030374, 0.5098156, 0.5095088, 0.5169861, 0.5223923, 0.5260605, 0.5256343, 0.533596 , 0.5378075, 0.5415436, 0.5453482, 0.5498785, 0.5535087, 0.5576705, 0.5611192, 0.5652288, 0.5681697, 0.5713748, 0.5754222, 0.5780607, 0.5810076, 0.5839074, 0.5867286, 0.5896599, 0.5941319, 0.5979141, 0.6016692, 0.6048077, 0.6082917, 0.6115618, 0.6146734, 0.6172861, 0.6203868, 0.6236545, 0.626347 , 0.6296482, 0.6327857, 0.6353235, 0.637953 , 0.6409565, 0.6432857, 0.6458082, 0.648218 , 0.6508361, 0.6543132, 0.6578485, 0.6602541, 0.663341 , 0.6658072, 0.6687062, 0.6709819, 0.6732944, 0.6761824, 0.6785499, 0.6805288, 0.6838468, 0.6861267, 0.6883327, 0.6911096, 0.6936283, 0.6953739, 0.6977767, 0.6998217, 0.7025309, 0.7049624, 0.7074527, 0.7091072, 0.7113978, 0.7135685, 0.7163717, 0.7177439, 0.7197359, 0.7218429, 0.7241878, 0.7266141, 0.7279227, 0.7304142, 0.7323695, 0.734892 , 0.7363731, 0.7380545, 0.7404507, 0.7420579, 0.7439296, 0.7454594, 0.7475649, 0.7491801, 0.751609 , 0.7534118, 0.7550833, 0.7565964, 0.7587865, 0.7605923, 0.7612997, 0.7638352, 0.7655868, 0.7667241, 0.7679119, 0.7699488, 0.7725983, 0.7739487, 0.7742979, 0.7762819, 0.7779974, 0.7800121, 0.7810233, 0.7825245, 0.7829693, 0.7847964, 0.7869173, 0.7870284, 0.7895624, 0.7916312, 0.7928743, 0.7938947, 0.7954263, 0.7975395, 0.7982626, 0.7995068, 0.8009396, 0.8018836, 0.8031483, 0.8039383, 0.8052337, 0.807031 , 0.8071387, 0.8089013, 0.8101169, 0.812326 , 0.8130202, 0.8143045, 0.8152436, 0.8163825, 0.8177526, 0.8182872, 0.8186564, 0.8180637, 0.8182243, 0.8188664, 0.819398 , 0.82003  , 0.8212349, 0.8227107, 0.8251456, 0.8271275, 0.8289503, 0.8299053, 0.8306183, 0.8312621, 0.8328074, 0.8335759, 0.8341759, 0.8357856, 0.8367563, 0.8376626, 0.8385597, 0.8391821, 0.8398705, 0.8404027, 0.8412569, 0.8418878, 0.842688 , 0.843264 , 0.8432658, 0.8426134, 0.8417403, 0.8402976, 0.8429095, 0.8433741, 0.8436879, 0.8458101, 0.8471032, 0.8486063, 0.8495235, 0.8502306, 0.8517008, 0.8522934, 0.8533856, 0.8538569, 0.854687 , 0.8548874, 0.8554307, 0.8557087, 0.8564047, 0.8566046, 0.8568985, 0.8571177, 0.8568202, 0.8570631, 0.8571189, 0.8570996, 0.8570563, 0.8571097, 0.8574999, 0.8578179, 0.8583138, 0.858974 , 0.8593811, 0.8600739, 0.8607942, 0.8611752, 0.8613836, 0.8619672, 0.8607486, 0.8615727, 0.8627487, 0.8632979, 0.8626515, 0.8623379, 0.8638474, 0.865223 , 0.8655041, 0.8658476, 0.866722 , 0.8669845, 0.8673659, 0.8677601, 0.868095 , 0.867999 , 0.8677375, 0.8675477, 0.8673164, 0.8670608, 0.8668678, 0.8667805, 0.8664969, 0.8662096, 0.8659691, 0.8659359, 0.8654341, 0.8648445, 0.8609002, 0.8599095, 0.8616375, 0.8591473, 0.86058  , 0.859173 , 0.8602192, 0.8599153, 0.8601942, 0.8624701, 0.8637344, 0.8649764, 0.8668219, 0.8683891, 0.8699346, 0.8719164, 0.8723978, 0.8735216, 0.873544 , 0.8724449, 0.8581172, 0.8581443, 0.8636095, 0.8529013, 0.8708066, 0.8621723, 0.8679277, 0.8707302, 0.8706988, 0.8712539, 0.8745186, 0.8751745, 0.8773888, 0.8785722, 0.8790571, 0.8798444, 0.8802954, 0.8812988, 0.8821472, 0.883167 , 0.8835852, 0.8844169, 0.8850843, 0.8860564, 0.8868814, 0.8874745, 0.8881663, 0.8891277, 0.889821 , 0.8902912, 0.8909756, 0.8915563, 0.8919801, 0.8921685, 0.8925529, 0.8926775, 0.8928859, 0.8929147, 0.8925695, 0.8753573, 0.8832858, 0.8887503, 0.8935061, 0.8942862, 0.8960015, 0.8978113, 0.8985627, 0.8999363, 0.9017566, 0.9037014, 0.9047281, 0.9055654, 0.9065298, 0.9079549, 0.9079179, 0.9090726, 0.9092875, 0.9056915, 0.9000131, 0.8944396, 0.899652 , 0.9105967, 0.9120359, 0.9090494, 0.9127557, 0.9129707, 0.9013526, 0.9096584, 0.9119968, 0.9162272, 0.9187506, 0.9185132, 0.9200103, 0.9201327, 0.9202181, 0.9211193, 0.9216823, 0.9222915, 0.9231693, 0.9235417, 0.9241787, 0.924584 , 0.9253625, 0.9255347, 0.9261847, 0.9264389, 0.9271125, 0.9273122, 0.9276742, 0.9282637, 0.9285655, 0.9291591, 0.9293022, 0.9301705, 0.9298411, 0.9305477, 0.9313429, 0.9315916, 0.6879887, 0.8440807, 0.8685833, 0.8897154, 0.8997998, 0.9196849, 0.9052035, 0.8818146, 0.9074998, 0.9005079, 0.9321032, 0.9311106, 0.9174108, 0.9188007, 0.9080182, 0.9132097, 0.9177061, 0.9210023, 0.9219659, 0.9270749, 0.9312406, 0.9341773, 0.934382 , 0.9330305, 0.9366372, 0.9344807, 0.9375333, 0.9350286, 0.9280715, 0.9293085, 0.9001727, 0.8260883, 0.7738355, 0.8347707, 0.9165189, 0.9146053, 0.9101488, 0.8178368, 0.8417837, 0.8858519, 0.8662494, 0.8321278, 0.850801 , 0.8917154, 0.8691944, 0.8819226, 0.9157757, 0.9336966, 0.9212512, 0.9298866, 0.9298859, 0.9350904, 0.9366256, 0.9432694, 0.9468109, 0.9472466, 0.947096 , 0.9481776, 0.9488257, 0.949485 , 0.9495476, 0.9498079, 0.9498958, 0.9501433, 0.9501949, 0.9508784, 0.9510392, 0.9511696, 0.9512949, 0.9513695, 0.9517731, 0.9521468, 0.9452859, 0.4204096, 0.3339019, 0.6876755, 0.5979832, 0.6429094, 0.753634 , 0.8689577, 0.9045027, 0.9396828, 0.9491341, 0.9488519, 0.9529188, 0.9543144, 0.9544088, 0.9544294, 0.9545429, 0.9546919, 0.9548832, 0.9549984, 0.9551193, 0.9552204, 0.955493 , 0.9556036, 0.9558179, 0.9554709, 0.9551029, 0.9527614, 0.9525718, 0.9477364, 0.9476594, 0.9390859, 0.9400395, 0.9436431, 0.9461649, 0.9566706, 0.9529079, 0.9295353, 0.946499 , 0.9481816, 0.9518072, 0.9418989, 0.9372272, 0.9438035, 0.9424771, 0.942045 , 0.9465044, 0.9551895, 0.9499658, 0.9554293, 0.9471281, 0.9429157, 0.9444461, 0.9352516, 0.9177533, 0.8876956, 0.8542039, 0.8799396, 0.7678251, 0.848162 , 0.8790964, 0.8391904, 0.9412122, 0.9265535, 0.7352147, 0.9066571, 0.9335225, 0.905602 , 0.9318721, 0.8622383, 0.9159998, 0.9035146, 0.9095435, 0.9083933, 0.9294011, 0.9295356, 0.9411624, 0.9426196, 0.9419894, 0.9500286, 0.9541209, 0.9551797, 0.9551797, 0.9480892, 0.9616084, 0.9535326, 0.9600938, 0.9618295, 0.9631172, 0.9614332, 0.9622684, 0.9616497, 0.9601921, 0.963191 , 0.9638531, 0.9633022, 0.9633022, 0.9639583, 0.9654855, 0.9641522, 0.9650972, 0.9659784, 0.9656774, 0.9661543, 0.9661825, 0.966497 , 0.966497 , 0.9665689, 0.9666681, 0.9667124, 0.9668104, 0.9668338, 0.9670174, 0.9671366, 0.9670969, 0.9670969, 0.9674163, 0.9674898, 0.9674624, 0.967426 , 0.967424 , 0.9677798, 0.9677798, 0.9670244, 0.9673087, 0.9674469, 0.9676712, 0.9629013, 0.9673871, 0.9673871, 0.966281 , 0.9637079, 0.967468 , 0.9631247, 0.951596 , 0.951596 , 0.9266059, 0.9027221, 0.8086782, 0.8966941, 0.7378518, 0.7378518, 0.7754074, 0.8071462, 0.8461788, 0.9345297, 0.9212297, 0.9212297, 0.8191034, 0.8003486, 0.8083157, 0.7852976, 0.7852976, 0.8826987, 0.832886 , 0.8025137, 0.7586977, 0.7586977, 0.8774492, 0.7787804, 0.8590537, 0.9314239, 0.9314239, 0.9106566, 0.9089755, 0.8872332, 0.8872332, 0.8979189, 0.9064521, 0.7938963, 0.770631 , 0.770631 , 0.6396278, 0.4633014, 0.47665  , 0.47665  , 0.4422301, 0.4133897, 0.3870572, 0.3870572, 0.536171 , 0.6712989, 0.6205223, 0.6205223, 0.5241886, 0.535256 , 0.6059409, 0.6059409, 0.5336649, 0.5540854, 0.6218218, 0.6218218, 0.6410765, 0.5230132, 0.6659023, 0.6659023, 0.6645019, 0.5540177, 0.7172722, 0.7172722, 0.6043923, 0.6869034, 0.6869034, 0.7304329, 0.7873259, 0.686798 , 0.686798 , 0.7606556, 0.8489423, 0.8489423, 0.8700889, 0.9093285, 0.9242914, 0.9242914, 0.9059032, 0.8248131, 0.8248131, 0.8087271, 0.8878216, 0.8761875, 0.8761875, 0.8767607, 0.9445407, 0.9445407, 0.9238169, 0.9421565, 0.9421565, 0.966247 , 0.9570946, 0.9570946, 0.9711865, 0.9654345, 0.9654345, 0.9694469, 0.9686832, 0.9686832, 0.9746212, 0.9747688, 0.9747688, 0.9748493, 0.9744273, 0.9744273, 0.9747558, 0.9668184, 0.9668184, 0.9748615, 0.9752714, 0.9752714, 0.9755774, 0.9740778, 0.9740778, 0.9681903, 0.9756843, 0.9756843, 0.9760446, 0.9758862, 0.9758862, 0.9763231, 0.9759609, 0.9759609, 0.9754823, 0.9766386, 0.9766386, 0.975711 , 0.975711 , 0.9754941, 0.9768488, 0.9768488, 0.9763101, 0.9770433, 0.9770433, 0.9774143, 0.9773518, 0.9773518, 0.9775311, 0.9775311, 0.9777367, 0.9775061, 0.9775061, 0.9775118, 0.9772949, 0.9772949, 0.9771169, 0.9771169, 0.9768966, 0.9765216, 0.9765216, 0.9759887, 0.9759887, 0.9754445, 0.9742876, 0.9742876, 0.9738322, 0.9738322, 0.9730672, 0.9724096, 0.9724096, 0.9716381, 0.9716381, 0.9709683, 0.9703142, 0.9703142, 0.9698837, 0.9698837, 0.9690136, 0.9682596, 0.9682596, 0.9694374, 0.9694374, 0.9686996, 0.9688832, 0.9688832, 0.9703824, 0.9703824, 0.9711969, 0.9711969, 0.9666055, 0.9658423, 0.9658423, 0.9708463, 0.9708463, 0.9658936, 0.9658936, 0.9686875, 0.9642633, 0.9642633, 0.9563463, 0.9563463, 0.9679831, 0.9679831, 0.9620172, 0.959021 , 0.959021 , 0.9496578, 0.9496578, 0.9496562, 0.9496562, 0.9441515, 0.9441515, 0.9318006, 0.8910456, 0.8910456, 0.892478 , 0.892478 , 0.8763559, 0.8763559, 0.8634904, 0.8634904, 0.8620774, 0.8620774, 0.8308591, 0.7914063, 0.7914063, 0.758388 , 0.758388 , 0.6762313, 0.6762313, 0.4512545, 0.4512545, 0.5581452, 0.5581452, 0.4817472, 0.4817472, 0.2996473, 0.5212011, 0.5212011, 0.3384379, 0.3384379, 0.3995326, 0.3995326, 0.3954972, 0.3954972, 0.6730443, 0.6730443, 0.3973847, 0.3973847, 0.2361547, 0.2361547, 0.67551  , 0.67551  , 0.6275178, 0.6275178, 0.6118554, 0.6118554, 0.6444422, 0.6444422, 0.4438807, 0.4438807, 0.4278452, 0.4278452, 0.5452512, 0.5452512, 0.6410206, 0.6410206, 0.594829 , 0.594829 , 0.6443809, 0.6443809, 0.722157 , 0.722157 , 0.8111317, 0.8111317, 0.7929643, 0.7929643, 0.8598474, 0.8598474, 0.8353581, 0.8353581, 0.882888 , 0.882888 , 0.8971131, 0.8971131, 0.9066657, 0.9066657, 0.8314242, 0.8314242, 0.9477375, 0.9477375, 0.8762605, 0.8762605, 0.9284446, 0.9284446, 0.8250597, 0.8250597, 0.9013253, 0.9013253, 0.9252154, 0.9252154, 0.8443744, 0.8443744, 0.8443744, 0.9016668, 0.9016668, 0.9509274, 0.9509274, 0.9154448, 0.9154448, 0.9301938, 0.9301938, 0.8971408, 0.8971408, 0.8937076),\n",
       "          (   3, 1, 1., 0.04453401,  9.80267611, 273.84831725, 1.18333122, 0., 0., 0., 0., 0., 0., 0., 0., 0., 0., 0., 0., 0., 0., 0., 0., 0., 0., 0., 0., 0., 0., 0., 0., 0., 0., 0., 0., 0., 0., 0., 0., 0., 0., 0., 0., 0., 0., 0., 0., 0.000000e+00, 0.000000e+00, 4.549180e-06, 1.471828e-05, 5.573906e-05, 0.00013144, 0.0004385 , 0.00090285, 0.00214018, 0.0038522 , 0.00708464, 0.01166874, 0.01766519, 0.02907457, 0.03492979, 0.05234487, 0.06549511, 0.08638456, 0.1029954, 0.1213538, 0.1505988, 0.1640057, 0.1857733, 0.2118332, 0.2228506, 0.253821 , 0.2619762, 0.2853593, 0.2989722, 0.33519  , 0.3118519, 0.3648907, 0.3436141, 0.3680671, 0.4020903, 0.3780148, 0.4119778, 0.42249  , 0.4050165, 0.4428456, 0.4492346, 0.4333177, 0.4590598, 0.4645147, 0.4607205, 0.4768085, 0.4831583, 0.4788763, 0.4891651, 0.4965247, 0.4952812, 0.5035017, 0.5091519, 0.5126356, 0.5112932, 0.5200315, 0.5243375, 0.5278997, 0.5317292, 0.5363063, 0.5398743, 0.5440423, 0.5474245, 0.5514554, 0.5543428, 0.5574882, 0.5614595, 0.5640528, 0.5669472, 0.5697961, 0.5725685, 0.5754486, 0.5798368, 0.5835479, 0.5872332, 0.590317 , 0.5937383, 0.5969511, 0.6000096, 0.6025771, 0.6056256, 0.6088374, 0.6114882, 0.6147333, 0.6178191, 0.6203152, 0.6229056, 0.6258613, 0.6281545, 0.6306413, 0.6330183, 0.6355943, 0.6390145, 0.6424918, 0.644861 , 0.6479011, 0.6503301, 0.6531873, 0.655431 , 0.6577106, 0.660558 , 0.6628919, 0.6648465, 0.6681151, 0.6703643, 0.6725415, 0.6752834, 0.6777647, 0.6794947, 0.6818622, 0.6838873, 0.6865627, 0.6889611, 0.6914194, 0.6930587, 0.6953236, 0.697458 , 0.7002158, 0.7015705, 0.7035342, 0.7056084, 0.7079274, 0.7103233, 0.711624 , 0.7140871, 0.7160203, 0.718511 , 0.7199764, 0.7216433, 0.7240127, 0.725607 , 0.7274548, 0.7289658, 0.7310427, 0.7326405, 0.7350366, 0.7368175, 0.738482 , 0.7399883, 0.7421529, 0.7439451, 0.7446525, 0.7471554, 0.7488911, 0.7500216, 0.7512055, 0.7532098, 0.7558181, 0.7571489, 0.7575075, 0.7594604, 0.7611513, 0.7631124, 0.7640688, 0.7656395, 0.7659602, 0.7677374, 0.7699946, 0.7701249, 0.7726226, 0.7746701, 0.7758988, 0.7769079, 0.778414 , 0.7805054, 0.7812241, 0.7824201, 0.783801 , 0.7846933, 0.785915 , 0.7866654, 0.7879561, 0.7897418, 0.789865 , 0.7916147, 0.7928232, 0.7949955, 0.7957018, 0.7969735, 0.7978097, 0.7989022, 0.8003697, 0.8008882, 0.8012525, 0.8006751, 0.8007743, 0.8013949, 0.8018708, 0.8024552, 0.8035882, 0.8049774, 0.8073347, 0.809253 , 0.8110155, 0.8119307, 0.8125548, 0.8131996, 0.8148174, 0.8156059, 0.8162235, 0.8178363, 0.8187836, 0.8196732, 0.8205497, 0.8211591, 0.8218325, 0.8222756, 0.8230261, 0.8235638, 0.8242456, 0.8247095, 0.824578 , 0.8234519, 0.8220807, 0.8198123, 0.8233708, 0.8234187, 0.8235222, 0.826099 , 0.8277169, 0.8295047, 0.8303801, 0.8311136, 0.8326743, 0.8332548, 0.8343709, 0.8347926, 0.8355617, 0.8357322, 0.8362208, 0.8364645, 0.8370389, 0.8371821, 0.8374028, 0.8374848, 0.8370588, 0.8372349, 0.8370659, 0.8369536, 0.8367018, 0.8366953, 0.8370337, 0.8372973, 0.8377644, 0.838347 , 0.8387256, 0.8393674, 0.8400369, 0.8404049, 0.8404935, 0.8409957, 0.8390987, 0.8401433, 0.84159  , 0.8421043, 0.8410854, 0.8404176, 0.8422527, 0.8439059, 0.8442085, 0.8443938, 0.8454614, 0.8456456, 0.8460006, 0.8463347, 0.8465942, 0.8463542, 0.8459278, 0.8455926, 0.8451442, 0.8447202, 0.8443885, 0.844192 , 0.843778 , 0.8433644, 0.843007 , 0.842855 , 0.842164 , 0.841453 , 0.8361861, 0.835192 , 0.8377444, 0.8344839, 0.836661 , 0.8348935, 0.836494 , 0.8360369, 0.8362961, 0.8391296, 0.8404872, 0.8418537, 0.8437573, 0.8452778, 0.8468861, 0.8488205, 0.8491742, 0.8502746, 0.850134 , 0.8481561, 0.8286849, 0.8281919, 0.8355206, 0.821214 , 0.845162 , 0.8332997, 0.8407568, 0.8445713, 0.844521 , 0.8451517, 0.8495998, 0.850503 , 0.8533956, 0.8547775, 0.8552924, 0.8562726, 0.8567415, 0.8578919, 0.8588848, 0.860049 , 0.860526 , 0.8614742, 0.8622414, 0.8633806, 0.8643184, 0.865002 , 0.8657976, 0.8669376, 0.8677655, 0.868327 , 0.8691545, 0.8699049, 0.8704697, 0.8707212, 0.8713028, 0.8715069, 0.8718331, 0.871955 , 0.8715033, 0.8529989, 0.862037 , 0.868206 , 0.873018 , 0.8732983, 0.8753307, 0.8772817, 0.8782042, 0.8795594, 0.8814987, 0.8839185, 0.8849563, 0.885928 , 0.886821 , 0.8885847, 0.8883529, 0.8897521, 0.8898144, 0.8846902, 0.8767469, 0.8691122, 0.8760052, 0.8907556, 0.892688 , 0.8883862, 0.8934457, 0.8934882, 0.8778043, 0.8888011, 0.891893 , 0.8975191, 0.9008476, 0.9004354, 0.9023408, 0.9024628, 0.9023936, 0.9035735, 0.9042346, 0.9049742, 0.906021 , 0.9064574, 0.9071879, 0.9076815, 0.9085737, 0.9087699, 0.9095209, 0.9098073, 0.9105818, 0.9108039, 0.9112273, 0.9118989, 0.9122452, 0.9129143, 0.9130381, 0.9140781, 0.9135477, 0.9143582, 0.915425 , 0.9156493, 0.6761904, 0.8298889, 0.8540381, 0.8746508, 0.8840564, 0.9023427, 0.8814745, 0.8483959, 0.8824092, 0.8734747, 0.9152335, 0.9138155, 0.8951244, 0.8968821, 0.8820365, 0.8889847, 0.8952127, 0.8996584, 0.9007725, 0.907605 , 0.9132022, 0.9171753, 0.9174045, 0.9154853, 0.9203701, 0.9173924, 0.9214623, 0.9180158, 0.9082463, 0.9099766, 0.870182 , 0.7789369, 0.7284768, 0.7851992, 0.8919585, 0.8895512, 0.8833355, 0.7740081, 0.7943455, 0.8507308, 0.8253344, 0.7822859, 0.8043566, 0.8585402, 0.8287634, 0.8452795, 0.8905515, 0.9148929, 0.8978879, 0.9096057, 0.9095193, 0.9165669, 0.9186079, 0.927745 , 0.9326206, 0.9330966, 0.9328606, 0.9343185, 0.9351879, 0.9360338, 0.9360505, 0.9363808, 0.9364669, 0.9367581, 0.9367891, 0.937627 , 0.9378162, 0.9379481, 0.938069 , 0.9381359, 0.9386612, 0.939082 , 0.932348 , 0.4146647, 0.3293462, 0.6783084, 0.5898491, 0.6341876, 0.7434217, 0.8571961, 0.8922772, 0.9269945, 0.9363425, 0.9360687, 0.9400929, 0.941497 , 0.9415988, 0.9415987, 0.9417362, 0.9419025, 0.942108 , 0.9422322, 0.9423639, 0.9424739, 0.9427843, 0.9428793, 0.9431462, 0.9426188, 0.9420723, 0.9387724, 0.9383985, 0.9317955, 0.9315927, 0.919796 , 0.9211366, 0.9259561, 0.9295367, 0.9438229, 0.9384989, 0.9065793, 0.9296478, 0.9319321, 0.9368671, 0.9232832, 0.9169134, 0.9257712, 0.9239084, 0.923311 , 0.9294479, 0.9413557, 0.9341115, 0.9416159, 0.9301809, 0.9243414, 0.9263701, 0.9136603, 0.8902079, 0.8505692, 0.8110554, 0.8417072, 0.7144003, 0.8078163, 0.8397685, 0.7986651, 0.9215782, 0.9016621, 0.6779252, 0.8746856, 0.9113737, 0.8740556, 0.9088244, 0.819048 , 0.8879589, 0.8719668, 0.8795235, 0.8774972, 0.9051268, 0.9059291, 0.9212491, 0.9233845, 0.9223888, 0.9333149, 0.9389935, 0.9403977, 0.9403977, 0.930674 , 0.949279 , 0.9381077, 0.9471216, 0.9494939, 0.9513045, 0.9488945, 0.9500441, 0.9491187, 0.9469613, 0.9510823, 0.9520094, 0.9512032, 0.9512032, 0.9521077, 0.9542019, 0.9523205, 0.9536087, 0.9548395, 0.9543907, 0.9550294, 0.9551352, 0.9554519, 0.9554519, 0.9555562, 0.9556628, 0.9557223, 0.9558461, 0.9558221, 0.9560743, 0.9561961, 0.9561167, 0.9561167, 0.9565252, 0.9566116, 0.9565462, 0.9564676, 0.9564548, 0.956917 , 0.956917 , 0.9558219, 0.9562184, 0.9563759, 0.9566624, 0.9499819, 0.9562044, 0.9562044, 0.9546422, 0.9510578, 0.9562518, 0.9501233, 0.9339714, 0.9339714, 0.9016964, 0.8698109, 0.7613381, 0.8610355, 0.688175 , 0.688175 , 0.7291479, 0.7654922, 0.8090218, 0.9107946, 0.8942586, 0.8942586, 0.7709125, 0.7562599, 0.7599238, 0.7312931, 0.7312931, 0.8423878, 0.7840831, 0.7518802, 0.7062495, 0.7062495, 0.8344101, 0.7260343, 0.8201321, 0.9060137, 0.9060137, 0.8788567, 0.8765618, 0.8466657, 0.8466657, 0.8610823, 0.8725262, 0.7337196, 0.7050282, 0.7050282, 0.5743943, 0.3940669, 0.3891058, 0.3891058, 0.3718804, 0.343742 , 0.3040863, 0.3040863, 0.4582578, 0.5988102, 0.5484325, 0.5484325, 0.4484684, 0.4602016, 0.5304005, 0.5304005, 0.4572191, 0.4863966, 0.5519782, 0.5519782, 0.5816292, 0.4402749, 0.5986349, 0.5986349, 0.599418 , 0.4808207, 0.6583914, 0.6583914, 0.5303417, 0.6141998, 0.6141998, 0.67447  , 0.7282872, 0.62383  , 0.62383  , 0.7033784, 0.8050033, 0.8050033, 0.830269 , 0.8761586, 0.896153 , 0.896153 , 0.8713708, 0.7749323, 0.7749323, 0.7608138, 0.8529543, 0.8388796, 0.8388796, 0.8391164, 0.9235285, 0.9235285, 0.8975699, 0.9204481, 0.9204481, 0.9533421, 0.9407279, 0.9407279, 0.9601914, 0.9521419, 0.9521419, 0.9577875, 0.9566957, 0.9566957, 0.9649476, 0.9651495, 0.9651495, 0.9652478, 0.9646375, 0.9646375, 0.965081 , 0.9540896, 0.9540896, 0.9652122, 0.9657927, 0.9657927, 0.9662133, 0.9640692, 0.9640692, 0.9559186, 0.9663172, 0.9663172, 0.9668111, 0.9665746, 0.9665746, 0.9671797, 0.9666531, 0.9666531, 0.965965 , 0.9675872, 0.9675872, 0.9662605, 0.9662605, 0.965947 , 0.9678544, 0.9678544, 0.9670883, 0.9681233, 0.9681233, 0.9686548, 0.9685754, 0.9685754, 0.9688473, 0.9688473, 0.9691665, 0.968964 , 0.968964 , 0.9689842, 0.9688008, 0.9688008, 0.9686505, 0.9686505, 0.9684576, 0.9681097, 0.9681097, 0.9676085, 0.9676085, 0.9670925, 0.9659704, 0.9659704, 0.9655495, 0.9655495, 0.964816 , 0.9641816, 0.9641816, 0.9634394, 0.9634394, 0.9627994, 0.9621822, 0.9621822, 0.9617643, 0.9617643, 0.9608553, 0.9599167, 0.9599167, 0.9613475, 0.9613475, 0.9604644, 0.9602311, 0.9602311, 0.9620258, 0.9620258, 0.962852 , 0.962852 , 0.9560882, 0.9546861, 0.9546861, 0.9612151, 0.9612151, 0.9540277, 0.9540277, 0.9574832, 0.9510198, 0.9510198, 0.9399248, 0.9399248, 0.95578  , 0.95578  , 0.9472761, 0.9431509, 0.9431509, 0.929873 , 0.929873 , 0.9299936, 0.9299936, 0.9223956, 0.9223956, 0.9054679, 0.8538437, 0.8538437, 0.8561021, 0.8561021, 0.835442 , 0.835442 , 0.818956 , 0.818956 , 0.8178959, 0.8178959, 0.7785728, 0.7426307, 0.7426307, 0.6984035, 0.6984035, 0.6144512, 0.6144512, 0.3785356, 0.3785356, 0.4806125, 0.4806125, 0.4003441, 0.4003441, 0.2316937, 0.4469984, 0.4469984, 0.259986 , 0.259986 , 0.3161367, 0.3161367, 0.3056285, 0.3056285, 0.5995333, 0.5995333, 0.3107131, 0.3107131, 0.1814711, 0.1814711, 0.5965424, 0.5965424, 0.5555625, 0.5555625, 0.5390651, 0.5390651, 0.5702669, 0.5702669, 0.35512  , 0.35512  , 0.3462599, 0.3462599, 0.4733465, 0.4733465, 0.5638   , 0.5638   , 0.5203127, 0.5203127, 0.5734783, 0.5734783, 0.6670618, 0.6670618, 0.7543783, 0.7543783, 0.7342904, 0.7342904, 0.8202001, 0.8202001, 0.7880208, 0.7880208, 0.8456606, 0.8456606, 0.8621589, 0.8621589, 0.8756207, 0.8756207, 0.7812565, 0.7812565, 0.9270614, 0.9270614, 0.8376242, 0.8376242, 0.9037517, 0.9037517, 0.7788624, 0.7788624, 0.8692302, 0.8692302, 0.8966349, 0.8966349, 0.8064051, 0.8064051, 0.8064051, 0.8709938, 0.8709938, 0.9314817, 0.9314817, 0.8877736, 0.8877736, 0.9030796, 0.9030796, 0.8626066, 0.8626066, 0.8608381),\n",
       "          ...,\n",
       "          (3648, 9, 9., 0.06081503,  5.14961406, 273.84831725, 1.18333122, 0., 0., 0., 0., 0., 0., 0., 0., 0., 0., 0., 0., 0., 0., 0., 0., 0., 0., 0., 0., 0., 0., 0., 0., 0., 0., 0., 0., 0., 0., 0., 0., 0., 0., 0., 0., 0., 0., 0., 0., 0.000000e+00, 3.051987e-06, 1.737071e-05, 4.866571e-05, 1.564863e-04, 0.00033227, 0.00095614, 0.00180276, 0.0038462 , 0.00644825, 0.01101305, 0.01707797, 0.02460465, 0.0381287 , 0.04485456, 0.06403012, 0.07807101, 0.09965678, 0.1164508, 0.1346651, 0.1629654, 0.175898 , 0.1964601, 0.2207551, 0.2311618, 0.2594768, 0.2671386, 0.2883651, 0.3008514, 0.3329843, 0.3130877, 0.3597227, 0.3418217, 0.3634997, 0.3933533, 0.3731343, 0.4028393, 0.4123495, 0.3979642, 0.4308607, 0.4368334, 0.4237808, 0.4462846, 0.4514456, 0.4487776, 0.4630046, 0.4689601, 0.4658629, 0.4751485, 0.4819015, 0.4812883, 0.4887749, 0.4940901, 0.4975793, 0.4968623, 0.504831 , 0.5089417, 0.5125043, 0.5162008, 0.5206109, 0.5241091, 0.5281534, 0.5314783, 0.5354422, 0.5382882, 0.5413855, 0.5452944, 0.547857 , 0.5507128, 0.553525 , 0.5562636, 0.5591076, 0.5634269, 0.5670802, 0.570709 , 0.5737543, 0.5771282, 0.5803004, 0.5833234, 0.5858597, 0.5888745, 0.5920486, 0.5946781, 0.5978864, 0.6009407, 0.6034113, 0.605985 , 0.608915 , 0.6111901, 0.6136653, 0.6160344, 0.6185865, 0.6219722, 0.6254146, 0.6277676, 0.6307859, 0.6331984, 0.6360403, 0.6382735, 0.6405423, 0.6433769, 0.6457   , 0.6476541, 0.6509014, 0.6531438, 0.6553166, 0.6580558, 0.6605338, 0.6622664, 0.6646269, 0.6666571, 0.6693283, 0.6717184, 0.6741729, 0.6758237, 0.6780951, 0.6802282, 0.6829905, 0.6843666, 0.6863492, 0.6884315, 0.6907625, 0.6931587, 0.6944804, 0.6969507, 0.6988984, 0.70139  , 0.702869 , 0.7045551, 0.7069448, 0.7085587, 0.7104294, 0.7119614, 0.7140573, 0.7156856, 0.7181   , 0.7198909, 0.7215836, 0.7231202, 0.725293 , 0.7271082, 0.7278501, 0.7303706, 0.7321397, 0.7333028, 0.7345359, 0.7365554, 0.73919  , 0.7405443, 0.7409763, 0.7429534, 0.7446535, 0.7467354, 0.7478754, 0.7492884, 0.7500083, 0.7518861, 0.753733 , 0.7539356, 0.7564371, 0.7585176, 0.7597862, 0.7608297, 0.7624003, 0.7645287, 0.7652915, 0.7665539, 0.7679952, 0.7690002, 0.7702643, 0.7710935, 0.772424 , 0.77425  , 0.7744256, 0.7762105, 0.7774484, 0.7797232, 0.7804613, 0.7817729, 0.7829075, 0.7841574, 0.7853462, 0.7859491, 0.7863765, 0.7858776, 0.7862024, 0.7868082, 0.7873734, 0.7880242, 0.7892386, 0.7907264, 0.793152 , 0.7951369, 0.7969763, 0.797968 , 0.7988356, 0.7995254, 0.8010148, 0.8018615, 0.8025516, 0.8041942, 0.805191 , 0.8061509, 0.8071072, 0.8077947, 0.8085274, 0.8090928, 0.809974 , 0.8106194, 0.8114567, 0.8120838, 0.8121955, 0.8121847, 0.812069 , 0.8119987, 0.8126524, 0.8139893, 0.8147731, 0.8161642, 0.816969 , 0.8180588, 0.8191425, 0.8198313, 0.8212271, 0.8218679, 0.8230043, 0.8235199, 0.8244228, 0.8246559, 0.8252822, 0.8255944, 0.8263426, 0.8265708, 0.8269172, 0.827263 , 0.8271357, 0.8272234, 0.8274264, 0.8273403, 0.8274298, 0.8274172, 0.8278356, 0.8282161, 0.8287543, 0.8294926, 0.8299139, 0.8306682, 0.8314692, 0.8319041, 0.8323314, 0.8330384, 0.8330544, 0.8334308, 0.8340985, 0.8346627, 0.8346948, 0.8350509, 0.8359718, 0.8368883, 0.8371499, 0.8378171, 0.8382525, 0.8385631, 0.8389136, 0.8393183, 0.839662 , 0.8395528, 0.8392759, 0.8390756, 0.8388244, 0.838571 , 0.8383824, 0.8382797, 0.8379966, 0.8377119, 0.8374687, 0.8374388, 0.8371371, 0.836633 , 0.8349572, 0.8339671, 0.8341146, 0.8331853, 0.8332304, 0.8326089, 0.8326697, 0.8329525, 0.8334357, 0.8348715, 0.8361329, 0.8372358, 0.8391055, 0.8408909, 0.8424235, 0.8446853, 0.8455026, 0.8466212, 0.8469296, 0.8473903, 0.8436327, 0.8442004, 0.8459455, 0.8428404, 0.8482484, 0.8460215, 0.847899 , 0.8486688, 0.8486734, 0.848832 , 0.8497427, 0.8498648, 0.8507988, 0.8517542, 0.8522627, 0.8527519, 0.8532822, 0.8543427, 0.8551869, 0.8563039, 0.8567617, 0.8576789, 0.8584091, 0.8594956, 0.8603969, 0.8610519, 0.8618146, 0.8628934, 0.8636745, 0.8642084, 0.8649873, 0.8656824, 0.8662081, 0.866443 , 0.8669733, 0.8671912, 0.8674567, 0.867664 , 0.8678163, 0.8542811, 0.8598471, 0.8639358, 0.8686721, 0.8705438, 0.871875 , 0.8737644, 0.8742836, 0.8761296, 0.8782216, 0.8795485, 0.8809146, 0.8817071, 0.8831548, 0.8840854, 0.8845654, 0.8854228, 0.886146 , 0.8855764, 0.8845078, 0.8832055, 0.8855233, 0.8893756, 0.8900277, 0.889745 , 0.8911451, 0.8921027, 0.8889022, 0.8918683, 0.89297  , 0.8948166, 0.8961518, 0.8963364, 0.8974269, 0.8976349, 0.8983444, 0.8988675, 0.8994574, 0.9000449, 0.9009266, 0.9013522, 0.9020913, 0.9024796, 0.9033721, 0.9035727, 0.904327 , 0.9046205, 0.905398 , 0.9056473, 0.9060488, 0.9067301, 0.9070876, 0.9078213, 0.9081337, 0.9090282, 0.909233 , 0.910056 , 0.9104506, 0.9109994, 0.6729839, 0.8253388, 0.849393 , 0.8705058, 0.8814134, 0.9032397, 0.9011759, 0.8988805, 0.9070169, 0.9049431, 0.9150506, 0.9149769, 0.9110367, 0.9119655, 0.9090459, 0.910803 , 0.9124308, 0.9135879, 0.9142119, 0.9159949, 0.9174166, 0.9185296, 0.9188352, 0.9186026, 0.9200403, 0.9195831, 0.9207477, 0.9200864, 0.9185036, 0.9190869, 0.9106851, 0.8850145, 0.8536755, 0.8903716, 0.9166441, 0.916187 , 0.9150787, 0.879221 , 0.8937266, 0.908377 , 0.9021247, 0.8908886, 0.8980533, 0.9108474, 0.9039896, 0.9081656, 0.9187126, 0.9242366, 0.9207318, 0.923386 , 0.9236552, 0.9253428, 0.9259541, 0.9279628, 0.9291054, 0.929637 , 0.9297299, 0.9301798, 0.9304994, 0.9309371, 0.9311829, 0.9313595, 0.9315096, 0.9317615, 0.931914 , 0.9325041, 0.9326675, 0.932878 , 0.9330969, 0.9332433, 0.9334821, 0.93392  , 0.9272165, 0.4123849, 0.3275388, 0.6745942, 0.5866244, 0.6307327, 0.7393782, 0.852545 , 0.8874496, 0.9219878, 0.9313046, 0.9310361, 0.9350499, 0.9364921, 0.9366082, 0.9366933, 0.9367858, 0.9369488, 0.9371749, 0.9373127, 0.9374614, 0.9375857, 0.9379081, 0.9381503, 0.9383267, 0.9383575, 0.9383846, 0.9378421, 0.9380266, 0.9366535, 0.9368765, 0.9344724, 0.9349265, 0.9361624, 0.9369613, 0.9403961, 0.9394666, 0.9327142, 0.9378487, 0.9384663, 0.939594 , 0.9368004, 0.9355509, 0.9375892, 0.9372867, 0.9372759, 0.9386516, 0.9412304, 0.9398607, 0.9415413, 0.9391577, 0.9380549, 0.9385796, 0.9360929, 0.9308717, 0.9215394, 0.9088727, 0.9186687, 0.8707241, 0.9042396, 0.9191636, 0.8996142, 0.9389187, 0.9345914, 0.8569022, 0.9289868, 0.9369155, 0.9285799, 0.9367824, 0.9140912, 0.9319847, 0.9280331, 0.9301907, 0.9301075, 0.9368269, 0.9366888, 0.9404627, 0.9408861, 0.9408929, 0.9433762, 0.9446128, 0.9450703, 0.9450703, 0.9430568, 0.9471183, 0.944856 , 0.9468689, 0.9474955, 0.9478934, 0.947591 , 0.9479293, 0.9480376, 0.9484236, 0.9493521, 0.9496374, 0.9496351, 0.9496351, 0.9498808, 0.950498 , 0.9501834, 0.9505953, 0.95086  , 0.9508896, 0.9511521, 0.9511042, 0.951492 , 0.951492 , 0.9515573, 0.9516719, 0.951748 , 0.9519013, 0.9520308, 0.9521593, 0.9523318, 0.9524252, 0.9524252, 0.9526848, 0.9527788, 0.9528889, 0.9529868, 0.9530303, 0.9532976, 0.9532976, 0.953212 , 0.9533356, 0.9535049, 0.9536892, 0.9524138, 0.9538426, 0.9538426, 0.9535375, 0.9529514, 0.9541286, 0.9530151, 0.9498422, 0.9498422, 0.9417924, 0.9344918, 0.8958592, 0.9331841, 0.8547472, 0.8547472, 0.871397 , 0.8901301, 0.9072065, 0.9455845, 0.9410158, 0.9410158, 0.902469 , 0.8876032, 0.896713 , 0.8889518, 0.8889518, 0.9298128, 0.9101874, 0.8955705, 0.8720502, 0.8720502, 0.9290127, 0.8834625, 0.9181201, 0.9461583, 0.9461583, 0.9395895, 0.9391838, 0.9328948, 0.9328948, 0.9362442, 0.9389201, 0.8984796, 0.8902774, 0.8902774, 0.8108283, 0.6641215, 0.7040728, 0.7040728, 0.6471105, 0.62402  , 0.6318272, 0.6318272, 0.7263519, 0.8314617, 0.7994928, 0.7994928, 0.7096917, 0.7097336, 0.8044792, 0.8044792, 0.7304934, 0.7569076, 0.7926261, 0.7926261, 0.7993401, 0.7232885, 0.8329042, 0.8329042, 0.8270954, 0.7386808, 0.8565938, 0.8565938, 0.8068281, 0.8530945, 0.8530945, 0.860156 , 0.8968343, 0.8446413, 0.8446413, 0.8781602, 0.9192817, 0.9192817, 0.9276024, 0.9429874, 0.9477205, 0.9477205, 0.9421803, 0.9111608, 0.9111608, 0.900836 , 0.9341429, 0.9297307, 0.9297307, 0.930429 , 0.9545398, 0.9545398, 0.94748  , 0.9540035, 0.9540035, 0.9612445, 0.9586369, 0.9586369, 0.9628912, 0.9613772, 0.9613772, 0.9625801, 0.9624524, 0.9624524, 0.9643346, 0.9644193, 0.9644193, 0.9645761, 0.9645789, 0.9645789, 0.964804 , 0.9625594, 0.9625594, 0.9650072, 0.965195 , 0.965195 , 0.9653814, 0.9650757, 0.9650757, 0.9634492, 0.9657258, 0.9657258, 0.9659651, 0.9660525, 0.9660525, 0.9662473, 0.9663005, 0.9663005, 0.9662741, 0.9666975, 0.9666975, 0.9665696, 0.9665696, 0.9665667, 0.9670812, 0.9670812, 0.9670166, 0.9672977, 0.9672977, 0.9675101, 0.9675326, 0.9675326, 0.9676527, 0.9676527, 0.9677421, 0.9675663, 0.9675663, 0.9675995, 0.9675003, 0.9675003, 0.9673302, 0.9673302, 0.9671598, 0.9668375, 0.9668375, 0.9663659, 0.9663659, 0.9658754, 0.9647818, 0.9647818, 0.9643948, 0.9643948, 0.9636897, 0.9630874, 0.9630874, 0.9623619, 0.9623619, 0.9617618, 0.9611703, 0.9611703, 0.9607651, 0.9607651, 0.9600214, 0.9596314, 0.9596314, 0.9603844, 0.9603844, 0.9599597, 0.9608502, 0.9608502, 0.9618681, 0.9618681, 0.962679 , 0.962679 , 0.9620434, 0.9624832, 0.9624832, 0.9647138, 0.9647138, 0.9638211, 0.9638211, 0.9654057, 0.9646749, 0.9646749, 0.9626227, 0.9626227, 0.9665851, 0.9665851, 0.9653421, 0.9646526, 0.9646526, 0.9622721, 0.9622721, 0.9622812, 0.9622812, 0.9608174, 0.9608174, 0.9573002, 0.9433651, 0.9433651, 0.9437456, 0.9437456, 0.9383388, 0.9383388, 0.9341184, 0.9341184, 0.9333209, 0.9333209, 0.9224038, 0.899024 , 0.899024 , 0.8901381, 0.8901381, 0.8133208, 0.8133208, 0.6751724, 0.6751724, 0.7420281, 0.7420281, 0.7007131, 0.7007131, 0.5483645, 0.7224988, 0.7224988, 0.586741 , 0.586741 , 0.6503296, 0.6503296, 0.6522176, 0.6522176, 0.8429462, 0.8429462, 0.6585272, 0.6585272, 0.4407522, 0.4407522, 0.8514056, 0.8514056, 0.7907352, 0.7907352, 0.7857991, 0.7857991, 0.8342306, 0.8342306, 0.6695701, 0.6695701, 0.6694501, 0.6694501, 0.7419298, 0.7419298, 0.8021733, 0.8021733, 0.7620628, 0.7620628, 0.8015586, 0.8015586, 0.8573993, 0.8573993, 0.9155008, 0.9155008, 0.9068772, 0.9068772, 0.9288254, 0.9288254, 0.9217499, 0.9217499, 0.939966 , 0.939966 , 0.9457079, 0.9457079, 0.948719 , 0.948719 , 0.9224213, 0.9224213, 0.9637148, 0.9637148, 0.9387546, 0.9387546, 0.9569821, 0.9569821, 0.9172385, 0.9172385, 0.9479187, 0.9479187, 0.9576089, 0.9576089, 0.9191048, 0.9191048, 0.9191048, 0.9474626, 0.9474626, 0.9655328, 0.9655328, 0.952923 , 0.952923 , 0.9597386, 0.9597386, 0.9478331, 0.9478331, 0.9452097),\n",
       "          (3649, 9, 9., 0.04860426,  5.73124681, 254.75104818, 1.18333122, 0., 0., 0., 0., 0., 0., 0., 0., 0., 0., 0., 0., 0., 0., 0., 0., 0., 0., 0., 0., 0., 0., 0., 0., 0., 0., 0., 0., 0., 0., 0., 0., 0., 0., 0., 0., 0., 0., 0., 0., 0.000000e+00, 5.240444e-06, 2.748797e-05, 7.339910e-05, 2.234821e-04, 0.0004582 , 0.00125507, 0.00229784, 0.00473316, 0.00774924, 0.012912  , 0.01962358, 0.02780782, 0.04223407, 0.04933512, 0.06929175, 0.0837572 , 0.1057507 , 0.1227395, 0.1410489, 0.1692575, 0.1821392, 0.202471 , 0.2263886, 0.2366837, 0.264375 , 0.2719417, 0.2926532, 0.3048824, 0.3359878, 0.3170103, 0.3620092, 0.3450153, 0.3659941, 0.3947833, 0.3755968, 0.4042071, 0.413475 , 0.3999265, 0.4315441, 0.437426 , 0.4251495, 0.4468163, 0.4519161, 0.4495659, 0.4633159, 0.469184 , 0.4664178, 0.4754585, 0.4820698, 0.4816425, 0.4889528, 0.4941984, 0.4977096, 0.4971752, 0.5049591, 0.5090346, 0.5126171, 0.5162939, 0.5206774, 0.5241737, 0.5282012, 0.5315261, 0.53549  , 0.5383359, 0.5414332, 0.545342 , 0.5479046, 0.5507603, 0.5535724, 0.5563109, 0.5591549, 0.5634741, 0.5671273, 0.5707561, 0.5738012, 0.5771752, 0.5803472, 0.5833701, 0.5859063, 0.588921 , 0.5920951, 0.5947244, 0.5979326, 0.6009866, 0.6034572, 0.6060306, 0.6089605, 0.6112354, 0.6137103, 0.6160792, 0.6186312, 0.6220168, 0.625459 , 0.6278118, 0.6308299, 0.6332422, 0.6360838, 0.6383169, 0.6405855, 0.6434199, 0.6457427, 0.6476966, 0.6509437, 0.6531858, 0.6553584, 0.6580974, 0.6605738, 0.6623072, 0.6646668, 0.6666974, 0.6693684, 0.6717584, 0.6742126, 0.675863 , 0.6781343, 0.6802686, 0.6830326, 0.68441  , 0.6863942, 0.6884778, 0.6908088, 0.6932049, 0.6945264, 0.6969966, 0.6989433, 0.7014357, 0.7029148, 0.7046013, 0.7069908, 0.7086056, 0.7104775, 0.7120107, 0.7141079, 0.7157376, 0.7181533, 0.7199435, 0.7216367, 0.7231731, 0.7253457, 0.727161 , 0.7279036, 0.730425 , 0.7321951, 0.7333589, 0.7345933, 0.7366145, 0.7392519, 0.740608 , 0.7410421, 0.7430211, 0.7447221, 0.7467884, 0.7479004, 0.7493585, 0.7500075, 0.7518691, 0.7538084, 0.7540119, 0.7565157, 0.7585979, 0.7598686, 0.760914 , 0.7624841, 0.7646191, 0.7653838, 0.7666553, 0.7681056, 0.7691237, 0.7703946, 0.7712333, 0.7725643, 0.7743909, 0.7745669, 0.7763525, 0.7775907, 0.779861 , 0.7806076, 0.7819224, 0.7830052, 0.7842394, 0.7855044, 0.7861103, 0.7865454, 0.7860526, 0.7863566, 0.7870083, 0.787587 , 0.7882484, 0.7894766, 0.7909811, 0.7934182, 0.7954131, 0.797263 , 0.7982634, 0.7991046, 0.7997901, 0.801315 , 0.8021601, 0.8028458, 0.8044917, 0.8054913, 0.8064587, 0.807422 , 0.8081155, 0.8088529, 0.809439 , 0.810343 , 0.8110085, 0.8118706, 0.8125162, 0.8126214, 0.8124573, 0.81214  , 0.8116601, 0.8129826, 0.8140616, 0.8147119, 0.8163556, 0.8173348, 0.8185759, 0.8196308, 0.8203411, 0.8217887, 0.8224286, 0.8235765, 0.8241045, 0.8250242, 0.8252653, 0.8259078, 0.8262291, 0.827006 , 0.8272481, 0.8276129, 0.8279588, 0.8278101, 0.8279988, 0.8282015, 0.8281811, 0.8282742, 0.8283138, 0.8287623, 0.8291538, 0.8297067, 0.830458 , 0.8308935, 0.83166  , 0.8324736, 0.8329164, 0.8333042, 0.8340014, 0.8336532, 0.8342072, 0.8350706, 0.8356627, 0.835511 , 0.8356792, 0.8368186, 0.8379262, 0.8382097, 0.8388079, 0.8393974, 0.839713 , 0.8401006, 0.8405208, 0.8408824, 0.8408058, 0.8405665, 0.8403994, 0.8401962, 0.8399761, 0.8398163, 0.8397461, 0.8394932, 0.8392401, 0.8390253, 0.8390236, 0.8386843, 0.8381793, 0.8358282, 0.8348676, 0.8355526, 0.8341378, 0.8346574, 0.8338042, 0.834205 , 0.8343091, 0.8347355, 0.8364462, 0.8377107, 0.838858 , 0.840718 , 0.8424314, 0.8439669, 0.8461386, 0.8468491, 0.847982 , 0.848205 , 0.8481921, 0.840966 , 0.8414386, 0.8444049, 0.8387829, 0.8483295, 0.8440291, 0.8472378, 0.8486792, 0.8486764, 0.849001 , 0.8506877, 0.8509966, 0.8523602, 0.8534086, 0.8539206, 0.8545135, 0.8550322, 0.8560795, 0.8569285, 0.8580191, 0.8584662, 0.85936  , 0.8600733, 0.8611301, 0.8620105, 0.8626489, 0.8633927, 0.8644385, 0.8651949, 0.8657125, 0.8664652, 0.8671297, 0.8676309, 0.8678545, 0.8683506, 0.8685445, 0.8687986, 0.8689667, 0.868975 , 0.854356 , 0.860667 , 0.8651798, 0.8699034, 0.8714154, 0.8728718, 0.8747422, 0.8753352, 0.877026 , 0.8790252, 0.8805464, 0.8818001, 0.8826045, 0.8839042, 0.8850036, 0.885325 , 0.8862889, 0.8868629, 0.8853268, 0.8827671, 0.8800592, 0.8833362, 0.8895276, 0.8904364, 0.8892908, 0.891436 , 0.8921697, 0.8861642, 0.8909361, 0.8924518, 0.8950921, 0.8968247, 0.8968808, 0.8981147, 0.8982984, 0.8988225, 0.8994728, 0.9000661, 0.9006684, 0.9015648, 0.9019797, 0.9026998, 0.9030992, 0.9039742, 0.9041715, 0.9049105, 0.9051992, 0.9059612, 0.9062019, 0.9065992, 0.9072686, 0.9076159, 0.9083244, 0.9085903, 0.9094906, 0.9095304, 0.9103323, 0.9108605, 0.9113273, 0.6731729, 0.8256918, 0.8497422, 0.870725 , 0.8813074, 0.9023709, 0.8961859, 0.8865761, 0.9007219, 0.896883 , 0.9143647, 0.9139907, 0.9068173, 0.9079029, 0.9023972, 0.9053105, 0.907856 , 0.9097248, 0.9104898, 0.913393 , 0.9157348, 0.9174489, 0.9177225, 0.9171288, 0.919279 , 0.9182596, 0.9200597, 0.9187908, 0.9154658, 0.9162492, 0.9009717, 0.8571161, 0.8132939, 0.8647873, 0.9104475, 0.9094589, 0.9072636, 0.8487805, 0.8694006, 0.8945838, 0.8836228, 0.8640341, 0.8757339, 0.898199 , 0.8859372, 0.8931237, 0.9115947, 0.9212547, 0.9147797, 0.9194327, 0.9196246, 0.9224896, 0.9234167, 0.9269508, 0.9288809, 0.9293991, 0.9294158, 0.9300779, 0.9305087, 0.9310268, 0.9312208, 0.9314286, 0.9315627, 0.9318196, 0.9319443, 0.9325781, 0.9327447, 0.9329352, 0.9331301, 0.9332583, 0.9335558, 0.9339872, 0.9272835, 0.4124137, 0.3275613, 0.6746395, 0.5866631, 0.6307727, 0.7394244, 0.852598 , 0.8875043, 0.922044 , 0.9313604, 0.9310918, 0.9351056, 0.9365499, 0.9366665, 0.936737 , 0.936841 , 0.9370084, 0.9372349, 0.937373 , 0.9375219, 0.9376463, 0.9379649, 0.9381745, 0.9383687, 0.9382846, 0.9381886, 0.9370667, 0.9371492, 0.9346222, 0.9347654, 0.9303224, 0.9309347, 0.9329801, 0.9343265, 0.940132 , 0.9382946, 0.9259996, 0.9351016, 0.9360789, 0.938044 , 0.9328883, 0.9304998, 0.9340798, 0.9334493, 0.9333057, 0.9357055, 0.9403153, 0.9376888, 0.9406291, 0.936291 , 0.9341733, 0.9350478, 0.9303575, 0.9209516, 0.9044102, 0.8834065, 0.8995391, 0.8239032, 0.8770365, 0.8997652, 0.8701408, 0.9343007, 0.9265015, 0.8018367, 0.9160898, 0.9303465, 0.9153065, 0.929774 , 0.8902652, 0.9211132, 0.9140921, 0.9176912, 0.9173515, 0.9290665, 0.928897 , 0.9354168, 0.9361596, 0.9359877, 0.9403447, 0.9425223, 0.9431967, 0.9431967, 0.9394963, 0.9467021, 0.9425269, 0.9460573, 0.9470624, 0.9477503, 0.9470173, 0.9475265, 0.9473981, 0.947167 , 0.948784 , 0.9491974, 0.9490311, 0.9490311, 0.9494162, 0.9503479, 0.9497077, 0.9503077, 0.9507746, 0.950708 , 0.9510533, 0.9510408, 0.9514185, 0.9514185, 0.9514946, 0.9516093, 0.9516853, 0.9518381, 0.9519371, 0.9520953, 0.9522607, 0.9523216, 0.9523216, 0.9526183, 0.9527133, 0.952791 , 0.9528573, 0.9528906, 0.9532043, 0.9532043, 0.9529155, 0.9530948, 0.9532692, 0.9534798, 0.9510704, 0.9535175, 0.9535175, 0.9529538, 0.9517271, 0.9537669, 0.9516159, 0.9457255, 0.9457255, 0.9316086, 0.9185926, 0.856608 , 0.9158384, 0.79913  , 0.79913  , 0.8253527, 0.8504868, 0.8773029, 0.9372101, 0.9293649, 0.9293649, 0.8656963, 0.8464472, 0.8572492, 0.843783 , 0.843783 , 0.908869 , 0.8768455, 0.8546243, 0.8205215, 0.8205215, 0.9067768, 0.8368095, 0.8908395, 0.9367681, 0.9367681, 0.9251808, 0.9243541, 0.9129168, 0.9129168, 0.9187786, 0.9234716, 0.8554116, 0.8414648, 0.8414648, 0.7316519, 0.5722997, 0.6042466, 0.6042466, 0.5536788, 0.5249569, 0.5224088, 0.5224088, 0.6442147, 0.7611492, 0.7177442, 0.7177442, 0.6234169, 0.6304426, 0.7159105, 0.7159105, 0.6383647, 0.659562 , 0.7135443, 0.7135443, 0.7230874, 0.6365012, 0.7584751, 0.7584751, 0.753203 , 0.657276 , 0.7942217, 0.7942217, 0.7167049, 0.7828517, 0.7828517, 0.8013557, 0.8513998, 0.7744256, 0.7744256, 0.826698 , 0.8888128, 0.8888128, 0.9023263, 0.9275029, 0.9357887, 0.9357887, 0.925851 , 0.874675 , 0.874675 , 0.860303 , 0.9130413, 0.9057546, 0.9057546, 0.9065765, 0.9472748, 0.9472748, 0.9351105, 0.9461067, 0.9461067, 0.9590487, 0.9542623, 0.9542623, 0.9618137, 0.9589223, 0.9589223, 0.9610502, 0.9607273, 0.9607273, 0.9639728, 0.9640837, 0.9640837, 0.9642338, 0.9641145, 0.9641145, 0.9643918, 0.9602609, 0.9602609, 0.9645863, 0.9648546, 0.9648546, 0.9650933, 0.9644167, 0.9644167, 0.9613825, 0.965405 , 0.965405 , 0.9657025, 0.9657277, 0.9657277, 0.9660119, 0.9659512, 0.9659512, 0.9657928, 0.9664689, 0.9664689, 0.9661003, 0.9661003, 0.9660366, 0.9668446, 0.9668446, 0.9666393, 0.9670805, 0.9670805, 0.9673648, 0.9673681, 0.9673681, 0.9675269, 0.9675269, 0.9676678, 0.9674921, 0.9674921, 0.9675255, 0.9674185, 0.9674185, 0.9672553, 0.9672553, 0.9670854, 0.966763 , 0.966763 , 0.9662913, 0.9662913, 0.9658006, 0.964707 , 0.964707 , 0.9643198, 0.9643198, 0.9636143, 0.9630101, 0.9630101, 0.9622858, 0.9622858, 0.9616837, 0.9610935, 0.9610935, 0.9606873, 0.9606873, 0.9599118, 0.9594077, 0.9594077, 0.9603043, 0.9603043, 0.9597888, 0.9604475, 0.9604475, 0.9616279, 0.9616279, 0.9624435, 0.9624435, 0.9604986, 0.9605386, 0.9605386, 0.963698 , 0.963698 , 0.9614606, 0.9614606, 0.9634562, 0.9615062, 0.9615062, 0.9574961, 0.9574961, 0.9640214, 0.9640214, 0.9612065, 0.9597238, 0.9597238, 0.9550536, 0.9550536, 0.9550313, 0.9550313, 0.9522017, 0.9522017, 0.9456905, 0.9217533, 0.9217533, 0.922425 , 0.922425 , 0.9130723, 0.9130723, 0.9056891, 0.9056891, 0.9044885, 0.9044885, 0.8859392, 0.8524465, 0.8524465, 0.8354239, 0.8354239, 0.7520992, 0.7520992, 0.566992 , 0.566992 , 0.663    , 0.663    , 0.6055423, 0.6055423, 0.4280415, 0.6272535, 0.6272535, 0.4740727, 0.4740727, 0.5386333, 0.5386333, 0.5416172, 0.5416172, 0.7701089, 0.7701089, 0.5432162, 0.5432162, 0.3395123, 0.3395123, 0.7784032, 0.7784032, 0.720108 , 0.720108 , 0.707218 , 0.707218 , 0.7524033, 0.7524033, 0.5746012, 0.5746012, 0.5616223, 0.5616223, 0.656211 , 0.656211 , 0.7373555, 0.7373555, 0.6899715, 0.6899715, 0.733763 , 0.733763 , 0.7963805, 0.7963805, 0.8742735, 0.8742735, 0.8615077, 0.8615077, 0.8999752, 0.8999752, 0.8866398, 0.8866398, 0.9164125, 0.9164125, 0.9258003, 0.9258003, 0.9308522, 0.9308522, 0.8860214, 0.8860214, 0.9556947, 0.9556947, 0.913067 , 0.913067 , 0.9440045, 0.9440045, 0.8786864, 0.8786864, 0.9281848, 0.9281848, 0.943905 , 0.943905 , 0.8858646, 0.8858646, 0.8858646, 0.927686 , 0.927686 , 0.9579599, 0.9579599, 0.9364755, 0.9364755, 0.9470697, 0.9470697, 0.9269522, 0.9269522, 0.9233578),\n",
       "          (   0, 0, 0., 0.        ,  0.        ,   0.        , 0.        , 0., 0., 0., 0., 0., 0., 0., 0., 0., 0., 0., 0., 0., 0., 0., 0., 0., 0., 0., 0., 0., 0., 0., 0., 0., 0., 0., 0., 0., 0., 0., 0., 0., 0., 0., 0., 0., 0., 0., 0., 3.579654e-06, 1.143430e-05, 5.349565e-05, 1.335501e-04, 3.766976e-04, 0.00073537, 0.00187977, 0.00330274, 0.00647606, 0.01025592, 0.01650691, 0.02438861, 0.03376608, 0.04985629, 0.05766394, 0.07916509, 0.09453165, 0.1175323 , 0.1351221, 0.1539113, 0.1825148, 0.1955669, 0.2159528, 0.2397861, 0.2501183, 0.2774536, 0.2850288, 0.305409 , 0.3175073, 0.3477687, 0.3297051, 0.3732783, 0.3572132, 0.3776115, 0.4054642, 0.3873347, 0.4149613, 0.4240595, 0.4114001, 0.4418347, 0.4476895, 0.4362418, 0.4571459, 0.4622421, 0.4602728, 0.473606 , 0.4794474, 0.4770704, 0.4859315, 0.4924599, 0.4922735, 0.499465 , 0.5047009, 0.5082962, 0.5079948, 0.5156557, 0.5197479, 0.5234112, 0.527118 , 0.5315319, 0.535079 , 0.5391424, 0.5425165, 0.5465384, 0.5494228, 0.5525634, 0.5565277, 0.5591218, 0.5620149, 0.5648631, 0.5676358, 0.5705158, 0.5748963, 0.5786012, 0.5822808, 0.5853644, 0.5887831, 0.5919956, 0.5950555, 0.5976233, 0.6006741, 0.6038872, 0.6065441, 0.6097913, 0.6128806, 0.6153798, 0.6179785, 0.6209401, 0.6232389, 0.6257361, 0.6281247, 0.6307051, 0.6341296, 0.6376113, 0.6399877, 0.6430364, 0.6454726, 0.6483407, 0.6505937, 0.6528827, 0.6557423, 0.6580859, 0.6600532, 0.6633322, 0.6655927, 0.6677821, 0.6705409, 0.6730384, 0.6747801, 0.6771604, 0.6792009, 0.6818916, 0.6843016, 0.6867743, 0.6884305, 0.6907144, 0.6928679, 0.6956545, 0.6970356, 0.6990299, 0.7011285, 0.7034709, 0.7058835, 0.7072048, 0.7096887, 0.7116441, 0.7141535, 0.7156379, 0.7173279, 0.7197271, 0.7213443, 0.723223 , 0.7247609, 0.7268685, 0.7284998, 0.7309282, 0.7327278, 0.7344188, 0.7359521, 0.7381367, 0.7399542, 0.7406885, 0.7432229, 0.7449933, 0.746153 , 0.7473775, 0.7494118, 0.7520636, 0.7534238, 0.7538348, 0.7558236, 0.7575352, 0.7596001, 0.7606963, 0.7621562, 0.7627732, 0.7646371, 0.766604 , 0.76678  , 0.7693017, 0.771387 , 0.7726551, 0.7736976, 0.7752646, 0.7774009, 0.7781568, 0.7794333, 0.7808921, 0.781904 , 0.7831841, 0.78402  , 0.7853441, 0.7871674, 0.7873227, 0.7891067, 0.7903419, 0.7926058, 0.7933378, 0.7946488, 0.7957129, 0.7969318, 0.7982112, 0.7988029, 0.799223 , 0.7987013, 0.7989796, 0.7996378, 0.8002177, 0.8008829, 0.8021225, 0.8036405, 0.8060965, 0.808104 , 0.8099621, 0.8109607, 0.8117859, 0.8124608, 0.8139801, 0.8148019, 0.815462 , 0.8170996, 0.8180978, 0.8190545, 0.8200064, 0.8206854, 0.8214143, 0.8220074, 0.8229229, 0.8236014, 0.8244751, 0.8251283, 0.8252344, 0.82503  , 0.8246577, 0.8240663, 0.8255812, 0.8265691, 0.8271655, 0.8288609, 0.8298678, 0.8311298, 0.8321565, 0.8328628, 0.8343029, 0.8349335, 0.836064 , 0.8365893, 0.8375009, 0.8377386, 0.8383687, 0.8386871, 0.8394717, 0.8397161, 0.8400798, 0.840422 , 0.8402599, 0.8404855, 0.8406975, 0.8407025, 0.8408045, 0.8408648, 0.8413121, 0.8416972, 0.8422431, 0.842989 , 0.8434247, 0.8441846, 0.8449864, 0.845417 , 0.8457807, 0.8464652, 0.846005 , 0.8465967, 0.8475011, 0.8480923, 0.8478764, 0.8479789, 0.8491639, 0.8502993, 0.8505797, 0.8511407, 0.8517757, 0.8520941, 0.8524883, 0.8529156, 0.8532875, 0.8532385, 0.8530306, 0.8528906, 0.8527293, 0.8525376, 0.8524002, 0.8523508, 0.8521195, 0.851886 , 0.8516909, 0.8517081, 0.8513629, 0.8508607, 0.8483183, 0.8473589, 0.8481772, 0.8466082, 0.8472421, 0.846303 , 0.8467806, 0.8467978, 0.8471841, 0.8489456, 0.8501912, 0.8513408, 0.8531848, 0.8548651, 0.8563907, 0.8585162, 0.8591863, 0.8603224, 0.8605211, 0.8603683, 0.8521636, 0.8525906, 0.8559038, 0.8495772, 0.8602836, 0.8553995, 0.8589806, 0.8606181, 0.8606151, 0.8609896, 0.8629001, 0.8632672, 0.8647397, 0.8657881, 0.8662868, 0.8668978, 0.8673941, 0.8683978, 0.8692164, 0.8702559, 0.8706822, 0.8715332, 0.8722122, 0.873209 , 0.8740494, 0.8746556, 0.8753623, 0.8763456, 0.8770549, 0.8775395, 0.8782418, 0.8788459, 0.8792948, 0.8794947, 0.8799166, 0.8800734, 0.8802894, 0.8803976, 0.8803235, 0.8652115, 0.8717647, 0.8764144, 0.8811361, 0.8825363, 0.8840028, 0.8858249, 0.8864301, 0.888029 , 0.8899495, 0.8914976, 0.8926811, 0.8934671, 0.8946819, 0.8958088, 0.8960648, 0.8970355, 0.8975347, 0.8957042, 0.8926968, 0.8895831, 0.8930799, 0.8998738, 0.9008385, 0.8994184, 0.901749 , 0.9023635, 0.895576 , 0.9008074, 0.9024096, 0.9052278, 0.9070292, 0.9070334, 0.9082633, 0.9084288, 0.9088554, 0.9095228, 0.9100874, 0.9106654, 0.911522 , 0.9119112, 0.9125881, 0.9129712, 0.9137952, 0.9139804, 0.9146731, 0.9149455, 0.9156613, 0.9158858, 0.9162603, 0.91689  , 0.917215 , 0.9178749, 0.9181085, 0.9189646, 0.918937 , 0.9196886, 0.9202409, 0.9206484, 0.6800179, 0.8340949, 0.8583538, 0.8794889, 0.8900629, 0.9111063, 0.9038123, 0.8922884, 0.908019 , 0.9037091, 0.9231284, 0.9226607, 0.9146072, 0.9157066, 0.9094874, 0.9126992, 0.9154759, 0.9175256, 0.9183075, 0.921496 , 0.9240735, 0.9259359, 0.9261862, 0.925485 , 0.9278046, 0.9266229, 0.9285779, 0.9271406, 0.9233173, 0.9241419, 0.9070029, 0.8585557, 0.8123919, 0.8666433, 0.9173529, 0.9162163, 0.9137153, 0.84978  , 0.8715183, 0.8994055, 0.8872175, 0.8654812, 0.8782757, 0.9032814, 0.8895885, 0.8975514, 0.9181076, 0.9288608, 0.9215783, 0.9267598, 0.9269126, 0.9300826, 0.9310833, 0.9350232, 0.9371576, 0.9376438, 0.93763  , 0.9383397, 0.9387907, 0.939313 , 0.9394777, 0.9396867, 0.9398076, 0.940053 , 0.9401603, 0.9407778, 0.9409369, 0.9411093, 0.9412845, 0.9413986, 0.941703 , 0.9421082, 0.9353316, 0.4159882, 0.3303959, 0.6804679, 0.5917245, 0.6362   , 0.745779 , 0.8599154, 0.8951089, 0.9299359, 0.9393147, 0.9390404, 0.9430794, 0.9445089, 0.9446179, 0.944678 , 0.9447802, 0.9449391, 0.9451529, 0.9452828, 0.9454216, 0.9455377, 0.9458354, 0.9460191, 0.9462087, 0.9460828, 0.9459429, 0.9446545, 0.9446899, 0.9418514, 0.9419524, 0.9369563, 0.9375965, 0.9398432, 0.9413306, 0.9477386, 0.9456444, 0.9318632, 0.9420086, 0.9430708, 0.9452531, 0.9394585, 0.9367544, 0.9407349, 0.9400086, 0.9398174, 0.9424826, 0.9476296, 0.9446519, 0.9479188, 0.9430556, 0.9406543, 0.9416149, 0.9363182, 0.9258043, 0.9073839, 0.8843765, 0.9020237, 0.8201014, 0.8777419, 0.902115 , 0.8703727, 0.9404554, 0.9317349, 0.7961373, 0.9200219, 0.9359559, 0.9191422, 0.9352339, 0.891433 , 0.9255539, 0.9177359, 0.9216852, 0.9212561, 0.9342495, 0.9340841, 0.9412999, 0.9421263, 0.9418871, 0.9467283, 0.9491507, 0.9498664, 0.9498664, 0.9457113, 0.9537385, 0.9490451, 0.9529673, 0.9540589, 0.9548207, 0.9539523, 0.9544957, 0.9542828, 0.9538295, 0.9556242, 0.9560605, 0.9558325, 0.9558325, 0.9562481, 0.9572428, 0.9565079, 0.9571415, 0.9576609, 0.9575551, 0.9579074, 0.9578916, 0.9582507, 0.9582507, 0.9583194, 0.9584282, 0.9584921, 0.9586243, 0.9587106, 0.9588629, 0.9590145, 0.9590541, 0.9590541, 0.9593402, 0.9594265, 0.9594812, 0.9595255, 0.9595507, 0.9598562, 0.9598562, 0.9594973, 0.959686 , 0.9598455, 0.960048 , 0.9573256, 0.9600254, 0.9600254, 0.9593918, 0.957975 , 0.9602318, 0.9577892, 0.951161 , 0.951161 , 0.9354962, 0.9209947, 0.853673 , 0.9178116, 0.7931418, 0.7931418, 0.8214355, 0.8477692, 0.8767257, 0.9414193, 0.9327601, 0.9327601, 0.8631211, 0.8433166, 0.8541316, 0.8392442, 0.8392442, 0.9097856, 0.8748749, 0.8510594, 0.8148851, 0.8148851, 0.9072717, 0.8320664, 0.8904137, 0.940517 , 0.940517 , 0.9276448, 0.926695 , 0.9138948, 0.9138948, 0.9203925, 0.9255969, 0.8508494, 0.8354955, 0.8354955, 0.7202986, 0.5575606, 0.5877382, 0.5877382, 0.538421 , 0.5091184, 0.5034709, 0.5034709, 0.6310791, 0.7511404, 0.7057688, 0.7057688, 0.6110519, 0.6191314, 0.7019451, 0.7019451, 0.624797 , 0.6449482, 0.7023422, 0.7023422, 0.7128222, 0.6225511, 0.7474735, 0.7474735, 0.742587 , 0.6445555, 0.7858039, 0.7858039, 0.7022055, 0.7720646, 0.7720646, 0.793816 , 0.8460454, 0.7641722, 0.7641722, 0.8204369, 0.8870216, 0.8870216, 0.9017248, 0.9291573, 0.938336 , 0.938336 , 0.9272561, 0.8713604, 0.8713604, 0.8563177, 0.9133862, 0.9054164, 0.9054164, 0.9062238, 0.9509183, 0.9509183, 0.9374893, 0.9495533, 0.9495533, 0.9639644, 0.9585971, 0.9585971, 0.966988 , 0.9637128, 0.9637128, 0.9660745, 0.9656862, 0.9656862, 0.9692624, 0.9693735, 0.9693735, 0.9695   , 0.9693291, 0.9693291, 0.969599 , 0.9649644, 0.9649644, 0.9697632, 0.9700409, 0.9700409, 0.9702774, 0.9694842, 0.9694842, 0.9660677, 0.9705295, 0.9705295, 0.9708199, 0.9708069, 0.9708069, 0.9711031, 0.9709865, 0.9709865, 0.9707752, 0.9715016, 0.9715016, 0.9710467, 0.9710467, 0.970957 , 0.9718183, 0.9718183, 0.9715597, 0.972028 , 0.972028 , 0.9723069, 0.9722945, 0.9722945, 0.9724414, 0.9724414, 0.9725794, 0.9723822, 0.9723822, 0.9724049, 0.9722593, 0.9722593, 0.9720865, 0.9720865, 0.9718967, 0.9715537, 0.9715537, 0.9710578, 0.9710578, 0.9705461, 0.9694269, 0.9694269, 0.9690131, 0.9690131, 0.9682842, 0.9676596, 0.9676596, 0.9669157, 0.9669157, 0.966288 , 0.9656718, 0.9656718, 0.9652557, 0.9652557, 0.9644595, 0.9639181, 0.9639181, 0.9648476, 0.9648476, 0.9642943, 0.9648947, 0.9648947, 0.9661112, 0.9661112, 0.9669243, 0.9669243, 0.9646343, 0.9645671, 0.9645671, 0.9679631, 0.9679631, 0.9653727, 0.9653727, 0.9674692, 0.965197 , 0.965197 , 0.9606769, 0.9606769, 0.9678604, 0.9678604, 0.9646294, 0.9629394, 0.9629394, 0.957662 , 0.957662 , 0.9576321, 0.9576321, 0.9544448, 0.9544448, 0.9471561, 0.9207917, 0.9207917, 0.9215414, 0.9215414, 0.9112201, 0.9112201, 0.9030534, 0.9030534, 0.9017734, 0.9017734, 0.8813835, 0.8461407, 0.8461407, 0.826976 , 0.826976 , 0.7433625, 0.7433625, 0.5499409, 0.5499409, 0.6498998, 0.6498998, 0.5885884, 0.5885884, 0.4075488, 0.612453 , 0.612453 , 0.4538915, 0.4538915, 0.518411 , 0.518411 , 0.5210143, 0.5210143, 0.7581446, 0.7581446, 0.5221651, 0.5221651, 0.3229915, 0.3229915, 0.7659486, 0.7659486, 0.7089332, 0.7089332, 0.6950069, 0.6950069, 0.7383644, 0.7383644, 0.5572774, 0.5572774, 0.5424313, 0.5424313, 0.6411349, 0.6411349, 0.7262937, 0.7262937, 0.6784412, 0.6784412, 0.7231162, 0.7231162, 0.7873318, 0.7873318, 0.8683766, 0.8683766, 0.8546819, 0.8546819, 0.8971686, 0.8971686, 0.882278 , 0.882278 , 0.9147425, 0.9147425, 0.9249198, 0.9249198, 0.9305225, 0.9305225, 0.8812526, 0.8812526, 0.9577086, 0.9577086, 0.9108582, 0.9108582, 0.9448435, 0.9448435, 0.8736616, 0.8736616, 0.9273869, 0.9273869, 0.9444382, 0.9444382, 0.8823609, 0.8823609, 0.8823609, 0.926906 , 0.926906 , 0.9600245, 0.9600245, 0.9364436, 0.9364436, 0.9478201, 0.9478201, 0.9257578, 0.9257578, 0.9220274)],\n",
       "         dtype=(numpy.record, [('num', '<i2'), ('year', '<i2'), ('airmass', '<f8'), ('vaod', '<f8'), ('pwv', '<f8'), ('o3', '<f8'), ('cld', '<f8'), ('wl0250', '<f8'), ('wl0251', '<f8'), ('wl0252', '<f8'), ('wl0253', '<f8'), ('wl0254', '<f8'), ('wl0255', '<f8'), ('wl0256', '<f8'), ('wl0257', '<f8'), ('wl0258', '<f8'), ('wl0259', '<f8'), ('wl0260', '<f8'), ('wl0261', '<f8'), ('wl0262', '<f8'), ('wl0263', '<f8'), ('wl0264', '<f8'), ('wl0265', '<f8'), ('wl0266', '<f8'), ('wl0267', '<f8'), ('wl0268', '<f8'), ('wl0269', '<f8'), ('wl0270', '<f8'), ('wl0271', '<f8'), ('wl0272', '<f8'), ('wl0273', '<f8'), ('wl0274', '<f8'), ('wl0275', '<f8'), ('wl0276', '<f8'), ('wl0277', '<f8'), ('wl0278', '<f8'), ('wl0279', '<f8'), ('wl0280', '<f8'), ('wl0281', '<f8'), ('wl0282', '<f8'), ('wl0283', '<f8'), ('wl0284', '<f8'), ('wl0285', '<f8'), ('wl0286', '<f8'), ('wl0287', '<f8'), ('wl0288', '<f8'), ('wl0289', '<f8'), ('wl0290', '<f8'), ('wl0291', '<f8'), ('wl0292', '<f8'), ('wl0293', '<f8'), ('wl0294', '<f8'), ('wl0295', '<f8'), ('wl0296', '<f8'), ('wl0297', '<f8'), ('wl0298', '<f8'), ('wl0299', '<f8'), ('wl0300', '<f8'), ('wl0301', '<f8'), ('wl0302', '<f8'), ('wl0303', '<f8'), ('wl0304', '<f8'), ('wl0305', '<f8'), ('wl0306', '<f8'), ('wl0307', '<f8'), ('wl0308', '<f8'), ('wl0309', '<f8'), ('wl0310', '<f8'), ('wl0311', '<f8'), ('wl0312', '<f8'), ('wl0313', '<f8'), ('wl0314', '<f8'), ('wl0315', '<f8'), ('wl0316', '<f8'), ('wl0317', '<f8'), ('wl0318', '<f8'), ('wl0319', '<f8'), ('wl0320', '<f8'), ('wl0321', '<f8'), ('wl0322', '<f8'), ('wl0323', '<f8'), ('wl0324', '<f8'), ('wl0325', '<f8'), ('wl0326', '<f8'), ('wl0327', '<f8'), ('wl0328', '<f8'), ('wl0329', '<f8'), ('wl0330', '<f8'), ('wl0331', '<f8'), ('wl0332', '<f8'), ('wl0333', '<f8'), ('wl0334', '<f8'), ('wl0335', '<f8'), ('wl0336', '<f8'), ('wl0337', '<f8'), ('wl0338', '<f8'), ('wl0339', '<f8'), ('wl0340', '<f8'), ('wl0341', '<f8'), ('wl0342', '<f8'), ('wl0343', '<f8'), ('wl0344', '<f8'), ('wl0345', '<f8'), ('wl0346', '<f8'), ('wl0347', '<f8'), ('wl0348', '<f8'), ('wl0349', '<f8'), ('wl0350', '<f8'), ('wl0351', '<f8'), ('wl0352', '<f8'), ('wl0353', '<f8'), ('wl0354', '<f8'), ('wl0355', '<f8'), ('wl0356', '<f8'), ('wl0357', '<f8'), ('wl0358', '<f8'), ('wl0359', '<f8'), ('wl0360', '<f8'), ('wl0361', '<f8'), ('wl0362', '<f8'), ('wl0363', '<f8'), ('wl0364', '<f8'), ('wl0365', '<f8'), ('wl0366', '<f8'), ('wl0367', '<f8'), ('wl0368', '<f8'), ('wl0369', '<f8'), ('wl0370', '<f8'), ('wl0371', '<f8'), ('wl0372', '<f8'), ('wl0373', '<f8'), ('wl0374', '<f8'), ('wl0375', '<f8'), ('wl0376', '<f8'), ('wl0377', '<f8'), ('wl0378', '<f8'), ('wl0379', '<f8'), ('wl0380', '<f8'), ('wl0381', '<f8'), ('wl0382', '<f8'), ('wl0383', '<f8'), ('wl0384', '<f8'), ('wl0385', '<f8'), ('wl0386', '<f8'), ('wl0387', '<f8'), ('wl0388', '<f8'), ('wl0389', '<f8'), ('wl0390', '<f8'), ('wl0391', '<f8'), ('wl0392', '<f8'), ('wl0393', '<f8'), ('wl0394', '<f8'), ('wl0395', '<f8'), ('wl0396', '<f8'), ('wl0397', '<f8'), ('wl0398', '<f8'), ('wl0399', '<f8'), ('wl0400', '<f8'), ('wl0401', '<f8'), ('wl0402', '<f8'), ('wl0403', '<f8'), ('wl0404', '<f8'), ('wl0405', '<f8'), ('wl0406', '<f8'), ('wl0407', '<f8'), ('wl0408', '<f8'), ('wl0409', '<f8'), ('wl0410', '<f8'), ('wl0411', '<f8'), ('wl0412', '<f8'), ('wl0413', '<f8'), ('wl0414', '<f8'), ('wl0415', '<f8'), ('wl0416', '<f8'), ('wl0417', '<f8'), ('wl0418', '<f8'), ('wl0419', '<f8'), ('wl0420', '<f8'), ('wl0421', '<f8'), ('wl0422', '<f8'), ('wl0423', '<f8'), ('wl0424', '<f8'), ('wl0425', '<f8'), ('wl0426', '<f8'), ('wl0427', '<f8'), ('wl0428', '<f8'), ('wl0429', '<f8'), ('wl0430', '<f8'), ('wl0431', '<f8'), ('wl0432', '<f8'), ('wl0433', '<f8'), ('wl0434', '<f8'), ('wl0435', '<f8'), ('wl0436', '<f8'), ('wl0437', '<f8'), ('wl0438', '<f8'), ('wl0439', '<f8'), ('wl0440', '<f8'), ('wl0441', '<f8'), ('wl0442', '<f8'), ('wl0443', '<f8'), ('wl0444', '<f8'), ('wl0445', '<f8'), ('wl0446', '<f8'), ('wl0447', '<f8'), ('wl0448', '<f8'), ('wl0449', '<f8'), ('wl0450', '<f8'), ('wl0451', '<f8'), ('wl0452', '<f8'), ('wl0453', '<f8'), ('wl0454', '<f8'), ('wl0455', '<f8'), ('wl0456', '<f8'), ('wl0457', '<f8'), ('wl0458', '<f8'), ('wl0459', '<f8'), ('wl0460', '<f8'), ('wl0461', '<f8'), ('wl0462', '<f8'), ('wl0463', '<f8'), ('wl0464', '<f8'), ('wl0465', '<f8'), ('wl0466', '<f8'), ('wl0467', '<f8'), ('wl0468', '<f8'), ('wl0469', '<f8'), ('wl0470', '<f8'), ('wl0471', '<f8'), ('wl0472', '<f8'), ('wl0473', '<f8'), ('wl0474', '<f8'), ('wl0475', '<f8'), ('wl0476', '<f8'), ('wl0477', '<f8'), ('wl0478', '<f8'), ('wl0479', '<f8'), ('wl0480', '<f8'), ('wl0481', '<f8'), ('wl0482', '<f8'), ('wl0483', '<f8'), ('wl0484', '<f8'), ('wl0485', '<f8'), ('wl0486', '<f8'), ('wl0487', '<f8'), ('wl0488', '<f8'), ('wl0489', '<f8'), ('wl0490', '<f8'), ('wl0491', '<f8'), ('wl0492', '<f8'), ('wl0493', '<f8'), ('wl0494', '<f8'), ('wl0495', '<f8'), ('wl0496', '<f8'), ('wl0497', '<f8'), ('wl0498', '<f8'), ('wl0499', '<f8'), ('wl0500', '<f8'), ('wl0501', '<f8'), ('wl0502', '<f8'), ('wl0503', '<f8'), ('wl0504', '<f8'), ('wl0505', '<f8'), ('wl0506', '<f8'), ('wl0507', '<f8'), ('wl0508', '<f8'), ('wl0509', '<f8'), ('wl0510', '<f8'), ('wl0511', '<f8'), ('wl0512', '<f8'), ('wl0513', '<f8'), ('wl0514', '<f8'), ('wl0515', '<f8'), ('wl0516', '<f8'), ('wl0517', '<f8'), ('wl0518', '<f8'), ('wl0519', '<f8'), ('wl0520', '<f8'), ('wl0521', '<f8'), ('wl0522', '<f8'), ('wl0523', '<f8'), ('wl0524', '<f8'), ('wl0525', '<f8'), ('wl0526', '<f8'), ('wl0527', '<f8'), ('wl0528', '<f8'), ('wl0529', '<f8'), ('wl0530', '<f8'), ('wl0531', '<f8'), ('wl0532', '<f8'), ('wl0533', '<f8'), ('wl0534', '<f8'), ('wl0535', '<f8'), ('wl0536', '<f8'), ('wl0537', '<f8'), ('wl0538', '<f8'), ('wl0539', '<f8'), ('wl0540', '<f8'), ('wl0541', '<f8'), ('wl0542', '<f8'), ('wl0543', '<f8'), ('wl0544', '<f8'), ('wl0545', '<f8'), ('wl0546', '<f8'), ('wl0547', '<f8'), ('wl0548', '<f8'), ('wl0549', '<f8'), ('wl0550', '<f8'), ('wl0551', '<f8'), ('wl0552', '<f8'), ('wl0553', '<f8'), ('wl0554', '<f8'), ('wl0555', '<f8'), ('wl0556', '<f8'), ('wl0557', '<f8'), ('wl0558', '<f8'), ('wl0559', '<f8'), ('wl0560', '<f8'), ('wl0561', '<f8'), ('wl0562', '<f8'), ('wl0563', '<f8'), ('wl0564', '<f8'), ('wl0565', '<f8'), ('wl0566', '<f8'), ('wl0567', '<f8'), ('wl0568', '<f8'), ('wl0569', '<f8'), ('wl0570', '<f8'), ('wl0571', '<f8'), ('wl0572', '<f8'), ('wl0573', '<f8'), ('wl0574', '<f8'), ('wl0575', '<f8'), ('wl0576', '<f8'), ('wl0577', '<f8'), ('wl0578', '<f8'), ('wl0579', '<f8'), ('wl0580', '<f8'), ('wl0581', '<f8'), ('wl0582', '<f8'), ('wl0583', '<f8'), ('wl0584', '<f8'), ('wl0585', '<f8'), ('wl0586', '<f8'), ('wl0587', '<f8'), ('wl0588', '<f8'), ('wl0589', '<f8'), ('wl0590', '<f8'), ('wl0591', '<f8'), ('wl0592', '<f8'), ('wl0593', '<f8'), ('wl0594', '<f8'), ('wl0595', '<f8'), ('wl0596', '<f8'), ('wl0597', '<f8'), ('wl0598', '<f8'), ('wl0599', '<f8'), ('wl0600', '<f8'), ('wl0601', '<f8'), ('wl0602', '<f8'), ('wl0603', '<f8'), ('wl0604', '<f8'), ('wl0605', '<f8'), ('wl0606', '<f8'), ('wl0607', '<f8'), ('wl0608', '<f8'), ('wl0609', '<f8'), ('wl0610', '<f8'), ('wl0611', '<f8'), ('wl0612', '<f8'), ('wl0613', '<f8'), ('wl0614', '<f8'), ('wl0615', '<f8'), ('wl0616', '<f8'), ('wl0617', '<f8'), ('wl0618', '<f8'), ('wl0619', '<f8'), ('wl0620', '<f8'), ('wl0621', '<f8'), ('wl0622', '<f8'), ('wl0623', '<f8'), ('wl0624', '<f8'), ('wl0625', '<f8'), ('wl0626', '<f8'), ('wl0627', '<f8'), ('wl0628', '<f8'), ('wl0629', '<f8'), ('wl0630', '<f8'), ('wl0631', '<f8'), ('wl0632', '<f8'), ('wl0633', '<f8'), ('wl0634', '<f8'), ('wl0635', '<f8'), ('wl0636', '<f8'), ('wl0637', '<f8'), ('wl0638', '<f8'), ('wl0639', '<f8'), ('wl0640', '<f8'), ('wl0641', '<f8'), ('wl0642', '<f8'), ('wl0643', '<f8'), ('wl0644', '<f8'), ('wl0645', '<f8'), ('wl0646', '<f8'), ('wl0647', '<f8'), ('wl0648', '<f8'), ('wl0649', '<f8'), ('wl0650', '<f8'), ('wl0651', '<f8'), ('wl0652', '<f8'), ('wl0653', '<f8'), ('wl0654', '<f8'), ('wl0655', '<f8'), ('wl0656', '<f8'), ('wl0657', '<f8'), ('wl0658', '<f8'), ('wl0659', '<f8'), ('wl0660', '<f8'), ('wl0661', '<f8'), ('wl0662', '<f8'), ('wl0663', '<f8'), ('wl0664', '<f8'), ('wl0665', '<f8'), ('wl0666', '<f8'), ('wl0667', '<f8'), ('wl0668', '<f8'), ('wl0669', '<f8'), ('wl0670', '<f8'), ('wl0671', '<f8'), ('wl0672', '<f8'), ('wl0673', '<f8'), ('wl0674', '<f8'), ('wl0675', '<f8'), ('wl0676', '<f8'), ('wl0677', '<f8'), ('wl0678', '<f8'), ('wl0679', '<f8'), ('wl0680', '<f8'), ('wl0681', '<f8'), ('wl0682', '<f8'), ('wl0683', '<f8'), ('wl0684', '<f8'), ('wl0685', '<f8'), ('wl0686', '<f8'), ('wl0687', '<f8'), ('wl0688', '<f8'), ('wl0689', '<f8'), ('wl0690', '<f8'), ('wl0691', '<f8'), ('wl0692', '<f8'), ('wl0693', '<f8'), ('wl0694', '<f8'), ('wl0695', '<f8'), ('wl0696', '<f8'), ('wl0697', '<f8'), ('wl0698', '<f8'), ('wl0699', '<f8'), ('wl0700', '<f8'), ('wl0701', '<f8'), ('wl0702', '<f8'), ('wl0703', '<f8'), ('wl0704', '<f8'), ('wl0705', '<f8'), ('wl0706', '<f8'), ('wl0707', '<f8'), ('wl0708', '<f8'), ('wl0709', '<f8'), ('wl0710', '<f8'), ('wl0711', '<f8'), ('wl0712', '<f8'), ('wl0713', '<f8'), ('wl0714', '<f8'), ('wl0715', '<f8'), ('wl0716', '<f8'), ('wl0717', '<f8'), ('wl0718', '<f8'), ('wl0719', '<f8'), ('wl0720', '<f8'), ('wl0721', '<f8'), ('wl0722', '<f8'), ('wl0723', '<f8'), ('wl0724', '<f8'), ('wl0725', '<f8'), ('wl0726', '<f8'), ('wl0727', '<f8'), ('wl0728', '<f8'), ('wl0729', '<f8'), ('wl0730', '<f8'), ('wl0731', '<f8'), ('wl0732', '<f8'), ('wl0733', '<f8'), ('wl0734', '<f8'), ('wl0735', '<f8'), ('wl0736', '<f8'), ('wl0737', '<f8'), ('wl0738', '<f8'), ('wl0739', '<f8'), ('wl0740', '<f8'), ('wl0741', '<f8'), ('wl0742', '<f8'), ('wl0743', '<f8'), ('wl0744', '<f8'), ('wl0745', '<f8'), ('wl0746', '<f8'), ('wl0747', '<f8'), ('wl0748', '<f8'), ('wl0749', '<f8'), ('wl0750', '<f8'), ('wl0751', '<f8'), ('wl0752', '<f8'), ('wl0753', '<f8'), ('wl0754', '<f8'), ('wl0755', '<f8'), ('wl0756', '<f8'), ('wl0757', '<f8'), ('wl0758', '<f8'), ('wl0759', '<f8'), ('wl0760', '<f8'), ('wl0761', '<f8'), ('wl0762', '<f8'), ('wl0763', '<f8'), ('wl0764', '<f8'), ('wl0765', '<f8'), ('wl0766', '<f8'), ('wl0767', '<f8'), ('wl0768', '<f8'), ('wl0769', '<f8'), ('wl0770', '<f8'), ('wl0771', '<f8'), ('wl0772', '<f8'), ('wl0773', '<f8'), ('wl0774', '<f8'), ('wl0775', '<f8'), ('wl0776', '<f8'), ('wl0777', '<f8'), ('wl0778', '<f8'), ('wl0779', '<f8'), ('wl0780', '<f8'), ('wl0781', '<f8'), ('wl0782', '<f8'), ('wl0783', '<f8'), ('wl0784', '<f8'), ('wl0785', '<f8'), ('wl0786', '<f8'), ('wl0787', '<f8'), ('wl0788', '<f8'), ('wl0789', '<f8'), ('wl0790', '<f8'), ('wl0791', '<f8'), ('wl0792', '<f8'), ('wl0793', '<f8'), ('wl0794', '<f8'), ('wl0795', '<f8'), ('wl0796', '<f8'), ('wl0797', '<f8'), ('wl0798', '<f8'), ('wl0799', '<f8'), ('wl0800', '<f8'), ('wl0801', '<f8'), ('wl0802', '<f8'), ('wl0803', '<f8'), ('wl0804', '<f8'), ('wl0805', '<f8'), ('wl0806', '<f8'), ('wl0807', '<f8'), ('wl0808', '<f8'), ('wl0809', '<f8'), ('wl0810', '<f8'), ('wl0811', '<f8'), ('wl0812', '<f8'), ('wl0813', '<f8'), ('wl0814', '<f8'), ('wl0815', '<f8'), ('wl0816', '<f8'), ('wl0817', '<f8'), ('wl0818', '<f8'), ('wl0819', '<f8'), ('wl0820', '<f8'), ('wl0821', '<f8'), ('wl0822', '<f8'), ('wl0823', '<f8'), ('wl0824', '<f8'), ('wl0825', '<f8'), ('wl0826', '<f8'), ('wl0827', '<f8'), ('wl0828', '<f8'), ('wl0829', '<f8'), ('wl0830', '<f8'), ('wl0831', '<f8'), ('wl0832', '<f8'), ('wl0833', '<f8'), ('wl0834', '<f8'), ('wl0835', '<f8'), ('wl0836', '<f8'), ('wl0837', '<f8'), ('wl0838', '<f8'), ('wl0839', '<f8'), ('wl0840', '<f8'), ('wl0841', '<f8'), ('wl0842', '<f8'), ('wl0843', '<f8'), ('wl0844', '<f8'), ('wl0845', '<f8'), ('wl0846', '<f8'), ('wl0847', '<f8'), ('wl0848', '<f8'), ('wl0849', '<f8'), ('wl0850', '<f8'), ('wl0851', '<f8'), ('wl0852', '<f8'), ('wl0853', '<f8'), ('wl0854', '<f8'), ('wl0855', '<f8'), ('wl0856', '<f8'), ('wl0857', '<f8'), ('wl0858', '<f8'), ('wl0859', '<f8'), ('wl0860', '<f8'), ('wl0861', '<f8'), ('wl0862', '<f8'), ('wl0863', '<f8'), ('wl0864', '<f8'), ('wl0865', '<f8'), ('wl0866', '<f8'), ('wl0867', '<f8'), ('wl0868', '<f8'), ('wl0869', '<f8'), ('wl0870', '<f8'), ('wl0871', '<f8'), ('wl0872', '<f8'), ('wl0873', '<f8'), ('wl0874', '<f8'), ('wl0875', '<f8'), ('wl0876', '<f8'), ('wl0877', '<f8'), ('wl0878', '<f8'), ('wl0879', '<f8'), ('wl0880', '<f8'), ('wl0881', '<f8'), ('wl0882', '<f8'), ('wl0883', '<f8'), ('wl0884', '<f8'), ('wl0885', '<f8'), ('wl0886', '<f8'), ('wl0887', '<f8'), ('wl0888', '<f8'), ('wl0889', '<f8'), ('wl0890', '<f8'), ('wl0891', '<f8'), ('wl0892', '<f8'), ('wl0893', '<f8'), ('wl0894', '<f8'), ('wl0895', '<f8'), ('wl0896', '<f8'), ('wl0897', '<f8'), ('wl0898', '<f8'), ('wl0899', '<f8'), ('wl0900', '<f8'), ('wl0901', '<f8'), ('wl0902', '<f8'), ('wl0903', '<f8'), ('wl0904', '<f8'), ('wl0905', '<f8'), ('wl0906', '<f8'), ('wl0907', '<f8'), ('wl0908', '<f8'), ('wl0909', '<f8'), ('wl0910', '<f8'), ('wl0911', '<f8'), ('wl0912', '<f8'), ('wl0913', '<f8'), ('wl0914', '<f8'), ('wl0915', '<f8'), ('wl0916', '<f8'), ('wl0917', '<f8'), ('wl0918', '<f8'), ('wl0919', '<f8'), ('wl0920', '<f8'), ('wl0921', '<f8'), ('wl0922', '<f8'), ('wl0923', '<f8'), ('wl0924', '<f8'), ('wl0925', '<f8'), ('wl0926', '<f8'), ('wl0927', '<f8'), ('wl0928', '<f8'), ('wl0929', '<f8'), ('wl0930', '<f8'), ('wl0931', '<f8'), ('wl0932', '<f8'), ('wl0933', '<f8'), ('wl0934', '<f8'), ('wl0935', '<f8'), ('wl0936', '<f8'), ('wl0937', '<f8'), ('wl0938', '<f8'), ('wl0939', '<f8'), ('wl0940', '<f8'), ('wl0941', '<f8'), ('wl0942', '<f8'), ('wl0943', '<f8'), ('wl0944', '<f8'), ('wl0945', '<f8'), ('wl0946', '<f8'), ('wl0947', '<f8'), ('wl0948', '<f8'), ('wl0949', '<f8'), ('wl0950', '<f8'), ('wl0951', '<f8'), ('wl0952', '<f8'), ('wl0953', '<f8'), ('wl0954', '<f8'), ('wl0955', '<f8'), ('wl0956', '<f8'), ('wl0957', '<f8'), ('wl0958', '<f8'), ('wl0959', '<f8'), ('wl0960', '<f8'), ('wl0961', '<f8'), ('wl0962', '<f8'), ('wl0963', '<f8'), ('wl0964', '<f8'), ('wl0965', '<f8'), ('wl0966', '<f8'), ('wl0967', '<f8'), ('wl0968', '<f8'), ('wl0969', '<f8'), ('wl0970', '<f8'), ('wl0971', '<f8'), ('wl0972', '<f8'), ('wl0973', '<f8'), ('wl0974', '<f8'), ('wl0975', '<f8'), ('wl0976', '<f8'), ('wl0977', '<f8'), ('wl0978', '<f8'), ('wl0979', '<f8'), ('wl0980', '<f8'), ('wl0981', '<f8'), ('wl0982', '<f8'), ('wl0983', '<f8'), ('wl0984', '<f8'), ('wl0985', '<f8'), ('wl0986', '<f8'), ('wl0987', '<f8'), ('wl0988', '<f8'), ('wl0989', '<f8'), ('wl0990', '<f8'), ('wl0991', '<f8'), ('wl0992', '<f8'), ('wl0993', '<f8'), ('wl0994', '<f8'), ('wl0995', '<f8'), ('wl0996', '<f8'), ('wl0997', '<f8'), ('wl0998', '<f8'), ('wl0999', '<f8'), ('wl1000', '<f8'), ('wl1001', '<f8'), ('wl1002', '<f8'), ('wl1003', '<f8'), ('wl1004', '<f8'), ('wl1005', '<f8'), ('wl1006', '<f8'), ('wl1007', '<f8'), ('wl1008', '<f8'), ('wl1009', '<f8'), ('wl1010', '<f8'), ('wl1011', '<f8'), ('wl1012', '<f8'), ('wl1013', '<f8'), ('wl1014', '<f8'), ('wl1015', '<f8'), ('wl1016', '<f8'), ('wl1017', '<f8'), ('wl1018', '<f8'), ('wl1019', '<f8'), ('wl1020', '<f8'), ('wl1021', '<f8'), ('wl1022', '<f8'), ('wl1023', '<f8'), ('wl1024', '<f8'), ('wl1025', '<f8'), ('wl1026', '<f8'), ('wl1027', '<f8'), ('wl1028', '<f8'), ('wl1029', '<f8'), ('wl1030', '<f8'), ('wl1031', '<f8'), ('wl1032', '<f8'), ('wl1033', '<f8'), ('wl1034', '<f8'), ('wl1035', '<f8'), ('wl1036', '<f8'), ('wl1037', '<f8'), ('wl1038', '<f8'), ('wl1039', '<f8'), ('wl1040', '<f8'), ('wl1041', '<f8'), ('wl1042', '<f8'), ('wl1043', '<f8'), ('wl1044', '<f8'), ('wl1045', '<f8'), ('wl1046', '<f8'), ('wl1047', '<f8'), ('wl1048', '<f8'), ('wl1049', '<f8'), ('wl1050', '<f8'), ('wl1051', '<f8'), ('wl1052', '<f8'), ('wl1053', '<f8'), ('wl1054', '<f8'), ('wl1055', '<f8'), ('wl1056', '<f8'), ('wl1057', '<f8'), ('wl1058', '<f8'), ('wl1059', '<f8'), ('wl1060', '<f8'), ('wl1061', '<f8'), ('wl1062', '<f8'), ('wl1063', '<f8'), ('wl1064', '<f8'), ('wl1065', '<f8'), ('wl1066', '<f8'), ('wl1067', '<f8'), ('wl1068', '<f8'), ('wl1069', '<f8'), ('wl1070', '<f8'), ('wl1071', '<f8'), ('wl1072', '<f8'), ('wl1073', '<f8'), ('wl1074', '<f8'), ('wl1075', '<f8'), ('wl1076', '<f8'), ('wl1077', '<f8'), ('wl1078', '<f8'), ('wl1079', '<f8'), ('wl1080', '<f8'), ('wl1081', '<f8'), ('wl1082', '<f8'), ('wl1083', '<f8'), ('wl1084', '<f8'), ('wl1085', '<f8'), ('wl1086', '<f8'), ('wl1087', '<f8'), ('wl1088', '<f8'), ('wl1089', '<f8'), ('wl1090', '<f8'), ('wl1091', '<f8'), ('wl1092', '<f8'), ('wl1093', '<f8'), ('wl1094', '<f8'), ('wl1095', '<f8'), ('wl1096', '<f8'), ('wl1097', '<f8'), ('wl1098', '<f8'), ('wl1099', '<f8'), ('wl1100', '<f8'), ('wl1101', '<f8'), ('wl1102', '<f8'), ('wl1103', '<f8'), ('wl1104', '<f8'), ('wl1105', '<f8'), ('wl1106', '<f8'), ('wl1107', '<f8'), ('wl1108', '<f8'), ('wl1109', '<f8'), ('wl1110', '<f8'), ('wl1111', '<f8'), ('wl1112', '<f8'), ('wl1113', '<f8'), ('wl1114', '<f8'), ('wl1115', '<f8'), ('wl1116', '<f8'), ('wl1117', '<f8'), ('wl1118', '<f8'), ('wl1119', '<f8'), ('wl1120', '<f8'), ('wl1121', '<f8'), ('wl1122', '<f8'), ('wl1123', '<f8'), ('wl1124', '<f8'), ('wl1125', '<f8'), ('wl1126', '<f8'), ('wl1127', '<f8'), ('wl1128', '<f8'), ('wl1129', '<f8'), ('wl1130', '<f8'), ('wl1131', '<f8'), ('wl1132', '<f8'), ('wl1133', '<f8'), ('wl1134', '<f8'), ('wl1135', '<f8'), ('wl1136', '<f8'), ('wl1137', '<f8'), ('wl1138', '<f8'), ('wl1139', '<f8'), ('wl1140', '<f8'), ('wl1141', '<f8'), ('wl1142', '<f8'), ('wl1143', '<f8'), ('wl1144', '<f8'), ('wl1145', '<f8'), ('wl1146', '<f8'), ('wl1147', '<f8'), ('wl1148', '<f8'), ('wl1149', '<f8'), ('wl1150', '<f8'), ('wl1151', '<f8'), ('wl1152', '<f8'), ('wl1153', '<f8'), ('wl1154', '<f8'), ('wl1155', '<f8'), ('wl1156', '<f8'), ('wl1157', '<f8'), ('wl1158', '<f8'), ('wl1159', '<f8'), ('wl1160', '<f8'), ('wl1161', '<f8'), ('wl1162', '<f8'), ('wl1163', '<f8'), ('wl1164', '<f8'), ('wl1165', '<f8'), ('wl1166', '<f8'), ('wl1167', '<f8'), ('wl1168', '<f8'), ('wl1169', '<f8'), ('wl1170', '<f8'), ('wl1171', '<f8'), ('wl1172', '<f8'), ('wl1173', '<f8'), ('wl1174', '<f8'), ('wl1175', '<f8'), ('wl1176', '<f8'), ('wl1177', '<f8'), ('wl1178', '<f8'), ('wl1179', '<f8'), ('wl1180', '<f8'), ('wl1181', '<f8'), ('wl1182', '<f8'), ('wl1183', '<f8'), ('wl1184', '<f8'), ('wl1185', '<f8'), ('wl1186', '<f8'), ('wl1187', '<f8'), ('wl1188', '<f8'), ('wl1189', '<f8'), ('wl1190', '<f8'), ('wl1191', '<f8'), ('wl1192', '<f8'), ('wl1193', '<f8'), ('wl1194', '<f8'), ('wl1195', '<f8'), ('wl1196', '<f8'), ('wl1197', '<f8'), ('wl1198', '<f8'), ('wl1199', '<f8'), ('wl1200', '<f8')]))"
      ]
     },
     "execution_count": 70,
     "metadata": {},
     "output_type": "execute_result"
    }
   ],
   "source": [
    "hdu1.data"
   ]
  },
  {
   "cell_type": "code",
   "execution_count": null,
   "metadata": {},
   "outputs": [],
   "source": []
  }
 ],
 "metadata": {
  "kernelspec": {
   "display_name": "Python 3",
   "language": "python",
   "name": "python3"
  },
  "language_info": {
   "codemirror_mode": {
    "name": "ipython",
    "version": 3
   },
   "file_extension": ".py",
   "mimetype": "text/x-python",
   "name": "python",
   "nbconvert_exporter": "python",
   "pygments_lexer": "ipython3",
   "version": "3.7.7"
  },
  "toc": {
   "nav_menu": {},
   "number_sections": true,
   "sideBar": true,
   "skip_h1_title": false,
   "toc_cell": false,
   "toc_position": {},
   "toc_section_display": "block",
   "toc_window_display": false
  }
 },
 "nbformat": 4,
 "nbformat_minor": 4
}
