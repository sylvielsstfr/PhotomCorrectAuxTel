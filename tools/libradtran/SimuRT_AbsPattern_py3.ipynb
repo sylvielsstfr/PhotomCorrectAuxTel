{
 "cells": [
  {
   "cell_type": "markdown",
   "metadata": {},
   "source": [
    "# Generate absorption profiles only wrt airmass at LSST\n",
    "===================================================================================\n",
    "\n",
    "- Sylvie Dagoret-Campagne\n",
    "- affliliation : IJCLAB/IN2P3/CNRS\n",
    "- creation date :  24 January 2020\n",
    "- update :  26 January 2020\n",
    "- update : April 21 2020 : to produce abssorption pattern of O3, O2, PWV\n"
   ]
  },
  {
   "cell_type": "code",
   "execution_count": 16,
   "metadata": {},
   "outputs": [
    {
     "name": "stdout",
     "output_type": "stream",
     "text": [
      "The autoreload extension is already loaded. To reload it, use:\n",
      "  %reload_ext autoreload\n"
     ]
    }
   ],
   "source": [
    "%load_ext autoreload\n",
    "%autoreload 2"
   ]
  },
  {
   "cell_type": "code",
   "execution_count": 17,
   "metadata": {},
   "outputs": [],
   "source": [
    "import matplotlib.pyplot as plt\n",
    "%matplotlib inline\n",
    "import sys\n",
    "import os\n",
    "import numpy as np"
   ]
  },
  {
   "cell_type": "code",
   "execution_count": 18,
   "metadata": {},
   "outputs": [],
   "source": [
    "import matplotlib\n",
    "import matplotlib.pyplot as plt\n",
    "import matplotlib.colors as colors\n",
    "import matplotlib.cm as cmx"
   ]
  },
  {
   "cell_type": "code",
   "execution_count": 19,
   "metadata": {},
   "outputs": [],
   "source": [
    "matplotlib.rcParams.update({'font.size': 15, 'lines.linewidth': 2, 'lines.markersize': 15})\n",
    "matplotlib.rcParams[\"axes.labelsize\"]=\"small\"\n",
    "matplotlib.rcParams[\"axes.linewidth\"]=2.0\n",
    "matplotlib.rcParams[\"xtick.major.size\"]=8\n",
    "matplotlib.rcParams[\"ytick.major.size\"]=8\n",
    "matplotlib.rcParams[\"ytick.minor.size\"]=5\n",
    "matplotlib.rcParams[\"xtick.labelsize\"]=\"large\"\n",
    "matplotlib.rcParams[\"ytick.labelsize\"]=\"large\"\n",
    "matplotlib.rcParams[\"figure.figsize\"]=(12,6)\n",
    "matplotlib.rcParams['axes.titlesize'] = 15\n",
    "matplotlib.rcParams['axes.titleweight'] = 'bold'\n",
    "#matplotlib.rcParams['axes.facecolor'] = 'blue'\n",
    "matplotlib.rcParams['xtick.direction'] = 'out'\n",
    "matplotlib.rcParams['ytick.direction'] = 'out'\n",
    "matplotlib.rcParams['lines.markeredgewidth'] = 0.3 # the line width around the marker symbol\n",
    "matplotlib.rcParams['lines.markersize'] = 10  # markersize, in points\n",
    "matplotlib.rcParams['grid.alpha'] = 1. # transparency, between 0.0 and 1.0\n",
    "matplotlib.rcParams['grid.linestyle'] = '-' # simple line\n",
    "matplotlib.rcParams['grid.linewidth'] = 0.4 # in points "
   ]
  },
  {
   "cell_type": "code",
   "execution_count": 20,
   "metadata": {},
   "outputs": [],
   "source": [
    "from scipy.interpolate import interp1d"
   ]
  },
  {
   "cell_type": "code",
   "execution_count": 21,
   "metadata": {},
   "outputs": [],
   "source": [
    "import time\n",
    "from datetime import datetime,date\n",
    "import dateutil.parser"
   ]
  },
  {
   "cell_type": "code",
   "execution_count": 22,
   "metadata": {},
   "outputs": [],
   "source": [
    "today = date.today()\n",
    "string_date=today.strftime(\"%Y-%m-%d\")"
   ]
  },
  {
   "cell_type": "code",
   "execution_count": 23,
   "metadata": {},
   "outputs": [],
   "source": [
    "import libsimulateVisible"
   ]
  },
  {
   "cell_type": "code",
   "execution_count": 24,
   "metadata": {},
   "outputs": [
    {
     "data": {
      "text/plain": [
       "'/Users/dagoret/MacOSX/External/libRadtran/libRadtran-2.0.1'"
      ]
     },
     "execution_count": 24,
     "metadata": {},
     "output_type": "execute_result"
    }
   ],
   "source": [
    "os.getenv('LIBRADTRANDIR')"
   ]
  },
  {
   "cell_type": "markdown",
   "metadata": {},
   "source": [
    "## Choose the parameters of the simulation"
   ]
  },
  {
   "cell_type": "code",
   "execution_count": 25,
   "metadata": {},
   "outputs": [],
   "source": [
    "am=np.linspace(1,2.5,16)\n",
    "pressure = 0. # use default value\n",
    "pwv=4       # turn on or of the pwv\n",
    "aer=0  \n",
    "ozone=0.    # turn on or of the ozone\n",
    "cloudext=0"
   ]
  },
  {
   "cell_type": "code",
   "execution_count": 26,
   "metadata": {},
   "outputs": [],
   "source": [
    "NBOBS=len(am)"
   ]
  },
  {
   "cell_type": "code",
   "execution_count": 27,
   "metadata": {},
   "outputs": [],
   "source": [
    "jet = plt.get_cmap('jet')\n",
    "cNorm = colors.Normalize(vmin=0, vmax=NBOBS)\n",
    "scalarMap = cmx.ScalarMappable(norm=cNorm, cmap=jet)\n",
    "all_colors = scalarMap.to_rgba(np.arange( NBOBS), alpha=1)"
   ]
  },
  {
   "cell_type": "markdown",
   "metadata": {},
   "source": [
    "## Simulation"
   ]
  },
  {
   "cell_type": "code",
   "execution_count": null,
   "metadata": {},
   "outputs": [
    {
     "name": "stdout",
     "output_type": "stream",
     "text": [
      "--------------------------------------------\n",
      " 1) airmass =  1.0\n",
      " 2) pwv =  4\n",
      " 3) oz =  0.0\n",
      " 4) pressure  =  0.0\n",
      " 5) atmospheric profile =  us\n",
      " 6) interaction processes =  ab\n",
      " 7) cloud extinction =  0\n",
      "--------------------------------------------\n",
      "Running uvspec with input file:  simulations/RT/2.0.1/LS/pp/us/ab/rtvis/in/RT_MPL_pp_us_ab_rtvis_z10_wv40_oz0_cld0000.INP\n",
      "Output to file                :  simulations/RT/2.0.1/LS/pp/us/ab/rtvis/out/RT_MPL_pp_us_ab_rtvis_z10_wv40_oz0_cld0000.OUT\n",
      "uvspec cmd:  /Users/dagoret/MacOSX/External/libRadtran/libRadtran-2.0.1/bin/uvspec  < simulations/RT/2.0.1/LS/pp/us/ab/rtvis/in/RT_MPL_pp_us_ab_rtvis_z10_wv40_oz0_cld0000.INP > simulations/RT/2.0.1/LS/pp/us/ab/rtvis/out/RT_MPL_pp_us_ab_rtvis_z10_wv40_oz0_cld0000.OUT\n",
      "--------------------------------------------\n",
      " 1) airmass =  1.1\n",
      " 2) pwv =  4\n",
      " 3) oz =  0.0\n",
      " 4) pressure  =  0.0\n",
      " 5) atmospheric profile =  us\n",
      " 6) interaction processes =  ab\n",
      " 7) cloud extinction =  0\n",
      "--------------------------------------------\n",
      "Running uvspec with input file:  simulations/RT/2.0.1/LS/pp/us/ab/rtvis/in/RT_MPL_pp_us_ab_rtvis_z11_wv40_oz0_cld0000.INP\n",
      "Output to file                :  simulations/RT/2.0.1/LS/pp/us/ab/rtvis/out/RT_MPL_pp_us_ab_rtvis_z11_wv40_oz0_cld0000.OUT\n",
      "uvspec cmd:  /Users/dagoret/MacOSX/External/libRadtran/libRadtran-2.0.1/bin/uvspec  < simulations/RT/2.0.1/LS/pp/us/ab/rtvis/in/RT_MPL_pp_us_ab_rtvis_z11_wv40_oz0_cld0000.INP > simulations/RT/2.0.1/LS/pp/us/ab/rtvis/out/RT_MPL_pp_us_ab_rtvis_z11_wv40_oz0_cld0000.OUT\n",
      "--------------------------------------------\n",
      " 1) airmass =  1.2\n",
      " 2) pwv =  4\n",
      " 3) oz =  0.0\n",
      " 4) pressure  =  0.0\n",
      " 5) atmospheric profile =  us\n",
      " 6) interaction processes =  ab\n",
      " 7) cloud extinction =  0\n",
      "--------------------------------------------\n",
      "Running uvspec with input file:  simulations/RT/2.0.1/LS/pp/us/ab/rtvis/in/RT_MPL_pp_us_ab_rtvis_z12_wv40_oz0_cld0000.INP\n",
      "Output to file                :  simulations/RT/2.0.1/LS/pp/us/ab/rtvis/out/RT_MPL_pp_us_ab_rtvis_z12_wv40_oz0_cld0000.OUT\n",
      "uvspec cmd:  /Users/dagoret/MacOSX/External/libRadtran/libRadtran-2.0.1/bin/uvspec  < simulations/RT/2.0.1/LS/pp/us/ab/rtvis/in/RT_MPL_pp_us_ab_rtvis_z12_wv40_oz0_cld0000.INP > simulations/RT/2.0.1/LS/pp/us/ab/rtvis/out/RT_MPL_pp_us_ab_rtvis_z12_wv40_oz0_cld0000.OUT\n",
      "--------------------------------------------\n",
      " 1) airmass =  1.3\n",
      " 2) pwv =  4\n",
      " 3) oz =  0.0\n",
      " 4) pressure  =  0.0\n",
      " 5) atmospheric profile =  us\n",
      " 6) interaction processes =  ab\n",
      " 7) cloud extinction =  0\n",
      "--------------------------------------------\n",
      "Running uvspec with input file:  simulations/RT/2.0.1/LS/pp/us/ab/rtvis/in/RT_MPL_pp_us_ab_rtvis_z13_wv40_oz0_cld0000.INP\n",
      "Output to file                :  simulations/RT/2.0.1/LS/pp/us/ab/rtvis/out/RT_MPL_pp_us_ab_rtvis_z13_wv40_oz0_cld0000.OUT\n",
      "uvspec cmd:  /Users/dagoret/MacOSX/External/libRadtran/libRadtran-2.0.1/bin/uvspec  < simulations/RT/2.0.1/LS/pp/us/ab/rtvis/in/RT_MPL_pp_us_ab_rtvis_z13_wv40_oz0_cld0000.INP > simulations/RT/2.0.1/LS/pp/us/ab/rtvis/out/RT_MPL_pp_us_ab_rtvis_z13_wv40_oz0_cld0000.OUT\n",
      "--------------------------------------------\n",
      " 1) airmass =  1.4\n",
      " 2) pwv =  4\n",
      " 3) oz =  0.0\n",
      " 4) pressure  =  0.0\n",
      " 5) atmospheric profile =  us\n",
      " 6) interaction processes =  ab\n",
      " 7) cloud extinction =  0\n",
      "--------------------------------------------\n",
      "Running uvspec with input file:  simulations/RT/2.0.1/LS/pp/us/ab/rtvis/in/RT_MPL_pp_us_ab_rtvis_z14_wv40_oz0_cld0000.INP\n",
      "Output to file                :  simulations/RT/2.0.1/LS/pp/us/ab/rtvis/out/RT_MPL_pp_us_ab_rtvis_z14_wv40_oz0_cld0000.OUT\n",
      "uvspec cmd:  /Users/dagoret/MacOSX/External/libRadtran/libRadtran-2.0.1/bin/uvspec  < simulations/RT/2.0.1/LS/pp/us/ab/rtvis/in/RT_MPL_pp_us_ab_rtvis_z14_wv40_oz0_cld0000.INP > simulations/RT/2.0.1/LS/pp/us/ab/rtvis/out/RT_MPL_pp_us_ab_rtvis_z14_wv40_oz0_cld0000.OUT\n",
      "--------------------------------------------\n",
      " 1) airmass =  1.5\n",
      " 2) pwv =  4\n",
      " 3) oz =  0.0\n",
      " 4) pressure  =  0.0\n",
      " 5) atmospheric profile =  us\n",
      " 6) interaction processes =  ab\n",
      " 7) cloud extinction =  0\n",
      "--------------------------------------------\n",
      "Running uvspec with input file:  simulations/RT/2.0.1/LS/pp/us/ab/rtvis/in/RT_MPL_pp_us_ab_rtvis_z15_wv40_oz0_cld0000.INP\n",
      "Output to file                :  simulations/RT/2.0.1/LS/pp/us/ab/rtvis/out/RT_MPL_pp_us_ab_rtvis_z15_wv40_oz0_cld0000.OUT\n",
      "uvspec cmd:  /Users/dagoret/MacOSX/External/libRadtran/libRadtran-2.0.1/bin/uvspec  < simulations/RT/2.0.1/LS/pp/us/ab/rtvis/in/RT_MPL_pp_us_ab_rtvis_z15_wv40_oz0_cld0000.INP > simulations/RT/2.0.1/LS/pp/us/ab/rtvis/out/RT_MPL_pp_us_ab_rtvis_z15_wv40_oz0_cld0000.OUT\n",
      "--------------------------------------------\n",
      " 1) airmass =  1.6\n",
      " 2) pwv =  4\n",
      " 3) oz =  0.0\n",
      " 4) pressure  =  0.0\n",
      " 5) atmospheric profile =  us\n",
      " 6) interaction processes =  ab\n",
      " 7) cloud extinction =  0\n",
      "--------------------------------------------\n",
      "Running uvspec with input file:  simulations/RT/2.0.1/LS/pp/us/ab/rtvis/in/RT_MPL_pp_us_ab_rtvis_z16_wv40_oz0_cld0000.INP\n",
      "Output to file                :  simulations/RT/2.0.1/LS/pp/us/ab/rtvis/out/RT_MPL_pp_us_ab_rtvis_z16_wv40_oz0_cld0000.OUT\n",
      "uvspec cmd:  /Users/dagoret/MacOSX/External/libRadtran/libRadtran-2.0.1/bin/uvspec  < simulations/RT/2.0.1/LS/pp/us/ab/rtvis/in/RT_MPL_pp_us_ab_rtvis_z16_wv40_oz0_cld0000.INP > simulations/RT/2.0.1/LS/pp/us/ab/rtvis/out/RT_MPL_pp_us_ab_rtvis_z16_wv40_oz0_cld0000.OUT\n",
      "--------------------------------------------\n",
      " 1) airmass =  1.7000000000000002\n",
      " 2) pwv =  4\n",
      " 3) oz =  0.0\n",
      " 4) pressure  =  0.0\n",
      " 5) atmospheric profile =  us\n",
      " 6) interaction processes =  ab\n",
      " 7) cloud extinction =  0\n",
      "--------------------------------------------\n",
      "Running uvspec with input file:  simulations/RT/2.0.1/LS/pp/us/ab/rtvis/in/RT_MPL_pp_us_ab_rtvis_z17_wv40_oz0_cld0000.INP\n",
      "Output to file                :  simulations/RT/2.0.1/LS/pp/us/ab/rtvis/out/RT_MPL_pp_us_ab_rtvis_z17_wv40_oz0_cld0000.OUT\n",
      "uvspec cmd:  /Users/dagoret/MacOSX/External/libRadtran/libRadtran-2.0.1/bin/uvspec  < simulations/RT/2.0.1/LS/pp/us/ab/rtvis/in/RT_MPL_pp_us_ab_rtvis_z17_wv40_oz0_cld0000.INP > simulations/RT/2.0.1/LS/pp/us/ab/rtvis/out/RT_MPL_pp_us_ab_rtvis_z17_wv40_oz0_cld0000.OUT\n",
      "--------------------------------------------\n",
      " 1) airmass =  1.8\n",
      " 2) pwv =  4\n",
      " 3) oz =  0.0\n",
      " 4) pressure  =  0.0\n",
      " 5) atmospheric profile =  us\n",
      " 6) interaction processes =  ab\n",
      " 7) cloud extinction =  0\n",
      "--------------------------------------------\n",
      "Running uvspec with input file:  simulations/RT/2.0.1/LS/pp/us/ab/rtvis/in/RT_MPL_pp_us_ab_rtvis_z18_wv40_oz0_cld0000.INP\n",
      "Output to file                :  simulations/RT/2.0.1/LS/pp/us/ab/rtvis/out/RT_MPL_pp_us_ab_rtvis_z18_wv40_oz0_cld0000.OUT\n",
      "uvspec cmd:  /Users/dagoret/MacOSX/External/libRadtran/libRadtran-2.0.1/bin/uvspec  < simulations/RT/2.0.1/LS/pp/us/ab/rtvis/in/RT_MPL_pp_us_ab_rtvis_z18_wv40_oz0_cld0000.INP > simulations/RT/2.0.1/LS/pp/us/ab/rtvis/out/RT_MPL_pp_us_ab_rtvis_z18_wv40_oz0_cld0000.OUT\n",
      "--------------------------------------------\n",
      " 1) airmass =  1.9\n",
      " 2) pwv =  4\n",
      " 3) oz =  0.0\n",
      " 4) pressure  =  0.0\n",
      " 5) atmospheric profile =  us\n",
      " 6) interaction processes =  ab\n",
      " 7) cloud extinction =  0\n",
      "--------------------------------------------\n",
      "Running uvspec with input file:  simulations/RT/2.0.1/LS/pp/us/ab/rtvis/in/RT_MPL_pp_us_ab_rtvis_z19_wv40_oz0_cld0000.INP\n",
      "Output to file                :  simulations/RT/2.0.1/LS/pp/us/ab/rtvis/out/RT_MPL_pp_us_ab_rtvis_z19_wv40_oz0_cld0000.OUT\n",
      "uvspec cmd:  /Users/dagoret/MacOSX/External/libRadtran/libRadtran-2.0.1/bin/uvspec  < simulations/RT/2.0.1/LS/pp/us/ab/rtvis/in/RT_MPL_pp_us_ab_rtvis_z19_wv40_oz0_cld0000.INP > simulations/RT/2.0.1/LS/pp/us/ab/rtvis/out/RT_MPL_pp_us_ab_rtvis_z19_wv40_oz0_cld0000.OUT\n",
      "--------------------------------------------\n",
      " 1) airmass =  2.0\n",
      " 2) pwv =  4\n",
      " 3) oz =  0.0\n",
      " 4) pressure  =  0.0\n",
      " 5) atmospheric profile =  us\n",
      " 6) interaction processes =  ab\n",
      " 7) cloud extinction =  0\n",
      "--------------------------------------------\n",
      "Running uvspec with input file:  simulations/RT/2.0.1/LS/pp/us/ab/rtvis/in/RT_MPL_pp_us_ab_rtvis_z20_wv40_oz0_cld0000.INP\n",
      "Output to file                :  simulations/RT/2.0.1/LS/pp/us/ab/rtvis/out/RT_MPL_pp_us_ab_rtvis_z20_wv40_oz0_cld0000.OUT\n",
      "uvspec cmd:  /Users/dagoret/MacOSX/External/libRadtran/libRadtran-2.0.1/bin/uvspec  < simulations/RT/2.0.1/LS/pp/us/ab/rtvis/in/RT_MPL_pp_us_ab_rtvis_z20_wv40_oz0_cld0000.INP > simulations/RT/2.0.1/LS/pp/us/ab/rtvis/out/RT_MPL_pp_us_ab_rtvis_z20_wv40_oz0_cld0000.OUT\n"
     ]
    },
    {
     "name": "stdout",
     "output_type": "stream",
     "text": [
      "--------------------------------------------\n",
      " 1) airmass =  2.1\n",
      " 2) pwv =  4\n",
      " 3) oz =  0.0\n",
      " 4) pressure  =  0.0\n",
      " 5) atmospheric profile =  us\n",
      " 6) interaction processes =  ab\n",
      " 7) cloud extinction =  0\n",
      "--------------------------------------------\n",
      "Running uvspec with input file:  simulations/RT/2.0.1/LS/pp/us/ab/rtvis/in/RT_MPL_pp_us_ab_rtvis_z21_wv40_oz0_cld0000.INP\n",
      "Output to file                :  simulations/RT/2.0.1/LS/pp/us/ab/rtvis/out/RT_MPL_pp_us_ab_rtvis_z21_wv40_oz0_cld0000.OUT\n",
      "uvspec cmd:  /Users/dagoret/MacOSX/External/libRadtran/libRadtran-2.0.1/bin/uvspec  < simulations/RT/2.0.1/LS/pp/us/ab/rtvis/in/RT_MPL_pp_us_ab_rtvis_z21_wv40_oz0_cld0000.INP > simulations/RT/2.0.1/LS/pp/us/ab/rtvis/out/RT_MPL_pp_us_ab_rtvis_z21_wv40_oz0_cld0000.OUT\n"
     ]
    }
   ],
   "source": [
    "all_trans = []\n",
    "for index in np.arange(NBOBS):\n",
    "\n",
    "    path,thefile=libsimulateVisible.ProcessSimulation(am[index],pwv,ozone,pressure,\n",
    "                                                      prof_str='us',proc_str='ab',cloudext=cloudext)\n",
    "    data = np.loadtxt(os.path.join(path,thefile))\n",
    "    wl = data[:,0]\n",
    "    atm = data[:,1] \n",
    "    all_trans.append(atm)"
   ]
  },
  {
   "cell_type": "markdown",
   "metadata": {},
   "source": [
    "## Plot"
   ]
  },
  {
   "cell_type": "code",
   "execution_count": null,
   "metadata": {},
   "outputs": [],
   "source": [
    "for index in np.arange(NBOBS):   \n",
    "    plt.semilogy(wl,all_trans[index],'-',color=all_colors[index])\n",
    "plt.xlim(650,1000)\n",
    "plt.grid()\n",
    "plt.title(\"Absorption Atmospheric transmission for airmass in 1-2.5 range\")\n",
    "plt.xlabel(\"$\\\\lambda$ (nm)\")\n",
    "plt.ylabel(\"transmission\")\n",
    "plt.ylim(0.1,1)\n",
    "figname=string_date+\"_multiabtransmissionvsairmass.png\"\n",
    "plt.savefig(figname)"
   ]
  },
  {
   "cell_type": "code",
   "execution_count": null,
   "metadata": {},
   "outputs": [],
   "source": [
    "for index in np.arange(NBOBS):   \n",
    "    plt.semilogy(wl,all_trans[index],'-',color=all_colors[index])\n",
    "plt.xlim(300,1200)\n",
    "plt.grid()\n",
    "plt.title(\"Absorption Atmospheric transmission for airmass in 1-2.5 range\")\n",
    "plt.xlabel(\"$\\\\lambda$ (nm)\")\n",
    "plt.ylabel(\"transmission\")\n",
    "plt.ylim(0.85,1)\n",
    "#plt.xlim(300,700)\n",
    "figname=string_date+\"_multiabtransmissionvsairmass.png\"\n",
    "plt.savefig(figname)"
   ]
  },
  {
   "cell_type": "code",
   "execution_count": null,
   "metadata": {},
   "outputs": [],
   "source": []
  }
 ],
 "metadata": {
  "anaconda-cloud": {},
  "kernelspec": {
   "display_name": "Python 3",
   "language": "python",
   "name": "python3"
  },
  "language_info": {
   "codemirror_mode": {
    "name": "ipython",
    "version": 3
   },
   "file_extension": ".py",
   "mimetype": "text/x-python",
   "name": "python",
   "nbconvert_exporter": "python",
   "pygments_lexer": "ipython3",
   "version": "3.7.6"
  },
  "toc": {
   "nav_menu": {
    "height": "12px",
    "width": "252px"
   },
   "number_sections": true,
   "sideBar": true,
   "skip_h1_title": false,
   "toc_cell": false,
   "toc_position": {},
   "toc_section_display": "block",
   "toc_window_display": false
  }
 },
 "nbformat": 4,
 "nbformat_minor": 4
}
