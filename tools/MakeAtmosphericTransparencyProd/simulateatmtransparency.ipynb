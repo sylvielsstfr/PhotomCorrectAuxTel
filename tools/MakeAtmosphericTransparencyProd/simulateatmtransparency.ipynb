{
 "cells": [
  {
   "cell_type": "markdown",
   "metadata": {},
   "source": [
    "# Simulate atmospheric transparency"
   ]
  },
  {
   "cell_type": "code",
   "execution_count": 1,
   "metadata": {},
   "outputs": [],
   "source": [
    "import matplotlib.pyplot as plt\n",
    "import mpl_toolkits.mplot3d as plt3d\n",
    "import numpy as np\n",
    "import os,sys\n",
    "import re\n",
    "import matplotlib as mpl\n",
    "import matplotlib.colors as colors\n",
    "import matplotlib.cm as cmx\n",
    "import pandas as pd\n",
    "import itertools\n",
    "\n",
    "from astropy import units as u\n",
    "from astropy.coordinates import Angle\n",
    "\n",
    "import time\n",
    "from datetime import datetime,date\n",
    "import dateutil.parser\n",
    "import pytz\n",
    "\n",
    "import argparse\n",
    "\n",
    "import logging\n",
    "import coloredlogs\n",
    "import configparser\n"
   ]
  },
  {
   "cell_type": "code",
   "execution_count": 2,
   "metadata": {},
   "outputs": [],
   "source": [
    "from astropy.io import fits"
   ]
  },
  {
   "cell_type": "code",
   "execution_count": 3,
   "metadata": {},
   "outputs": [],
   "source": [
    "# to enlarge the sizes\n",
    "params = {'legend.fontsize': 'x-large',\n",
    "          'figure.figsize': (10,6),\n",
    "         'axes.labelsize': 'x-large',\n",
    "         'axes.titlesize':'x-large',\n",
    "         'xtick.labelsize':'x-large',\n",
    "         'ytick.labelsize':'x-large'}\n",
    "plt.rcParams.update(params)"
   ]
  },
  {
   "cell_type": "code",
   "execution_count": 4,
   "metadata": {},
   "outputs": [
    {
     "data": {
      "text/plain": [
       "'/Users/dagoret/MacOSX/External/libRadtran2'"
      ]
     },
     "execution_count": 4,
     "metadata": {},
     "output_type": "execute_result"
    }
   ],
   "source": [
    "os.getenv('LIBRADTRANDIR')"
   ]
  },
  {
   "cell_type": "code",
   "execution_count": 5,
   "metadata": {},
   "outputs": [],
   "source": [
    "sys.path.append('../libradtran')"
   ]
  },
  {
   "cell_type": "code",
   "execution_count": 6,
   "metadata": {},
   "outputs": [
    {
     "name": "stdout",
     "output_type": "stream",
     "text": [
      "libradtranpath= /Users/dagoret/MacOSX/External/libRadtran2/\n"
     ]
    }
   ],
   "source": [
    "import libsimulateVisible"
   ]
  },
  {
   "cell_type": "markdown",
   "metadata": {},
   "source": [
    "# Initialisation"
   ]
  },
  {
   "cell_type": "code",
   "execution_count": 7,
   "metadata": {},
   "outputs": [
    {
     "name": "stdout",
     "output_type": "stream",
     "text": [
      "LA time: 07:40:57\n",
      "NY time: 10:40:57\n",
      "London time: 15:40:57\n",
      "Paris time: 16:40:57\n"
     ]
    }
   ],
   "source": [
    "# date\n",
    "today = date.today()\n",
    "string_date = today.strftime(\"%Y-%m-%d\")\n",
    "\n",
    "\n",
    "# time\n",
    "now = datetime.now()\n",
    "current_time = now.strftime(\"%H:%M:%S\")\n",
    "\n",
    "tim = time.localtime()\n",
    "current_time = time.strftime(\"%H:%M:%S\", tim)\n",
    "\n",
    "\n",
    "#timezones\n",
    "tz_LA = pytz.timezone('America/Los_Angeles')\n",
    "datetime_LA = datetime.now(tz_LA)\n",
    "print(\"LA time:\", datetime_LA.strftime(\"%H:%M:%S\"))\n",
    "\n",
    "\n",
    "tz_NY = pytz.timezone('America/New_York')\n",
    "datetime_NY = datetime.now(tz_NY)\n",
    "print(\"NY time:\", datetime_NY.strftime(\"%H:%M:%S\"))\n",
    "\n",
    "tz_London = pytz.timezone('Europe/London')\n",
    "datetime_London = datetime.now(tz_London)\n",
    "print(\"London time:\", datetime_London.strftime(\"%H:%M:%S\"))\n",
    "\n",
    "tz_Paris = pytz.timezone('Europe/Paris')\n",
    "datetime_Paris = datetime.now(tz_Paris)\n",
    "print(\"Paris time:\", datetime_Paris.strftime(\"%H:%M:%S\"))\n",
    "\n"
   ]
  },
  {
   "cell_type": "code",
   "execution_count": 8,
   "metadata": {},
   "outputs": [],
   "source": [
    "# start with logs\n",
    "#-----------------\n",
    "logging.basicConfig()\n",
    "logging.root.setLevel(logging.NOTSET)\n",
    "\n",
    "handle = __name__\n",
    "\n",
    "logger = logging.getLogger(handle)\n",
    "# logging.getLogger().setLevel(logging.INFO)\n",
    "logger.setLevel(logging.DEBUG)\n",
    "\n",
    "# If you don't want to see log messages from libraries, you can pass a\n",
    "# specific logger object to the install() function. In this case only log\n",
    "# messages originating from that logger will show up on the terminal.\n",
    "coloredlogs.install(level='DEBUG', logger=logger)\n",
    "coloredlogs.install(fmt='%(asctime)s,%(msecs)03d %(hostname)s %(name)s[%(process)d] %(levelname)s %(message)s')"
   ]
  },
  {
   "cell_type": "code",
   "execution_count": 9,
   "metadata": {},
   "outputs": [],
   "source": [
    "# arguments\n",
    "#----------\n",
    "\n",
    "parser = argparse.ArgumentParser()\n",
    "parser.add_argument(\"--config\",action=\"store\", dest=\"configfile\",help=f\" run generate -config configfilename, with by ex configfilename = default.ini\")\n",
    "#results_args = parser.parse_args()\n",
    "\n",
    "results_args=\"\"\n",
    "   "
   ]
  },
  {
   "cell_type": "code",
   "execution_count": 10,
   "metadata": {},
   "outputs": [
    {
     "name": "stderr",
     "output_type": "stream",
     "text": [
      "2021-12-12 16:40:57,559 MacBook-Pro-de-admin.local __main__[61082] INFO Start ipykernel_launcher.py at date : 2021-12-12 and time :16:40:57 and with arguments:\n"
     ]
    }
   ],
   "source": [
    "msg = f\"Start {parser.prog} at date : {string_date} and time :{current_time} and with arguments:{results_args}\"\n",
    "logger.info(msg)"
   ]
  },
  {
   "cell_type": "markdown",
   "metadata": {},
   "source": [
    "# Configuration"
   ]
  },
  {
   "cell_type": "code",
   "execution_count": 11,
   "metadata": {},
   "outputs": [
    {
     "name": "stderr",
     "output_type": "stream",
     "text": [
      "2021-12-12 16:40:57,565 MacBook-Pro-de-admin.local __main__[61082] INFO Configuration file : config/default.ini\n"
     ]
    }
   ],
   "source": [
    "# config file\n",
    "# --------------\n",
    "configfile = \"config/default.ini\"\n",
    "packetnum =100\n",
    "#config_filename = results_args.configfile\n",
    "config_filename = configfile\n",
    "msg = f\"Configuration file : {config_filename}\"\n",
    "logger.info(msg)"
   ]
  },
  {
   "cell_type": "code",
   "execution_count": 12,
   "metadata": {},
   "outputs": [],
   "source": [
    "packet_str=str(packetnum).zfill(4)"
   ]
  },
  {
   "cell_type": "code",
   "execution_count": 13,
   "metadata": {},
   "outputs": [
    {
     "data": {
      "text/plain": [
       "'0100'"
      ]
     },
     "execution_count": 13,
     "metadata": {},
     "output_type": "execute_result"
    }
   ],
   "source": [
    "packet_str"
   ]
  },
  {
   "cell_type": "code",
   "execution_count": 14,
   "metadata": {},
   "outputs": [
    {
     "name": "stderr",
     "output_type": "stream",
     "text": [
      "2021-12-12 16:40:57,583 MacBook-Pro-de-admin.local __main__[61082] INFO 1) Configuration\n"
     ]
    }
   ],
   "source": [
    "# 1) CONFIGURATION\n",
    "#------------------\n",
    "logger.info('1) Configuration')\n",
    "\n",
    "config = configparser.ConfigParser()\n",
    "\n",
    "if os.path.exists(config_filename):\n",
    "    config.read(config_filename)\n",
    "else:\n",
    "    msg = f\"config file {config_filename} does not exist !\"\n",
    "    logger.error(msg)\n",
    "\n",
    "config_section = config.sections()"
   ]
  },
  {
   "cell_type": "code",
   "execution_count": 15,
   "metadata": {},
   "outputs": [],
   "source": [
    "if len(config_section) == 0:\n",
    "    msg = f\"empty config file {config_filename} !\"\n",
    "    logger.error(msg)    "
   ]
  },
  {
   "cell_type": "code",
   "execution_count": 16,
   "metadata": {},
   "outputs": [],
   "source": [
    "if 'GENERAL' in config_section:\n",
    "\n",
    "    FLAG_DEBUG = bool(int(config['GENERAL']['FLAG_DEBUG']))\n",
    "    FLAG_VERBOSE = bool(int(config['GENERAL']['FLAG_VERBOSE']))\n",
    "    FLAG_PLOT = bool(int(config['GENERAL']['FLAG_PLOT']))\n",
    "    FLAG_PRINT = bool(int(config['GENERAL']['FLAG_PRINT']))\n",
    "else:\n",
    "    msg = f\"empty section GENERAL in config file {config_filename} !\"\n",
    "    logger.error(msg)\n",
    "\n",
    "\n",
    "if 'SIMTRANSPARENCY'in config_section:\n",
    "    input_file = config['SIMTRANSPARENCY']['inputfile']\n",
    "    input_dir = config['SIMTRANSPARENCY']['inputdir']\n",
    "\n",
    "    output_file = config['SIMTRANSPARENCY']['outputfile']\n",
    "    output_dir = config['SIMTRANSPARENCY']['outputdir']\n",
    "\n",
    "    packetsize = int(config['SIMTRANSPARENCY']['packetsize'])\n",
    "\n",
    "output_file_split=output_file.split(\".\")    \n",
    "output_file=output_file_split[0]+\"_\"+packet_str+\".\"+output_file_split[1]    \n",
    "    \n",
    "full_inputfilename=os.path.join(input_dir,input_file)\n",
    "full_outputfilename=os.path.join(output_dir,output_file)"
   ]
  },
  {
   "cell_type": "code",
   "execution_count": 17,
   "metadata": {},
   "outputs": [
    {
     "name": "stderr",
     "output_type": "stream",
     "text": [
      "2021-12-12 16:40:57,605 MacBook-Pro-de-admin.local __main__[61082] INFO FLAG_PLOT = False\n",
      "2021-12-12 16:40:57,606 MacBook-Pro-de-admin.local __main__[61082] INFO FLAG_VERBOSE = False\n",
      "2021-12-12 16:40:57,606 MacBook-Pro-de-admin.local __main__[61082] INFO input file name = atmsimdata/atmparam.fits\n",
      "2021-12-12 16:40:57,607 MacBook-Pro-de-admin.local __main__[61082] INFO output file name = atmsimdata/atmtransparency_0100.fits\n",
      "2021-12-12 16:40:57,608 MacBook-Pro-de-admin.local __main__[61082] INFO NROWMIN = 9900 , NROWMAX  = 9999  \n"
     ]
    }
   ],
   "source": [
    "msg = f\"FLAG_PLOT = {FLAG_PLOT}\"\n",
    "logger.info(msg)\n",
    "\n",
    "msg = f\"FLAG_VERBOSE = {FLAG_VERBOSE}\"\n",
    "logger.info(msg)\n",
    "\n",
    "msg=f\"input file name = {full_inputfilename}\"\n",
    "logger.info(msg)\n",
    "\n",
    "msg=f\"output file name = {full_outputfilename}\"\n",
    "logger.info(msg)\n",
    "\n",
    "# range inside the atmospheric parameter file\n",
    "NROWMIN = (packetnum - 1) * packetsize\n",
    "NROWMAX = (packetnum) * packetsize - 1\n",
    "\n",
    "msg = f\"NROWMIN = {NROWMIN} , NROWMAX  = {NROWMAX}  \"\n",
    "logger.info(msg)"
   ]
  },
  {
   "cell_type": "markdown",
   "metadata": {},
   "source": [
    "# open input atmospheric parameters"
   ]
  },
  {
   "cell_type": "code",
   "execution_count": 18,
   "metadata": {},
   "outputs": [],
   "source": [
    "hduin = fits.open(full_inputfilename)"
   ]
  },
  {
   "cell_type": "code",
   "execution_count": 19,
   "metadata": {},
   "outputs": [
    {
     "name": "stdout",
     "output_type": "stream",
     "text": [
      "Filename: atmsimdata/atmparam.fits\n",
      "No.    Name      Ver    Type      Cards   Dimensions   Format\n",
      "  0  PRIMARY       1 PrimaryHDU      13   (6, 20000)   float64   \n"
     ]
    },
    {
     "name": "stderr",
     "output_type": "stream",
     "text": [
      "2021-12-12 16:40:57,623 MacBook-Pro-de-admin.local __main__[61082] INFO None\n"
     ]
    }
   ],
   "source": [
    "msg = \"{}\".format(hduin.info())\n",
    "logger.info(msg)"
   ]
  },
  {
   "cell_type": "code",
   "execution_count": 20,
   "metadata": {},
   "outputs": [],
   "source": [
    "headerin=hduin[0].header\n",
    "datain=hduin[0].data"
   ]
  },
  {
   "cell_type": "code",
   "execution_count": 21,
   "metadata": {},
   "outputs": [],
   "source": [
    "NSIM=len(datain)"
   ]
  },
  {
   "cell_type": "code",
   "execution_count": 22,
   "metadata": {},
   "outputs": [],
   "source": [
    "if NROWMIN>NSIM:\n",
    "    msg = f\" >>> NROWMIN = {NROWMIN} greater than  NSIM={NSIM} ==> stop simulation\"\n",
    "    logger.error(msg)"
   ]
  },
  {
   "cell_type": "code",
   "execution_count": 23,
   "metadata": {},
   "outputs": [
    {
     "name": "stderr",
     "output_type": "stream",
     "text": [
      "2021-12-12 16:40:57,662 MacBook-Pro-de-admin.local __main__[61082] INFO SIMPLE  =                    T / conforms to FITS standard                      BITPIX  =                  -64 / array data type                                NAXIS   =                    2 / number of array dimensions                     NAXIS1  =                    6                                                  NAXIS2  =                20000                                                  NBATMSIM=                20000                                                  ID_NUM  =                    0                                                  ID_AM   =                    1                                                  ID_VAOD =                    2                                                  ID_PWV  =                    3                                                  ID_O3   =                    4                                                  ID_CLD  =                    5                                                  ID_RES  =                    6                                                  END                                                                                                                                                                                                                                                                                                                                                                                                                                                                                                                                                                                                                                                                                                                                                                                                                                                                                                                                                                                                                                                                                                                                                                                                                                                                                                                                                                                                                                                                                                                                                                                                                                                                                                                                                                                                                                                                                                             \n"
     ]
    }
   ],
   "source": [
    "logger.info(headerin)"
   ]
  },
  {
   "cell_type": "code",
   "execution_count": 24,
   "metadata": {},
   "outputs": [
    {
     "name": "stderr",
     "output_type": "stream",
     "text": [
      "2021-12-12 16:40:57,669 MacBook-Pro-de-admin.local __main__[61082] INFO [1.00000000e+00 1.56403105e+00 6.37825301e-02 3.98332240e+00\n",
      " 2.44915685e+02 4.78227297e-02]\n"
     ]
    }
   ],
   "source": [
    "logger.info(datain[0,:])"
   ]
  },
  {
   "cell_type": "code",
   "execution_count": 25,
   "metadata": {},
   "outputs": [],
   "source": [
    "hdr=headerin\n",
    "NSIMH=hdr['NBATMSIM']\n",
    "idx_num = hdr['ID_NUM']\n",
    "idx_am = hdr['ID_AM']\n",
    "idx_vaod=hdr['ID_VAOD']\n",
    "idx_pwv= hdr['ID_PWV']\n",
    "idx_o3=hdr['ID_O3']\n",
    "idx_cld=hdr['ID_CLD']\n",
    "idx_res= hdr['ID_RES']"
   ]
  },
  {
   "cell_type": "markdown",
   "metadata": {},
   "source": [
    "# Simulate atmosphere with libradtran"
   ]
  },
  {
   "cell_type": "code",
   "execution_count": 26,
   "metadata": {},
   "outputs": [
    {
     "name": "stderr",
     "output_type": "stream",
     "text": [
      "2021-12-12 16:41:02,308 MacBook-Pro-de-admin.local __main__[61082] INFO run libradtran : index=9900, am=2.42, pwv=13.96, ozone=306.59, aer=0.07\n",
      "2021-12-12 16:42:03,415 MacBook-Pro-de-admin.local __main__[61082] INFO run libradtran : index=9910, am=2.27, pwv=5.56, ozone=430.71, aer=0.05\n",
      "2021-12-12 16:43:03,557 MacBook-Pro-de-admin.local __main__[61082] INFO run libradtran : index=9920, am=1.65, pwv=3.62, ozone=222.14, aer=0.07\n",
      "2021-12-12 16:44:04,876 MacBook-Pro-de-admin.local __main__[61082] INFO run libradtran : index=9930, am=2.17, pwv=8.07, ozone=340.99, aer=0.07\n",
      "2021-12-12 16:45:12,358 MacBook-Pro-de-admin.local __main__[61082] INFO run libradtran : index=9940, am=2.09, pwv=8.42, ozone=292.01, aer=0.07\n",
      "2021-12-12 16:46:15,724 MacBook-Pro-de-admin.local __main__[61082] INFO run libradtran : index=9950, am=1.73, pwv=3.17, ozone=510.99, aer=0.04\n",
      "2021-12-12 16:47:16,638 MacBook-Pro-de-admin.local __main__[61082] INFO run libradtran : index=9960, am=1.34, pwv=3.46, ozone=371.55, aer=0.04\n",
      "2021-12-12 16:48:17,073 MacBook-Pro-de-admin.local __main__[61082] INFO run libradtran : index=9970, am=1.42, pwv=9.17, ozone=477.56, aer=0.07\n",
      "2021-12-12 16:49:16,989 MacBook-Pro-de-admin.local __main__[61082] INFO run libradtran : index=9980, am=1.50, pwv=4.89, ozone=145.87, aer=0.04\n",
      "2021-12-12 16:50:16,890 MacBook-Pro-de-admin.local __main__[61082] INFO run libradtran : index=9990, am=1.58, pwv=2.83, ozone=335.65, aer=0.04\n"
     ]
    }
   ],
   "source": [
    "all_wl=[]\n",
    "all_transm=[]\n",
    "all_z=[]\n",
    "\n",
    "path,thefile=libsimulateVisible.ProcessSimulation(1,0,0,0,prof_str='us',proc_str='sa',cloudext=0)\n",
    "data = np.loadtxt(os.path.join(path,thefile))\n",
    "wl = data[:,0]\n",
    "atm = data[:,1] \n",
    "NWL=len(wl)\n",
    "dataout=np.zeros((packetsize+1,idx_res+NWL))\n",
    "dataout[0,idx_res:]=wl\n",
    "idx=0       \n",
    "for irow in np.arange(min(NROWMIN,NSIM),min(NSIM,NROWMAX)+1):\n",
    "   \n",
    "    am=datain[irow,idx_am ]\n",
    "    pwv=datain[irow,idx_pwv]\n",
    "    ozone=datain[irow,idx_o3]\n",
    "    aer=datain[irow,idx_vaod]\n",
    "    pressure=0\n",
    "    cloudext=datain[irow,idx_cld]\n",
    "    msg=f\"run libradtran : index={irow}, am={am:2.2f}, pwv={pwv:2.2f}, ozone={ozone:3.2f}, aer={aer:2.2f}\"\n",
    "    if FLAG_VERBOSE: \n",
    "        logger.info(msg)\n",
    "    else:\n",
    "        if idx%10 ==0:\n",
    "            logger.info(msg)\n",
    "            \n",
    "    #path,thefile=libsimulateVisible.ProcessSimulation(am,pwv,ozone,pressure,prof_str='us',proc_str='sa',cloudext=cloudext)\n",
    "    path,thefile=libsimulateVisible.ProcessSimulationaer(am,pwv,ozone,aer,pressure,prof_str='us',proc_str='as',cloudext=0)\n",
    "\n",
    "    data = np.loadtxt(os.path.join(path,thefile))\n",
    "    wl = data[:,0]\n",
    "    atm = data[:,1] \n",
    "    all_wl.append(wl)\n",
    "    all_transm.append(atm)\n",
    "    all_z.append(am)\n",
    "         \n",
    "        \n",
    "    dataout[idx+1,idx_num]=irow\n",
    "    dataout[idx+1,idx_am]=am\n",
    "    dataout[idx+1,idx_vaod]=aer\n",
    "    dataout[idx+1,idx_pwv]=pwv\n",
    "    dataout[idx+1,idx_o3]=ozone\n",
    "    dataout[idx+1,idx_cld]=cloudext\n",
    "    dataout[idx+1,idx_res:]=atm\n",
    "    \n",
    "    idx+=1\n"
   ]
  },
  {
   "cell_type": "code",
   "execution_count": 27,
   "metadata": {
    "scrolled": false
   },
   "outputs": [],
   "source": [
    "if FLAG_PLOT:\n",
    "    \n",
    "    jet = plt.get_cmap('jet')\n",
    "    cNorm = colors.Normalize(vmin=0, vmax=packetsize)\n",
    "    scalarMap = cmx.ScalarMappable(norm=cNorm, cmap=jet)\n",
    "    all_colors = scalarMap.to_rgba(np.arange(packetsize), alpha=1)\n",
    "    \n",
    "    fig=plt.figure()\n",
    "    ax=fig.add_subplot(111)\n",
    "    for index in np.arange(packetsize):\n",
    "        am=all_z[index]\n",
    "        label=f'z={am:2.2f}'\n",
    "        ax.plot(all_wl[index],-2.5*np.log10(all_transm[index])/am,color=all_colors[index],label=label);\n",
    "    if packetsize<=10:\n",
    "        ax.legend()\n",
    "    ax.set_ylim(0,2)\n",
    "    ax.grid()\n",
    "    ax.set_xlabel(\"$\\lambda$ (nm)\")\n",
    "    ax.set_ylabel(\"mag\")"
   ]
  },
  {
   "cell_type": "code",
   "execution_count": 28,
   "metadata": {},
   "outputs": [],
   "source": [
    "if FLAG_PLOT:\n",
    "    fig=plt.figure(figsize=(20,6))\n",
    "    ax=fig.add_subplot(111)\n",
    "    ax.imshow(dataout,origin=\"lower\",aspect=\"auto\",interpolation=\"nearest\",vmin=0,vmax=1,cmap='jet',extent=[wl.min(),wl.max(),NROWMIN-1,NROWMAX])\n",
    "    ax.grid()\n",
    "    ax.set_xlabel(\"$\\lambda$ (nm)\")\n",
    "    ax.set_ylabel(\"row number\")\n",
    "    ax.set_title(\"dataout\")"
   ]
  },
  {
   "cell_type": "markdown",
   "metadata": {},
   "source": [
    "# save output file"
   ]
  },
  {
   "cell_type": "code",
   "execution_count": 29,
   "metadata": {},
   "outputs": [
    {
     "name": "stderr",
     "output_type": "stream",
     "text": [
      "2021-12-12 16:51:19,314 MacBook-Pro-de-admin.local __main__[61082] INFO save in output file atmsimdata/atmtransparency_0100.fits\n"
     ]
    }
   ],
   "source": [
    "msg=f\"save in output file {full_outputfilename}\"\n",
    "logger.info(msg)"
   ]
  },
  {
   "cell_type": "code",
   "execution_count": 30,
   "metadata": {},
   "outputs": [],
   "source": [
    "headerout=headerin"
   ]
  },
  {
   "cell_type": "code",
   "execution_count": 31,
   "metadata": {},
   "outputs": [],
   "source": [
    "hdu = fits.PrimaryHDU(dataout,header=headerout)\n",
    "hdu.writeto(full_outputfilename,overwrite=True)"
   ]
  },
  {
   "cell_type": "code",
   "execution_count": null,
   "metadata": {},
   "outputs": [],
   "source": []
  }
 ],
 "metadata": {
  "kernelspec": {
   "display_name": "Python 3",
   "language": "python",
   "name": "python3"
  },
  "language_info": {
   "codemirror_mode": {
    "name": "ipython",
    "version": 3
   },
   "file_extension": ".py",
   "mimetype": "text/x-python",
   "name": "python",
   "nbconvert_exporter": "python",
   "pygments_lexer": "ipython3",
   "version": "3.8.8"
  },
  "toc": {
   "base_numbering": 1,
   "nav_menu": {},
   "number_sections": true,
   "sideBar": true,
   "skip_h1_title": false,
   "title_cell": "Table of Contents",
   "title_sidebar": "Contents",
   "toc_cell": false,
   "toc_position": {},
   "toc_section_display": true,
   "toc_window_display": false
  }
 },
 "nbformat": 4,
 "nbformat_minor": 4
}
