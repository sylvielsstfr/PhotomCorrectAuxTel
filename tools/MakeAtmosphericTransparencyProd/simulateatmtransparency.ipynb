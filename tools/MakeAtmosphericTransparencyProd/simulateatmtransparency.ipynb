{
 "cells": [
  {
   "cell_type": "markdown",
   "metadata": {},
   "source": [
    "# Simulate atmospheric transparency"
   ]
  },
  {
   "cell_type": "code",
   "execution_count": 35,
   "metadata": {},
   "outputs": [],
   "source": [
    "import matplotlib.pyplot as plt\n",
    "import mpl_toolkits.mplot3d as plt3d\n",
    "import numpy as np\n",
    "import os,sys\n",
    "import matplotlib as mpl\n",
    "import pandas as pd\n",
    "import itertools\n",
    "\n",
    "from astropy import units as u\n",
    "from astropy.coordinates import Angle\n",
    "\n",
    "import time\n",
    "from datetime import datetime,date\n",
    "import dateutil.parser\n",
    "import pytz\n",
    "\n",
    "import argparse\n",
    "\n",
    "import logging\n",
    "import coloredlogs\n",
    "import configparser\n"
   ]
  },
  {
   "cell_type": "code",
   "execution_count": 17,
   "metadata": {},
   "outputs": [],
   "source": [
    "from astropy.io import fits"
   ]
  },
  {
   "cell_type": "code",
   "execution_count": 19,
   "metadata": {},
   "outputs": [],
   "source": [
    "# to enlarge the sizes\n",
    "params = {'legend.fontsize': 'x-large',\n",
    "          'figure.figsize': (10,6),\n",
    "         'axes.labelsize': 'x-large',\n",
    "         'axes.titlesize':'x-large',\n",
    "         'xtick.labelsize':'x-large',\n",
    "         'ytick.labelsize':'x-large'}\n",
    "plt.rcParams.update(params)"
   ]
  },
  {
   "cell_type": "code",
   "execution_count": 33,
   "metadata": {},
   "outputs": [
    {
     "data": {
      "text/plain": [
       "'/Users/dagoret/MacOSX/External/libRadtran2'"
      ]
     },
     "execution_count": 33,
     "metadata": {},
     "output_type": "execute_result"
    }
   ],
   "source": [
    "os.getenv('LIBRADTRANDIR')"
   ]
  },
  {
   "cell_type": "code",
   "execution_count": 41,
   "metadata": {},
   "outputs": [],
   "source": [
    "sys.path.append('../libradtran')"
   ]
  },
  {
   "cell_type": "code",
   "execution_count": null,
   "metadata": {},
   "outputs": [],
   "source": []
  },
  {
   "cell_type": "code",
   "execution_count": 42,
   "metadata": {},
   "outputs": [
    {
     "name": "stdout",
     "output_type": "stream",
     "text": [
      "libradtranpath= /Users/dagoret/MacOSX/External/libRadtran2/\n"
     ]
    }
   ],
   "source": [
    "import libsimulateVisible"
   ]
  },
  {
   "cell_type": "code",
   "execution_count": 21,
   "metadata": {},
   "outputs": [
    {
     "name": "stdout",
     "output_type": "stream",
     "text": [
      "LA time: 11:10:22\n",
      "NY time: 14:10:22\n",
      "London time: 19:10:22\n",
      "Paris time: 20:10:22\n"
     ]
    }
   ],
   "source": [
    "# date\n",
    "today = date.today()\n",
    "string_date = today.strftime(\"%Y-%m-%d\")\n",
    "\n",
    "\n",
    "# time\n",
    "now = datetime.now()\n",
    "current_time = now.strftime(\"%H:%M:%S\")\n",
    "\n",
    "tim = time.localtime()\n",
    "current_time = time.strftime(\"%H:%M:%S\", tim)\n",
    "\n",
    "\n",
    "\n",
    "#timezones\n",
    "tz_LA = pytz.timezone('America/Los_Angeles')\n",
    "datetime_LA = datetime.now(tz_LA)\n",
    "print(\"LA time:\", datetime_LA.strftime(\"%H:%M:%S\"))\n",
    "\n",
    "\n",
    "tz_NY = pytz.timezone('America/New_York')\n",
    "datetime_NY = datetime.now(tz_NY)\n",
    "print(\"NY time:\", datetime_NY.strftime(\"%H:%M:%S\"))\n",
    "\n",
    "tz_London = pytz.timezone('Europe/London')\n",
    "datetime_London = datetime.now(tz_London)\n",
    "print(\"London time:\", datetime_London.strftime(\"%H:%M:%S\"))\n",
    "\n",
    "tz_Paris = pytz.timezone('Europe/Paris')\n",
    "datetime_Paris = datetime.now(tz_Paris)\n",
    "print(\"Paris time:\", datetime_Paris.strftime(\"%H:%M:%S\"))\n",
    "\n"
   ]
  },
  {
   "cell_type": "code",
   "execution_count": 22,
   "metadata": {},
   "outputs": [],
   "source": [
    "# start with logs\n",
    "#-----------------\n",
    "logging.basicConfig()\n",
    "logging.root.setLevel(logging.NOTSET)\n",
    "\n",
    "handle = __name__\n",
    "\n",
    "logger = logging.getLogger(handle)\n",
    "# logging.getLogger().setLevel(logging.INFO)\n",
    "logger.setLevel(logging.DEBUG)\n",
    "\n",
    "# If you don't want to see log messages from libraries, you can pass a\n",
    "# specific logger object to the install() function. In this case only log\n",
    "# messages originating from that logger will show up on the terminal.\n",
    "coloredlogs.install(level='DEBUG', logger=logger)\n",
    "coloredlogs.install(fmt='%(asctime)s,%(msecs)03d %(hostname)s %(name)s[%(process)d] %(levelname)s %(message)s')"
   ]
  },
  {
   "cell_type": "code",
   "execution_count": 23,
   "metadata": {},
   "outputs": [],
   "source": [
    "# arguments\n",
    "#----------\n",
    "\n",
    "\n",
    "parser = argparse.ArgumentParser()\n",
    "parser.add_argument(\"--config\",action=\"store\", dest=\"configfile\",help=f\" run generate -config configfilename, with by ex configfilename = default.ini\")\n",
    "#results_args = parser.parse_args()\n",
    "\n",
    "results_args=\"\"\n",
    "   "
   ]
  },
  {
   "cell_type": "code",
   "execution_count": 24,
   "metadata": {},
   "outputs": [
    {
     "name": "stderr",
     "output_type": "stream",
     "text": [
      "2020-09-11 20:10:22,062 MacBook-Pro-de-admin.local __main__[32225] INFO Start ipykernel_launcher.py at date : 2020-09-11 and time :20:10:22 and with arguments:\n"
     ]
    }
   ],
   "source": [
    "msg = f\"Start {parser.prog} at date : {string_date} and time :{current_time} and with arguments:{results_args}\"\n",
    "logger.info(msg)"
   ]
  },
  {
   "cell_type": "code",
   "execution_count": 25,
   "metadata": {},
   "outputs": [
    {
     "name": "stderr",
     "output_type": "stream",
     "text": [
      "2020-09-11 20:10:22,069 MacBook-Pro-de-admin.local __main__[32225] INFO Configuration file : config/default.ini\n"
     ]
    }
   ],
   "source": [
    "# config file\n",
    "# --------------\n",
    "configfile = \"config/default.ini\"\n",
    "packetnum =100\n",
    "#config_filename = results_args.configfile\n",
    "config_filename = configfile\n",
    "msg = f\"Configuration file : {config_filename}\"\n",
    "logger.info(msg)"
   ]
  },
  {
   "cell_type": "code",
   "execution_count": 26,
   "metadata": {},
   "outputs": [
    {
     "name": "stderr",
     "output_type": "stream",
     "text": [
      "2020-09-11 20:10:22,088 MacBook-Pro-de-admin.local __main__[32225] INFO 1) Configuration\n"
     ]
    }
   ],
   "source": [
    "# 1) CONFIGURATION\n",
    "#------------------\n",
    "logger.info('1) Configuration')\n",
    "\n",
    "config = configparser.ConfigParser()\n",
    "\n",
    "if os.path.exists(config_filename):\n",
    "    config.read(config_filename)\n",
    "else:\n",
    "    msg = f\"config file {config_filename} does not exist !\"\n",
    "    logger.error(msg)\n",
    "\n",
    "config_section = config.sections()"
   ]
  },
  {
   "cell_type": "code",
   "execution_count": 27,
   "metadata": {},
   "outputs": [],
   "source": [
    "if len(config_section) == 0:\n",
    "    msg = f\"empty config file {config_filename} !\"\n",
    "    logger.error(msg)    "
   ]
  },
  {
   "cell_type": "code",
   "execution_count": 31,
   "metadata": {},
   "outputs": [
    {
     "name": "stderr",
     "output_type": "stream",
     "text": [
      "2020-09-11 20:14:19,182 MacBook-Pro-de-admin.local __main__[32225] INFO FLAG_PLOT = True\n",
      "2020-09-11 20:14:19,183 MacBook-Pro-de-admin.local __main__[32225] INFO NROWMIN = 9900 , NROWMAX  = 9999  \n"
     ]
    }
   ],
   "source": [
    "if 'GENERAL' in config_section:\n",
    "\n",
    "    FLAG_DEBUG = bool(config['GENERAL']['FLAG_DEBUG'])\n",
    "    FLAG_VERBOSE = bool(config['GENERAL']['FLAG_VERBOSE'])\n",
    "    FLAG_PLOT = bool(config['GENERAL']['FLAG_PLOT'])\n",
    "    FLAG_PRINT = bool(config['GENERAL']['FLAG_PRINT'])\n",
    "else:\n",
    "    msg = f\"empty section GENERAL in config file {config_filename} !\"\n",
    "    logger.error(msg)\n",
    "\n",
    "\n",
    "if 'SIMTRANSPARENCY'in config_section:\n",
    "    input_file = config['SIMTRANSPARENCY']['inputfile']\n",
    "    input_dir = config['SIMTRANSPARENCY']['inputdir']\n",
    "\n",
    "    output_file = config['SIMTRANSPARENCY']['outputfile']\n",
    "    output_dir = config['SIMTRANSPARENCY']['outputdir']\n",
    "\n",
    "    packetsize = int(config['SIMTRANSPARENCY']['packetsize'])\n",
    "\n",
    "\n",
    "\n"
   ]
  },
  {
   "cell_type": "code",
   "execution_count": 46,
   "metadata": {},
   "outputs": [
    {
     "name": "stderr",
     "output_type": "stream",
     "text": [
      "2020-09-11 20:28:40,260 MacBook-Pro-de-admin.local __main__[32225] INFO FLAG_PLOT = True\n",
      "2020-09-11 20:28:40,261 MacBook-Pro-de-admin.local __main__[32225] INFO NROWMIN = 9900 , NROWMAX  = 9999  \n"
     ]
    }
   ],
   "source": [
    "msg = f\"FLAG_PLOT = {FLAG_PLOT}\"\n",
    "logger.info(msg)\n",
    "\n",
    "# range inside the atmospheric parameter file\n",
    "NROWMIN = (packetnum - 1) * packetsize\n",
    "NROWMAX = (packetnum) * packetsize - 1\n",
    "\n",
    "msg = f\"NROWMIN = {NROWMIN} , NROWMAX  = {NROWMAX}  \"\n",
    "logger.info(msg)"
   ]
  },
  {
   "cell_type": "code",
   "execution_count": 32,
   "metadata": {},
   "outputs": [
    {
     "data": {
      "text/plain": [
       "'/Users/dagoret/MacOSX/External/libRadtran2'"
      ]
     },
     "execution_count": 32,
     "metadata": {},
     "output_type": "execute_result"
    }
   ],
   "source": []
  },
  {
   "cell_type": "code",
   "execution_count": 48,
   "metadata": {},
   "outputs": [
    {
     "name": "stdout",
     "output_type": "stream",
     "text": [
      "--------------------------------------------\n",
      " 1) airmass =  1\n",
      " 2) pwv =  5\n",
      " 3) oz =  300\n",
      " 4) pressure  =  0\n",
      " 5) atmospheric profile =  us\n",
      " 6) interaction processes =  sa\n",
      " 7) cloud extinction =  0\n",
      "--------------------------------------------\n",
      "Running uvspec with input file:  simulations/RT/2.0.3/LS/pp/us/sa/rtvis/in/RT_MPL_pp_us_sa_rtvis_z10_wv50_oz30_cld0000.INP\n",
      "Output to file                :  simulations/RT/2.0.3/LS/pp/us/sa/rtvis/out/RT_MPL_pp_us_sa_rtvis_z10_wv50_oz30_cld0000.OUT\n",
      "Path to exec                :  /Users/dagoret/MacOSX/External/libRadtran2/\n",
      "uvspec cmd:  /Users/dagoret/MacOSX/External/libRadtran2/bin/uvspec  < simulations/RT/2.0.3/LS/pp/us/sa/rtvis/in/RT_MPL_pp_us_sa_rtvis_z10_wv50_oz30_cld0000.INP > simulations/RT/2.0.3/LS/pp/us/sa/rtvis/out/RT_MPL_pp_us_sa_rtvis_z10_wv50_oz30_cld0000.OUT\n"
     ]
    }
   ],
   "source": [
    "am=1\n",
    "pwv=5\n",
    "ozone=300\n",
    "pressure=0\n",
    "cloudext=0\n",
    "\n",
    "path,thefile=libsimulateVisible.ProcessSimulation(am,pwv,ozone,pressure,prof_str='us',proc_str='sa',cloudext=cloudext)\n",
    "data = np.loadtxt(os.path.join(path,thefile))\n",
    "wl = data[:,0]\n",
    "atm = data[:,1] \n"
   ]
  },
  {
   "cell_type": "code",
   "execution_count": 49,
   "metadata": {},
   "outputs": [
    {
     "data": {
      "text/plain": [
       "[<matplotlib.lines.Line2D at 0x7fad4656a990>]"
      ]
     },
     "execution_count": 49,
     "metadata": {},
     "output_type": "execute_result"
    },
    {
     "data": {
      "image/png": "[encoded data removed]",
      "text/plain": [
       "<Figure size 720x432 with 1 Axes>"
      ]
     },
     "metadata": {
      "needs_background": "light"
     },
     "output_type": "display_data"
    }
   ],
   "source": [
    "plt.plot(wl,atm)"
   ]
  },
  {
   "cell_type": "code",
   "execution_count": null,
   "metadata": {},
   "outputs": [],
   "source": []
  }
 ],
 "metadata": {
  "kernelspec": {
   "display_name": "Python 3",
   "language": "python",
   "name": "python3"
  },
  "language_info": {
   "codemirror_mode": {
    "name": "ipython",
    "version": 3
   },
   "file_extension": ".py",
   "mimetype": "text/x-python",
   "name": "python",
   "nbconvert_exporter": "python",
   "pygments_lexer": "ipython3",
   "version": "3.7.7"
  }
 },
 "nbformat": 4,
 "nbformat_minor": 4
}
