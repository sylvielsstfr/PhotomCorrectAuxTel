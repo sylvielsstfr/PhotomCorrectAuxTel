{
 "cells": [
  {
   "cell_type": "markdown",
   "metadata": {},
   "source": [
    "# Simulate atmospheric transparency"
   ]
  },
  {
   "cell_type": "code",
   "execution_count": 1,
   "metadata": {},
   "outputs": [],
   "source": [
    "import matplotlib.pyplot as plt\n",
    "import mpl_toolkits.mplot3d as plt3d\n",
    "import numpy as np\n",
    "import os,sys\n",
    "import matplotlib as mpl\n",
    "import pandas as pd\n",
    "import itertools\n",
    "\n",
    "from astropy import units as u\n",
    "from astropy.coordinates import Angle\n",
    "\n",
    "import time\n",
    "from datetime import datetime,date\n",
    "import dateutil.parser\n",
    "import pytz\n",
    "\n",
    "import argparse\n",
    "\n",
    "import logging\n",
    "import coloredlogs\n",
    "import configparser\n"
   ]
  },
  {
   "cell_type": "code",
   "execution_count": 2,
   "metadata": {},
   "outputs": [],
   "source": [
    "from astropy.io import fits"
   ]
  },
  {
   "cell_type": "code",
   "execution_count": 3,
   "metadata": {},
   "outputs": [],
   "source": [
    "# to enlarge the sizes\n",
    "params = {'legend.fontsize': 'x-large',\n",
    "          'figure.figsize': (10,6),\n",
    "         'axes.labelsize': 'x-large',\n",
    "         'axes.titlesize':'x-large',\n",
    "         'xtick.labelsize':'x-large',\n",
    "         'ytick.labelsize':'x-large'}\n",
    "plt.rcParams.update(params)"
   ]
  },
  {
   "cell_type": "code",
   "execution_count": 4,
   "metadata": {},
   "outputs": [
    {
     "data": {
      "text/plain": [
       "'/Users/dagoret/MacOSX/External/libRadtran2'"
      ]
     },
     "execution_count": 4,
     "metadata": {},
     "output_type": "execute_result"
    }
   ],
   "source": [
    "os.getenv('LIBRADTRANDIR')"
   ]
  },
  {
   "cell_type": "code",
   "execution_count": 5,
   "metadata": {},
   "outputs": [],
   "source": [
    "sys.path.append('../libradtran')"
   ]
  },
  {
   "cell_type": "code",
   "execution_count": 6,
   "metadata": {},
   "outputs": [
    {
     "name": "stdout",
     "output_type": "stream",
     "text": [
      "libradtranpath= /Users/dagoret/MacOSX/External/libRadtran2/\n"
     ]
    }
   ],
   "source": [
    "import libsimulateVisible"
   ]
  },
  {
   "cell_type": "markdown",
   "metadata": {},
   "source": [
    "# Initialisation"
   ]
  },
  {
   "cell_type": "code",
   "execution_count": 7,
   "metadata": {},
   "outputs": [
    {
     "name": "stdout",
     "output_type": "stream",
     "text": [
      "LA time: 02:27:15\n",
      "NY time: 05:27:15\n",
      "London time: 10:27:15\n",
      "Paris time: 11:27:15\n"
     ]
    }
   ],
   "source": [
    "# date\n",
    "today = date.today()\n",
    "string_date = today.strftime(\"%Y-%m-%d\")\n",
    "\n",
    "\n",
    "# time\n",
    "now = datetime.now()\n",
    "current_time = now.strftime(\"%H:%M:%S\")\n",
    "\n",
    "tim = time.localtime()\n",
    "current_time = time.strftime(\"%H:%M:%S\", tim)\n",
    "\n",
    "\n",
    "#timezones\n",
    "tz_LA = pytz.timezone('America/Los_Angeles')\n",
    "datetime_LA = datetime.now(tz_LA)\n",
    "print(\"LA time:\", datetime_LA.strftime(\"%H:%M:%S\"))\n",
    "\n",
    "\n",
    "tz_NY = pytz.timezone('America/New_York')\n",
    "datetime_NY = datetime.now(tz_NY)\n",
    "print(\"NY time:\", datetime_NY.strftime(\"%H:%M:%S\"))\n",
    "\n",
    "tz_London = pytz.timezone('Europe/London')\n",
    "datetime_London = datetime.now(tz_London)\n",
    "print(\"London time:\", datetime_London.strftime(\"%H:%M:%S\"))\n",
    "\n",
    "tz_Paris = pytz.timezone('Europe/Paris')\n",
    "datetime_Paris = datetime.now(tz_Paris)\n",
    "print(\"Paris time:\", datetime_Paris.strftime(\"%H:%M:%S\"))\n",
    "\n"
   ]
  },
  {
   "cell_type": "code",
   "execution_count": 8,
   "metadata": {},
   "outputs": [],
   "source": [
    "# start with logs\n",
    "#-----------------\n",
    "logging.basicConfig()\n",
    "logging.root.setLevel(logging.NOTSET)\n",
    "\n",
    "handle = __name__\n",
    "\n",
    "logger = logging.getLogger(handle)\n",
    "# logging.getLogger().setLevel(logging.INFO)\n",
    "logger.setLevel(logging.DEBUG)\n",
    "\n",
    "# If you don't want to see log messages from libraries, you can pass a\n",
    "# specific logger object to the install() function. In this case only log\n",
    "# messages originating from that logger will show up on the terminal.\n",
    "coloredlogs.install(level='DEBUG', logger=logger)\n",
    "coloredlogs.install(fmt='%(asctime)s,%(msecs)03d %(hostname)s %(name)s[%(process)d] %(levelname)s %(message)s')"
   ]
  },
  {
   "cell_type": "code",
   "execution_count": 9,
   "metadata": {},
   "outputs": [],
   "source": [
    "# arguments\n",
    "#----------\n",
    "\n",
    "parser = argparse.ArgumentParser()\n",
    "parser.add_argument(\"--config\",action=\"store\", dest=\"configfile\",help=f\" run generate -config configfilename, with by ex configfilename = default.ini\")\n",
    "#results_args = parser.parse_args()\n",
    "\n",
    "results_args=\"\"\n",
    "   "
   ]
  },
  {
   "cell_type": "code",
   "execution_count": 10,
   "metadata": {},
   "outputs": [
    {
     "name": "stderr",
     "output_type": "stream",
     "text": [
      "2020-09-12 11:27:15,273 MacBook-Pro-de-admin.local __main__[55057] INFO Start ipykernel_launcher.py at date : 2020-09-12 and time :11:27:15 and with arguments:\n"
     ]
    }
   ],
   "source": [
    "msg = f\"Start {parser.prog} at date : {string_date} and time :{current_time} and with arguments:{results_args}\"\n",
    "logger.info(msg)"
   ]
  },
  {
   "cell_type": "markdown",
   "metadata": {},
   "source": [
    "# Configuration"
   ]
  },
  {
   "cell_type": "code",
   "execution_count": 11,
   "metadata": {},
   "outputs": [
    {
     "name": "stderr",
     "output_type": "stream",
     "text": [
      "2020-09-12 11:27:15,285 MacBook-Pro-de-admin.local __main__[55057] INFO Configuration file : config/default.ini\n"
     ]
    }
   ],
   "source": [
    "# config file\n",
    "# --------------\n",
    "configfile = \"config/default.ini\"\n",
    "packetnum =100\n",
    "#config_filename = results_args.configfile\n",
    "config_filename = configfile\n",
    "msg = f\"Configuration file : {config_filename}\"\n",
    "logger.info(msg)"
   ]
  },
  {
   "cell_type": "code",
   "execution_count": 12,
   "metadata": {},
   "outputs": [
    {
     "name": "stderr",
     "output_type": "stream",
     "text": [
      "2020-09-12 11:27:15,294 MacBook-Pro-de-admin.local __main__[55057] INFO 1) Configuration\n"
     ]
    }
   ],
   "source": [
    "# 1) CONFIGURATION\n",
    "#------------------\n",
    "logger.info('1) Configuration')\n",
    "\n",
    "config = configparser.ConfigParser()\n",
    "\n",
    "if os.path.exists(config_filename):\n",
    "    config.read(config_filename)\n",
    "else:\n",
    "    msg = f\"config file {config_filename} does not exist !\"\n",
    "    logger.error(msg)\n",
    "\n",
    "config_section = config.sections()"
   ]
  },
  {
   "cell_type": "code",
   "execution_count": 13,
   "metadata": {},
   "outputs": [],
   "source": [
    "if len(config_section) == 0:\n",
    "    msg = f\"empty config file {config_filename} !\"\n",
    "    logger.error(msg)    "
   ]
  },
  {
   "cell_type": "code",
   "execution_count": 14,
   "metadata": {},
   "outputs": [],
   "source": [
    "if 'GENERAL' in config_section:\n",
    "\n",
    "    FLAG_DEBUG = bool(config['GENERAL']['FLAG_DEBUG'])\n",
    "    FLAG_VERBOSE = bool(config['GENERAL']['FLAG_VERBOSE'])\n",
    "    FLAG_PLOT = bool(config['GENERAL']['FLAG_PLOT'])\n",
    "    FLAG_PRINT = bool(config['GENERAL']['FLAG_PRINT'])\n",
    "else:\n",
    "    msg = f\"empty section GENERAL in config file {config_filename} !\"\n",
    "    logger.error(msg)\n",
    "\n",
    "\n",
    "if 'SIMTRANSPARENCY'in config_section:\n",
    "    input_file = config['SIMTRANSPARENCY']['inputfile']\n",
    "    input_dir = config['SIMTRANSPARENCY']['inputdir']\n",
    "\n",
    "    output_file = config['SIMTRANSPARENCY']['outputfile']\n",
    "    output_dir = config['SIMTRANSPARENCY']['outputdir']\n",
    "\n",
    "    packetsize = int(config['SIMTRANSPARENCY']['packetsize'])\n",
    "\n",
    "full_inputfilename=os.path.join(input_dir,input_file)\n",
    "full_outputfilename=os.path.join(output_dir,output_file)"
   ]
  },
  {
   "cell_type": "code",
   "execution_count": 15,
   "metadata": {},
   "outputs": [
    {
     "name": "stderr",
     "output_type": "stream",
     "text": [
      "2020-09-12 11:27:15,335 MacBook-Pro-de-admin.local __main__[55057] INFO FLAG_PLOT = True\n",
      "2020-09-12 11:27:15,336 MacBook-Pro-de-admin.local __main__[55057] INFO input file name = atmsimdata/atmparam.fits\n",
      "2020-09-12 11:27:15,338 MacBook-Pro-de-admin.local __main__[55057] INFO output file name = atmsimdata/atmtransparency.fits\n",
      "2020-09-12 11:27:15,339 MacBook-Pro-de-admin.local __main__[55057] INFO NROWMIN = 9900 , NROWMAX  = 9999  \n"
     ]
    }
   ],
   "source": [
    "msg = f\"FLAG_PLOT = {FLAG_PLOT}\"\n",
    "logger.info(msg)\n",
    "\n",
    "\n",
    "msg=f\"input file name = {full_inputfilename}\"\n",
    "logger.info(msg)\n",
    "\n",
    "msg=f\"output file name = {full_outputfilename}\"\n",
    "logger.info(msg)\n",
    "\n",
    "# range inside the atmospheric parameter file\n",
    "NROWMIN = (packetnum - 1) * packetsize\n",
    "NROWMAX = (packetnum) * packetsize - 1\n",
    "\n",
    "msg = f\"NROWMIN = {NROWMIN} , NROWMAX  = {NROWMAX}  \"\n",
    "logger.info(msg)"
   ]
  },
  {
   "cell_type": "markdown",
   "metadata": {},
   "source": [
    "# open input atmospheric parameters"
   ]
  },
  {
   "cell_type": "code",
   "execution_count": 16,
   "metadata": {},
   "outputs": [],
   "source": [
    "hduin = fits.open(full_inputfilename)"
   ]
  },
  {
   "cell_type": "code",
   "execution_count": 17,
   "metadata": {},
   "outputs": [
    {
     "name": "stdout",
     "output_type": "stream",
     "text": [
      "Filename: atmsimdata/atmparam.fits\n",
      "No.    Name      Ver    Type      Cards   Dimensions   Format\n",
      "  0  PRIMARY       1 PrimaryHDU      13   (6, 20000)   float64   \n"
     ]
    },
    {
     "name": "stderr",
     "output_type": "stream",
     "text": [
      "2020-09-12 11:27:15,364 MacBook-Pro-de-admin.local __main__[55057] INFO None\n"
     ]
    }
   ],
   "source": [
    "msg = \"{}\".format(hduin.info())\n",
    "logger.info(msg)"
   ]
  },
  {
   "cell_type": "code",
   "execution_count": 18,
   "metadata": {},
   "outputs": [],
   "source": [
    "headerin=hduin[0].header\n",
    "datain=hduin[0].data"
   ]
  },
  {
   "cell_type": "code",
   "execution_count": 19,
   "metadata": {},
   "outputs": [],
   "source": [
    "NSIM=len(datain)"
   ]
  },
  {
   "cell_type": "code",
   "execution_count": 20,
   "metadata": {},
   "outputs": [
    {
     "data": {
      "text/plain": [
       "20000"
      ]
     },
     "execution_count": 20,
     "metadata": {},
     "output_type": "execute_result"
    }
   ],
   "source": [
    "NSIM"
   ]
  },
  {
   "cell_type": "code",
   "execution_count": 21,
   "metadata": {},
   "outputs": [],
   "source": [
    "if NROWMIN>NSIM:\n",
    "    msg = f\" >>> NROWMIN = {NROWMIN} greater than  NSIM={NSIM} ==> stop simulation\""
   ]
  },
  {
   "cell_type": "code",
   "execution_count": 22,
   "metadata": {},
   "outputs": [
    {
     "name": "stderr",
     "output_type": "stream",
     "text": [
      "2020-09-12 11:27:15,410 MacBook-Pro-de-admin.local __main__[55057] INFO SIMPLE  =                    T / conforms to FITS standard                      BITPIX  =                  -64 / array data type                                NAXIS   =                    2 / number of array dimensions                     NAXIS1  =                    6                                                  NAXIS2  =                20000                                                  NBATMSIM=                20000                                                  ID_NUM  =                    0                                                  ID_AM   =                    1                                                  ID_VAOD =                    2                                                  ID_PWV  =                    3                                                  ID_O3   =                    4                                                  ID_CLD  =                    5                                                  ID_RES  =                    6                                                  END                                                                                                                                                                                                                                                                                                                                                                                                                                                                                                                                                                                                                                                                                                                                                                                                                                                                                                                                                                                                                                                                                                                                                                                                                                                                                                                                                                                                                                                                                                                                                                                                                                                                                                                                                                                                                                                                                                             \n"
     ]
    }
   ],
   "source": [
    "logger.info(headerin)"
   ]
  },
  {
   "cell_type": "code",
   "execution_count": 23,
   "metadata": {},
   "outputs": [
    {
     "name": "stderr",
     "output_type": "stream",
     "text": [
      "2020-09-12 11:27:15,451 MacBook-Pro-de-admin.local __main__[55057] INFO [  1.           1.16164483   0.18308412   6.31146578 133.31660654\n",
      "   0.37547343]\n"
     ]
    }
   ],
   "source": [
    "logger.info(datain[0,:])"
   ]
  },
  {
   "cell_type": "code",
   "execution_count": 24,
   "metadata": {},
   "outputs": [],
   "source": [
    "hdr=headerin\n",
    "NSIMH=hdr['NBATMSIM']\n",
    "idx_num = hdr['ID_NUM']\n",
    "idx_am = hdr['ID_AM']\n",
    "idx_vaod=hdr['ID_VAOD']\n",
    "idx_pwv= hdr['ID_PWV']\n",
    "idx_o3=hdr['ID_O3']\n",
    "idx_cld=hdr['ID_CLD']\n",
    "idx_res= hdr['ID_RES']"
   ]
  },
  {
   "cell_type": "code",
   "execution_count": 29,
   "metadata": {},
   "outputs": [
    {
     "name": "stdout",
     "output_type": "stream",
     "text": [
      "creazy pressure p= 0  hPa\n"
     ]
    }
   ],
   "source": [
    "for irow in np.arange(min(NROWMIN,NSIM),min(NSIM,NROWMAX)):\n",
    "    \n",
    "    am=datain[irow,idx_am ]\n",
    "    pwv=datain[irow,idx_pwv]\n",
    "    ozone=datain[irow,idx_o3]\n",
    "    aer=datain[irow,idx_vaod]\n",
    "    pressure=0\n",
    "    cloudext=0\n",
    "\n",
    "#path,thefile=libsimulateVisible.ProcessSimulation(am,pwv,ozone,pressure,prof_str='us',proc_str='sa',cloudext=cloudext)\n",
    "path,thefile=libsimulateVisible.ProcessSimulationaer(am,pwv,ozone,aer,pressure,prof_str='us',proc_str='as',cloudext=cloudext)\n",
    "\n",
    "data = np.loadtxt(os.path.join(path,thefile))\n",
    "wl = data[:,0]\n",
    "atm = data[:,1] \n"
   ]
  },
  {
   "cell_type": "code",
   "execution_count": 30,
   "metadata": {},
   "outputs": [
    {
     "data": {
      "text/plain": [
       "[<matplotlib.lines.Line2D at 0x7fe21afa0810>]"
      ]
     },
     "execution_count": 30,
     "metadata": {},
     "output_type": "execute_result"
    },
    {
     "data": {
      "image/png": "[encoded data removed]",
      "text/plain": [
       "<Figure size 720x432 with 1 Axes>"
      ]
     },
     "metadata": {
      "needs_background": "light"
     },
     "output_type": "display_data"
    }
   ],
   "source": [
    "plt.plot(wl,atm)"
   ]
  },
  {
   "cell_type": "code",
   "execution_count": null,
   "metadata": {},
   "outputs": [],
   "source": []
  }
 ],
 "metadata": {
  "kernelspec": {
   "display_name": "Python 3",
   "language": "python",
   "name": "python3"
  },
  "language_info": {
   "codemirror_mode": {
    "name": "ipython",
    "version": 3
   },
   "file_extension": ".py",
   "mimetype": "text/x-python",
   "name": "python",
   "nbconvert_exporter": "python",
   "pygments_lexer": "ipython3",
   "version": "3.7.7"
  }
 },
 "nbformat": 4,
 "nbformat_minor": 4
}
