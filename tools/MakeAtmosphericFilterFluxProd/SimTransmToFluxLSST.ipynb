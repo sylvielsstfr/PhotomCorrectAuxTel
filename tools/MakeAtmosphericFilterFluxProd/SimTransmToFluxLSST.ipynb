{
 "cells": [
  {
   "cell_type": "markdown",
   "metadata": {},
   "source": [
    "# Transform transmission to Fluxes in LSST into photoelecrons"
   ]
  },
  {
   "cell_type": "markdown",
   "metadata": {},
   "source": [
    "- author Sylvie Dagoret-Campagne\n",
    "- affiliation : IJCLab/IN2P3/CNRS\n",
    "- creation date : December 15th 2021\n",
    "\n",
    "- update December 22th 2021"
   ]
  },
  {
   "cell_type": "markdown",
   "metadata": {},
   "source": [
    "# imports"
   ]
  },
  {
   "cell_type": "code",
   "execution_count": 1,
   "metadata": {},
   "outputs": [],
   "source": [
    "import pandas as pd\n",
    "import matplotlib.pyplot as plt\n",
    "import numpy as np\n",
    "from mpl_toolkits.axes_grid1 import host_subplot\n",
    "import mpl_toolkits.axisartist as AA\n",
    "import os,sys,re\n",
    "\n",
    "from astropy.io import fits\n",
    "import matplotlib.colors as colors\n",
    "import matplotlib.cm as cmx\n",
    "import matplotlib.dates as mdates\n",
    "from matplotlib import gridspec\n",
    "%matplotlib inline"
   ]
  },
  {
   "cell_type": "code",
   "execution_count": 2,
   "metadata": {},
   "outputs": [],
   "source": [
    "# to enlarge the sizes\n",
    "params = {'legend.fontsize': 'x-large',\n",
    "          'figure.figsize': (12, 8),\n",
    "         'axes.labelsize': 'x-large',\n",
    "         'axes.titlesize':'x-large',\n",
    "         'xtick.labelsize':'x-large',\n",
    "         'ytick.labelsize':'x-large'}\n",
    "plt.rcParams.update(params)"
   ]
  },
  {
   "cell_type": "code",
   "execution_count": 3,
   "metadata": {},
   "outputs": [],
   "source": [
    "from astropy.table import Table"
   ]
  },
  {
   "cell_type": "code",
   "execution_count": 4,
   "metadata": {},
   "outputs": [],
   "source": [
    "from scipy.stats import rayleigh,beta,gamma,uniform"
   ]
  },
  {
   "cell_type": "code",
   "execution_count": 5,
   "metadata": {},
   "outputs": [],
   "source": [
    "from scipy import interpolate"
   ]
  },
  {
   "cell_type": "code",
   "execution_count": 6,
   "metadata": {},
   "outputs": [
    {
     "data": {
      "text/plain": [
       "{'graphtable': '/Users/dagoret/MacOSX/External/PySynPhotData/grp/hst/cdbs/mtab/14l1632sm_tmg.fits',\n",
       " 'comptable': '/Users/dagoret/MacOSX/External/PySynPhotData/grp/hst/cdbs/mtab/16n1832tm_tmc.fits',\n",
       " 'thermtable': '/Users/dagoret/MacOSX/External/PySynPhotData/grp/hst/cdbs/mtab/tae17277m_tmt.fits',\n",
       " 'area': 1,\n",
       " 'waveset': 'Min: 500, Max: 26000, Num: 10000, Delta: None, Log: True'}"
      ]
     },
     "execution_count": 6,
     "metadata": {},
     "output_type": "execute_result"
    }
   ],
   "source": [
    "# pysynphot\n",
    "import pysynphot as S\n",
    "S.refs.setref(area=1)\n",
    "S.refs.getref()"
   ]
  },
  {
   "cell_type": "code",
   "execution_count": 7,
   "metadata": {},
   "outputs": [],
   "source": [
    "pysynphot_root_path=os.environ['PYSYN_CDBS']\n",
    "path_sed_calspec=os.path.join(pysynphot_root_path,'calspec')"
   ]
  },
  {
   "cell_type": "code",
   "execution_count": 8,
   "metadata": {},
   "outputs": [],
   "source": [
    "import scipy.special as sp"
   ]
  },
  {
   "cell_type": "code",
   "execution_count": 9,
   "metadata": {},
   "outputs": [],
   "source": [
    "PATH_LSSTFiltersKG='../../data/lsst/LSSTFiltersKG'\n",
    "sys.path.append(PATH_LSSTFiltersKG)\n",
    "PATH_LSSTFiltersKGDATA='../../data/lsst/LSSTFiltersKG/fdata'\n",
    "sys.path.append(PATH_LSSTFiltersKGDATA)"
   ]
  },
  {
   "cell_type": "code",
   "execution_count": 10,
   "metadata": {},
   "outputs": [
    {
     "name": "stdout",
     "output_type": "stream",
     "text": [
      "liblsstfilter_path= ../../data/lsst/LSSTFiltersKG\n"
     ]
    }
   ],
   "source": [
    "import libLSSTFiltersKG as lsst"
   ]
  },
  {
   "cell_type": "code",
   "execution_count": 11,
   "metadata": {},
   "outputs": [],
   "source": [
    "import time\n",
    "from datetime import datetime,date\n",
    "import dateutil.parser\n",
    "import pytz\n",
    "\n",
    "import argparse\n",
    "\n",
    "import logging\n",
    "import coloredlogs\n",
    "import configparser"
   ]
  },
  {
   "cell_type": "markdown",
   "metadata": {},
   "source": [
    "# Pre defined Functions"
   ]
  },
  {
   "cell_type": "code",
   "execution_count": 12,
   "metadata": {},
   "outputs": [],
   "source": [
    "def find_nearest(a, a0):\n",
    "    \"Element in nd array `a` closest to the scalar value `a0`\"\n",
    "    idx = np.abs(a - a0).argmin()\n",
    "    return a.flat[idx],int(idx)"
   ]
  },
  {
   "cell_type": "markdown",
   "metadata": {},
   "source": [
    "## Functions to select the CALSPEC"
   ]
  },
  {
   "cell_type": "code",
   "execution_count": 13,
   "metadata": {},
   "outputs": [],
   "source": [
    "def GetListOfCalspec(file_sedsummary=\"sed/table_summary_allcalspec_torenorm.fits\"):\n",
    "    \"\"\"\n",
    "    GetListOfCalspec()\n",
    "    \n",
    "    the file include SED fro which color term has been caculated \n",
    "    in /examples_sed/calspec/ViewCalspecColors.ipynb\n",
    "    \n",
    "    - input:\n",
    "      file_sedsummary : filename of SED summary\n",
    "      \n",
    "    - output:\n",
    "      t : astropy table of summary \n",
    "    \"\"\"\n",
    "\n",
    "    t=Table.read(file_sedsummary)\n",
    "    return t"
   ]
  },
  {
   "cell_type": "code",
   "execution_count": 14,
   "metadata": {},
   "outputs": [],
   "source": [
    "def SelectFewSED(t):\n",
    "    \"\"\"\n",
    "    SelectFewSED(t)\n",
    "    \n",
    "    input : \n",
    "     - t astropy table of SED\n",
    "     \n",
    "    output :\n",
    "    - t_selected : table of presselected SED\n",
    "     \n",
    "    \"\"\"\n",
    "    \n",
    "    all_colors=t[\"VmI\"]\n",
    "    \n",
    "    \n",
    "    # list of target colors\n",
    "    target_VmI=np.array([-0.75,-0.5,-0.25,0,0.25,0.5,0.75,1])\n",
    "    NBVmItarget=len(target_VmI)\n",
    "    \n",
    "    filesselected_index=np.zeros(NBVmItarget)\n",
    "    filesselected_VmI=np.zeros(NBVmItarget)\n",
    "    \n",
    "    idx=0\n",
    "    for vmi in target_VmI:\n",
    "        thevmi,theidx=find_nearest(all_colors,vmi)\n",
    "        #print(thevmi,theidx)\n",
    "        filesselected_index[idx]=int(theidx)\n",
    "        filesselected_VmI[idx]=thevmi\n",
    "        idx+=1  \n",
    "        \n",
    "    t_selected=Table(t[0])\n",
    "    for idx in filesselected_index[1:]:\n",
    "        t_selected.add_row(t[int(idx)])\n",
    "        \n",
    "    return t_selected\n",
    "    "
   ]
  },
  {
   "cell_type": "code",
   "execution_count": 15,
   "metadata": {},
   "outputs": [],
   "source": [
    "def plot_sed(t,ax):\n",
    "    \"\"\"\n",
    "    \n",
    "    plot_sed(t, ax) : Plot SED from the astropy table t\n",
    "\n",
    "    input:\n",
    "        - t : tables of SED\n",
    "        - ax : matplotlib axis\n",
    "\n",
    "    \"\"\"\n",
    "    \n",
    "    NBFILES=len(t)\n",
    "    \n",
    "    # wavelength bin colors\n",
    "    jet = plt.get_cmap('jet')\n",
    "    cNorm = colors.Normalize(vmin=0, vmax=NBFILES)\n",
    "    scalarMap = cmx.ScalarMappable(norm=cNorm, cmap=jet)\n",
    "    all_colors = scalarMap.to_rgba(np.arange(NBFILES), alpha=1)\n",
    "    \n",
    "    idx=0\n",
    "    \n",
    "    flatsp = S.FlatSpectrum(10, fluxunits='photlam')\n",
    "\n",
    "    for filename in t[\"FILES\"]:\n",
    "    \n",
    "        # read the calspec file\n",
    "        fullfilename=os.path.join(path_sed_calspec,filename)\n",
    "        print(\"filename = \",filename,\"fullfilename = \", fullfilename)\n",
    "        \n",
    "        if filename==\"flat\":\n",
    "            spec=flatsp\n",
    "            spec_norm=spec\n",
    "        else:\n",
    "            spec=S.FileSpectrum(fullfilename)\n",
    "        \n",
    "        spec_norm = spec.renorm(10, 'vegamag', S.ObsBandpass('johnson,v'))\n",
    "    \n",
    "        spec_norm.convert('photlam')\n",
    "        #spec_norm.convert('nm')    \n",
    "        \n",
    "        #WLMINSEL=340.\n",
    "        #WLMAXSEL=1100.\n",
    "\n",
    "\n",
    "        magV=t[\"magV\"][idx]\n",
    "        label=t[\"OBJNAME\"][idx]+\" ( \"+t[\"SP_TYPE\"][idx]+\" ) \"+\" magV = {:.2g}\".format(magV) +\" v-i ={:.2f}\".format(t[\"VmI\"][idx])\n",
    "        \n",
    "        \n",
    "        \n",
    "        #X= spec_norm.wave[wavelengths_indexes]    \n",
    "        #Y= spec_norm.flux[wavelengths_indexes]  \n",
    "        \n",
    "        X= spec_norm.wave   \n",
    "        Y= spec_norm.flux \n",
    "        \n",
    "        wavelengths_indexes=np.where(np.logical_and(spec_norm.wave>WLMINSEL*10, spec_norm.wave<WLMAXSEL*10))[0]\n",
    "        \n",
    "        \n",
    "        #if filename!=\"flat\":\n",
    "        cm=ax.plot(X[wavelengths_indexes], Y[wavelengths_indexes],color=all_colors[idx],label=label)\n",
    "        \n",
    "        idx+=1\n",
    "    \n",
    "    #ax.set_xlim(3500.,11000.)\n",
    "    #ax.set_ylim(0.,3.)\n",
    "    ax.legend()\n",
    "    ax.grid()\n",
    "\n",
    "\n",
    "    xlabel=' $\\\\lambda$ (Angstrom)'\n",
    "    ylabel=' Flux (photlam) normalised to Mag-10'\n",
    "    ax.set_xlabel(xlabel,fontsize=15)\n",
    "    ax.set_ylabel(ylabel,fontsize=15)\n",
    "    ax.set_title(\"Preselected CALSPEC relative SED\")\n",
    "    \n",
    "    return cm\n",
    "\n",
    "    \n",
    "    "
   ]
  },
  {
   "cell_type": "markdown",
   "metadata": {},
   "source": [
    "## Functions to build spectrum "
   ]
  },
  {
   "cell_type": "code",
   "execution_count": 16,
   "metadata": {},
   "outputs": [],
   "source": [
    "def GetSpectra(sed,wl_atm,atm_transmission,exposure,flag_flat=False):\n",
    "    \"\"\"\n",
    "    \n",
    "    * input : \n",
    "     - sed : Pysynphot SED\n",
    "     -  wl  : wavelength of the atmospheric transmission (nm)\n",
    "     - transmission : atmospheric transmission array\n",
    "    \n",
    "    * output :\n",
    "     \n",
    "     all_obs : pysynphot observations \n",
    "     all_obs_interp : interpolated pysynphot spectra\n",
    "     all_obs_nepinexpos : total number of photoelectrons\n",
    "     \n",
    "    \n",
    "    \"\"\"\n",
    "    \n",
    "    wl0=sed.wave  # in angstrom\n",
    "    spectra=np.zeros_like(atm_transmission)\n",
    "   \n",
    "    wl_atm_ang=10*wl_atm\n",
    "    \n",
    "    # Passband for filters\n",
    "    datafilename = \"../../data/lsst/filters/transmissions-LSST.dat\"\n",
    "    df=pd.read_csv(datafilename,names=['wl','Topt','Tccd','U','G','R','I','Z','Y4','atm'],sep='\\t')\n",
    "    \n",
    "    wl=df['wl'].values\n",
    "    U=df['U'].values/100.\n",
    "    G=df['G'].values/100.\n",
    "    R=df['R'].values/100.\n",
    "    I=df['I'].values/100.\n",
    "    Z=df['Z'].values/100.\n",
    "    Y4=df['Y4'].values/100.\n",
    "    \n",
    "    \n",
    "    all_bp_filters = []\n",
    "    all_bp_filters.append(S.ArrayBandpass(wl*10, U , name=\"u\"))\n",
    "    all_bp_filters.append(S.ArrayBandpass(wl*10, G , name=\"g\"))\n",
    "    all_bp_filters.append(S.ArrayBandpass(wl*10, R , name=\"r\"))\n",
    "    all_bp_filters.append(S.ArrayBandpass(wl*10, I , name=\"i\"))\n",
    "    all_bp_filters.append(S.ArrayBandpass(wl*10, Z , name=\"y\"))\n",
    "    all_bp_filters.append(S.ArrayBandpass(wl*10, Y4 , name=\"y\"))\n",
    "    NFILTER=len(all_bp_filters)\n",
    "    \n",
    "    \n",
    "    # passband for atmosphere\n",
    "    NATM=atm_transmission.shape[0]\n",
    "    all_bp_atm=[]\n",
    "    \n",
    "    for i_atm in np.arange(NATM):\n",
    "        label_atm=\"atm{:d}\".format(i_atm)\n",
    "        bp_atm= S.ArrayBandpass(wl_atm_ang,atm_transmission[i_atm,:], name=label_atm)\n",
    "        all_bp_atm.append(bp_atm)\n",
    "        \n",
    "        \n",
    "    # produce all observation\n",
    "    all_obs        = []\n",
    "    all_obs_interp = []\n",
    "    all_obs_nepinexpos = []\n",
    "    # loop on filter\n",
    "    for ifilter in range(NFILTER):    \n",
    "        all_obs_filter = [] # initialize all observation in that filter\n",
    "        all_obs_filter_interp = [] # initialize all interpolated observation in that filter\n",
    "        all_obs_filter_nepinexpos = [] # number of photoelectrons \n",
    "        \n",
    "        # loop on atmosphere\n",
    "        for i_atm in np.arange(NATM):\n",
    "            # multiply filter by atmosphere\n",
    "            bp_all = all_bp_filters[ifilter]*all_bp_atm[i_atm]\n",
    "            if flag_flat:\n",
    "                obs = S.Observation(sed, bp_all) \n",
    "            else:\n",
    "                obs = S.Observation(sed, bp_all,force='taper') \n",
    "                \n",
    "            all_obs_filter.append(obs) # pile up obs\n",
    "            all_obs_filter_nepinexpos.append(obs.countrate()*exposure)  # pile up the number of photoelectrons\n",
    "            \n",
    "            # interpolation\n",
    "            func_flux = interpolate.interp1d(obs.binwave,obs.binflux,bounds_error=False,fill_value=(0,0))\n",
    "            spectrum=func_flux(wl_atm_ang) \n",
    "            all_obs_filter_interp.append(spectrum)\n",
    "        \n",
    "        all_obs.append(all_obs_filter) # cumulate all observations for each filter\n",
    "        all_obs_interp.append(all_obs_filter_interp) # Spectra\n",
    "        all_obs_nepinexpos.append(all_obs_filter_nepinexpos)  # number of photoelectrons\n",
    "   \n",
    "    \n",
    "    return all_obs ,all_obs_interp,all_obs_nepinexpos \n",
    "    \n",
    "    "
   ]
  },
  {
   "cell_type": "code",
   "execution_count": 17,
   "metadata": {},
   "outputs": [],
   "source": [
    "def GetSkyBackground(skybg_mag,wl_atm,exposure,pixscale):\n",
    "    \"\"\"\n",
    "    Provides the number of phtoelectron background per pixel\n",
    "    \n",
    "    * input : \n",
    "     - skybg_mag : array of sky background in mag\n",
    "     -  wl_atm   : wavelength of the atmospheric transmission (nm), for interpolation\n",
    "     - exposure\n",
    "     - pixel scale\n",
    "    \n",
    "    * output :\n",
    "     \n",
    "     all_obs : pysynphot observations \n",
    "     all_obs_interp : interpolated pysynphot spectra\n",
    "     all_obs_nepinexpos : total number of photoelectrons\n",
    "     \n",
    "    \n",
    "    \"\"\"\n",
    "    \n",
    "    wl_atm_ang=10*wl_atm # in angstrom\n",
    "    \n",
    "    # Passband for filters\n",
    "    datafilename = \"../../data/lsst/filters/transmissions-LSST.dat\"\n",
    "    df=pd.read_csv(datafilename,names=['wl','Topt','Tccd','U','G','R','I','Z','Y4','atm'],sep='\\t')\n",
    "    \n",
    "    wl=df['wl'].values\n",
    "    U=df['U'].values/100.\n",
    "    G=df['G'].values/100.\n",
    "    R=df['R'].values/100.\n",
    "    I=df['I'].values/100.\n",
    "    Z=df['Z'].values/100.\n",
    "    Y4=df['Y4'].values/100.\n",
    "    \n",
    "    \n",
    "    all_bp_filters = []\n",
    "    all_bp_filters.append(S.ArrayBandpass(wl*10, U , name=\"u\"))\n",
    "    all_bp_filters.append(S.ArrayBandpass(wl*10, G , name=\"g\"))\n",
    "    all_bp_filters.append(S.ArrayBandpass(wl*10, R , name=\"r\"))\n",
    "    all_bp_filters.append(S.ArrayBandpass(wl*10, I , name=\"i\"))\n",
    "    all_bp_filters.append(S.ArrayBandpass(wl*10, Z , name=\"y\"))\n",
    "    all_bp_filters.append(S.ArrayBandpass(wl*10, Y4 , name=\"y\"))\n",
    "    NFILTER=len(all_bp_filters)\n",
    "    \n",
    "         \n",
    "        \n",
    "    # produce all observation\n",
    "    all_obs        = []\n",
    "    all_obs_interp = []\n",
    "    all_obs_nepinexpos = []\n",
    "    \n",
    "    # loop on filters\n",
    "    for ifilter in range(NFILTER):    \n",
    "        all_obs_filter = [] # initialize all observation in that filter\n",
    "        all_obs_filter_interp = [] # initialize all interpolated observation in that filter\n",
    "        all_obs_filter_nepinexpos = [] # number of photoelectrons \n",
    "      \n",
    "        flatsp= S.FlatSpectrum(skybg_mag[ifilter],fluxunits='abmag')*(pixscale/1.0)**2    \n",
    "        obs = S.Observation(flatsp, all_bp_filters[ifilter]) \n",
    "                \n",
    "        all_obs.append(obs) # pile up obs\n",
    "        all_obs_nepinexpos.append(obs.countrate()*exposure)  # pile up the number of photoelectrons\n",
    "            \n",
    "        # interpolation\n",
    "        func_flux = interpolate.interp1d(obs.binwave,obs.binflux,bounds_error=False,fill_value=(0,0))\n",
    "        spectrum=func_flux(wl_atm_ang) \n",
    "        all_obs_interp.append(spectrum) # pile up spectra\n",
    "        \n",
    "    \n",
    "    return all_obs ,all_obs_interp,all_obs_nepinexpos \n",
    "    \n",
    "    "
   ]
  },
  {
   "cell_type": "code",
   "execution_count": 18,
   "metadata": {},
   "outputs": [],
   "source": [
    "if 0:\n",
    "    spectra,spectra_interp=GetSpectra(sed=spec_norm,wl_atm=wl,atm_transmission=transm[:22,:]);\n",
    "    fig=plt.figure(figsize=(16,4))\n",
    "    ax = fig.add_subplot(111)\n",
    "    for idx in np.arange(20):\n",
    "        ax.plot(wl,spectra_interp[0][idx],'b-')\n",
    "        ax.plot(wl,spectra_interp[1][idx],'g-')\n",
    "        ax.plot(wl,spectra_interp[2][idx],'r-')\n",
    "        ax.plot(wl,spectra_interp[3][idx],'-',color=\"orange\")\n",
    "        ax.plot(wl,spectra_interp[4][idx],'k-')\n",
    "        ax.plot(wl,spectra_interp[5][idx],'-',color=\"grey\")\n",
    "    \n"
   ]
  },
  {
   "cell_type": "markdown",
   "metadata": {},
   "source": [
    "# GetAtmTransparency"
   ]
  },
  {
   "cell_type": "code",
   "execution_count": 19,
   "metadata": {},
   "outputs": [],
   "source": [
    "def GetAtmTransparency(inputdir,filelist):\n",
    "    \"\"\"\n",
    "    GetAtmTransparency(inputdir, filelist): retrieve atmospheric transparency from simulation\n",
    "\n",
    "    input arguments:\n",
    "     - inputdir : input directory\n",
    "     - filelist : list of file to read\n",
    "    \"\"\"\n",
    "    \n",
    "    filename=filelist[0]\n",
    "    full_inputfilename=os.path.join(inputdir,filename)\n",
    "    hduin = fits.open(full_inputfilename)\n",
    "    \n",
    "    headerin=hduin[0].header\n",
    "    datain=hduin[0].data\n",
    "    \n",
    "    hdr=headerin\n",
    "    NSIMH=hdr['NBATMSIM']\n",
    "    idx_num = hdr['ID_NUM']\n",
    "    idx_am = hdr['ID_AM']\n",
    "    idx_vaod=hdr['ID_VAOD']\n",
    "    idx_pwv= hdr['ID_PWV']\n",
    "    idx_o3=hdr['ID_O3']\n",
    "    idx_cld=hdr['ID_CLD']\n",
    "    idx_res= hdr['ID_RES']\n",
    "    \n",
    "    wl=datain[0,idx_res:]\n",
    "    \n",
    "    hduin.close() \n",
    "    \n",
    "    all_data=[]\n",
    "    # loop on files to extract data\n",
    "    for file in filelist:\n",
    "        full_inputfilename=os.path.join(inputdir,file)\n",
    "        hdu = fits.open(full_inputfilename)\n",
    "       \n",
    "        datain=hdu[0].data\n",
    "        all_data.append(datain[1:,:])\n",
    "        hdu.close\n",
    "        \n",
    "    dataout=np.concatenate(all_data,axis=0)\n",
    "    \n",
    "    return wl,dataout,idx_num,idx_am,idx_vaod,idx_pwv,idx_o3,idx_cld,idx_res,headerin\n",
    "        "
   ]
  },
  {
   "cell_type": "markdown",
   "metadata": {},
   "source": [
    "# Initialisation"
   ]
  },
  {
   "cell_type": "code",
   "execution_count": 20,
   "metadata": {},
   "outputs": [
    {
     "name": "stdout",
     "output_type": "stream",
     "text": [
      "LA time: 06:49:22\n",
      "NY time: 09:49:22\n",
      "London time: 14:49:22\n",
      "Paris time: 15:49:22\n"
     ]
    }
   ],
   "source": [
    "# date\n",
    "today = date.today()\n",
    "string_date = today.strftime(\"%Y-%m-%d\")\n",
    "\n",
    "\n",
    "# time\n",
    "now = datetime.now()\n",
    "current_time = now.strftime(\"%H:%M:%S\")\n",
    "\n",
    "tim = time.localtime()\n",
    "current_time = time.strftime(\"%H:%M:%S\", tim)\n",
    "\n",
    "\n",
    "#timezones\n",
    "tz_LA = pytz.timezone('America/Los_Angeles')\n",
    "datetime_LA = datetime.now(tz_LA)\n",
    "print(\"LA time:\", datetime_LA.strftime(\"%H:%M:%S\"))\n",
    "\n",
    "\n",
    "tz_NY = pytz.timezone('America/New_York')\n",
    "datetime_NY = datetime.now(tz_NY)\n",
    "print(\"NY time:\", datetime_NY.strftime(\"%H:%M:%S\"))\n",
    "\n",
    "tz_London = pytz.timezone('Europe/London')\n",
    "datetime_London = datetime.now(tz_London)\n",
    "print(\"London time:\", datetime_London.strftime(\"%H:%M:%S\"))\n",
    "\n",
    "tz_Paris = pytz.timezone('Europe/Paris')\n",
    "datetime_Paris = datetime.now(tz_Paris)\n",
    "print(\"Paris time:\", datetime_Paris.strftime(\"%H:%M:%S\"))"
   ]
  },
  {
   "cell_type": "markdown",
   "metadata": {},
   "source": [
    "# Configuration"
   ]
  },
  {
   "cell_type": "code",
   "execution_count": 21,
   "metadata": {},
   "outputs": [],
   "source": [
    "# start with logs\n",
    "#-----------------\n",
    "logging.basicConfig()\n",
    "logging.root.setLevel(logging.NOTSET)\n",
    "\n",
    "handle = __name__\n",
    "\n",
    "logger = logging.getLogger(handle)\n",
    "# logging.getLogger().setLevel(logging.INFO)\n",
    "logger.setLevel(logging.DEBUG)\n",
    "\n",
    "# If you don't want to see log messages from libraries, you can pass a\n",
    "# specific logger object to the install() function. In this case only log\n",
    "# messages originating from that logger will show up on the terminal.\n",
    "coloredlogs.install(level='DEBUG', logger=logger)\n",
    "coloredlogs.install(fmt='%(asctime)s,%(msecs)03d %(hostname)s %(name)s[%(process)d] %(levelname)s %(message)s')\n"
   ]
  },
  {
   "cell_type": "code",
   "execution_count": 22,
   "metadata": {},
   "outputs": [
    {
     "name": "stderr",
     "output_type": "stream",
     "text": [
      "2021-12-23 15:49:22,689 MacBook-Pro-de-admin.local __main__[42783] INFO LA time:06:49:22\n",
      "2021-12-23 15:49:22,691 MacBook-Pro-de-admin.local __main__[42783] INFO NY time:09:49:22\n",
      "2021-12-23 15:49:22,692 MacBook-Pro-de-admin.local __main__[42783] INFO London time:14:49:22\n",
      "2021-12-23 15:49:22,693 MacBook-Pro-de-admin.local __main__[42783] INFO Paris time:15:49:22\n",
      "2021-12-23 15:49:22,694 MacBook-Pro-de-admin.local __main__[42783] INFO ************************ START *********************\n"
     ]
    }
   ],
   "source": [
    "# set time\n",
    "# date\n",
    "today = date.today()\n",
    "string_date = today.strftime(\"%Y-%m-%d\")\n",
    "\n",
    "# time\n",
    "now = datetime.now()\n",
    "current_time = now.strftime(\"%H:%M:%S\")\n",
    "\n",
    "tim = time.localtime()\n",
    "current_time = time.strftime(\"%H:%M:%S\", tim)\n",
    "\n",
    "# timezones\n",
    "tz_LA = pytz.timezone('America/Los_Angeles')\n",
    "datetime_LA = datetime.now(tz_LA)\n",
    "msg=\"LA time:\"+  datetime_LA.strftime(\"%H:%M:%S\")\n",
    "logger.info(msg)\n",
    "\n",
    "tz_NY = pytz.timezone('America/New_York')\n",
    "datetime_NY = datetime.now(tz_NY)\n",
    "msg=\"NY time:\"+ datetime_NY.strftime(\"%H:%M:%S\")\n",
    "logger.info(msg)\n",
    "\n",
    "tz_London = pytz.timezone('Europe/London')\n",
    "datetime_London = datetime.now(tz_London)\n",
    "msg=\"London time:\"+ datetime_London.strftime(\"%H:%M:%S\")\n",
    "logger.info(msg)\n",
    "\n",
    "tz_Paris = pytz.timezone('Europe/Paris')\n",
    "datetime_Paris = datetime.now(tz_Paris)\n",
    "msg=\"Paris time:\"+ datetime_Paris.strftime(\"%H:%M:%S\")\n",
    "logger.info(msg)\n",
    "\n",
    "msg=\"************************ START *********************\"\n",
    "logger.info(msg)\n"
   ]
  },
  {
   "cell_type": "code",
   "execution_count": 23,
   "metadata": {},
   "outputs": [],
   "source": [
    "# arguments\n",
    "#----------\n",
    "\n",
    "parser = argparse.ArgumentParser()\n",
    "parser.add_argument(\"--config\",action=\"store\", dest=\"configfile\",help=f\" run generate -config configfilename, with by ex configfilename = default.ini\")\n",
    "#results_args = parser.parse_args()\n",
    "\n",
    "results_args=\"\""
   ]
  },
  {
   "cell_type": "code",
   "execution_count": 24,
   "metadata": {},
   "outputs": [
    {
     "name": "stderr",
     "output_type": "stream",
     "text": [
      "2021-12-23 15:49:22,717 MacBook-Pro-de-admin.local __main__[42783] INFO Configuration file : config/default.ini\n"
     ]
    }
   ],
   "source": [
    "# config file\n",
    "# --------------\n",
    "configfile = \"config/default.ini\"\n",
    "#config_filename = results_args.configfile\n",
    "packetnum=1\n",
    "config_filename = configfile\n",
    "msg = f\"Configuration file : {config_filename}\"\n",
    "logger.info(msg)\n"
   ]
  },
  {
   "cell_type": "code",
   "execution_count": 25,
   "metadata": {},
   "outputs": [
    {
     "name": "stderr",
     "output_type": "stream",
     "text": [
      "2021-12-23 15:49:22,728 MacBook-Pro-de-admin.local __main__[42783] INFO 1) Configuration\n"
     ]
    }
   ],
   "source": [
    "# 1) CONFIGURATION\n",
    "#------------------\n",
    "logger.info('1) Configuration')\n",
    "\n",
    "config = configparser.ConfigParser()\n",
    "\n",
    "if os.path.exists(config_filename):\n",
    "    config.read(config_filename)\n",
    "else:\n",
    "    msg = f\"config file {config_filename} does not exist !\"\n",
    "    logger.error(msg)\n",
    "\n",
    "config_section = config.sections()"
   ]
  },
  {
   "cell_type": "code",
   "execution_count": 26,
   "metadata": {},
   "outputs": [],
   "source": [
    "if len(config_section) == 0:\n",
    "    msg = f\"empty config file {config_filename} !\"\n",
    "    logger.error(msg)"
   ]
  },
  {
   "cell_type": "code",
   "execution_count": 27,
   "metadata": {},
   "outputs": [],
   "source": [
    "#--\n",
    "if 'GENERAL' in config_section:\n",
    "\n",
    "    FLAG_DEBUG     = bool(int(config['GENERAL']['FLAG_DEBUG']))\n",
    "    FLAG_VERBOSE   = bool(int(config['GENERAL']['FLAG_VERBOSE']))\n",
    "    FLAG_PLOT      = bool(int(config['GENERAL']['FLAG_PLOT']))\n",
    "    FLAG_PRINT     = bool(int(config['GENERAL']['FLAG_PRINT']))\n",
    "else:\n",
    "    msg = f\"Configuration file : empty section GENERAL in config file {config_filename} !\"   \n",
    "    logger.error(msg)\n",
    "#--\n",
    "if 'SIMTRANSMTOFLUXLSST' in config_section:\n",
    "    inputfile     = config['SIMTRANSMTOFLUXLSST']['inputfile']\n",
    "    inputdir      = config['SIMTRANSMTOFLUXLSST']['inputdir']\n",
    "    \n",
    "    outputdir      =  config['SIMTRANSMTOFLUXLSST']['outputdir']\n",
    "    outputfile     =  config['SIMTRANSMTOFLUXLSST']['outputfile']\n",
    "    \n",
    "    packetsize = int(config['SIMTRANSMTOFLUXLSST']['packetsize'])\n",
    "    maxnbpacket = int(config['SIMTRANSMTOFLUXLSST']['maxnbpacket'])\n",
    "\n",
    "else:\n",
    "    msg=\"Configuration file : Missing section SIMTRANSMTOFLUXLSST in config file {config_filename} !\"\n",
    "    logger.error(msg)\n",
    "    \n",
    "#--    \n",
    "if 'LSST' in config_section:\n",
    "\n",
    "    WLMIN      = float(config['LSST']['WLMIN'])\n",
    "    WLMAX      = float(config['LSST']['WLMAX'])\n",
    "    SEFF       = float(config['LSST']['SEFF'])\n",
    "    DEFF       = float(config['LSST']['DEFF']) \n",
    "    EXPOSURE   = float(config['LSST']['EXPOSURE']) \n",
    "    GEL        = float(config['LSST']['GEL']) \n",
    "    SIG_INST   = float(config['LSST']['SIG_INST'])\n",
    "    PIXSCALE   = float(config['LSST']['PIXSCALE']) \n",
    "    NFILTERS   = int(config['LSST']['NFILTERS']) \n",
    "    SKY_BACKGROUND_MAG = config['LSST']['SKY_BACKGROUND_MAG'] \n",
    "    FWHM_SEEING_ARCSEC = config['LSST']['FWHM_SEEING_ARCSEC']\n",
    "else:\n",
    "    msg=\"Configuration file : Missing section LSST in config file {config_filename} !\"\n",
    "    logger.error(msg)\n",
    "    \n",
    "#--    \n",
    "if 'SED' in config_section:\n",
    "    SEDNAME                     =  config['SED']['SEDNAME']\n",
    "    FLAG_RENORM                 =  bool(int(config['SED']['FLAG_RENORM']))\n",
    "    MAGNORM                     =  float(config['SED']['MAGNORM']) \n",
    "else:\n",
    "    msg=\"Configuration file : Missing section SED in config file {config_filename} !\"\n",
    "    logger.error(msg)\n",
    "    "
   ]
  },
  {
   "cell_type": "markdown",
   "metadata": {},
   "source": [
    "## Packet number"
   ]
  },
  {
   "cell_type": "code",
   "execution_count": 28,
   "metadata": {},
   "outputs": [],
   "source": [
    "packet_str = str(packetnum).zfill(4)"
   ]
  },
  {
   "cell_type": "markdown",
   "metadata": {},
   "source": [
    "## Create output directory"
   ]
  },
  {
   "cell_type": "code",
   "execution_count": 29,
   "metadata": {},
   "outputs": [],
   "source": [
    "if not os.path.isdir(outputdir):\n",
    "    os.mkdir(outputdir)"
   ]
  },
  {
   "cell_type": "markdown",
   "metadata": {},
   "source": [
    "## Output filename"
   ]
  },
  {
   "cell_type": "code",
   "execution_count": 30,
   "metadata": {},
   "outputs": [
    {
     "data": {
      "text/plain": [
       "'25_0mag'"
      ]
     },
     "execution_count": 30,
     "metadata": {},
     "output_type": "execute_result"
    }
   ],
   "source": [
    "magnorm_str=str(int(MAGNORM))+'_'+str(int(10*(MAGNORM % 1)))+\"mag\"\n",
    "magnorm_str"
   ]
  },
  {
   "cell_type": "code",
   "execution_count": 31,
   "metadata": {},
   "outputs": [],
   "source": [
    "outfile_root        = outputfile.split('.')[0] \n",
    "outfile_ext         = outputfile.split('.')[1] \n",
    "if FLAG_RENORM:  \n",
    "    outputfilename      = outfile_root + '_' + SEDNAME + '_' + magnorm_str + '_' + packet_str + '.' + outfile_ext \n",
    "else:\n",
    "    outputfilename      = outfile_root + '_' + SEDNAME + '_' + packet_str + '.' + outfile_ext \n",
    "full_outputfilename = os.path.join(outputdir,outputfilename)"
   ]
  },
  {
   "cell_type": "code",
   "execution_count": 32,
   "metadata": {},
   "outputs": [
    {
     "data": {
      "text/plain": [
       "'fluxphesourceandbg_ALPHA_LYR_25_0mag_0001.fits'"
      ]
     },
     "execution_count": 32,
     "metadata": {},
     "output_type": "execute_result"
    }
   ],
   "source": [
    "outputfilename "
   ]
  },
  {
   "cell_type": "markdown",
   "metadata": {},
   "source": [
    "## Input filename"
   ]
  },
  {
   "cell_type": "code",
   "execution_count": 33,
   "metadata": {},
   "outputs": [],
   "source": [
    "infile_root        = inputfile.split('.')[0] \n",
    "infile_ext         = inputfile.split('.')[1] "
   ]
  },
  {
   "cell_type": "code",
   "execution_count": 34,
   "metadata": {},
   "outputs": [],
   "source": [
    "inputfilename      = infile_root + '_' + packet_str + '.' + infile_ext \n",
    "full_inputfilename = os.path.join(outputdir,outputfilename)"
   ]
  },
  {
   "cell_type": "code",
   "execution_count": 35,
   "metadata": {},
   "outputs": [
    {
     "data": {
      "text/plain": [
       "'atmtransparency_0001.fits'"
      ]
     },
     "execution_count": 35,
     "metadata": {},
     "output_type": "execute_result"
    }
   ],
   "source": [
    "inputfilename "
   ]
  },
  {
   "cell_type": "markdown",
   "metadata": {},
   "source": [
    "## Number of pixels"
   ]
  },
  {
   "cell_type": "code",
   "execution_count": 36,
   "metadata": {},
   "outputs": [
    {
     "data": {
      "text/plain": [
       "array([22.92, 22.27, 21.2 , 20.47, 19.59, 18.64])"
      ]
     },
     "execution_count": 36,
     "metadata": {},
     "output_type": "execute_result"
    }
   ],
   "source": [
    "SKY_BACKGROUND_MAG_N = np.array([ float(x) for x in SKY_BACKGROUND_MAG.split(\",\") ])\n",
    "SKY_BACKGROUND_MAG_N "
   ]
  },
  {
   "cell_type": "code",
   "execution_count": 37,
   "metadata": {},
   "outputs": [
    {
     "data": {
      "text/plain": [
       "array([0.77, 0.73, 0.7 , 0.67, 0.65, 0.63])"
      ]
     },
     "execution_count": 37,
     "metadata": {},
     "output_type": "execute_result"
    }
   ],
   "source": [
    "FWHM_SEEING_ARCSEC_N = np.array([ float(x) for x in FWHM_SEEING_ARCSEC.split(\",\") ])\n",
    "FWHM_SEEING_ARCSEC_N"
   ]
  },
  {
   "cell_type": "code",
   "execution_count": 38,
   "metadata": {},
   "outputs": [
    {
     "data": {
      "text/plain": [
       "array([21.04795, 18.91795, 17.395  , 15.93595, 14.99875, 14.08995])"
      ]
     },
     "execution_count": 38,
     "metadata": {},
     "output_type": "execute_result"
    }
   ],
   "source": [
    "NPIX=1.42*(FWHM_SEEING_ARCSEC_N/PIXSCALE)**2\n",
    "NPIX"
   ]
  },
  {
   "cell_type": "markdown",
   "metadata": {},
   "source": [
    "!!!! Must be checked"
   ]
  },
  {
   "cell_type": "markdown",
   "metadata": {},
   "source": [
    "## Telescope surface"
   ]
  },
  {
   "cell_type": "code",
   "execution_count": 39,
   "metadata": {},
   "outputs": [
    {
     "name": "stdout",
     "output_type": "stream",
     "text": [
      "graphtable: /Users/dagoret/MacOSX/External/PySynPhotData/grp/hst/cdbs/mtab/14l1632sm_tmg.fits\n",
      " comptable: /Users/dagoret/MacOSX/External/PySynPhotData/grp/hst/cdbs/mtab/16n1832tm_tmc.fits\n",
      "thermtable: /Users/dagoret/MacOSX/External/PySynPhotData/grp/hst/cdbs/mtab/tae17277m_tmt.fits\n",
      "      area: 324015.4546769212\n",
      "   waveset: Min: 3000.0, Max: 11000.0, Num: None, Delta: 1.0, Log: False\n"
     ]
    }
   ],
   "source": [
    "NBINS = int(WLMAX-WLMIN) # Number of bins between WLMIN and WLMAX\n",
    "BinWidth = (WLMAX-WLMIN)/float(NBINS) # Bin width in Angstrom\n",
    "WL = np.linspace(WLMIN,WLMAX,NBINS)   # Array of wavelength in Angstrom\n",
    "\n",
    "S.refs.setref(area = SEFF, waveset=None) # set by default to 324015.4546769212 cm2\n",
    "S.refs.set_default_waveset(minwave = WLMIN, maxwave = WLMAX, num = NBINS, delta = BinWidth, log = False)\n",
    "S.refs.showref()"
   ]
  },
  {
   "cell_type": "markdown",
   "metadata": {},
   "source": [
    "# Atmospheric transparency file and selection"
   ]
  },
  {
   "cell_type": "code",
   "execution_count": 40,
   "metadata": {},
   "outputs": [],
   "source": [
    "all_files = os.listdir(inputdir)\n",
    "sorted_files=sorted(all_files)"
   ]
  },
  {
   "cell_type": "code",
   "execution_count": 41,
   "metadata": {},
   "outputs": [],
   "source": [
    "# search string\n",
    "search_str=\"^\"+f\"{infile_root}.*fits$\""
   ]
  },
  {
   "cell_type": "code",
   "execution_count": 42,
   "metadata": {},
   "outputs": [],
   "source": [
    "files_in_inputdir=[]\n",
    "for file in sorted_files:\n",
    "    if re.search(search_str,file):\n",
    "        files_in_inputdir.append(file)"
   ]
  },
  {
   "cell_type": "markdown",
   "metadata": {},
   "source": [
    "### Keep a limited number of input files"
   ]
  },
  {
   "cell_type": "code",
   "execution_count": 43,
   "metadata": {},
   "outputs": [],
   "source": [
    "if maxnbpacket>0:\n",
    "    files_in_inputdir = files_in_inputdir[:maxnbpacket]"
   ]
  },
  {
   "cell_type": "code",
   "execution_count": 44,
   "metadata": {},
   "outputs": [],
   "source": [
    "NFiles=len(files_in_inputdir)"
   ]
  },
  {
   "cell_type": "code",
   "execution_count": 45,
   "metadata": {},
   "outputs": [
    {
     "data": {
      "text/plain": [
       "100"
      ]
     },
     "execution_count": 45,
     "metadata": {},
     "output_type": "execute_result"
    }
   ],
   "source": [
    "NFiles"
   ]
  },
  {
   "cell_type": "code",
   "execution_count": 46,
   "metadata": {},
   "outputs": [],
   "source": [
    "#files_in_inputdir"
   ]
  },
  {
   "cell_type": "markdown",
   "metadata": {},
   "source": [
    "### Keep one file only"
   ]
  },
  {
   "cell_type": "code",
   "execution_count": 47,
   "metadata": {},
   "outputs": [
    {
     "name": "stderr",
     "output_type": "stream",
     "text": [
      "2021-12-23 15:49:22,910 MacBook-Pro-de-admin.local __main__[42783] INFO found input file atmtransparency_0001.fits in ../../tools/MakeAtmosphericTransparencyProd/atmsimdata!\n"
     ]
    }
   ],
   "source": [
    "if inputfilename in files_in_inputdir:\n",
    "    selected_files= [ inputfilename ]\n",
    "    msg=f\"found input file {inputfilename} in {inputdir}!\"\n",
    "    logger.info(msg)\n",
    "else:\n",
    "    msg=f\"Missing file {inputfilename} in {inputdir}!\"\n",
    "    logger.error(msg)\n",
    "    assert False"
   ]
  },
  {
   "cell_type": "markdown",
   "metadata": {},
   "source": [
    "# Read simulated atmospheric transparency"
   ]
  },
  {
   "cell_type": "code",
   "execution_count": 48,
   "metadata": {},
   "outputs": [],
   "source": [
    "wl,datain,idx_num,idx_am,idx_vaod,idx_pwv,idx_o3,idx_cld,idx_res,header=GetAtmTransparency(inputdir,selected_files)"
   ]
  },
  {
   "cell_type": "code",
   "execution_count": 49,
   "metadata": {},
   "outputs": [
    {
     "name": "stderr",
     "output_type": "stream",
     "text": [
      "2021-12-23 15:49:22,944 MacBook-Pro-de-admin.local __main__[42783] INFO SIMPLE  =                    T / conforms to FITS standard                      BITPIX  =                  -64 / array data type                                NAXIS   =                    2 / number of array dimensions                     NAXIS1  =                  957                                                  NAXIS2  =                  101                                                  NBATMSIM=                20000                                                  ID_NUM  =                    0                                                  ID_AM   =                    1                                                  ID_VAOD =                    2                                                  ID_PWV  =                    3                                                  ID_O3   =                    4                                                  ID_CLD  =                    5                                                  ID_RES  =                    6                                                  END                                                                                                                                                                                                                                                                                                                                                                                                                                                                                                                                                                                                                                                                                                                                                                                                                                                                                                                                                                                                                                                                                                                                                                                                                                                                                                                                                                                                                                                                                                                                                                                                                                                                                                                                                                                                                                                                                                             \n"
     ]
    }
   ],
   "source": [
    "logger.info(header)"
   ]
  },
  {
   "cell_type": "code",
   "execution_count": 50,
   "metadata": {},
   "outputs": [],
   "source": [
    "num=datain[0:,idx_num]\n",
    "airmass=datain[0:,idx_am]\n",
    "vaod=datain[0:,idx_vaod] # vertical aerosol depth\n",
    "pwv=datain[0:,idx_pwv]   # precipitable water vapor (mm)\n",
    "ozone=datain[0:,idx_o3]  # ozone\n",
    "cld=datain[0:,idx_cld]   # clouds (not used)"
   ]
  },
  {
   "cell_type": "code",
   "execution_count": 51,
   "metadata": {},
   "outputs": [],
   "source": [
    "transm=datain[:,idx_res:]"
   ]
  },
  {
   "cell_type": "code",
   "execution_count": 52,
   "metadata": {},
   "outputs": [
    {
     "data": {
      "text/plain": [
       "(951,)"
      ]
     },
     "execution_count": 52,
     "metadata": {},
     "output_type": "execute_result"
    }
   ],
   "source": [
    "wl.shape"
   ]
  },
  {
   "cell_type": "code",
   "execution_count": 53,
   "metadata": {},
   "outputs": [
    {
     "data": {
      "text/plain": [
       "(100, 951)"
      ]
     },
     "execution_count": 53,
     "metadata": {},
     "output_type": "execute_result"
    }
   ],
   "source": [
    "transm.shape"
   ]
  },
  {
   "cell_type": "code",
   "execution_count": 54,
   "metadata": {},
   "outputs": [
    {
     "name": "stderr",
     "output_type": "stream",
     "text": [
      "/users/dagoret/anaconda3/lib/python3.8/site-packages/scipy/stats/_continuous_distns.py:621: RuntimeWarning: invalid value encountered in sqrt\n",
      "  sk = 2*(b-a)*np.sqrt(a + b + 1) / (a + b + 2) / np.sqrt(a*b)\n",
      "2021-12-23 15:49:23,699 MacBook-Pro-de-admin.local matplotlib.legend[42783] WARNING No handles with labels found to put in legend.\n"
     ]
    },
    {
     "data": {
      "image/png": "[encoded data removed]",
      "text/plain": [
       "<Figure size 1440x720 with 5 Axes>"
      ]
     },
     "metadata": {
      "needs_background": "light"
     },
     "output_type": "display_data"
    }
   ],
   "source": [
    "def GetDistribFromName(name):\n",
    "    \"\"\"\n",
    "    \n",
    "    GetDistribFromName(name): Get distribution from name in config file\n",
    "    \n",
    "    input arg:\n",
    "    \n",
    "    - name : string name of the distribution\n",
    "    \n",
    "    \"\"\"\n",
    "    \n",
    "    rayleigh,beta,gamma,uniform\n",
    "    \n",
    "    if name==\"rayleigh\":\n",
    "        return rayleigh\n",
    "    elif name==\"beta\":\n",
    "        return beta\n",
    "    elif name==\"gamma\":\n",
    "        return gamma\n",
    "    else:\n",
    "        return uniform\n",
    "    \n",
    "\n",
    "\n",
    "if FLAG_PLOT:\n",
    "    fig=plt.figure(figsize=(20,10))\n",
    "    ax1=fig.add_subplot(231)\n",
    "    ax2=fig.add_subplot(232)\n",
    "    ax3=fig.add_subplot(233)\n",
    "    ax4=fig.add_subplot(234)\n",
    "    ax5=fig.add_subplot(235)\n",
    "    #ax6=fig.add_subplot(326)\n",
    "\n",
    "    # -----------------  airmass\n",
    "    mu=np.average(airmass)\n",
    "    sigma=np.std(airmass)\n",
    "    ax1.hist(airmass,bins=50,facecolor='blue',alpha=0.2,density=True);\n",
    "    ax1.set_title(\"airmass\")\n",
    "    ax1.set_xlabel(\"z\")\n",
    "    textstr = '\\n'.join((\n",
    "    r'$\\mu=%.2f$' % (mu, ),\n",
    "    r'$\\sigma=%.2f$' % (sigma, )))\n",
    "\n",
    "\n",
    "    props = dict(boxstyle='round', facecolor='white', alpha=0.5)\n",
    "\n",
    "    # place a text box in upper left in axes coords\n",
    "    ax1.text(0.75, 0.8, textstr, transform=ax1.transAxes, fontsize=14,\n",
    "        verticalalignment='top', bbox=props)\n",
    "\n",
    "    \n",
    "    \n",
    "    if 'AIRMASS' in config_section:\n",
    "        distrib_name= config['AIRMASS']['distrib']\n",
    "        distrib=GetDistribFromName(distrib_name)\n",
    "        # fit dist to data\n",
    "        params = distrib.fit(airmass)\n",
    "\n",
    "        # Separate parts of parameters\n",
    "        arg = params[:-2]\n",
    "        loc = params[-2]\n",
    "        scale = params[-1]\n",
    "\n",
    "        # Calculate fitted PDF and error with fit in distribution\n",
    "        x=np.linspace(airmass.min(),airmass.max(),100)\n",
    "        pdf = distrib.pdf(x, loc=loc, scale=scale, *arg)\n",
    "        label=distrib_name + \" : a={:2.2f} b={:2.2f} s={:2.2f}\".format(arg[0],arg[1],scale)\n",
    "        #label=distrib_name + \" : s={:2.2f}\".format(scale)\n",
    "        ax1.plot(x,pdf,\"r-\",label=label)\n",
    "        ax1.legend()\n",
    "        ax1.grid()\n",
    "    \n",
    "    #----------------pwv--------------------\n",
    "    \n",
    "    mu=np.average(pwv)\n",
    "    sigma=np.std(pwv)\n",
    "    textstr = '\\n'.join((\n",
    "    r'$\\mu=%.2f$' % (mu, ),\n",
    "    r'$\\sigma=%.2f$' % (sigma, )))\n",
    "    props = dict(boxstyle='round', facecolor='white', alpha=0.5)\n",
    "    \n",
    "    ax2.hist(pwv,bins=50,facecolor='blue',alpha=0.2,density=True);\n",
    "    ax2.set_title(\"precipitable water vapor\")\n",
    "    ax2.set_xlabel(\"pwv (mm)\")\n",
    "    \n",
    "    ax2.text(0.75, 0.8, textstr, transform=ax2.transAxes, fontsize=14,\n",
    "        verticalalignment='top', bbox=props)\n",
    "    \n",
    "    if 'PWV' in config_section:\n",
    "        distrib_name= config['PWV']['distrib']\n",
    "        distrib=GetDistribFromName(distrib_name)\n",
    "        # fit dist to data\n",
    "        params = distrib.fit(pwv)\n",
    "\n",
    "        # Separate parts of parameters\n",
    "        arg = params[:-2]\n",
    "        loc = params[-2]\n",
    "        scale = params[-1]\n",
    "\n",
    "        # Calculate fitted PDF and error with fit in distribution\n",
    "        x=np.linspace(pwv.min(),pwv.max(),100)\n",
    "        pdf = distrib.pdf(x, loc=loc, scale=scale, *arg)\n",
    "        #label=distrib_name + \" : s={:2.2f}\".format(scale)\n",
    "        label=distrib_name + \" : a={:2.2f} b={:2.2f} s={:2.2f}\".format(arg[0],arg[1],scale)\n",
    "        ax2.plot(x,pdf,\"r-\",label=label)\n",
    "        ax2.legend()\n",
    "        ax2.grid()\n",
    "    \n",
    "        \n",
    "    #-------------- Ozone\n",
    "    \n",
    "    mu=np.average(ozone)\n",
    "    sigma=np.std(ozone)\n",
    "    textstr = '\\n'.join((\n",
    "    r'$\\mu=%.2f$' % (mu, ),\n",
    "    r'$\\sigma=%.2f$' % (sigma, )))\n",
    "    props = dict(boxstyle='round', facecolor='white', alpha=0.5)\n",
    "    \n",
    "    ax3.hist(ozone,bins=50,facecolor='blue',alpha=0.2,density=True);\n",
    "    ax3.set_title(\"ozone\")\n",
    "    ax3.set_xlabel(\"Ozone (DbU)\")\n",
    "    \n",
    "    ax3.text(0.75, 0.8, textstr, transform=ax3.transAxes, fontsize=14,\n",
    "        verticalalignment='top', bbox=props)\n",
    "    \n",
    "    \n",
    "    if 'OZONE' in config_section:\n",
    "        distrib_name= config['OZONE']['distrib']\n",
    "        distrib=GetDistribFromName(distrib_name)\n",
    "        # fit dist to data\n",
    "        params = distrib.fit(ozone)\n",
    "\n",
    "        # Separate parts of parameters\n",
    "        arg = params[:-2]\n",
    "        loc = params[-2]\n",
    "        scale = params[-1]\n",
    "\n",
    "        # Calculate fitted PDF and error with fit in distribution\n",
    "        x=np.linspace(ozone.min(),ozone.max(),100)\n",
    "        pdf = distrib.pdf(x, loc=loc, scale=scale, *arg)\n",
    "        #label=distrib_name + \" : s={:2.2f}\".format(scale)\n",
    "        label=distrib_name + \" : a={:2.2f} b={:2.2f} s={:2.2f}\".format(arg[0],arg[1],scale)\n",
    "        ax3.plot(x,pdf,\"r-\",label=label)\n",
    "        ax3.legend()\n",
    "        ax3.grid()\n",
    "    \n",
    "    \n",
    "    #-------------------- VAOD\n",
    "    \n",
    "    mu=np.average(vaod)\n",
    "    sigma=np.std(vaod)\n",
    "    textstr = '\\n'.join((\n",
    "    r'$\\mu=%.2f$' % (mu, ),\n",
    "    r'$\\sigma=%.2f$' % (sigma, )))\n",
    "    props = dict(boxstyle='round', facecolor='white', alpha=0.5)\n",
    "    \n",
    "    ax4.hist(vaod,bins=50,facecolor='blue',alpha=0.2,density=True);\n",
    "    ax4.set_title(\"Aerosols\")\n",
    "    ax4.set_xlabel(\"vaod\")\n",
    "    \n",
    "    ax4.text(0.75, 0.8, textstr, transform=ax4.transAxes, fontsize=14,\n",
    "        verticalalignment='top', bbox=props)\n",
    "    \n",
    "    \n",
    "    if 'AEROSOL' in config_section:\n",
    "        distrib_name= config['AEROSOL']['distrib']\n",
    "        distrib=GetDistribFromName(distrib_name)\n",
    "        # fit dist to data\n",
    "        params = distrib.fit(vaod)\n",
    "\n",
    "        # Separate parts of parameters\n",
    "        arg = params[:-2]\n",
    "        loc = params[-2]\n",
    "        scale = params[-1]\n",
    "\n",
    "        # Calculate fitted PDF and error with fit in distribution\n",
    "        x=np.linspace(vaod.min(),vaod.max(),100)\n",
    "        pdf = distrib.pdf(x, loc=loc, scale=scale, *arg)\n",
    "        #label=distrib_name + \" : s={:2.2f}\".format(scale)\n",
    "        label=distrib_name + \" : s={:2.2f}\".format(scale)\n",
    "        ax4.plot(x,pdf,\"r-\",label=label)\n",
    "        ax4.legend()\n",
    "        ax4.grid()\n",
    "    \n",
    "    #-------------- clouds\n",
    "    \n",
    "    mu=np.average(cld)\n",
    "    sigma=np.std(cld)\n",
    "    textstr = '\\n'.join((\n",
    "    r'$\\mu=%.2f$' % (mu, ),\n",
    "    r'$\\sigma=%.2f$' % (sigma, )))\n",
    "    props = dict(boxstyle='round', facecolor='white', alpha=0.5)\n",
    "    \n",
    "    \n",
    "    ax5.hist(cld,bins=50,facecolor='blue',alpha=0.2,density=True);\n",
    "    ax5.set_title(\"Cloud\")\n",
    "    ax5.set_xlabel(\"od\")\n",
    "    \n",
    "    ax5.text(0.75, 0.8, textstr, transform=ax5.transAxes, fontsize=14,\n",
    "        verticalalignment='top', bbox=props)\n",
    "    \n",
    "    \n",
    "    if 'CLOUD' in config_section:\n",
    "        distrib_name= config['CLOUD']['distrib']\n",
    "        distrib=GetDistribFromName(distrib_name)\n",
    "        # fit dist to data\n",
    "        params = distrib.fit(cld)\n",
    "\n",
    "        # Separate parts of parameters\n",
    "        arg = params[:-2]\n",
    "        loc = params[-2]\n",
    "        scale = params[-1]\n",
    "\n",
    "        # Calculate fitted PDF and error with fit in distribution\n",
    "        x=np.linspace(cld.min(),cld.max(),100)\n",
    "        pdf = distrib.pdf(x, loc=loc, scale=scale, *arg)\n",
    "        #label=distrib_name + \" : s={:2.2f}\".format(scale)\n",
    "        label=distrib_name + \" : s={:2.2f}\".format(scale)\n",
    "        #ax5.plot(x,pdf,\"r-\",label=label)\n",
    "        ax5.legend()\n",
    "        ax5.grid()\n",
    "        \n",
    "        \n",
    "    plt.tight_layout()"
   ]
  },
  {
   "cell_type": "markdown",
   "metadata": {},
   "source": [
    "### Select wavelength range\n",
    "\n",
    "Truncate wavelength"
   ]
  },
  {
   "cell_type": "code",
   "execution_count": 55,
   "metadata": {},
   "outputs": [],
   "source": [
    "WLMINSEL=300.\n",
    "WLMAXSEL=1100."
   ]
  },
  {
   "cell_type": "code",
   "execution_count": 56,
   "metadata": {},
   "outputs": [],
   "source": [
    "indexes_selected=np.where(np.logical_and(wl>=WLMINSEL,wl<=WLMAXSEL))[0]"
   ]
  },
  {
   "cell_type": "code",
   "execution_count": 57,
   "metadata": {},
   "outputs": [],
   "source": [
    "# need even number of bins\n",
    "if len(indexes_selected)%2:\n",
    "    indexes_selected=indexes_selected[:-1]"
   ]
  },
  {
   "cell_type": "code",
   "execution_count": 58,
   "metadata": {},
   "outputs": [],
   "source": [
    "wl=wl[indexes_selected]\n",
    "transm_tot=transm[:,indexes_selected]"
   ]
  },
  {
   "cell_type": "code",
   "execution_count": 59,
   "metadata": {},
   "outputs": [],
   "source": [
    "transm=transm_tot"
   ]
  },
  {
   "cell_type": "code",
   "execution_count": 60,
   "metadata": {},
   "outputs": [
    {
     "data": {
      "image/png": "[encoded data removed]",
      "text/plain": [
       "<Figure size 720x288 with 2 Axes>"
      ]
     },
     "metadata": {
      "needs_background": "light"
     },
     "output_type": "display_data"
    }
   ],
   "source": [
    "if FLAG_PLOT:\n",
    "    N=20\n",
    "    jet = plt.get_cmap('jet')\n",
    "    cNorm = colors.Normalize(vmin=0, vmax=N)\n",
    "    scalarMap = cmx.ScalarMappable(norm=cNorm, cmap=jet)\n",
    "    all_colors = scalarMap.to_rgba(np.arange(N), alpha=1)\n",
    "\n",
    "    fig=plt.figure(figsize=(10,4))\n",
    "    ax = fig.add_subplot(111)\n",
    "    for idx in np.arange(N):\n",
    "        ax.plot(wl,transm[idx,:],c=all_colors[idx])\n",
    "        \n",
    "    ax.set_xlabel(\"$\\lambda$ (nm)\")\n",
    "    ax.set_ylabel(\"transmission\")\n",
    "    ax.set_title(\"atmospheric transmission (no clouds ext)\")\n",
    "    ax.grid()\n",
    "        \n",
    "    ax1 = ax.twinx()\n",
    "    ax1.set_ylim(ax.get_ylim())\n",
    "    #ax1.grid()\n",
    "    "
   ]
  },
  {
   "cell_type": "code",
   "execution_count": 61,
   "metadata": {},
   "outputs": [],
   "source": [
    "NWL=wl.shape[0]"
   ]
  },
  {
   "cell_type": "code",
   "execution_count": 62,
   "metadata": {},
   "outputs": [],
   "source": [
    "jet = plt.get_cmap('jet')\n",
    "cNorm = colors.Normalize(vmin=0, vmax=NWL)\n",
    "scalarMap = cmx.ScalarMappable(norm=cNorm, cmap=jet)\n",
    "all_colors = scalarMap.to_rgba(np.arange(NWL), alpha=1)"
   ]
  },
  {
   "cell_type": "markdown",
   "metadata": {},
   "source": [
    "# SED"
   ]
  },
  {
   "cell_type": "code",
   "execution_count": 63,
   "metadata": {},
   "outputs": [
    {
     "data": {
      "text/html": [
       "<i>Table length=47</i>\n",
       "<table id=\"table140614705134704\" class=\"table-striped table-bordered table-condensed\">\n",
       "<thead><tr><th>OBJNAME</th><th>RA</th><th>DEC</th><th>SP_TYPE</th><th>SP_QUAL</th><th>magU</th><th>magB</th><th>magV</th><th>magR</th><th>magI</th><th>FILES</th><th>calcU</th><th>calcB</th><th>calcV</th><th>calcR</th><th>calcI</th><th>factor</th><th>VmI</th></tr></thead>\n",
       "<thead><tr><th>bytes10</th><th>float64</th><th>float64</th><th>bytes12</th><th>bytes1</th><th>float64</th><th>float32</th><th>float64</th><th>float64</th><th>float64</th><th>bytes27</th><th>float64</th><th>float64</th><th>float64</th><th>float64</th><th>float64</th><th>float64</th><th>float64</th></tr></thead>\n",
       "<tr><td>NGC7293</td><td>337.411</td><td>-20.837</td><td>DAO.5</td><td>C</td><td>11.894</td><td>13.158</td><td>13.524</td><td>13.689</td><td>13.898</td><td>ngc7293_005.fits</td><td>11.917</td><td>13.180</td><td>13.538</td><td>13.734</td><td>14.234</td><td>26.01</td><td>-0.697</td></tr>\n",
       "<tr><td>FEIGE67</td><td>190.466</td><td>17.522</td><td>sdOpec</td><td>D</td><td>10.261</td><td>11.700</td><td>11.630</td><td>11.969</td><td>12.159</td><td>feige67_002.fits</td><td>10.256</td><td>11.478</td><td>11.811</td><td>11.987</td><td>12.463</td><td>5.3027</td><td>-0.652</td></tr>\n",
       "<tr><td>GD50</td><td>57.209</td><td>-0.976</td><td>DA1.2</td><td>C</td><td>12.596</td><td>13.787</td><td>14.063</td><td>14.210</td><td>14.388</td><td>gd50_004.fits</td><td>12.674</td><td>13.817</td><td>14.043</td><td>14.217</td><td>14.674</td><td>41.416</td><td>-0.631</td></tr>\n",
       "<tr><td>FEIGE66</td><td>189.348</td><td>25.067</td><td>sdB1(k)</td><td>C</td><td>9.117</td><td>10.260</td><td>10.590</td><td>10.642</td><td>10.809</td><td>feige66_002.fits</td><td>9.123</td><td>10.225</td><td>10.487</td><td>10.642</td><td>11.096</td><td>1.5662</td><td>-0.609</td></tr>\n",
       "<tr><td>GD108</td><td>150.197</td><td>-7.559</td><td>sdB</td><td>D</td><td>12.406</td><td>13.349</td><td>13.563</td><td>13.662</td><td>13.781</td><td>gd108_005.fits</td><td>12.412</td><td>13.347</td><td>13.558</td><td>13.659</td><td>14.073</td><td>26.488</td><td>-0.516</td></tr>\n",
       "<tr><td>G93-48</td><td>328.106</td><td>2.389</td><td>DA2.8</td><td>C</td><td>11.942</td><td>12.732</td><td>12.743</td><td>12.839</td><td>12.938</td><td>g93_48_004.fits</td><td>11.982</td><td>12.717</td><td>12.728</td><td>12.836</td><td>13.234</td><td>12.34</td><td>-0.506</td></tr>\n",
       "<tr><td>HZ2</td><td>63.181</td><td>11.864</td><td>DA2.3</td><td>C</td><td>12.903</td><td>13.787</td><td>13.877</td><td>13.984</td><td>14.094</td><td>hz2_005.fits</td><td>12.943</td><td>13.792</td><td>13.849</td><td>13.949</td><td>14.339</td><td>34.649</td><td>-0.490</td></tr>\n",
       "<tr><td>HZ44</td><td>200.897</td><td>36.133</td><td>sdBN0VIIHe28</td><td>B</td><td>10.186</td><td>11.420</td><td>11.650</td><td>12.000</td><td>11.995</td><td>hz44_stis_004.fits</td><td>10.212</td><td>11.389</td><td>11.653</td><td>11.826</td><td>12.110</td><td>4.5833</td><td>-0.458</td></tr>\n",
       "<tr><td>HZ21</td><td>183.484</td><td>32.942</td><td>DO1</td><td>C</td><td>13.125</td><td>14.361</td><td>14.688</td><td>14.837</td><td>15.038</td><td>hz21_stis_004.fits</td><td>13.134</td><td>14.356</td><td>14.678</td><td>14.848</td><td>15.132</td><td>74.303</td><td>-0.454</td></tr>\n",
       "<tr><td>HZ43</td><td>199.091</td><td>29.099</td><td>DAwk+M3.5Ve</td><td>D</td><td>100000000000000000000.000</td><td>12.520</td><td>12.660</td><td>100000000000000000000.000</td><td>100000000000000000000.000</td><td>hz43_stis_004.fits</td><td>11.434</td><td>12.622</td><td>12.905</td><td>13.081</td><td>13.352</td><td>14.515</td><td>-0.447</td></tr>\n",
       "<tr><td>...</td><td>...</td><td>...</td><td>...</td><td>...</td><td>...</td><td>...</td><td>...</td><td>...</td><td>...</td><td>...</td><td>...</td><td>...</td><td>...</td><td>...</td><td>...</td><td>...</td><td>...</td></tr>\n",
       "<tr><td>HD031128</td><td>73.041</td><td>-27.064</td><td>F3/5Vw</td><td>D</td><td>100000000000000000000.000</td><td>9.550</td><td>9.140</td><td>100000000000000000000.000</td><td>100000000000000000000.000</td><td>hd031128_stis_003.fits</td><td>9.416</td><td>9.606</td><td>9.117</td><td>8.703</td><td>8.397</td><td>0.44345</td><td>0.720</td></tr>\n",
       "<tr><td>HD205905</td><td>324.792</td><td>-27.307</td><td>G1.5IV-V</td><td>C</td><td>100000000000000000000.000</td><td>7.360</td><td>6.740</td><td>100000000000000000000.000</td><td>100000000000000000000.000</td><td>hd205905_stis_004.fits</td><td>7.497</td><td>7.353</td><td>6.724</td><td>6.278</td><td>5.976</td><td>0.048936</td><td>0.748</td></tr>\n",
       "<tr><td>HD106252</td><td>183.373</td><td>10.042</td><td>G0</td><td>E</td><td>100000000000000000000.000</td><td>8.000</td><td>100000000000000000000.000</td><td>7.000</td><td>100000000000000000000.000</td><td>hd106252_stis_004.fits</td><td>8.117</td><td>8.020</td><td>7.403</td><td>6.957</td><td>6.653</td><td>0.091453</td><td>0.750</td></tr>\n",
       "<tr><td>HD159222</td><td>263.004</td><td>34.271</td><td>G1V</td><td>C</td><td>7.380</td><td>7.210</td><td>100000000000000000000.000</td><td>6.100</td><td>100000000000000000000.000</td><td>hd159222_stis_004.fits</td><td>7.336</td><td>7.154</td><td>6.507</td><td>6.053</td><td>5.747</td><td>0.040073</td><td>0.760</td></tr>\n",
       "<tr><td>HD111980</td><td>193.313</td><td>-18.522</td><td>F7V</td><td>C</td><td>8.800</td><td>8.910</td><td>8.380</td><td>100000000000000000000.000</td><td>100000000000000000000.000</td><td>hd111980_stis_003.fits</td><td>8.794</td><td>8.892</td><td>8.358</td><td>7.921</td><td>7.598</td><td>0.22044</td><td>0.761</td></tr>\n",
       "<tr><td>HD37962</td><td>85.217</td><td>-31.351</td><td>G2V</td><td>C</td><td>100000000000000000000.000</td><td>8.500</td><td>7.850</td><td>100000000000000000000.000</td><td>100000000000000000000.000</td><td>hd37962_stis_004.fits</td><td>8.582</td><td>8.475</td><td>7.827</td><td>7.360</td><td>7.034</td><td>0.13509</td><td>0.792</td></tr>\n",
       "<tr><td>HD185975</td><td>307.078</td><td>-87.472</td><td>G3V</td><td>C</td><td>100000000000000000000.000</td><td>8.780</td><td>8.100</td><td>100000000000000000000.000</td><td>100000000000000000000.000</td><td>hd185975_stis_003.fits</td><td>9.013</td><td>8.776</td><td>8.085</td><td>7.600</td><td>7.268</td><td>0.17141</td><td>0.817</td></tr>\n",
       "<tr><td>HD200654</td><td>316.645</td><td>-49.964</td><td>CEMP</td><td>C</td><td>100000000000000000000.000</td><td>9.740</td><td>9.110</td><td>100000000000000000000.000</td><td>100000000000000000000.000</td><td>hd200654_stis_003.fits</td><td>9.605</td><td>9.695</td><td>9.079</td><td>8.542</td><td>8.125</td><td>0.42821</td><td>0.954</td></tr>\n",
       "<tr><td>FLAT</td><td>0.000</td><td>0.000</td><td>flat</td><td>0</td><td>9.721</td><td>10.369</td><td>10.000</td><td>9.501</td><td>9.001</td><td>flat</td><td>9.721</td><td>10.369</td><td>10.000</td><td>9.501</td><td>9.001</td><td>1</td><td>0.999</td></tr>\n",
       "<tr><td>HD009051</td><td>22.194</td><td>-24.340</td><td>G6/8IIIwF5</td><td>D</td><td>100000000000000000000.000</td><td>9.730</td><td>8.920</td><td>100000000000000000000.000</td><td>100000000000000000000.000</td><td>hd009051_stis_003.fits</td><td>9.999</td><td>9.743</td><td>8.922</td><td>8.301</td><td>7.829</td><td>0.37066</td><td>1.093</td></tr>\n",
       "</table>"
      ],
      "text/plain": [
       "<Table length=47>\n",
       "OBJNAME     RA     DEC     SP_TYPE    ...  calcR   calcI   factor    VmI  \n",
       "bytes10  float64 float64   bytes12    ... float64 float64 float64  float64\n",
       "-------- ------- ------- ------------ ... ------- ------- -------- -------\n",
       " NGC7293 337.411 -20.837        DAO.5 ...  13.734  14.234    26.01  -0.697\n",
       " FEIGE67 190.466  17.522       sdOpec ...  11.987  12.463   5.3027  -0.652\n",
       "    GD50  57.209  -0.976        DA1.2 ...  14.217  14.674   41.416  -0.631\n",
       " FEIGE66 189.348  25.067      sdB1(k) ...  10.642  11.096   1.5662  -0.609\n",
       "   GD108 150.197  -7.559          sdB ...  13.659  14.073   26.488  -0.516\n",
       "  G93-48 328.106   2.389        DA2.8 ...  12.836  13.234    12.34  -0.506\n",
       "     HZ2  63.181  11.864        DA2.3 ...  13.949  14.339   34.649  -0.490\n",
       "    HZ44 200.897  36.133 sdBN0VIIHe28 ...  11.826  12.110   4.5833  -0.458\n",
       "    HZ21 183.484  32.942          DO1 ...  14.848  15.132   74.303  -0.454\n",
       "    HZ43 199.091  29.099  DAwk+M3.5Ve ...  13.081  13.352   14.515  -0.447\n",
       "     ...     ...     ...          ... ...     ...     ...      ...     ...\n",
       "HD031128  73.041 -27.064       F3/5Vw ...   8.703   8.397  0.44345   0.720\n",
       "HD205905 324.792 -27.307     G1.5IV-V ...   6.278   5.976 0.048936   0.748\n",
       "HD106252 183.373  10.042           G0 ...   6.957   6.653 0.091453   0.750\n",
       "HD159222 263.004  34.271          G1V ...   6.053   5.747 0.040073   0.760\n",
       "HD111980 193.313 -18.522          F7V ...   7.921   7.598  0.22044   0.761\n",
       " HD37962  85.217 -31.351          G2V ...   7.360   7.034  0.13509   0.792\n",
       "HD185975 307.078 -87.472          G3V ...   7.600   7.268  0.17141   0.817\n",
       "HD200654 316.645 -49.964         CEMP ...   8.542   8.125  0.42821   0.954\n",
       "    FLAT   0.000   0.000         flat ...   9.501   9.001        1   0.999\n",
       "HD009051  22.194 -24.340   G6/8IIIwF5 ...   8.301   7.829  0.37066   1.093"
      ]
     },
     "execution_count": 63,
     "metadata": {},
     "output_type": "execute_result"
    }
   ],
   "source": [
    "t=GetListOfCalspec()\n",
    "t"
   ]
  },
  {
   "cell_type": "code",
   "execution_count": 64,
   "metadata": {},
   "outputs": [],
   "source": [
    "t_sel=SelectFewSED(t)"
   ]
  },
  {
   "cell_type": "code",
   "execution_count": 65,
   "metadata": {},
   "outputs": [
    {
     "data": {
      "text/html": [
       "<i>Table length=8</i>\n",
       "<table id=\"table140614720252272\" class=\"table-striped table-bordered table-condensed\">\n",
       "<thead><tr><th>OBJNAME</th><th>RA</th><th>DEC</th><th>SP_TYPE</th><th>SP_QUAL</th><th>magU</th><th>magB</th><th>magV</th><th>magR</th><th>magI</th><th>FILES</th><th>calcU</th><th>calcB</th><th>calcV</th><th>calcR</th><th>calcI</th><th>factor</th><th>VmI</th></tr></thead>\n",
       "<thead><tr><th>bytes10</th><th>float64</th><th>float64</th><th>bytes12</th><th>bytes1</th><th>float64</th><th>float32</th><th>float64</th><th>float64</th><th>float64</th><th>bytes27</th><th>float64</th><th>float64</th><th>float64</th><th>float64</th><th>float64</th><th>float64</th><th>float64</th></tr></thead>\n",
       "<tr><td>NGC7293</td><td>337.411</td><td>-20.837</td><td>DAO.5</td><td>C</td><td>11.894</td><td>13.158</td><td>13.524</td><td>13.689</td><td>13.898</td><td>ngc7293_005.fits</td><td>11.917</td><td>13.180</td><td>13.538</td><td>13.734</td><td>14.234</td><td>26.01</td><td>-0.697</td></tr>\n",
       "<tr><td>G93-48</td><td>328.106</td><td>2.389</td><td>DA2.8</td><td>C</td><td>11.942</td><td>12.732</td><td>12.743</td><td>12.839</td><td>12.938</td><td>g93_48_004.fits</td><td>11.982</td><td>12.717</td><td>12.728</td><td>12.836</td><td>13.234</td><td>12.34</td><td>-0.506</td></tr>\n",
       "<tr><td>HZ4</td><td>58.842</td><td>9.788</td><td>DA3.4</td><td>C</td><td>13.917</td><td>14.592</td><td>14.506</td><td>14.580</td><td>14.642</td><td>hz4_stis_005.fits</td><td>13.961</td><td>14.593</td><td>14.473</td><td>14.569</td><td>14.723</td><td>61.551</td><td>-0.250</td></tr>\n",
       "<tr><td>ALPHA_LYR</td><td>279.235</td><td>38.784</td><td>A0Va</td><td>C</td><td>0.030</td><td>0.030</td><td>0.030</td><td>0.070</td><td>0.100</td><td>alpha_lyr_stis_008.fits</td><td>0.021</td><td>0.017</td><td>0.009</td><td>0.000</td><td>-0.004</td><td>0.00010079</td><td>0.013</td></tr>\n",
       "<tr><td>HD163466</td><td>268.106</td><td>60.396</td><td>A2</td><td>E</td><td>100000000000000000000.000</td><td>7.040</td><td>6.850</td><td>100000000000000000000.000</td><td>100000000000000000000.000</td><td>hd163466_stis_004.fits</td><td>7.161</td><td>7.036</td><td>6.839</td><td>6.694</td><td>6.589</td><td>0.054409</td><td>0.251</td></tr>\n",
       "<tr><td>HD074000</td><td>130.212</td><td>-16.345</td><td>F2</td><td>D</td><td>9.840</td><td>10.090</td><td>9.660</td><td>100000000000000000000.000</td><td>100000000000000000000.000</td><td>hd074000_stis_003.fits</td><td>9.852</td><td>10.065</td><td>9.645</td><td>9.269</td><td>8.987</td><td>0.72107</td><td>0.658</td></tr>\n",
       "<tr><td>HD106252</td><td>183.373</td><td>10.042</td><td>G0</td><td>E</td><td>100000000000000000000.000</td><td>8.000</td><td>100000000000000000000.000</td><td>7.000</td><td>100000000000000000000.000</td><td>hd106252_stis_004.fits</td><td>8.117</td><td>8.020</td><td>7.403</td><td>6.957</td><td>6.653</td><td>0.091453</td><td>0.750</td></tr>\n",
       "<tr><td>FLAT</td><td>0.000</td><td>0.000</td><td>flat</td><td>0</td><td>9.721</td><td>10.369</td><td>10.000</td><td>9.501</td><td>9.001</td><td>flat</td><td>9.721</td><td>10.369</td><td>10.000</td><td>9.501</td><td>9.001</td><td>1</td><td>0.999</td></tr>\n",
       "</table>"
      ],
      "text/plain": [
       "<Table length=8>\n",
       " OBJNAME     RA     DEC   SP_TYPE SP_QUAL ...  calcR   calcI    factor     VmI  \n",
       " bytes10  float64 float64 bytes12  bytes1 ... float64 float64  float64   float64\n",
       "--------- ------- ------- ------- ------- ... ------- ------- ---------- -------\n",
       "  NGC7293 337.411 -20.837   DAO.5       C ...  13.734  14.234      26.01  -0.697\n",
       "   G93-48 328.106   2.389   DA2.8       C ...  12.836  13.234      12.34  -0.506\n",
       "      HZ4  58.842   9.788   DA3.4       C ...  14.569  14.723     61.551  -0.250\n",
       "ALPHA_LYR 279.235  38.784    A0Va       C ...   0.000  -0.004 0.00010079   0.013\n",
       " HD163466 268.106  60.396      A2       E ...   6.694   6.589   0.054409   0.251\n",
       " HD074000 130.212 -16.345      F2       D ...   9.269   8.987    0.72107   0.658\n",
       " HD106252 183.373  10.042      G0       E ...   6.957   6.653   0.091453   0.750\n",
       "     FLAT   0.000   0.000    flat       0 ...   9.501   9.001          1   0.999"
      ]
     },
     "execution_count": 65,
     "metadata": {},
     "output_type": "execute_result"
    }
   ],
   "source": [
    "t_sel"
   ]
  },
  {
   "cell_type": "code",
   "execution_count": 66,
   "metadata": {},
   "outputs": [
    {
     "data": {
      "text/html": [
       "<i>Table length=1</i>\n",
       "<table id=\"table140614724885232\" class=\"table-striped table-bordered table-condensed\">\n",
       "<thead><tr><th>OBJNAME</th><th>RA</th><th>DEC</th><th>SP_TYPE</th><th>SP_QUAL</th><th>magU</th><th>magB</th><th>magV</th><th>magR</th><th>magI</th><th>FILES</th><th>calcU</th><th>calcB</th><th>calcV</th><th>calcR</th><th>calcI</th><th>factor</th><th>VmI</th></tr></thead>\n",
       "<thead><tr><th>bytes10</th><th>float64</th><th>float64</th><th>bytes12</th><th>bytes1</th><th>float64</th><th>float32</th><th>float64</th><th>float64</th><th>float64</th><th>bytes27</th><th>float64</th><th>float64</th><th>float64</th><th>float64</th><th>float64</th><th>float64</th><th>float64</th></tr></thead>\n",
       "<tr><td>ALPHA_LYR</td><td>279.235</td><td>38.784</td><td>A0Va</td><td>C</td><td>0.030</td><td>0.030</td><td>0.030</td><td>0.070</td><td>0.100</td><td>alpha_lyr_stis_008.fits</td><td>0.021</td><td>0.017</td><td>0.009</td><td>0.000</td><td>-0.004</td><td>0.00010079</td><td>0.013</td></tr>\n",
       "</table>"
      ],
      "text/plain": [
       "<Table length=1>\n",
       " OBJNAME     RA     DEC   SP_TYPE SP_QUAL ...  calcR   calcI    factor     VmI  \n",
       " bytes10  float64 float64 bytes12  bytes1 ... float64 float64  float64   float64\n",
       "--------- ------- ------- ------- ------- ... ------- ------- ---------- -------\n",
       "ALPHA_LYR 279.235  38.784    A0Va       C ...   0.000  -0.004 0.00010079   0.013"
      ]
     },
     "execution_count": 66,
     "metadata": {},
     "output_type": "execute_result"
    }
   ],
   "source": [
    "t_sel=t[t[\"OBJNAME\"] == SEDNAME]\n",
    "t_sel"
   ]
  },
  {
   "cell_type": "markdown",
   "metadata": {},
   "source": [
    "### Show examples of SED to use"
   ]
  },
  {
   "cell_type": "code",
   "execution_count": 67,
   "metadata": {},
   "outputs": [
    {
     "name": "stdout",
     "output_type": "stream",
     "text": [
      "filename =  alpha_lyr_stis_008.fits fullfilename =  /Users/dagoret/MacOSX/External/PySynPhotData/grp/hst/cdbs/calspec/alpha_lyr_stis_008.fits\n"
     ]
    },
    {
     "name": "stderr",
     "output_type": "stream",
     "text": [
      "WARNING: VerifyWarning: Invalid keyword for column 1: Column disp option (TDISPn) failed verification: Format 26A is not recognized. The invalid value will be ignored for the purpose of formatting the data in this column. [astropy.io.fits.column]\n",
      "2021-12-23 15:49:27,078 MacBook-Pro-de-admin.local astropy[42783] WARNING VerifyWarning: Invalid keyword for column 1: Column disp option (TDISPn) failed verification: Format 26A is not recognized. The invalid value will be ignored for the purpose of formatting the data in this column.\n",
      "WARNING: VerifyWarning: Invalid keyword for column 2: Column disp option (TDISPn) failed verification: Format 18A is not recognized. The invalid value will be ignored for the purpose of formatting the data in this column. [astropy.io.fits.column]\n",
      "2021-12-23 15:49:27,084 MacBook-Pro-de-admin.local astropy[42783] WARNING VerifyWarning: Invalid keyword for column 2: Column disp option (TDISPn) failed verification: Format 18A is not recognized. The invalid value will be ignored for the purpose of formatting the data in this column.\n",
      "WARNING: VerifyWarning: Invalid keyword for column 3: Column disp option (TDISPn) failed verification: Format 56A is not recognized. The invalid value will be ignored for the purpose of formatting the data in this column. [astropy.io.fits.column]\n",
      "2021-12-23 15:49:27,091 MacBook-Pro-de-admin.local astropy[42783] WARNING VerifyWarning: Invalid keyword for column 3: Column disp option (TDISPn) failed verification: Format 56A is not recognized. The invalid value will be ignored for the purpose of formatting the data in this column.\n",
      "WARNING: VerifyWarning: Invalid keyword for column 4: Column disp option (TDISPn) failed verification: Format 68A is not recognized. The invalid value will be ignored for the purpose of formatting the data in this column. [astropy.io.fits.column]\n",
      "2021-12-23 15:49:27,096 MacBook-Pro-de-admin.local astropy[42783] WARNING VerifyWarning: Invalid keyword for column 4: Column disp option (TDISPn) failed verification: Format 68A is not recognized. The invalid value will be ignored for the purpose of formatting the data in this column.\n"
     ]
    },
    {
     "data": {
      "image/png": "[encoded data removed]",
      "text/plain": [
       "<Figure size 720x360 with 1 Axes>"
      ]
     },
     "metadata": {
      "needs_background": "light"
     },
     "output_type": "display_data"
    }
   ],
   "source": [
    "if FLAG_PLOT:\n",
    "    fig=plt.figure(figsize=(10,5))\n",
    "    ax=fig.add_subplot(111)\n",
    "    plot_sed(t_sel,ax)\n",
    "    plt.show()"
   ]
  },
  {
   "cell_type": "markdown",
   "metadata": {},
   "source": [
    "### Extract a row as a table"
   ]
  },
  {
   "cell_type": "code",
   "execution_count": 68,
   "metadata": {},
   "outputs": [
    {
     "data": {
      "text/html": [
       "<i>Row index=0</i>\n",
       "<table id=\"table140614724885232\">\n",
       "<thead><tr><th>OBJNAME</th><th>RA</th><th>DEC</th><th>SP_TYPE</th><th>SP_QUAL</th><th>magU</th><th>magB</th><th>magV</th><th>magR</th><th>magI</th><th>FILES</th><th>calcU</th><th>calcB</th><th>calcV</th><th>calcR</th><th>calcI</th><th>factor</th><th>VmI</th></tr></thead>\n",
       "<thead><tr><th>bytes10</th><th>float64</th><th>float64</th><th>bytes12</th><th>bytes1</th><th>float64</th><th>float32</th><th>float64</th><th>float64</th><th>float64</th><th>bytes27</th><th>float64</th><th>float64</th><th>float64</th><th>float64</th><th>float64</th><th>float64</th><th>float64</th></tr></thead>\n",
       "<tr><td>ALPHA_LYR</td><td>279.235</td><td>38.784</td><td>A0Va</td><td>C</td><td>0.030</td><td>0.030</td><td>0.030</td><td>0.070</td><td>0.100</td><td>alpha_lyr_stis_008.fits</td><td>0.021</td><td>0.017</td><td>0.009</td><td>0.000</td><td>-0.004</td><td>0.00010079</td><td>0.013</td></tr>\n",
       "</table>"
      ],
      "text/plain": [
       "<Row index=0>\n",
       " OBJNAME     RA     DEC   SP_TYPE SP_QUAL   magU    magB    magV    magR    magI           FILES           calcU   calcB   calcV   calcR   calcI    factor     VmI  \n",
       " bytes10  float64 float64 bytes12  bytes1 float64 float32 float64 float64 float64         bytes27         float64 float64 float64 float64 float64  float64   float64\n",
       "--------- ------- ------- ------- ------- ------- ------- ------- ------- ------- ----------------------- ------- ------- ------- ------- ------- ---------- -------\n",
       "ALPHA_LYR 279.235  38.784    A0Va       C   0.030   0.030   0.030   0.070   0.100 alpha_lyr_stis_008.fits   0.021   0.017   0.009   0.000  -0.004 0.00010079   0.013"
      ]
     },
     "execution_count": 68,
     "metadata": {},
     "output_type": "execute_result"
    }
   ],
   "source": [
    "# Extract SED\n",
    "t_row = t_sel[0]\n",
    "t_row"
   ]
  },
  {
   "cell_type": "code",
   "execution_count": 69,
   "metadata": {},
   "outputs": [],
   "source": [
    "# create the astropy table with the format of the table row above\n",
    "t_table=Table(names=t_row.colnames)"
   ]
  },
  {
   "cell_type": "code",
   "execution_count": 70,
   "metadata": {},
   "outputs": [
    {
     "data": {
      "text/html": [
       "<i>Table length=0</i>\n",
       "<table id=\"table140614693711776\" class=\"table-striped table-bordered table-condensed\">\n",
       "<thead><tr><th>OBJNAME</th><th>RA</th><th>DEC</th><th>SP_TYPE</th><th>SP_QUAL</th><th>magU</th><th>magB</th><th>magV</th><th>magR</th><th>magI</th><th>FILES</th><th>calcU</th><th>calcB</th><th>calcV</th><th>calcR</th><th>calcI</th><th>factor</th><th>VmI</th></tr></thead>\n",
       "<thead><tr><th>float64</th><th>float64</th><th>float64</th><th>float64</th><th>float64</th><th>float64</th><th>float64</th><th>float64</th><th>float64</th><th>float64</th><th>float64</th><th>float64</th><th>float64</th><th>float64</th><th>float64</th><th>float64</th><th>float64</th><th>float64</th></tr></thead>\n",
       "</table>"
      ],
      "text/plain": [
       "<Table length=0>\n",
       "OBJNAME    RA     DEC   SP_TYPE SP_QUAL ...  calcR   calcI   factor   VmI  \n",
       "float64 float64 float64 float64 float64 ... float64 float64 float64 float64\n",
       "------- ------- ------- ------- ------- ... ------- ------- ------- -------"
      ]
     },
     "execution_count": 70,
     "metadata": {},
     "output_type": "execute_result"
    }
   ],
   "source": [
    "t_table"
   ]
  },
  {
   "cell_type": "code",
   "execution_count": 71,
   "metadata": {},
   "outputs": [],
   "source": [
    "# create the new table from the vega row\n",
    "t_table=Table(t_row)"
   ]
  },
  {
   "cell_type": "code",
   "execution_count": 72,
   "metadata": {},
   "outputs": [
    {
     "data": {
      "text/html": [
       "<i>Table length=1</i>\n",
       "<table id=\"table140614724438480\" class=\"table-striped table-bordered table-condensed\">\n",
       "<thead><tr><th>OBJNAME</th><th>RA</th><th>DEC</th><th>SP_TYPE</th><th>SP_QUAL</th><th>magU</th><th>magB</th><th>magV</th><th>magR</th><th>magI</th><th>FILES</th><th>calcU</th><th>calcB</th><th>calcV</th><th>calcR</th><th>calcI</th><th>factor</th><th>VmI</th></tr></thead>\n",
       "<thead><tr><th>bytes10</th><th>float64</th><th>float64</th><th>bytes12</th><th>bytes1</th><th>float64</th><th>float32</th><th>float64</th><th>float64</th><th>float64</th><th>bytes27</th><th>float64</th><th>float64</th><th>float64</th><th>float64</th><th>float64</th><th>float64</th><th>float64</th></tr></thead>\n",
       "<tr><td>ALPHA_LYR</td><td>279.235</td><td>38.784</td><td>A0Va</td><td>C</td><td>0.030</td><td>0.030</td><td>0.030</td><td>0.070</td><td>0.100</td><td>alpha_lyr_stis_008.fits</td><td>0.021</td><td>0.017</td><td>0.009</td><td>0.000</td><td>-0.004</td><td>0.00010079</td><td>0.013</td></tr>\n",
       "</table>"
      ],
      "text/plain": [
       "<Table length=1>\n",
       " OBJNAME     RA     DEC   SP_TYPE SP_QUAL ...  calcR   calcI    factor     VmI  \n",
       " bytes10  float64 float64 bytes12  bytes1 ... float64 float64  float64   float64\n",
       "--------- ------- ------- ------- ------- ... ------- ------- ---------- -------\n",
       "ALPHA_LYR 279.235  38.784    A0Va       C ...   0.000  -0.004 0.00010079   0.013"
      ]
     },
     "execution_count": 72,
     "metadata": {},
     "output_type": "execute_result"
    }
   ],
   "source": [
    "t_table"
   ]
  },
  {
   "cell_type": "code",
   "execution_count": 73,
   "metadata": {},
   "outputs": [
    {
     "name": "stdout",
     "output_type": "stream",
     "text": [
      "filename =  alpha_lyr_stis_008.fits fullfilename =  /Users/dagoret/MacOSX/External/PySynPhotData/grp/hst/cdbs/calspec/alpha_lyr_stis_008.fits\n"
     ]
    },
    {
     "data": {
      "image/png": "[encoded data removed]",
      "text/plain": [
       "<Figure size 720x360 with 1 Axes>"
      ]
     },
     "metadata": {
      "needs_background": "light"
     },
     "output_type": "display_data"
    }
   ],
   "source": [
    "if FLAG_PLOT:\n",
    "    fig=plt.figure(figsize=(10,5))\n",
    "    ax=fig.add_subplot(111)\n",
    "    plot_sed(t_table,ax)\n",
    "    plt.show()"
   ]
  },
  {
   "cell_type": "markdown",
   "metadata": {},
   "source": [
    "### Get the Spectrum"
   ]
  },
  {
   "cell_type": "code",
   "execution_count": 74,
   "metadata": {},
   "outputs": [],
   "source": [
    "sed_filename=t_sel[0][\"FILES\"]\n",
    "sed_objname=t_sel[0][\"OBJNAME\"]\n",
    "sed_fullfilename=os.path.join(path_sed_calspec,sed_filename)"
   ]
  },
  {
   "cell_type": "code",
   "execution_count": 75,
   "metadata": {},
   "outputs": [],
   "source": [
    "if sed_filename==\"flat\":\n",
    "    flatsp = S.FlatSpectrum(20, fluxunits='photlam')\n",
    "    spec=flatsp\n",
    "else:\n",
    "    spec=S.FileSpectrum(sed_fullfilename)\n",
    "    \n",
    "if FLAG_RENORM:         \n",
    "    spec_norm = spec.renorm(MAGNORM, 'vegamag', S.ObsBandpass('johnson,v'))\n",
    "else:\n",
    "    spec_norm =spec\n",
    "    \n",
    "spec_norm.convert('photlam')"
   ]
  },
  {
   "cell_type": "code",
   "execution_count": 76,
   "metadata": {},
   "outputs": [
    {
     "data": {
      "image/png": "[encoded data removed]",
      "text/plain": [
       "<Figure size 720x360 with 1 Axes>"
      ]
     },
     "metadata": {
      "needs_background": "light"
     },
     "output_type": "display_data"
    }
   ],
   "source": [
    "if FLAG_PLOT:\n",
    "    fig=plt.figure(figsize=(10,5))\n",
    "    ax=fig.add_subplot(111)\n",
    "    ax.plot(spec_norm.wave,spec_norm.flux)\n",
    "    ax.set_ylabel(spec_norm.fluxunits)\n",
    "    ax.set_xlabel(spec_norm.waveunits)\n",
    "    ax.set_xlim(3000,11000)\n",
    "    plt.show()"
   ]
  },
  {
   "cell_type": "code",
   "execution_count": 77,
   "metadata": {},
   "outputs": [
    {
     "name": "stdout",
     "output_type": "stream",
     "text": [
      "graphtable: /Users/dagoret/MacOSX/External/PySynPhotData/grp/hst/cdbs/mtab/14l1632sm_tmg.fits\n",
      " comptable: /Users/dagoret/MacOSX/External/PySynPhotData/grp/hst/cdbs/mtab/16n1832tm_tmc.fits\n",
      "thermtable: /Users/dagoret/MacOSX/External/PySynPhotData/grp/hst/cdbs/mtab/tae17277m_tmt.fits\n",
      "      area: 324015.4546769212\n",
      "   waveset: Min: 3000.0, Max: 11000.0, Num: None, Delta: 1.0, Log: False\n"
     ]
    }
   ],
   "source": [
    "S.refs.showref()"
   ]
  },
  {
   "cell_type": "code",
   "execution_count": null,
   "metadata": {},
   "outputs": [
    {
     "name": "stdout",
     "output_type": "stream",
     "text": [
      "((u * atm0)) does not have a defined binset in the wavecat table. The waveset of the spectrum will be used instead.\n",
      "((u * atm1)) does not have a defined binset in the wavecat table. The waveset of the spectrum will be used instead.\n",
      "((u * atm2)) does not have a defined binset in the wavecat table. The waveset of the spectrum will be used instead.\n",
      "((u * atm3)) does not have a defined binset in the wavecat table. The waveset of the spectrum will be used instead.\n",
      "((u * atm4)) does not have a defined binset in the wavecat table. The waveset of the spectrum will be used instead.\n",
      "((u * atm5)) does not have a defined binset in the wavecat table. The waveset of the spectrum will be used instead.\n",
      "((u * atm6)) does not have a defined binset in the wavecat table. The waveset of the spectrum will be used instead.\n",
      "((u * atm7)) does not have a defined binset in the wavecat table. The waveset of the spectrum will be used instead.\n",
      "((u * atm8)) does not have a defined binset in the wavecat table. The waveset of the spectrum will be used instead.\n",
      "((u * atm9)) does not have a defined binset in the wavecat table. The waveset of the spectrum will be used instead.\n",
      "((u * atm10)) does not have a defined binset in the wavecat table. The waveset of the spectrum will be used instead.\n",
      "((u * atm11)) does not have a defined binset in the wavecat table. The waveset of the spectrum will be used instead.\n",
      "((u * atm12)) does not have a defined binset in the wavecat table. The waveset of the spectrum will be used instead.\n",
      "((u * atm13)) does not have a defined binset in the wavecat table. The waveset of the spectrum will be used instead.\n",
      "((u * atm14)) does not have a defined binset in the wavecat table. The waveset of the spectrum will be used instead.\n",
      "((u * atm15)) does not have a defined binset in the wavecat table. The waveset of the spectrum will be used instead.\n",
      "((u * atm16)) does not have a defined binset in the wavecat table. The waveset of the spectrum will be used instead.\n",
      "((u * atm17)) does not have a defined binset in the wavecat table. The waveset of the spectrum will be used instead.\n",
      "((u * atm18)) does not have a defined binset in the wavecat table. The waveset of the spectrum will be used instead.\n",
      "((u * atm19)) does not have a defined binset in the wavecat table. The waveset of the spectrum will be used instead.\n",
      "((u * atm20)) does not have a defined binset in the wavecat table. The waveset of the spectrum will be used instead.\n",
      "((u * atm21)) does not have a defined binset in the wavecat table. The waveset of the spectrum will be used instead.\n",
      "((u * atm22)) does not have a defined binset in the wavecat table. The waveset of the spectrum will be used instead.\n",
      "((u * atm23)) does not have a defined binset in the wavecat table. The waveset of the spectrum will be used instead.\n",
      "((u * atm24)) does not have a defined binset in the wavecat table. The waveset of the spectrum will be used instead.\n",
      "((u * atm25)) does not have a defined binset in the wavecat table. The waveset of the spectrum will be used instead.\n",
      "((u * atm26)) does not have a defined binset in the wavecat table. The waveset of the spectrum will be used instead.\n",
      "((u * atm27)) does not have a defined binset in the wavecat table. The waveset of the spectrum will be used instead.\n",
      "((u * atm28)) does not have a defined binset in the wavecat table. The waveset of the spectrum will be used instead.\n",
      "((u * atm29)) does not have a defined binset in the wavecat table. The waveset of the spectrum will be used instead.\n",
      "((u * atm30)) does not have a defined binset in the wavecat table. The waveset of the spectrum will be used instead.\n",
      "((u * atm31)) does not have a defined binset in the wavecat table. The waveset of the spectrum will be used instead.\n",
      "((u * atm32)) does not have a defined binset in the wavecat table. The waveset of the spectrum will be used instead.\n",
      "((u * atm33)) does not have a defined binset in the wavecat table. The waveset of the spectrum will be used instead.\n",
      "((u * atm34)) does not have a defined binset in the wavecat table. The waveset of the spectrum will be used instead.\n",
      "((u * atm35)) does not have a defined binset in the wavecat table. The waveset of the spectrum will be used instead.\n",
      "((u * atm36)) does not have a defined binset in the wavecat table. The waveset of the spectrum will be used instead.\n",
      "((u * atm37)) does not have a defined binset in the wavecat table. The waveset of the spectrum will be used instead.\n",
      "((u * atm38)) does not have a defined binset in the wavecat table. The waveset of the spectrum will be used instead.\n",
      "((u * atm39)) does not have a defined binset in the wavecat table. The waveset of the spectrum will be used instead.\n",
      "((u * atm40)) does not have a defined binset in the wavecat table. The waveset of the spectrum will be used instead.\n",
      "((u * atm41)) does not have a defined binset in the wavecat table. The waveset of the spectrum will be used instead.\n",
      "((u * atm42)) does not have a defined binset in the wavecat table. The waveset of the spectrum will be used instead.\n",
      "((u * atm43)) does not have a defined binset in the wavecat table. The waveset of the spectrum will be used instead.\n",
      "((u * atm44)) does not have a defined binset in the wavecat table. The waveset of the spectrum will be used instead.\n",
      "((u * atm45)) does not have a defined binset in the wavecat table. The waveset of the spectrum will be used instead.\n",
      "((u * atm46)) does not have a defined binset in the wavecat table. The waveset of the spectrum will be used instead.\n",
      "((u * atm47)) does not have a defined binset in the wavecat table. The waveset of the spectrum will be used instead.\n",
      "((u * atm48)) does not have a defined binset in the wavecat table. The waveset of the spectrum will be used instead.\n",
      "((u * atm49)) does not have a defined binset in the wavecat table. The waveset of the spectrum will be used instead.\n",
      "((u * atm50)) does not have a defined binset in the wavecat table. The waveset of the spectrum will be used instead.\n",
      "((u * atm51)) does not have a defined binset in the wavecat table. The waveset of the spectrum will be used instead.\n",
      "((u * atm52)) does not have a defined binset in the wavecat table. The waveset of the spectrum will be used instead.\n",
      "((u * atm53)) does not have a defined binset in the wavecat table. The waveset of the spectrum will be used instead.\n",
      "((u * atm54)) does not have a defined binset in the wavecat table. The waveset of the spectrum will be used instead.\n",
      "((u * atm55)) does not have a defined binset in the wavecat table. The waveset of the spectrum will be used instead.\n",
      "((u * atm56)) does not have a defined binset in the wavecat table. The waveset of the spectrum will be used instead.\n",
      "((u * atm57)) does not have a defined binset in the wavecat table. The waveset of the spectrum will be used instead.\n",
      "((u * atm58)) does not have a defined binset in the wavecat table. The waveset of the spectrum will be used instead.\n",
      "((u * atm59)) does not have a defined binset in the wavecat table. The waveset of the spectrum will be used instead.\n",
      "((u * atm60)) does not have a defined binset in the wavecat table. The waveset of the spectrum will be used instead.\n",
      "((u * atm61)) does not have a defined binset in the wavecat table. The waveset of the spectrum will be used instead.\n",
      "((u * atm62)) does not have a defined binset in the wavecat table. The waveset of the spectrum will be used instead.\n",
      "((u * atm63)) does not have a defined binset in the wavecat table. The waveset of the spectrum will be used instead.\n",
      "((u * atm64)) does not have a defined binset in the wavecat table. The waveset of the spectrum will be used instead.\n",
      "((u * atm65)) does not have a defined binset in the wavecat table. The waveset of the spectrum will be used instead.\n",
      "((u * atm66)) does not have a defined binset in the wavecat table. The waveset of the spectrum will be used instead.\n",
      "((u * atm67)) does not have a defined binset in the wavecat table. The waveset of the spectrum will be used instead.\n",
      "((u * atm68)) does not have a defined binset in the wavecat table. The waveset of the spectrum will be used instead.\n",
      "((u * atm69)) does not have a defined binset in the wavecat table. The waveset of the spectrum will be used instead.\n"
     ]
    },
    {
     "name": "stdout",
     "output_type": "stream",
     "text": [
      "((u * atm70)) does not have a defined binset in the wavecat table. The waveset of the spectrum will be used instead.\n",
      "((u * atm71)) does not have a defined binset in the wavecat table. The waveset of the spectrum will be used instead.\n",
      "((u * atm72)) does not have a defined binset in the wavecat table. The waveset of the spectrum will be used instead.\n",
      "((u * atm73)) does not have a defined binset in the wavecat table. The waveset of the spectrum will be used instead.\n",
      "((u * atm74)) does not have a defined binset in the wavecat table. The waveset of the spectrum will be used instead.\n",
      "((u * atm75)) does not have a defined binset in the wavecat table. The waveset of the spectrum will be used instead.\n",
      "((u * atm76)) does not have a defined binset in the wavecat table. The waveset of the spectrum will be used instead.\n",
      "((u * atm77)) does not have a defined binset in the wavecat table. The waveset of the spectrum will be used instead.\n",
      "((u * atm78)) does not have a defined binset in the wavecat table. The waveset of the spectrum will be used instead.\n",
      "((u * atm79)) does not have a defined binset in the wavecat table. The waveset of the spectrum will be used instead.\n",
      "((u * atm80)) does not have a defined binset in the wavecat table. The waveset of the spectrum will be used instead.\n",
      "((u * atm81)) does not have a defined binset in the wavecat table. The waveset of the spectrum will be used instead.\n",
      "((u * atm82)) does not have a defined binset in the wavecat table. The waveset of the spectrum will be used instead.\n",
      "((u * atm83)) does not have a defined binset in the wavecat table. The waveset of the spectrum will be used instead.\n",
      "((u * atm84)) does not have a defined binset in the wavecat table. The waveset of the spectrum will be used instead.\n",
      "((u * atm85)) does not have a defined binset in the wavecat table. The waveset of the spectrum will be used instead.\n",
      "((u * atm86)) does not have a defined binset in the wavecat table. The waveset of the spectrum will be used instead.\n",
      "((u * atm87)) does not have a defined binset in the wavecat table. The waveset of the spectrum will be used instead.\n",
      "((u * atm88)) does not have a defined binset in the wavecat table. The waveset of the spectrum will be used instead.\n",
      "((u * atm89)) does not have a defined binset in the wavecat table. The waveset of the spectrum will be used instead.\n",
      "((u * atm90)) does not have a defined binset in the wavecat table. The waveset of the spectrum will be used instead.\n",
      "((u * atm91)) does not have a defined binset in the wavecat table. The waveset of the spectrum will be used instead.\n",
      "((u * atm92)) does not have a defined binset in the wavecat table. The waveset of the spectrum will be used instead.\n",
      "((u * atm93)) does not have a defined binset in the wavecat table. The waveset of the spectrum will be used instead.\n",
      "((u * atm94)) does not have a defined binset in the wavecat table. The waveset of the spectrum will be used instead.\n",
      "((u * atm95)) does not have a defined binset in the wavecat table. The waveset of the spectrum will be used instead.\n",
      "((u * atm96)) does not have a defined binset in the wavecat table. The waveset of the spectrum will be used instead.\n",
      "((u * atm97)) does not have a defined binset in the wavecat table. The waveset of the spectrum will be used instead.\n",
      "((u * atm98)) does not have a defined binset in the wavecat table. The waveset of the spectrum will be used instead.\n",
      "((u * atm99)) does not have a defined binset in the wavecat table. The waveset of the spectrum will be used instead.\n",
      "((g * atm0)) does not have a defined binset in the wavecat table. The waveset of the spectrum will be used instead.\n",
      "((g * atm1)) does not have a defined binset in the wavecat table. The waveset of the spectrum will be used instead.\n",
      "((g * atm2)) does not have a defined binset in the wavecat table. The waveset of the spectrum will be used instead.\n",
      "((g * atm3)) does not have a defined binset in the wavecat table. The waveset of the spectrum will be used instead.\n",
      "((g * atm4)) does not have a defined binset in the wavecat table. The waveset of the spectrum will be used instead.\n",
      "((g * atm5)) does not have a defined binset in the wavecat table. The waveset of the spectrum will be used instead.\n",
      "((g * atm6)) does not have a defined binset in the wavecat table. The waveset of the spectrum will be used instead.\n",
      "((g * atm7)) does not have a defined binset in the wavecat table. The waveset of the spectrum will be used instead.\n",
      "((g * atm8)) does not have a defined binset in the wavecat table. The waveset of the spectrum will be used instead.\n",
      "((g * atm9)) does not have a defined binset in the wavecat table. The waveset of the spectrum will be used instead.\n",
      "((g * atm10)) does not have a defined binset in the wavecat table. The waveset of the spectrum will be used instead.\n",
      "((g * atm11)) does not have a defined binset in the wavecat table. The waveset of the spectrum will be used instead.\n",
      "((g * atm12)) does not have a defined binset in the wavecat table. The waveset of the spectrum will be used instead.\n",
      "((g * atm13)) does not have a defined binset in the wavecat table. The waveset of the spectrum will be used instead.\n",
      "((g * atm14)) does not have a defined binset in the wavecat table. The waveset of the spectrum will be used instead.\n",
      "((g * atm15)) does not have a defined binset in the wavecat table. The waveset of the spectrum will be used instead.\n",
      "((g * atm16)) does not have a defined binset in the wavecat table. The waveset of the spectrum will be used instead.\n",
      "((g * atm17)) does not have a defined binset in the wavecat table. The waveset of the spectrum will be used instead.\n",
      "((g * atm18)) does not have a defined binset in the wavecat table. The waveset of the spectrum will be used instead.\n",
      "((g * atm19)) does not have a defined binset in the wavecat table. The waveset of the spectrum will be used instead.\n",
      "((g * atm20)) does not have a defined binset in the wavecat table. The waveset of the spectrum will be used instead.\n",
      "((g * atm21)) does not have a defined binset in the wavecat table. The waveset of the spectrum will be used instead.\n",
      "((g * atm22)) does not have a defined binset in the wavecat table. The waveset of the spectrum will be used instead.\n",
      "((g * atm23)) does not have a defined binset in the wavecat table. The waveset of the spectrum will be used instead.\n",
      "((g * atm24)) does not have a defined binset in the wavecat table. The waveset of the spectrum will be used instead.\n",
      "((g * atm25)) does not have a defined binset in the wavecat table. The waveset of the spectrum will be used instead.\n",
      "((g * atm26)) does not have a defined binset in the wavecat table. The waveset of the spectrum will be used instead.\n",
      "((g * atm27)) does not have a defined binset in the wavecat table. The waveset of the spectrum will be used instead.\n",
      "((g * atm28)) does not have a defined binset in the wavecat table. The waveset of the spectrum will be used instead.\n",
      "((g * atm29)) does not have a defined binset in the wavecat table. The waveset of the spectrum will be used instead.\n",
      "((g * atm30)) does not have a defined binset in the wavecat table. The waveset of the spectrum will be used instead.\n",
      "((g * atm31)) does not have a defined binset in the wavecat table. The waveset of the spectrum will be used instead.\n",
      "((g * atm32)) does not have a defined binset in the wavecat table. The waveset of the spectrum will be used instead.\n",
      "((g * atm33)) does not have a defined binset in the wavecat table. The waveset of the spectrum will be used instead.\n",
      "((g * atm34)) does not have a defined binset in the wavecat table. The waveset of the spectrum will be used instead.\n",
      "((g * atm35)) does not have a defined binset in the wavecat table. The waveset of the spectrum will be used instead.\n",
      "((g * atm36)) does not have a defined binset in the wavecat table. The waveset of the spectrum will be used instead.\n",
      "((g * atm37)) does not have a defined binset in the wavecat table. The waveset of the spectrum will be used instead.\n",
      "((g * atm38)) does not have a defined binset in the wavecat table. The waveset of the spectrum will be used instead.\n",
      "((g * atm39)) does not have a defined binset in the wavecat table. The waveset of the spectrum will be used instead.\n"
     ]
    },
    {
     "name": "stdout",
     "output_type": "stream",
     "text": [
      "((g * atm40)) does not have a defined binset in the wavecat table. The waveset of the spectrum will be used instead.\n",
      "((g * atm41)) does not have a defined binset in the wavecat table. The waveset of the spectrum will be used instead.\n",
      "((g * atm42)) does not have a defined binset in the wavecat table. The waveset of the spectrum will be used instead.\n",
      "((g * atm43)) does not have a defined binset in the wavecat table. The waveset of the spectrum will be used instead.\n",
      "((g * atm44)) does not have a defined binset in the wavecat table. The waveset of the spectrum will be used instead.\n",
      "((g * atm45)) does not have a defined binset in the wavecat table. The waveset of the spectrum will be used instead.\n",
      "((g * atm46)) does not have a defined binset in the wavecat table. The waveset of the spectrum will be used instead.\n",
      "((g * atm47)) does not have a defined binset in the wavecat table. The waveset of the spectrum will be used instead.\n",
      "((g * atm48)) does not have a defined binset in the wavecat table. The waveset of the spectrum will be used instead.\n",
      "((g * atm49)) does not have a defined binset in the wavecat table. The waveset of the spectrum will be used instead.\n",
      "((g * atm50)) does not have a defined binset in the wavecat table. The waveset of the spectrum will be used instead.\n",
      "((g * atm51)) does not have a defined binset in the wavecat table. The waveset of the spectrum will be used instead.\n",
      "((g * atm52)) does not have a defined binset in the wavecat table. The waveset of the spectrum will be used instead.\n",
      "((g * atm53)) does not have a defined binset in the wavecat table. The waveset of the spectrum will be used instead.\n",
      "((g * atm54)) does not have a defined binset in the wavecat table. The waveset of the spectrum will be used instead.\n",
      "((g * atm55)) does not have a defined binset in the wavecat table. The waveset of the spectrum will be used instead.\n",
      "((g * atm56)) does not have a defined binset in the wavecat table. The waveset of the spectrum will be used instead.\n",
      "((g * atm57)) does not have a defined binset in the wavecat table. The waveset of the spectrum will be used instead.\n",
      "((g * atm58)) does not have a defined binset in the wavecat table. The waveset of the spectrum will be used instead.\n",
      "((g * atm59)) does not have a defined binset in the wavecat table. The waveset of the spectrum will be used instead.\n",
      "((g * atm60)) does not have a defined binset in the wavecat table. The waveset of the spectrum will be used instead.\n",
      "((g * atm61)) does not have a defined binset in the wavecat table. The waveset of the spectrum will be used instead.\n",
      "((g * atm62)) does not have a defined binset in the wavecat table. The waveset of the spectrum will be used instead.\n",
      "((g * atm63)) does not have a defined binset in the wavecat table. The waveset of the spectrum will be used instead.\n",
      "((g * atm64)) does not have a defined binset in the wavecat table. The waveset of the spectrum will be used instead.\n",
      "((g * atm65)) does not have a defined binset in the wavecat table. The waveset of the spectrum will be used instead.\n",
      "((g * atm66)) does not have a defined binset in the wavecat table. The waveset of the spectrum will be used instead.\n",
      "((g * atm67)) does not have a defined binset in the wavecat table. The waveset of the spectrum will be used instead.\n",
      "((g * atm68)) does not have a defined binset in the wavecat table. The waveset of the spectrum will be used instead.\n",
      "((g * atm69)) does not have a defined binset in the wavecat table. The waveset of the spectrum will be used instead.\n",
      "((g * atm70)) does not have a defined binset in the wavecat table. The waveset of the spectrum will be used instead.\n",
      "((g * atm71)) does not have a defined binset in the wavecat table. The waveset of the spectrum will be used instead.\n",
      "((g * atm72)) does not have a defined binset in the wavecat table. The waveset of the spectrum will be used instead.\n",
      "((g * atm73)) does not have a defined binset in the wavecat table. The waveset of the spectrum will be used instead.\n",
      "((g * atm74)) does not have a defined binset in the wavecat table. The waveset of the spectrum will be used instead.\n",
      "((g * atm75)) does not have a defined binset in the wavecat table. The waveset of the spectrum will be used instead.\n",
      "((g * atm76)) does not have a defined binset in the wavecat table. The waveset of the spectrum will be used instead.\n",
      "((g * atm77)) does not have a defined binset in the wavecat table. The waveset of the spectrum will be used instead.\n",
      "((g * atm78)) does not have a defined binset in the wavecat table. The waveset of the spectrum will be used instead.\n",
      "((g * atm79)) does not have a defined binset in the wavecat table. The waveset of the spectrum will be used instead.\n",
      "((g * atm80)) does not have a defined binset in the wavecat table. The waveset of the spectrum will be used instead.\n",
      "((g * atm81)) does not have a defined binset in the wavecat table. The waveset of the spectrum will be used instead.\n",
      "((g * atm82)) does not have a defined binset in the wavecat table. The waveset of the spectrum will be used instead.\n",
      "((g * atm83)) does not have a defined binset in the wavecat table. The waveset of the spectrum will be used instead.\n",
      "((g * atm84)) does not have a defined binset in the wavecat table. The waveset of the spectrum will be used instead.\n",
      "((g * atm85)) does not have a defined binset in the wavecat table. The waveset of the spectrum will be used instead.\n",
      "((g * atm86)) does not have a defined binset in the wavecat table. The waveset of the spectrum will be used instead.\n",
      "((g * atm87)) does not have a defined binset in the wavecat table. The waveset of the spectrum will be used instead.\n",
      "((g * atm88)) does not have a defined binset in the wavecat table. The waveset of the spectrum will be used instead.\n",
      "((g * atm89)) does not have a defined binset in the wavecat table. The waveset of the spectrum will be used instead.\n",
      "((g * atm90)) does not have a defined binset in the wavecat table. The waveset of the spectrum will be used instead.\n",
      "((g * atm91)) does not have a defined binset in the wavecat table. The waveset of the spectrum will be used instead.\n",
      "((g * atm92)) does not have a defined binset in the wavecat table. The waveset of the spectrum will be used instead.\n",
      "((g * atm93)) does not have a defined binset in the wavecat table. The waveset of the spectrum will be used instead.\n",
      "((g * atm94)) does not have a defined binset in the wavecat table. The waveset of the spectrum will be used instead.\n",
      "((g * atm95)) does not have a defined binset in the wavecat table. The waveset of the spectrum will be used instead.\n",
      "((g * atm96)) does not have a defined binset in the wavecat table. The waveset of the spectrum will be used instead.\n",
      "((g * atm97)) does not have a defined binset in the wavecat table. The waveset of the spectrum will be used instead.\n",
      "((g * atm98)) does not have a defined binset in the wavecat table. The waveset of the spectrum will be used instead.\n",
      "((g * atm99)) does not have a defined binset in the wavecat table. The waveset of the spectrum will be used instead.\n",
      "((r * atm0)) does not have a defined binset in the wavecat table. The waveset of the spectrum will be used instead.\n",
      "((r * atm1)) does not have a defined binset in the wavecat table. The waveset of the spectrum will be used instead.\n",
      "((r * atm2)) does not have a defined binset in the wavecat table. The waveset of the spectrum will be used instead.\n",
      "((r * atm3)) does not have a defined binset in the wavecat table. The waveset of the spectrum will be used instead.\n",
      "((r * atm4)) does not have a defined binset in the wavecat table. The waveset of the spectrum will be used instead.\n",
      "((r * atm5)) does not have a defined binset in the wavecat table. The waveset of the spectrum will be used instead.\n",
      "((r * atm6)) does not have a defined binset in the wavecat table. The waveset of the spectrum will be used instead.\n",
      "((r * atm7)) does not have a defined binset in the wavecat table. The waveset of the spectrum will be used instead.\n",
      "((r * atm8)) does not have a defined binset in the wavecat table. The waveset of the spectrum will be used instead.\n",
      "((r * atm9)) does not have a defined binset in the wavecat table. The waveset of the spectrum will be used instead.\n"
     ]
    },
    {
     "name": "stdout",
     "output_type": "stream",
     "text": [
      "((r * atm10)) does not have a defined binset in the wavecat table. The waveset of the spectrum will be used instead.\n",
      "((r * atm11)) does not have a defined binset in the wavecat table. The waveset of the spectrum will be used instead.\n",
      "((r * atm12)) does not have a defined binset in the wavecat table. The waveset of the spectrum will be used instead.\n",
      "((r * atm13)) does not have a defined binset in the wavecat table. The waveset of the spectrum will be used instead.\n",
      "((r * atm14)) does not have a defined binset in the wavecat table. The waveset of the spectrum will be used instead.\n",
      "((r * atm15)) does not have a defined binset in the wavecat table. The waveset of the spectrum will be used instead.\n",
      "((r * atm16)) does not have a defined binset in the wavecat table. The waveset of the spectrum will be used instead.\n",
      "((r * atm17)) does not have a defined binset in the wavecat table. The waveset of the spectrum will be used instead.\n",
      "((r * atm18)) does not have a defined binset in the wavecat table. The waveset of the spectrum will be used instead.\n",
      "((r * atm19)) does not have a defined binset in the wavecat table. The waveset of the spectrum will be used instead.\n",
      "((r * atm20)) does not have a defined binset in the wavecat table. The waveset of the spectrum will be used instead.\n",
      "((r * atm21)) does not have a defined binset in the wavecat table. The waveset of the spectrum will be used instead.\n",
      "((r * atm22)) does not have a defined binset in the wavecat table. The waveset of the spectrum will be used instead.\n",
      "((r * atm23)) does not have a defined binset in the wavecat table. The waveset of the spectrum will be used instead.\n",
      "((r * atm24)) does not have a defined binset in the wavecat table. The waveset of the spectrum will be used instead.\n",
      "((r * atm25)) does not have a defined binset in the wavecat table. The waveset of the spectrum will be used instead.\n",
      "((r * atm26)) does not have a defined binset in the wavecat table. The waveset of the spectrum will be used instead.\n",
      "((r * atm27)) does not have a defined binset in the wavecat table. The waveset of the spectrum will be used instead.\n",
      "((r * atm28)) does not have a defined binset in the wavecat table. The waveset of the spectrum will be used instead.\n",
      "((r * atm29)) does not have a defined binset in the wavecat table. The waveset of the spectrum will be used instead.\n",
      "((r * atm30)) does not have a defined binset in the wavecat table. The waveset of the spectrum will be used instead.\n",
      "((r * atm31)) does not have a defined binset in the wavecat table. The waveset of the spectrum will be used instead.\n",
      "((r * atm32)) does not have a defined binset in the wavecat table. The waveset of the spectrum will be used instead.\n",
      "((r * atm33)) does not have a defined binset in the wavecat table. The waveset of the spectrum will be used instead.\n",
      "((r * atm34)) does not have a defined binset in the wavecat table. The waveset of the spectrum will be used instead.\n",
      "((r * atm35)) does not have a defined binset in the wavecat table. The waveset of the spectrum will be used instead.\n",
      "((r * atm36)) does not have a defined binset in the wavecat table. The waveset of the spectrum will be used instead.\n",
      "((r * atm37)) does not have a defined binset in the wavecat table. The waveset of the spectrum will be used instead.\n",
      "((r * atm38)) does not have a defined binset in the wavecat table. The waveset of the spectrum will be used instead.\n",
      "((r * atm39)) does not have a defined binset in the wavecat table. The waveset of the spectrum will be used instead.\n",
      "((r * atm40)) does not have a defined binset in the wavecat table. The waveset of the spectrum will be used instead.\n",
      "((r * atm41)) does not have a defined binset in the wavecat table. The waveset of the spectrum will be used instead.\n",
      "((r * atm42)) does not have a defined binset in the wavecat table. The waveset of the spectrum will be used instead.\n",
      "((r * atm43)) does not have a defined binset in the wavecat table. The waveset of the spectrum will be used instead.\n",
      "((r * atm44)) does not have a defined binset in the wavecat table. The waveset of the spectrum will be used instead.\n",
      "((r * atm45)) does not have a defined binset in the wavecat table. The waveset of the spectrum will be used instead.\n",
      "((r * atm46)) does not have a defined binset in the wavecat table. The waveset of the spectrum will be used instead.\n",
      "((r * atm47)) does not have a defined binset in the wavecat table. The waveset of the spectrum will be used instead.\n",
      "((r * atm48)) does not have a defined binset in the wavecat table. The waveset of the spectrum will be used instead.\n",
      "((r * atm49)) does not have a defined binset in the wavecat table. The waveset of the spectrum will be used instead.\n",
      "((r * atm50)) does not have a defined binset in the wavecat table. The waveset of the spectrum will be used instead.\n",
      "((r * atm51)) does not have a defined binset in the wavecat table. The waveset of the spectrum will be used instead.\n",
      "((r * atm52)) does not have a defined binset in the wavecat table. The waveset of the spectrum will be used instead.\n",
      "((r * atm53)) does not have a defined binset in the wavecat table. The waveset of the spectrum will be used instead.\n",
      "((r * atm54)) does not have a defined binset in the wavecat table. The waveset of the spectrum will be used instead.\n",
      "((r * atm55)) does not have a defined binset in the wavecat table. The waveset of the spectrum will be used instead.\n",
      "((r * atm56)) does not have a defined binset in the wavecat table. The waveset of the spectrum will be used instead.\n",
      "((r * atm57)) does not have a defined binset in the wavecat table. The waveset of the spectrum will be used instead.\n",
      "((r * atm58)) does not have a defined binset in the wavecat table. The waveset of the spectrum will be used instead.\n",
      "((r * atm59)) does not have a defined binset in the wavecat table. The waveset of the spectrum will be used instead.\n",
      "((r * atm60)) does not have a defined binset in the wavecat table. The waveset of the spectrum will be used instead.\n",
      "((r * atm61)) does not have a defined binset in the wavecat table. The waveset of the spectrum will be used instead.\n",
      "((r * atm62)) does not have a defined binset in the wavecat table. The waveset of the spectrum will be used instead.\n",
      "((r * atm63)) does not have a defined binset in the wavecat table. The waveset of the spectrum will be used instead.\n",
      "((r * atm64)) does not have a defined binset in the wavecat table. The waveset of the spectrum will be used instead.\n",
      "((r * atm65)) does not have a defined binset in the wavecat table. The waveset of the spectrum will be used instead.\n",
      "((r * atm66)) does not have a defined binset in the wavecat table. The waveset of the spectrum will be used instead.\n",
      "((r * atm67)) does not have a defined binset in the wavecat table. The waveset of the spectrum will be used instead.\n",
      "((r * atm68)) does not have a defined binset in the wavecat table. The waveset of the spectrum will be used instead.\n",
      "((r * atm69)) does not have a defined binset in the wavecat table. The waveset of the spectrum will be used instead.\n",
      "((r * atm70)) does not have a defined binset in the wavecat table. The waveset of the spectrum will be used instead.\n",
      "((r * atm71)) does not have a defined binset in the wavecat table. The waveset of the spectrum will be used instead.\n",
      "((r * atm72)) does not have a defined binset in the wavecat table. The waveset of the spectrum will be used instead.\n",
      "((r * atm73)) does not have a defined binset in the wavecat table. The waveset of the spectrum will be used instead.\n",
      "((r * atm74)) does not have a defined binset in the wavecat table. The waveset of the spectrum will be used instead.\n",
      "((r * atm75)) does not have a defined binset in the wavecat table. The waveset of the spectrum will be used instead.\n",
      "((r * atm76)) does not have a defined binset in the wavecat table. The waveset of the spectrum will be used instead.\n",
      "((r * atm77)) does not have a defined binset in the wavecat table. The waveset of the spectrum will be used instead.\n",
      "((r * atm78)) does not have a defined binset in the wavecat table. The waveset of the spectrum will be used instead.\n",
      "((r * atm79)) does not have a defined binset in the wavecat table. The waveset of the spectrum will be used instead.\n"
     ]
    },
    {
     "name": "stdout",
     "output_type": "stream",
     "text": [
      "((r * atm80)) does not have a defined binset in the wavecat table. The waveset of the spectrum will be used instead.\n",
      "((r * atm81)) does not have a defined binset in the wavecat table. The waveset of the spectrum will be used instead.\n",
      "((r * atm82)) does not have a defined binset in the wavecat table. The waveset of the spectrum will be used instead.\n",
      "((r * atm83)) does not have a defined binset in the wavecat table. The waveset of the spectrum will be used instead.\n",
      "((r * atm84)) does not have a defined binset in the wavecat table. The waveset of the spectrum will be used instead.\n",
      "((r * atm85)) does not have a defined binset in the wavecat table. The waveset of the spectrum will be used instead.\n",
      "((r * atm86)) does not have a defined binset in the wavecat table. The waveset of the spectrum will be used instead.\n",
      "((r * atm87)) does not have a defined binset in the wavecat table. The waveset of the spectrum will be used instead.\n",
      "((r * atm88)) does not have a defined binset in the wavecat table. The waveset of the spectrum will be used instead.\n",
      "((r * atm89)) does not have a defined binset in the wavecat table. The waveset of the spectrum will be used instead.\n",
      "((r * atm90)) does not have a defined binset in the wavecat table. The waveset of the spectrum will be used instead.\n",
      "((r * atm91)) does not have a defined binset in the wavecat table. The waveset of the spectrum will be used instead.\n",
      "((r * atm92)) does not have a defined binset in the wavecat table. The waveset of the spectrum will be used instead.\n",
      "((r * atm93)) does not have a defined binset in the wavecat table. The waveset of the spectrum will be used instead.\n",
      "((r * atm94)) does not have a defined binset in the wavecat table. The waveset of the spectrum will be used instead.\n",
      "((r * atm95)) does not have a defined binset in the wavecat table. The waveset of the spectrum will be used instead.\n",
      "((r * atm96)) does not have a defined binset in the wavecat table. The waveset of the spectrum will be used instead.\n",
      "((r * atm97)) does not have a defined binset in the wavecat table. The waveset of the spectrum will be used instead.\n",
      "((r * atm98)) does not have a defined binset in the wavecat table. The waveset of the spectrum will be used instead.\n",
      "((r * atm99)) does not have a defined binset in the wavecat table. The waveset of the spectrum will be used instead.\n",
      "((i * atm0)) does not have a defined binset in the wavecat table. The waveset of the spectrum will be used instead.\n",
      "((i * atm1)) does not have a defined binset in the wavecat table. The waveset of the spectrum will be used instead.\n",
      "((i * atm2)) does not have a defined binset in the wavecat table. The waveset of the spectrum will be used instead.\n",
      "((i * atm3)) does not have a defined binset in the wavecat table. The waveset of the spectrum will be used instead.\n",
      "((i * atm4)) does not have a defined binset in the wavecat table. The waveset of the spectrum will be used instead.\n",
      "((i * atm5)) does not have a defined binset in the wavecat table. The waveset of the spectrum will be used instead.\n",
      "((i * atm6)) does not have a defined binset in the wavecat table. The waveset of the spectrum will be used instead.\n",
      "((i * atm7)) does not have a defined binset in the wavecat table. The waveset of the spectrum will be used instead.\n",
      "((i * atm8)) does not have a defined binset in the wavecat table. The waveset of the spectrum will be used instead.\n",
      "((i * atm9)) does not have a defined binset in the wavecat table. The waveset of the spectrum will be used instead.\n",
      "((i * atm10)) does not have a defined binset in the wavecat table. The waveset of the spectrum will be used instead.\n",
      "((i * atm11)) does not have a defined binset in the wavecat table. The waveset of the spectrum will be used instead.\n",
      "((i * atm12)) does not have a defined binset in the wavecat table. The waveset of the spectrum will be used instead.\n",
      "((i * atm13)) does not have a defined binset in the wavecat table. The waveset of the spectrum will be used instead.\n",
      "((i * atm14)) does not have a defined binset in the wavecat table. The waveset of the spectrum will be used instead.\n",
      "((i * atm15)) does not have a defined binset in the wavecat table. The waveset of the spectrum will be used instead.\n",
      "((i * atm16)) does not have a defined binset in the wavecat table. The waveset of the spectrum will be used instead.\n",
      "((i * atm17)) does not have a defined binset in the wavecat table. The waveset of the spectrum will be used instead.\n",
      "((i * atm18)) does not have a defined binset in the wavecat table. The waveset of the spectrum will be used instead.\n",
      "((i * atm19)) does not have a defined binset in the wavecat table. The waveset of the spectrum will be used instead.\n",
      "((i * atm20)) does not have a defined binset in the wavecat table. The waveset of the spectrum will be used instead.\n",
      "((i * atm21)) does not have a defined binset in the wavecat table. The waveset of the spectrum will be used instead.\n",
      "((i * atm22)) does not have a defined binset in the wavecat table. The waveset of the spectrum will be used instead.\n",
      "((i * atm23)) does not have a defined binset in the wavecat table. The waveset of the spectrum will be used instead.\n",
      "((i * atm24)) does not have a defined binset in the wavecat table. The waveset of the spectrum will be used instead.\n",
      "((i * atm25)) does not have a defined binset in the wavecat table. The waveset of the spectrum will be used instead.\n",
      "((i * atm26)) does not have a defined binset in the wavecat table. The waveset of the spectrum will be used instead.\n",
      "((i * atm27)) does not have a defined binset in the wavecat table. The waveset of the spectrum will be used instead.\n",
      "((i * atm28)) does not have a defined binset in the wavecat table. The waveset of the spectrum will be used instead.\n",
      "((i * atm29)) does not have a defined binset in the wavecat table. The waveset of the spectrum will be used instead.\n",
      "((i * atm30)) does not have a defined binset in the wavecat table. The waveset of the spectrum will be used instead.\n",
      "((i * atm31)) does not have a defined binset in the wavecat table. The waveset of the spectrum will be used instead.\n",
      "((i * atm32)) does not have a defined binset in the wavecat table. The waveset of the spectrum will be used instead.\n",
      "((i * atm33)) does not have a defined binset in the wavecat table. The waveset of the spectrum will be used instead.\n",
      "((i * atm34)) does not have a defined binset in the wavecat table. The waveset of the spectrum will be used instead.\n",
      "((i * atm35)) does not have a defined binset in the wavecat table. The waveset of the spectrum will be used instead.\n",
      "((i * atm36)) does not have a defined binset in the wavecat table. The waveset of the spectrum will be used instead.\n",
      "((i * atm37)) does not have a defined binset in the wavecat table. The waveset of the spectrum will be used instead.\n",
      "((i * atm38)) does not have a defined binset in the wavecat table. The waveset of the spectrum will be used instead.\n",
      "((i * atm39)) does not have a defined binset in the wavecat table. The waveset of the spectrum will be used instead.\n",
      "((i * atm40)) does not have a defined binset in the wavecat table. The waveset of the spectrum will be used instead.\n",
      "((i * atm41)) does not have a defined binset in the wavecat table. The waveset of the spectrum will be used instead.\n",
      "((i * atm42)) does not have a defined binset in the wavecat table. The waveset of the spectrum will be used instead.\n",
      "((i * atm43)) does not have a defined binset in the wavecat table. The waveset of the spectrum will be used instead.\n",
      "((i * atm44)) does not have a defined binset in the wavecat table. The waveset of the spectrum will be used instead.\n",
      "((i * atm45)) does not have a defined binset in the wavecat table. The waveset of the spectrum will be used instead.\n",
      "((i * atm46)) does not have a defined binset in the wavecat table. The waveset of the spectrum will be used instead.\n",
      "((i * atm47)) does not have a defined binset in the wavecat table. The waveset of the spectrum will be used instead.\n",
      "((i * atm48)) does not have a defined binset in the wavecat table. The waveset of the spectrum will be used instead.\n",
      "((i * atm49)) does not have a defined binset in the wavecat table. The waveset of the spectrum will be used instead.\n"
     ]
    },
    {
     "name": "stdout",
     "output_type": "stream",
     "text": [
      "((i * atm50)) does not have a defined binset in the wavecat table. The waveset of the spectrum will be used instead.\n",
      "((i * atm51)) does not have a defined binset in the wavecat table. The waveset of the spectrum will be used instead.\n",
      "((i * atm52)) does not have a defined binset in the wavecat table. The waveset of the spectrum will be used instead.\n",
      "((i * atm53)) does not have a defined binset in the wavecat table. The waveset of the spectrum will be used instead.\n",
      "((i * atm54)) does not have a defined binset in the wavecat table. The waveset of the spectrum will be used instead.\n",
      "((i * atm55)) does not have a defined binset in the wavecat table. The waveset of the spectrum will be used instead.\n",
      "((i * atm56)) does not have a defined binset in the wavecat table. The waveset of the spectrum will be used instead.\n",
      "((i * atm57)) does not have a defined binset in the wavecat table. The waveset of the spectrum will be used instead.\n",
      "((i * atm58)) does not have a defined binset in the wavecat table. The waveset of the spectrum will be used instead.\n",
      "((i * atm59)) does not have a defined binset in the wavecat table. The waveset of the spectrum will be used instead.\n",
      "((i * atm60)) does not have a defined binset in the wavecat table. The waveset of the spectrum will be used instead.\n",
      "((i * atm61)) does not have a defined binset in the wavecat table. The waveset of the spectrum will be used instead.\n",
      "((i * atm62)) does not have a defined binset in the wavecat table. The waveset of the spectrum will be used instead.\n",
      "((i * atm63)) does not have a defined binset in the wavecat table. The waveset of the spectrum will be used instead.\n",
      "((i * atm64)) does not have a defined binset in the wavecat table. The waveset of the spectrum will be used instead.\n",
      "((i * atm65)) does not have a defined binset in the wavecat table. The waveset of the spectrum will be used instead.\n",
      "((i * atm66)) does not have a defined binset in the wavecat table. The waveset of the spectrum will be used instead.\n",
      "((i * atm67)) does not have a defined binset in the wavecat table. The waveset of the spectrum will be used instead.\n",
      "((i * atm68)) does not have a defined binset in the wavecat table. The waveset of the spectrum will be used instead.\n",
      "((i * atm69)) does not have a defined binset in the wavecat table. The waveset of the spectrum will be used instead.\n",
      "((i * atm70)) does not have a defined binset in the wavecat table. The waveset of the spectrum will be used instead.\n",
      "((i * atm71)) does not have a defined binset in the wavecat table. The waveset of the spectrum will be used instead.\n",
      "((i * atm72)) does not have a defined binset in the wavecat table. The waveset of the spectrum will be used instead.\n",
      "((i * atm73)) does not have a defined binset in the wavecat table. The waveset of the spectrum will be used instead.\n",
      "((i * atm74)) does not have a defined binset in the wavecat table. The waveset of the spectrum will be used instead.\n",
      "((i * atm75)) does not have a defined binset in the wavecat table. The waveset of the spectrum will be used instead.\n",
      "((i * atm76)) does not have a defined binset in the wavecat table. The waveset of the spectrum will be used instead.\n",
      "((i * atm77)) does not have a defined binset in the wavecat table. The waveset of the spectrum will be used instead.\n",
      "((i * atm78)) does not have a defined binset in the wavecat table. The waveset of the spectrum will be used instead.\n",
      "((i * atm79)) does not have a defined binset in the wavecat table. The waveset of the spectrum will be used instead.\n",
      "((i * atm80)) does not have a defined binset in the wavecat table. The waveset of the spectrum will be used instead.\n",
      "((i * atm81)) does not have a defined binset in the wavecat table. The waveset of the spectrum will be used instead.\n",
      "((i * atm82)) does not have a defined binset in the wavecat table. The waveset of the spectrum will be used instead.\n",
      "((i * atm83)) does not have a defined binset in the wavecat table. The waveset of the spectrum will be used instead.\n",
      "((i * atm84)) does not have a defined binset in the wavecat table. The waveset of the spectrum will be used instead.\n",
      "((i * atm85)) does not have a defined binset in the wavecat table. The waveset of the spectrum will be used instead.\n",
      "((i * atm86)) does not have a defined binset in the wavecat table. The waveset of the spectrum will be used instead.\n",
      "((i * atm87)) does not have a defined binset in the wavecat table. The waveset of the spectrum will be used instead.\n",
      "((i * atm88)) does not have a defined binset in the wavecat table. The waveset of the spectrum will be used instead.\n",
      "((i * atm89)) does not have a defined binset in the wavecat table. The waveset of the spectrum will be used instead.\n",
      "((i * atm90)) does not have a defined binset in the wavecat table. The waveset of the spectrum will be used instead.\n",
      "((i * atm91)) does not have a defined binset in the wavecat table. The waveset of the spectrum will be used instead.\n",
      "((i * atm92)) does not have a defined binset in the wavecat table. The waveset of the spectrum will be used instead.\n",
      "((i * atm93)) does not have a defined binset in the wavecat table. The waveset of the spectrum will be used instead.\n",
      "((i * atm94)) does not have a defined binset in the wavecat table. The waveset of the spectrum will be used instead.\n",
      "((i * atm95)) does not have a defined binset in the wavecat table. The waveset of the spectrum will be used instead.\n",
      "((i * atm96)) does not have a defined binset in the wavecat table. The waveset of the spectrum will be used instead.\n",
      "((i * atm97)) does not have a defined binset in the wavecat table. The waveset of the spectrum will be used instead.\n",
      "((i * atm98)) does not have a defined binset in the wavecat table. The waveset of the spectrum will be used instead.\n",
      "((i * atm99)) does not have a defined binset in the wavecat table. The waveset of the spectrum will be used instead.\n",
      "((y * atm0)) does not have a defined binset in the wavecat table. The waveset of the spectrum will be used instead.\n",
      "((y * atm1)) does not have a defined binset in the wavecat table. The waveset of the spectrum will be used instead.\n",
      "((y * atm2)) does not have a defined binset in the wavecat table. The waveset of the spectrum will be used instead.\n",
      "((y * atm3)) does not have a defined binset in the wavecat table. The waveset of the spectrum will be used instead.\n",
      "((y * atm4)) does not have a defined binset in the wavecat table. The waveset of the spectrum will be used instead.\n",
      "((y * atm5)) does not have a defined binset in the wavecat table. The waveset of the spectrum will be used instead.\n",
      "((y * atm6)) does not have a defined binset in the wavecat table. The waveset of the spectrum will be used instead.\n",
      "((y * atm7)) does not have a defined binset in the wavecat table. The waveset of the spectrum will be used instead.\n",
      "((y * atm8)) does not have a defined binset in the wavecat table. The waveset of the spectrum will be used instead.\n",
      "((y * atm9)) does not have a defined binset in the wavecat table. The waveset of the spectrum will be used instead.\n",
      "((y * atm10)) does not have a defined binset in the wavecat table. The waveset of the spectrum will be used instead.\n",
      "((y * atm11)) does not have a defined binset in the wavecat table. The waveset of the spectrum will be used instead.\n",
      "((y * atm12)) does not have a defined binset in the wavecat table. The waveset of the spectrum will be used instead.\n",
      "((y * atm13)) does not have a defined binset in the wavecat table. The waveset of the spectrum will be used instead.\n",
      "((y * atm14)) does not have a defined binset in the wavecat table. The waveset of the spectrum will be used instead.\n",
      "((y * atm15)) does not have a defined binset in the wavecat table. The waveset of the spectrum will be used instead.\n",
      "((y * atm16)) does not have a defined binset in the wavecat table. The waveset of the spectrum will be used instead.\n",
      "((y * atm17)) does not have a defined binset in the wavecat table. The waveset of the spectrum will be used instead.\n",
      "((y * atm18)) does not have a defined binset in the wavecat table. The waveset of the spectrum will be used instead.\n",
      "((y * atm19)) does not have a defined binset in the wavecat table. The waveset of the spectrum will be used instead.\n"
     ]
    },
    {
     "name": "stdout",
     "output_type": "stream",
     "text": [
      "((y * atm20)) does not have a defined binset in the wavecat table. The waveset of the spectrum will be used instead.\n",
      "((y * atm21)) does not have a defined binset in the wavecat table. The waveset of the spectrum will be used instead.\n",
      "((y * atm22)) does not have a defined binset in the wavecat table. The waveset of the spectrum will be used instead.\n",
      "((y * atm23)) does not have a defined binset in the wavecat table. The waveset of the spectrum will be used instead.\n",
      "((y * atm24)) does not have a defined binset in the wavecat table. The waveset of the spectrum will be used instead.\n",
      "((y * atm25)) does not have a defined binset in the wavecat table. The waveset of the spectrum will be used instead.\n",
      "((y * atm26)) does not have a defined binset in the wavecat table. The waveset of the spectrum will be used instead.\n",
      "((y * atm27)) does not have a defined binset in the wavecat table. The waveset of the spectrum will be used instead.\n",
      "((y * atm28)) does not have a defined binset in the wavecat table. The waveset of the spectrum will be used instead.\n",
      "((y * atm29)) does not have a defined binset in the wavecat table. The waveset of the spectrum will be used instead.\n",
      "((y * atm30)) does not have a defined binset in the wavecat table. The waveset of the spectrum will be used instead.\n",
      "((y * atm31)) does not have a defined binset in the wavecat table. The waveset of the spectrum will be used instead.\n",
      "((y * atm32)) does not have a defined binset in the wavecat table. The waveset of the spectrum will be used instead.\n",
      "((y * atm33)) does not have a defined binset in the wavecat table. The waveset of the spectrum will be used instead.\n",
      "((y * atm34)) does not have a defined binset in the wavecat table. The waveset of the spectrum will be used instead.\n",
      "((y * atm35)) does not have a defined binset in the wavecat table. The waveset of the spectrum will be used instead.\n",
      "((y * atm36)) does not have a defined binset in the wavecat table. The waveset of the spectrum will be used instead.\n",
      "((y * atm37)) does not have a defined binset in the wavecat table. The waveset of the spectrum will be used instead.\n",
      "((y * atm38)) does not have a defined binset in the wavecat table. The waveset of the spectrum will be used instead.\n",
      "((y * atm39)) does not have a defined binset in the wavecat table. The waveset of the spectrum will be used instead.\n",
      "((y * atm40)) does not have a defined binset in the wavecat table. The waveset of the spectrum will be used instead.\n",
      "((y * atm41)) does not have a defined binset in the wavecat table. The waveset of the spectrum will be used instead.\n",
      "((y * atm42)) does not have a defined binset in the wavecat table. The waveset of the spectrum will be used instead.\n",
      "((y * atm43)) does not have a defined binset in the wavecat table. The waveset of the spectrum will be used instead.\n",
      "((y * atm44)) does not have a defined binset in the wavecat table. The waveset of the spectrum will be used instead.\n",
      "((y * atm45)) does not have a defined binset in the wavecat table. The waveset of the spectrum will be used instead.\n",
      "((y * atm46)) does not have a defined binset in the wavecat table. The waveset of the spectrum will be used instead.\n",
      "((y * atm47)) does not have a defined binset in the wavecat table. The waveset of the spectrum will be used instead.\n",
      "((y * atm48)) does not have a defined binset in the wavecat table. The waveset of the spectrum will be used instead.\n",
      "((y * atm49)) does not have a defined binset in the wavecat table. The waveset of the spectrum will be used instead.\n",
      "((y * atm50)) does not have a defined binset in the wavecat table. The waveset of the spectrum will be used instead.\n",
      "((y * atm51)) does not have a defined binset in the wavecat table. The waveset of the spectrum will be used instead.\n",
      "((y * atm52)) does not have a defined binset in the wavecat table. The waveset of the spectrum will be used instead.\n",
      "((y * atm53)) does not have a defined binset in the wavecat table. The waveset of the spectrum will be used instead.\n",
      "((y * atm54)) does not have a defined binset in the wavecat table. The waveset of the spectrum will be used instead.\n",
      "((y * atm55)) does not have a defined binset in the wavecat table. The waveset of the spectrum will be used instead.\n",
      "((y * atm56)) does not have a defined binset in the wavecat table. The waveset of the spectrum will be used instead.\n",
      "((y * atm57)) does not have a defined binset in the wavecat table. The waveset of the spectrum will be used instead.\n",
      "((y * atm58)) does not have a defined binset in the wavecat table. The waveset of the spectrum will be used instead.\n",
      "((y * atm59)) does not have a defined binset in the wavecat table. The waveset of the spectrum will be used instead.\n",
      "((y * atm60)) does not have a defined binset in the wavecat table. The waveset of the spectrum will be used instead.\n",
      "((y * atm61)) does not have a defined binset in the wavecat table. The waveset of the spectrum will be used instead.\n",
      "((y * atm62)) does not have a defined binset in the wavecat table. The waveset of the spectrum will be used instead.\n",
      "((y * atm63)) does not have a defined binset in the wavecat table. The waveset of the spectrum will be used instead.\n",
      "((y * atm64)) does not have a defined binset in the wavecat table. The waveset of the spectrum will be used instead.\n",
      "((y * atm65)) does not have a defined binset in the wavecat table. The waveset of the spectrum will be used instead.\n",
      "((y * atm66)) does not have a defined binset in the wavecat table. The waveset of the spectrum will be used instead.\n",
      "((y * atm67)) does not have a defined binset in the wavecat table. The waveset of the spectrum will be used instead.\n",
      "((y * atm68)) does not have a defined binset in the wavecat table. The waveset of the spectrum will be used instead.\n",
      "((y * atm69)) does not have a defined binset in the wavecat table. The waveset of the spectrum will be used instead.\n",
      "((y * atm70)) does not have a defined binset in the wavecat table. The waveset of the spectrum will be used instead.\n",
      "((y * atm71)) does not have a defined binset in the wavecat table. The waveset of the spectrum will be used instead.\n",
      "((y * atm72)) does not have a defined binset in the wavecat table. The waveset of the spectrum will be used instead.\n",
      "((y * atm73)) does not have a defined binset in the wavecat table. The waveset of the spectrum will be used instead.\n",
      "((y * atm74)) does not have a defined binset in the wavecat table. The waveset of the spectrum will be used instead.\n",
      "((y * atm75)) does not have a defined binset in the wavecat table. The waveset of the spectrum will be used instead.\n",
      "((y * atm76)) does not have a defined binset in the wavecat table. The waveset of the spectrum will be used instead.\n",
      "((y * atm77)) does not have a defined binset in the wavecat table. The waveset of the spectrum will be used instead.\n",
      "((y * atm78)) does not have a defined binset in the wavecat table. The waveset of the spectrum will be used instead.\n",
      "((y * atm79)) does not have a defined binset in the wavecat table. The waveset of the spectrum will be used instead.\n",
      "((y * atm80)) does not have a defined binset in the wavecat table. The waveset of the spectrum will be used instead.\n",
      "((y * atm81)) does not have a defined binset in the wavecat table. The waveset of the spectrum will be used instead.\n",
      "((y * atm82)) does not have a defined binset in the wavecat table. The waveset of the spectrum will be used instead.\n",
      "((y * atm83)) does not have a defined binset in the wavecat table. The waveset of the spectrum will be used instead.\n",
      "((y * atm84)) does not have a defined binset in the wavecat table. The waveset of the spectrum will be used instead.\n",
      "((y * atm85)) does not have a defined binset in the wavecat table. The waveset of the spectrum will be used instead.\n",
      "((y * atm86)) does not have a defined binset in the wavecat table. The waveset of the spectrum will be used instead.\n",
      "((y * atm87)) does not have a defined binset in the wavecat table. The waveset of the spectrum will be used instead.\n",
      "((y * atm88)) does not have a defined binset in the wavecat table. The waveset of the spectrum will be used instead.\n",
      "((y * atm89)) does not have a defined binset in the wavecat table. The waveset of the spectrum will be used instead.\n"
     ]
    },
    {
     "name": "stdout",
     "output_type": "stream",
     "text": [
      "((y * atm90)) does not have a defined binset in the wavecat table. The waveset of the spectrum will be used instead.\n",
      "((y * atm91)) does not have a defined binset in the wavecat table. The waveset of the spectrum will be used instead.\n",
      "((y * atm92)) does not have a defined binset in the wavecat table. The waveset of the spectrum will be used instead.\n",
      "((y * atm93)) does not have a defined binset in the wavecat table. The waveset of the spectrum will be used instead.\n",
      "((y * atm94)) does not have a defined binset in the wavecat table. The waveset of the spectrum will be used instead.\n",
      "((y * atm95)) does not have a defined binset in the wavecat table. The waveset of the spectrum will be used instead.\n",
      "((y * atm96)) does not have a defined binset in the wavecat table. The waveset of the spectrum will be used instead.\n",
      "((y * atm97)) does not have a defined binset in the wavecat table. The waveset of the spectrum will be used instead.\n",
      "((y * atm98)) does not have a defined binset in the wavecat table. The waveset of the spectrum will be used instead.\n",
      "((y * atm99)) does not have a defined binset in the wavecat table. The waveset of the spectrum will be used instead.\n",
      "((y * atm0)) does not have a defined binset in the wavecat table. The waveset of the spectrum will be used instead.\n",
      "((y * atm1)) does not have a defined binset in the wavecat table. The waveset of the spectrum will be used instead.\n",
      "((y * atm2)) does not have a defined binset in the wavecat table. The waveset of the spectrum will be used instead.\n",
      "((y * atm3)) does not have a defined binset in the wavecat table. The waveset of the spectrum will be used instead.\n",
      "((y * atm4)) does not have a defined binset in the wavecat table. The waveset of the spectrum will be used instead.\n",
      "((y * atm5)) does not have a defined binset in the wavecat table. The waveset of the spectrum will be used instead.\n",
      "((y * atm6)) does not have a defined binset in the wavecat table. The waveset of the spectrum will be used instead.\n",
      "((y * atm7)) does not have a defined binset in the wavecat table. The waveset of the spectrum will be used instead.\n",
      "((y * atm8)) does not have a defined binset in the wavecat table. The waveset of the spectrum will be used instead.\n",
      "((y * atm9)) does not have a defined binset in the wavecat table. The waveset of the spectrum will be used instead.\n",
      "((y * atm10)) does not have a defined binset in the wavecat table. The waveset of the spectrum will be used instead.\n",
      "((y * atm11)) does not have a defined binset in the wavecat table. The waveset of the spectrum will be used instead.\n",
      "((y * atm12)) does not have a defined binset in the wavecat table. The waveset of the spectrum will be used instead.\n",
      "((y * atm13)) does not have a defined binset in the wavecat table. The waveset of the spectrum will be used instead.\n",
      "((y * atm14)) does not have a defined binset in the wavecat table. The waveset of the spectrum will be used instead.\n",
      "((y * atm15)) does not have a defined binset in the wavecat table. The waveset of the spectrum will be used instead.\n",
      "((y * atm16)) does not have a defined binset in the wavecat table. The waveset of the spectrum will be used instead.\n",
      "((y * atm17)) does not have a defined binset in the wavecat table. The waveset of the spectrum will be used instead.\n",
      "((y * atm18)) does not have a defined binset in the wavecat table. The waveset of the spectrum will be used instead.\n",
      "((y * atm19)) does not have a defined binset in the wavecat table. The waveset of the spectrum will be used instead.\n",
      "((y * atm20)) does not have a defined binset in the wavecat table. The waveset of the spectrum will be used instead.\n",
      "((y * atm21)) does not have a defined binset in the wavecat table. The waveset of the spectrum will be used instead.\n",
      "((y * atm22)) does not have a defined binset in the wavecat table. The waveset of the spectrum will be used instead.\n",
      "((y * atm23)) does not have a defined binset in the wavecat table. The waveset of the spectrum will be used instead.\n",
      "((y * atm24)) does not have a defined binset in the wavecat table. The waveset of the spectrum will be used instead.\n",
      "((y * atm25)) does not have a defined binset in the wavecat table. The waveset of the spectrum will be used instead.\n",
      "((y * atm26)) does not have a defined binset in the wavecat table. The waveset of the spectrum will be used instead.\n",
      "((y * atm27)) does not have a defined binset in the wavecat table. The waveset of the spectrum will be used instead.\n",
      "((y * atm28)) does not have a defined binset in the wavecat table. The waveset of the spectrum will be used instead.\n",
      "((y * atm29)) does not have a defined binset in the wavecat table. The waveset of the spectrum will be used instead.\n",
      "((y * atm30)) does not have a defined binset in the wavecat table. The waveset of the spectrum will be used instead.\n",
      "((y * atm31)) does not have a defined binset in the wavecat table. The waveset of the spectrum will be used instead.\n",
      "((y * atm32)) does not have a defined binset in the wavecat table. The waveset of the spectrum will be used instead.\n",
      "((y * atm33)) does not have a defined binset in the wavecat table. The waveset of the spectrum will be used instead.\n",
      "((y * atm34)) does not have a defined binset in the wavecat table. The waveset of the spectrum will be used instead.\n",
      "((y * atm35)) does not have a defined binset in the wavecat table. The waveset of the spectrum will be used instead.\n",
      "((y * atm36)) does not have a defined binset in the wavecat table. The waveset of the spectrum will be used instead.\n",
      "((y * atm37)) does not have a defined binset in the wavecat table. The waveset of the spectrum will be used instead.\n",
      "((y * atm38)) does not have a defined binset in the wavecat table. The waveset of the spectrum will be used instead.\n",
      "((y * atm39)) does not have a defined binset in the wavecat table. The waveset of the spectrum will be used instead.\n",
      "((y * atm40)) does not have a defined binset in the wavecat table. The waveset of the spectrum will be used instead.\n",
      "((y * atm41)) does not have a defined binset in the wavecat table. The waveset of the spectrum will be used instead.\n",
      "((y * atm42)) does not have a defined binset in the wavecat table. The waveset of the spectrum will be used instead.\n",
      "((y * atm43)) does not have a defined binset in the wavecat table. The waveset of the spectrum will be used instead.\n",
      "((y * atm44)) does not have a defined binset in the wavecat table. The waveset of the spectrum will be used instead.\n",
      "((y * atm45)) does not have a defined binset in the wavecat table. The waveset of the spectrum will be used instead.\n",
      "((y * atm46)) does not have a defined binset in the wavecat table. The waveset of the spectrum will be used instead.\n",
      "((y * atm47)) does not have a defined binset in the wavecat table. The waveset of the spectrum will be used instead.\n",
      "((y * atm48)) does not have a defined binset in the wavecat table. The waveset of the spectrum will be used instead.\n",
      "((y * atm49)) does not have a defined binset in the wavecat table. The waveset of the spectrum will be used instead.\n",
      "((y * atm50)) does not have a defined binset in the wavecat table. The waveset of the spectrum will be used instead.\n",
      "((y * atm51)) does not have a defined binset in the wavecat table. The waveset of the spectrum will be used instead.\n",
      "((y * atm52)) does not have a defined binset in the wavecat table. The waveset of the spectrum will be used instead.\n",
      "((y * atm53)) does not have a defined binset in the wavecat table. The waveset of the spectrum will be used instead.\n",
      "((y * atm54)) does not have a defined binset in the wavecat table. The waveset of the spectrum will be used instead.\n",
      "((y * atm55)) does not have a defined binset in the wavecat table. The waveset of the spectrum will be used instead.\n",
      "((y * atm56)) does not have a defined binset in the wavecat table. The waveset of the spectrum will be used instead.\n",
      "((y * atm57)) does not have a defined binset in the wavecat table. The waveset of the spectrum will be used instead.\n",
      "((y * atm58)) does not have a defined binset in the wavecat table. The waveset of the spectrum will be used instead.\n",
      "((y * atm59)) does not have a defined binset in the wavecat table. The waveset of the spectrum will be used instead.\n"
     ]
    },
    {
     "name": "stdout",
     "output_type": "stream",
     "text": [
      "((y * atm60)) does not have a defined binset in the wavecat table. The waveset of the spectrum will be used instead.\n",
      "((y * atm61)) does not have a defined binset in the wavecat table. The waveset of the spectrum will be used instead.\n",
      "((y * atm62)) does not have a defined binset in the wavecat table. The waveset of the spectrum will be used instead.\n",
      "((y * atm63)) does not have a defined binset in the wavecat table. The waveset of the spectrum will be used instead.\n",
      "((y * atm64)) does not have a defined binset in the wavecat table. The waveset of the spectrum will be used instead.\n",
      "((y * atm65)) does not have a defined binset in the wavecat table. The waveset of the spectrum will be used instead.\n",
      "((y * atm66)) does not have a defined binset in the wavecat table. The waveset of the spectrum will be used instead.\n",
      "((y * atm67)) does not have a defined binset in the wavecat table. The waveset of the spectrum will be used instead.\n",
      "((y * atm68)) does not have a defined binset in the wavecat table. The waveset of the spectrum will be used instead.\n",
      "((y * atm69)) does not have a defined binset in the wavecat table. The waveset of the spectrum will be used instead.\n",
      "((y * atm70)) does not have a defined binset in the wavecat table. The waveset of the spectrum will be used instead.\n",
      "((y * atm71)) does not have a defined binset in the wavecat table. The waveset of the spectrum will be used instead.\n",
      "((y * atm72)) does not have a defined binset in the wavecat table. The waveset of the spectrum will be used instead.\n",
      "((y * atm73)) does not have a defined binset in the wavecat table. The waveset of the spectrum will be used instead.\n",
      "((y * atm74)) does not have a defined binset in the wavecat table. The waveset of the spectrum will be used instead.\n",
      "((y * atm75)) does not have a defined binset in the wavecat table. The waveset of the spectrum will be used instead.\n",
      "((y * atm76)) does not have a defined binset in the wavecat table. The waveset of the spectrum will be used instead.\n",
      "((y * atm77)) does not have a defined binset in the wavecat table. The waveset of the spectrum will be used instead.\n",
      "((y * atm78)) does not have a defined binset in the wavecat table. The waveset of the spectrum will be used instead.\n",
      "((y * atm79)) does not have a defined binset in the wavecat table. The waveset of the spectrum will be used instead.\n",
      "((y * atm80)) does not have a defined binset in the wavecat table. The waveset of the spectrum will be used instead.\n",
      "((y * atm81)) does not have a defined binset in the wavecat table. The waveset of the spectrum will be used instead.\n",
      "((y * atm82)) does not have a defined binset in the wavecat table. The waveset of the spectrum will be used instead.\n",
      "((y * atm83)) does not have a defined binset in the wavecat table. The waveset of the spectrum will be used instead.\n",
      "((y * atm84)) does not have a defined binset in the wavecat table. The waveset of the spectrum will be used instead.\n",
      "((y * atm85)) does not have a defined binset in the wavecat table. The waveset of the spectrum will be used instead.\n",
      "((y * atm86)) does not have a defined binset in the wavecat table. The waveset of the spectrum will be used instead.\n",
      "((y * atm87)) does not have a defined binset in the wavecat table. The waveset of the spectrum will be used instead.\n",
      "((y * atm88)) does not have a defined binset in the wavecat table. The waveset of the spectrum will be used instead.\n",
      "((y * atm89)) does not have a defined binset in the wavecat table. The waveset of the spectrum will be used instead.\n",
      "((y * atm90)) does not have a defined binset in the wavecat table. The waveset of the spectrum will be used instead.\n",
      "((y * atm91)) does not have a defined binset in the wavecat table. The waveset of the spectrum will be used instead.\n",
      "((y * atm92)) does not have a defined binset in the wavecat table. The waveset of the spectrum will be used instead.\n",
      "((y * atm93)) does not have a defined binset in the wavecat table. The waveset of the spectrum will be used instead.\n",
      "((y * atm94)) does not have a defined binset in the wavecat table. The waveset of the spectrum will be used instead.\n",
      "((y * atm95)) does not have a defined binset in the wavecat table. The waveset of the spectrum will be used instead.\n"
     ]
    }
   ],
   "source": [
    "#spectra,spectra_interp=GetSpectra(sed=spec_norm,wl_atm=wl,atm_transmission=transm[:50,:]);\n",
    "#spectra,spectra_interp=GetSpectra(sed=spec_norm,wl_atm=wl,atm_transmission=transm[:,:]);\n",
    "spectra,spectra_interp,NPHE=GetSpectra(sed=spec_norm ,wl_atm=wl,atm_transmission=transm[:,:],exposure=EXPOSURE,flag_flat=True);"
   ]
  },
  {
   "cell_type": "code",
   "execution_count": null,
   "metadata": {},
   "outputs": [],
   "source": [
    "\n",
    "if 1:\n",
    "    fig=plt.figure(figsize=(10,6))\n",
    "    ax = fig.add_subplot(111)\n",
    "    for idx in np.arange(50):\n",
    "        ax.plot(wl,spectra_interp[0][idx],'b-')\n",
    "        ax.plot(wl,spectra_interp[1][idx],'g-')\n",
    "        ax.plot(wl,spectra_interp[2][idx],'r-')\n",
    "        ax.plot(wl,spectra_interp[3][idx],'-',color=\"orange\")\n",
    "        ax.plot(wl,spectra_interp[4][idx],'k-')\n",
    "        ax.plot(wl,spectra_interp[5][idx],'-',color=\"grey\")\n",
    "    if FLAG_RENORM:\n",
    "        title=f\"observation for the source {SEDNAME} of {MAGNORM} mag\"\n",
    "    else:\n",
    "        title=f\"observation for the source {SEDNAME}\"\n",
    "    ax.set_title(title)\n",
    "    ax.set_ylabel('photlam')\n",
    "    ax.set_xlabel('$\\\\lambda$')\n"
   ]
  },
  {
   "cell_type": "markdown",
   "metadata": {},
   "source": [
    "- this is compatible with Photometry_Counts.ipynb"
   ]
  },
  {
   "cell_type": "markdown",
   "metadata": {},
   "source": [
    "# Number of photoelectrons of a source"
   ]
  },
  {
   "cell_type": "code",
   "execution_count": null,
   "metadata": {},
   "outputs": [],
   "source": [
    "filtercolor = ['blue','green','red','orange','grey','black']"
   ]
  },
  {
   "cell_type": "code",
   "execution_count": null,
   "metadata": {},
   "outputs": [],
   "source": [
    "if 1:\n",
    "    fig=plt.figure(figsize=(16,3))\n",
    "    for ifilt in range(NFILTERS):\n",
    "        ax = plt.subplot(1, NFILTERS, ifilt+1)\n",
    "        npe=np.array(NPHE[ifilt])\n",
    "        ax.hist(npe,bins=50,color=filtercolor[ifilt])\n",
    "        ax.set_xlabel(\"npe\")\n",
    "        \n",
    "        # add text\n",
    "        mu=np.average(npe)\n",
    "        sigma=np.std(npe)\n",
    "        textstr = '\\n'.join((\n",
    "        r'$\\mu=%.2f$' % (mu, ),\n",
    "        r'$\\sigma=%.2f$' % (sigma, )))\n",
    "        props = dict(boxstyle='round', facecolor='white', alpha=0.5)\n",
    "        ax.text(0.1, 0.9, textstr, transform=ax.transAxes, fontsize=10,verticalalignment='top', bbox=props)\n",
    "        \n",
    "        \n",
    "    plt.suptitle(\"Number of photoelectrons in band for the exposure\")\n",
    "    "
   ]
  },
  {
   "cell_type": "markdown",
   "metadata": {},
   "source": [
    "- this is compatible with **Photometry_Counts.ipynb**"
   ]
  },
  {
   "cell_type": "markdown",
   "metadata": {},
   "source": [
    "# Number of photoelectrons background per pixel"
   ]
  },
  {
   "cell_type": "code",
   "execution_count": null,
   "metadata": {},
   "outputs": [],
   "source": [
    "obs_spectra_bg,obs_spectra_interp_bg,NPHE_bg = GetSkyBackground(skybg_mag=SKY_BACKGROUND_MAG_N,wl_atm=wl,exposure=EXPOSURE,pixscale=PIXSCALE)"
   ]
  },
  {
   "cell_type": "code",
   "execution_count": null,
   "metadata": {},
   "outputs": [],
   "source": [
    "# number of photoelectrons compatible with Phoometry_Counts.ipynb\n",
    "NPHE_bg=np.array(NPHE_bg)\n",
    "NPHE_bg/EXPOSURE"
   ]
  },
  {
   "cell_type": "code",
   "execution_count": null,
   "metadata": {},
   "outputs": [],
   "source": [
    "if 1:\n",
    "    fig=plt.figure(figsize=(10,6))\n",
    "    ax = fig.add_subplot(111)\n",
    "    for ifilt in range(NFILTERS):\n",
    "        obs_spectra_bg[ifilt].convert('photlam')\n",
    "        the_wl_bg  = obs_spectra_bg[ifilt].binwave\n",
    "        the_sky_bg = obs_spectra_bg[ifilt].binflux\n",
    "        ax.plot(the_wl_bg,the_sky_bg ,'-',color=filtercolor[ifilt])\n",
    "    title=f\"observation sky background\"\n",
    "    ax.set_title(title)\n",
    "    ax.set_ylabel('photlam')\n",
    "    ax.set_xlabel('$\\\\lambda$')"
   ]
  },
  {
   "cell_type": "markdown",
   "metadata": {},
   "source": [
    "# Create output"
   ]
  },
  {
   "cell_type": "code",
   "execution_count": null,
   "metadata": {},
   "outputs": [],
   "source": [
    "NSIM=len(NPHE[0])"
   ]
  },
  {
   "cell_type": "code",
   "execution_count": null,
   "metadata": {},
   "outputs": [],
   "source": [
    "headerout=header"
   ]
  },
  {
   "cell_type": "code",
   "execution_count": null,
   "metadata": {},
   "outputs": [],
   "source": [
    "headerout"
   ]
  },
  {
   "cell_type": "code",
   "execution_count": null,
   "metadata": {},
   "outputs": [],
   "source": [
    "headerout[\"PACKNUM\"]    = packetnum\n",
    "headerout[\"NSOURCES\"]   = NSIM\n",
    "headerout[\"NSKYBKG\"]    = 1\n",
    "headerout[\"NFILTERS\"]   = NFILTERS"
   ]
  },
  {
   "cell_type": "code",
   "execution_count": null,
   "metadata": {},
   "outputs": [],
   "source": [
    "headerout[\"NPE_U\"] = idx_res\n",
    "idx_npe_u = idx_res\n",
    "\n",
    "headerout[\"NPE_G\"] = idx_npe_u+1\n",
    "idx_npe_g = idx_npe_u+1\n",
    "\n",
    "headerout[\"NPE_R\"] = idx_npe_g+1\n",
    "idx_npe_r = idx_npe_g+1\n",
    "\n",
    "headerout[\"NPE_I\"] = idx_npe_r+1\n",
    "idx_npe_i = idx_npe_r+1\n",
    "\n",
    "headerout[\"NPE_Z\"] = idx_npe_i+1\n",
    "idx_npe_z = idx_npe_i+1\n",
    "\n",
    "headerout[\"NPE_Y\"] = idx_npe_z+1\n",
    "idx_npe_y = idx_npe_z+1"
   ]
  },
  {
   "cell_type": "code",
   "execution_count": null,
   "metadata": {},
   "outputs": [],
   "source": [
    "del headerout[\"ID_RES\"]"
   ]
  },
  {
   "cell_type": "code",
   "execution_count": null,
   "metadata": {},
   "outputs": [],
   "source": [
    "headerout"
   ]
  },
  {
   "cell_type": "code",
   "execution_count": null,
   "metadata": {},
   "outputs": [],
   "source": [
    "dataout = np.zeros((NSIM+1, idx_npe_y +1))"
   ]
  },
  {
   "cell_type": "markdown",
   "metadata": {},
   "source": [
    "## copy atmospheric parameters"
   ]
  },
  {
   "cell_type": "code",
   "execution_count": null,
   "metadata": {},
   "outputs": [],
   "source": [
    "dataout[1:,0:idx_res] = np.copy(datain[0:,0:idx_res]) "
   ]
  },
  {
   "cell_type": "markdown",
   "metadata": {},
   "source": [
    "## copy background photoelectrons"
   ]
  },
  {
   "cell_type": "code",
   "execution_count": null,
   "metadata": {},
   "outputs": [],
   "source": [
    "dataout[0,idx_npe_u:] = np.copy(NPHE_bg)"
   ]
  },
  {
   "cell_type": "markdown",
   "metadata": {},
   "source": [
    "## copy source photoelectrons"
   ]
  },
  {
   "cell_type": "code",
   "execution_count": null,
   "metadata": {},
   "outputs": [],
   "source": [
    "for ifilt in range(NFILTERS):\n",
    "    dataout[1:,idx_npe_u+ifilt] = np.copy(NPHE[ifilt]) \n",
    "    "
   ]
  },
  {
   "cell_type": "markdown",
   "metadata": {},
   "source": [
    "# Save file"
   ]
  },
  {
   "cell_type": "code",
   "execution_count": null,
   "metadata": {},
   "outputs": [],
   "source": [
    "msg=f\"save in output file {full_outputfilename}\"\n",
    "logger.info(msg)\n"
   ]
  },
  {
   "cell_type": "code",
   "execution_count": null,
   "metadata": {},
   "outputs": [],
   "source": [
    "hdu = fits.PrimaryHDU(dataout,header=headerout)\n",
    "hdu.writeto(full_outputfilename,overwrite=True)"
   ]
  },
  {
   "cell_type": "code",
   "execution_count": null,
   "metadata": {},
   "outputs": [],
   "source": []
  }
 ],
 "metadata": {
  "kernelspec": {
   "display_name": "Python 3",
   "language": "python",
   "name": "python3"
  },
  "language_info": {
   "codemirror_mode": {
    "name": "ipython",
    "version": 3
   },
   "file_extension": ".py",
   "mimetype": "text/x-python",
   "name": "python",
   "nbconvert_exporter": "python",
   "pygments_lexer": "ipython3",
   "version": "3.8.8"
  },
  "toc": {
   "base_numbering": 1,
   "nav_menu": {},
   "number_sections": true,
   "sideBar": true,
   "skip_h1_title": false,
   "title_cell": "Table of Contents",
   "title_sidebar": "Contents",
   "toc_cell": false,
   "toc_position": {},
   "toc_section_display": true,
   "toc_window_display": false
  }
 },
 "nbformat": 4,
 "nbformat_minor": 4
}
