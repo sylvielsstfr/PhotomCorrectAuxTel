{
 "cells": [
  {
   "cell_type": "markdown",
   "metadata": {},
   "source": [
    "# Select a fiew star with the color V-I\n",
    "- Author : Sylvie Dagoret-Campagne\n",
    "- Creation : April 27th 2020\n",
    "\n",
    "\n",
    "Must have run **3_ViewCalspecColors.ipynb** before this notebook t compute colors in table\n",
    "\n",
    "- Last verification : December 14th 2021 -->  OK\n"
   ]
  },
  {
   "cell_type": "code",
   "execution_count": 14,
   "metadata": {},
   "outputs": [],
   "source": [
    "import os,sys\n",
    "import numpy as np"
   ]
  },
  {
   "cell_type": "code",
   "execution_count": 15,
   "metadata": {},
   "outputs": [],
   "source": [
    "from astropy.table import Table\n",
    "from astropy.io import fits"
   ]
  },
  {
   "cell_type": "code",
   "execution_count": 16,
   "metadata": {},
   "outputs": [],
   "source": [
    "import matplotlib as mpl\n",
    "import matplotlib.pyplot as plt\n",
    "%matplotlib inline\n",
    "\n",
    "import matplotlib.colors as colors\n",
    "import matplotlib.cm as cmx\n",
    "import matplotlib.dates as mdates\n",
    "from matplotlib import gridspec\n",
    "%matplotlib inline"
   ]
  },
  {
   "cell_type": "code",
   "execution_count": 17,
   "metadata": {},
   "outputs": [],
   "source": [
    "import pysynphot as S"
   ]
  },
  {
   "cell_type": "code",
   "execution_count": 18,
   "metadata": {},
   "outputs": [],
   "source": [
    "pysynphot_root_path=os.environ['PYSYN_CDBS']\n",
    "path_sed_calspec=os.path.join(pysynphot_root_path,'calspec')"
   ]
  },
  {
   "cell_type": "code",
   "execution_count": 19,
   "metadata": {},
   "outputs": [],
   "source": [
    "plt.rcParams[\"axes.labelsize\"]=\"large\"\n",
    "plt.rcParams[\"axes.linewidth\"]=2.0\n",
    "plt.rcParams[\"xtick.major.size\"]=8\n",
    "plt.rcParams[\"ytick.major.size\"]=8\n",
    "plt.rcParams[\"ytick.minor.size\"]=5\n",
    "plt.rcParams[\"xtick.labelsize\"]=\"large\"\n",
    "plt.rcParams[\"ytick.labelsize\"]=\"large\"\n",
    "\n",
    "plt.rcParams[\"figure.figsize\"]=(12,8)\n",
    "plt.rcParams['axes.titlesize'] = 16\n",
    "plt.rcParams['axes.titleweight'] = 'bold'\n",
    "#plt.rcParams['axes.facecolor'] = 'blue'\n",
    "plt.rcParams['xtick.direction'] = 'out'\n",
    "plt.rcParams['ytick.direction'] = 'out'\n",
    "plt.rcParams['lines.markeredgewidth'] = 0.3 # the line width around the marker symbol\n",
    "plt.rcParams['lines.markersize'] = 5  # markersize, in points\n",
    "plt.rcParams['grid.alpha'] = 0.75 # transparency, between 0.0 and 1.0\n",
    "plt.rcParams['grid.linestyle'] = '-' # simple line\n",
    "plt.rcParams['grid.linewidth'] = 0.4 # in points\n",
    "plt.rcParams['font.size'] = 13"
   ]
  },
  {
   "cell_type": "code",
   "execution_count": 20,
   "metadata": {},
   "outputs": [
    {
     "name": "stdout",
     "output_type": "stream",
     "text": [
      "1_MakeCalspecList.ipynb                all_viscalspec_relspectra_lin.pdf\n",
      "1bis_MakeHDCalspecList.ipynb           all_viscalspec_relspectra_lin.png\n",
      "2_ViewCalspecSpectra.ipynb             all_viscalspec_spectra_lin.pdf\n",
      "2bis_ViewSelectedCalspecSpectra.ipynb  all_viscalspec_spectra_lin_renorm.png\n",
      "2quat_ViewSelectedCalspecSpectra.ipynb all_viscalspec_spectra_lin_renorm2.png\n",
      "2ter_ViewCalspecSpectra.ipynb          all_viscalspec_spectra_log.pdf\n",
      "3_ViewCalspecColors.ipynb              all_viscalspec_spectra_log.png\n",
      "4_ViewCalspecObsFlux.ipynb             randomseed\n",
      "5_SelectFiewColors.ipynb               simulations\n",
      "IC.DAT                                 table_summary_allcalspec.fits\n",
      "README.md                              table_summary_allcalspec_torenorm.fits\n",
      "all_selectedcalspec_spectra_lin.pdf    table_summary_calspec_hd.fits\n",
      "all_selectedcalspec_spectra_lin_v2.pdf\n"
     ]
    }
   ],
   "source": [
    "! ls"
   ]
  },
  {
   "cell_type": "markdown",
   "metadata": {},
   "source": [
    "# Read table with re-calculated magnitudes"
   ]
  },
  {
   "cell_type": "code",
   "execution_count": 21,
   "metadata": {},
   "outputs": [],
   "source": [
    "t=Table.read('table_summary_allcalspec_torenorm.fits')"
   ]
  },
  {
   "cell_type": "code",
   "execution_count": 22,
   "metadata": {},
   "outputs": [
    {
     "data": {
      "text/html": [
       "<i>Table length=76</i>\n",
       "<table id=\"table140534963757744-418856\" class=\"table-striped table-bordered table-condensed\">\n",
       "<thead><tr><th>idx</th><th>OBJNAME</th><th>RA</th><th>DEC</th><th>SP_TYPE</th><th>SP_QUAL</th><th>magU</th><th>magB</th><th>magV</th><th>magR</th><th>magI</th><th>FILES</th><th>calcU</th><th>calcB</th><th>calcV</th><th>calcR</th><th>calcI</th><th>factor</th><th>VmI</th></tr></thead>\n",
       "<tr><td>0</td><td>NGC7293</td><td>337.411</td><td>-20.837</td><td>DAO.5</td><td>C</td><td>11.894</td><td>13.158</td><td>13.524</td><td>13.689</td><td>13.898</td><td>ngc7293_005.fits</td><td>11.917</td><td>13.180</td><td>13.538</td><td>13.734</td><td>14.234</td><td>26.01</td><td>-0.697</td></tr>\n",
       "<tr><td>1</td><td>FEIGE67</td><td>190.466</td><td>17.522</td><td>sdOpec</td><td>D</td><td>10.261</td><td>11.700</td><td>11.630</td><td>11.969</td><td>12.159</td><td>feige67_002.fits</td><td>10.256</td><td>11.478</td><td>11.811</td><td>11.987</td><td>12.463</td><td>5.3027</td><td>-0.652</td></tr>\n",
       "<tr><td>2</td><td>GD50</td><td>57.209</td><td>-0.976</td><td>DA1.2</td><td>C</td><td>12.596</td><td>13.787</td><td>14.063</td><td>14.210</td><td>14.388</td><td>gd50_004.fits</td><td>12.674</td><td>13.817</td><td>14.043</td><td>14.217</td><td>14.674</td><td>41.416</td><td>-0.631</td></tr>\n",
       "<tr><td>3</td><td>FEIGE66</td><td>189.348</td><td>25.067</td><td>sdB1(k)</td><td>C</td><td>9.117</td><td>10.260</td><td>10.590</td><td>10.642</td><td>10.809</td><td>feige66_002.fits</td><td>9.123</td><td>10.225</td><td>10.487</td><td>10.642</td><td>11.096</td><td>1.5662</td><td>-0.609</td></tr>\n",
       "<tr><td>4</td><td>GD108</td><td>150.197</td><td>-7.559</td><td>sdB</td><td>D</td><td>12.406</td><td>13.349</td><td>13.563</td><td>13.662</td><td>13.781</td><td>gd108_005.fits</td><td>12.412</td><td>13.347</td><td>13.558</td><td>13.659</td><td>14.073</td><td>26.488</td><td>-0.516</td></tr>\n",
       "<tr><td>5</td><td>G93-48</td><td>328.106</td><td>2.389</td><td>DA2.8</td><td>C</td><td>11.942</td><td>12.732</td><td>12.743</td><td>12.839</td><td>12.938</td><td>g93_48_004.fits</td><td>11.982</td><td>12.717</td><td>12.728</td><td>12.836</td><td>13.234</td><td>12.34</td><td>-0.506</td></tr>\n",
       "<tr><td>6</td><td>HZ2</td><td>63.181</td><td>11.864</td><td>DA2.3</td><td>C</td><td>12.903</td><td>13.787</td><td>13.877</td><td>13.984</td><td>14.094</td><td>hz2_005.fits</td><td>12.943</td><td>13.792</td><td>13.849</td><td>13.949</td><td>14.339</td><td>34.649</td><td>-0.490</td></tr>\n",
       "<tr><td>7</td><td>HZ44</td><td>200.897</td><td>36.133</td><td>sdBN0VIIHe28</td><td>B</td><td>10.186</td><td>11.420</td><td>11.650</td><td>12.000</td><td>11.995</td><td>hz44_stis_006.fits</td><td>10.182</td><td>11.363</td><td>11.637</td><td>11.816</td><td>12.102</td><td>4.5175</td><td>-0.464</td></tr>\n",
       "<tr><td>8</td><td>HZ21</td><td>183.484</td><td>32.942</td><td>DO1</td><td>C</td><td>13.125</td><td>14.361</td><td>14.688</td><td>14.837</td><td>15.038</td><td>hz21_stis_006.fits</td><td>13.130</td><td>14.353</td><td>14.662</td><td>14.839</td><td>15.123</td><td>73.268</td><td>-0.461</td></tr>\n",
       "<tr><td>9</td><td>HZ43</td><td>199.091</td><td>29.099</td><td>DAwk</td><td>D</td><td>--</td><td>12.520</td><td>12.660</td><td>--</td><td>--</td><td>hz43_stis_005.fits</td><td>11.417</td><td>12.608</td><td>12.895</td><td>13.072</td><td>13.347</td><td>14.392</td><td>-0.452</td></tr>\n",
       "<tr><td>10</td><td>G191B2B</td><td>76.378</td><td>52.831</td><td>DA.8</td><td>C</td><td>10.250</td><td>11.440</td><td>11.690</td><td>11.930</td><td>12.108</td><td>g191b2b_stiswfcnic_003.fits</td><td>10.246</td><td>11.454</td><td>11.761</td><td>11.942</td><td>12.189</td><td>5.0608</td><td>-0.428</td></tr>\n",
       "<tr><td>11</td><td>LB227</td><td>62.370</td><td>17.132</td><td>DA3.2</td><td>C</td><td>14.660</td><td>15.378</td><td>15.323</td><td>15.408</td><td>15.515</td><td>lb227_004.fits</td><td>14.662</td><td>15.367</td><td>15.296</td><td>15.370</td><td>15.716</td><td>131.37</td><td>-0.419</td></tr>\n",
       "<tr><td>12</td><td>GD153</td><td>194.260</td><td>22.031</td><td>DA1.2</td><td>C</td><td>11.883</td><td>13.060</td><td>13.349</td><td>13.488</td><td>13.669</td><td>gd153_stiswfcnic_003.fits</td><td>11.917</td><td>13.072</td><td>13.331</td><td>13.505</td><td>13.740</td><td>21.493</td><td>-0.409</td></tr>\n",
       "<tr><td>13</td><td>WD1057+719</td><td>165.143</td><td>71.634</td><td>DA1.2</td><td>C</td><td>--</td><td>14.950</td><td>14.680</td><td>15.230</td><td>--</td><td>wd1057_719_stisnic_008.fits</td><td>13.288</td><td>14.452</td><td>14.713</td><td>14.886</td><td>15.121</td><td>76.75</td><td>-0.408</td></tr>\n",
       "<tr><td>14</td><td>FEIGE110</td><td>349.993</td><td>-5.166</td><td>sdO8VIIIHe5</td><td>B</td><td>10.360</td><td>11.450</td><td>11.500</td><td>11.970</td><td>12.145</td><td>feige110_stisnic_008.fits</td><td>10.359</td><td>11.524</td><td>11.815</td><td>11.986</td><td>12.215</td><td>5.3192</td><td>-0.401</td></tr>\n",
       "<tr><td>15</td><td>WD1657+343</td><td>254.713</td><td>34.315</td><td>DA.9</td><td>C</td><td>--</td><td>16.120</td><td>--</td><td>--</td><td>--</td><td>wd1657_343_stiswfcnic_004.fits</td><td>14.972</td><td>16.157</td><td>16.432</td><td>16.592</td><td>16.829</td><td>373.98</td><td>-0.397</td></tr>\n",
       "<tr><td>16</td><td>GD71</td><td>88.115</td><td>15.887</td><td>DA1.5</td><td>C</td><td>11.675</td><td>12.783</td><td>13.032</td><td>13.169</td><td>13.337</td><td>gd71_stiswfcnic_003.fits</td><td>11.675</td><td>12.786</td><td>13.012</td><td>13.181</td><td>13.407</td><td>16.018</td><td>-0.396</td></tr>\n",
       "<tr><td>17</td><td>FEIGE34</td><td>159.903</td><td>43.103</td><td>sdOp</td><td>D</td><td>9.613</td><td>10.910</td><td>11.140</td><td>11.319</td><td>11.464</td><td>feige34_stis_006.fits</td><td>9.610</td><td>10.831</td><td>11.152</td><td>11.316</td><td>11.543</td><td>2.8881</td><td>-0.391</td></tr>\n",
       "<tr><td>18</td><td>MUCOL</td><td>86.500</td><td>-32.306</td><td>O9.5V</td><td>C</td><td>3.840</td><td>4.900</td><td>5.180</td><td>5.300</td><td>5.570</td><td>mucol_stis_005.fits</td><td>3.779</td><td>4.865</td><td>5.128</td><td>5.281</td><td>5.494</td><td>0.011246</td><td>-0.366</td></tr>\n",
       "<tr><td>19</td><td>LAMLEP</td><td>79.894</td><td>-13.177</td><td>B0.5V</td><td>C</td><td>3.030</td><td>4.040</td><td>4.290</td><td>4.410</td><td>4.690</td><td>lamlep_stis_005.fits</td><td>2.989</td><td>4.007</td><td>4.250</td><td>4.389</td><td>4.583</td><td>0.0050111</td><td>-0.333</td></tr>\n",
       "<tr><td>20</td><td>HD93521</td><td>162.098</td><td>37.570</td><td>O9.5IIInn</td><td>C</td><td>5.670</td><td>6.790</td><td>7.030</td><td>--</td><td>--</td><td>hd93521_stis_006.fits</td><td>5.706</td><td>6.767</td><td>6.990</td><td>7.110</td><td>7.303</td><td>0.062524</td><td>-0.313</td></tr>\n",
       "<tr><td>21</td><td>10LAC</td><td>339.815</td><td>39.050</td><td>O9V</td><td>C</td><td>3.650</td><td>4.670</td><td>4.880</td><td>4.980</td><td>5.190</td><td>10lac_stis_005.fits</td><td>3.609</td><td>4.648</td><td>4.845</td><td>4.946</td><td>5.109</td><td>0.0086714</td><td>-0.263</td></tr>\n",
       "<tr><td>22</td><td>HZ4</td><td>58.842</td><td>9.788</td><td>DA3.4</td><td>C</td><td>13.917</td><td>14.592</td><td>14.506</td><td>14.580</td><td>14.642</td><td>hz4_stis_007.fits</td><td>13.923</td><td>14.587</td><td>14.472</td><td>14.561</td><td>14.718</td><td>61.484</td><td>-0.246</td></tr>\n",
       "<tr><td>23</td><td>LTT9491</td><td>349.897</td><td>-17.091</td><td>DB3</td><td>C</td><td>13.279</td><td>14.132</td><td>14.111</td><td>14.070</td><td>14.049</td><td>ltt9491_002.fits</td><td>13.299</td><td>14.115</td><td>14.073</td><td>13.999</td><td>14.285</td><td>42.562</td><td>-0.213</td></tr>\n",
       "<tr><td>24</td><td>WD1327_083</td><td>202.557</td><td>-8.575</td><td>DA3.5</td><td>C</td><td>11.803</td><td>12.398</td><td>12.340</td><td>12.390</td><td>12.436</td><td>wd1327_083_stiswfc_004.fits</td><td>11.758</td><td>12.384</td><td>12.298</td><td>12.384</td><td>12.496</td><td>8.302</td><td>-0.198</td></tr>\n",
       "<tr><td>25</td><td>HD60753</td><td>113.364</td><td>-50.584</td><td>B3IV</td><td>C</td><td>6.020</td><td>6.587</td><td>6.680</td><td>--</td><td>--</td><td>hd60753_stis_004.fits</td><td>5.974</td><td>6.574</td><td>6.656</td><td>6.665</td><td>6.747</td><td>0.045974</td><td>-0.091</td></tr>\n",
       "<tr><td>26</td><td>LDS749B</td><td>323.068</td><td>0.254</td><td>DB4</td><td>C</td><td>13.717</td><td>14.634</td><td>14.674</td><td>14.675</td><td>14.676</td><td>lds749b_stisnic_008.fits</td><td>13.709</td><td>14.621</td><td>14.658</td><td>14.653</td><td>14.729</td><td>72.953</td><td>-0.071</td></tr>\n",
       "<tr><td>27</td><td>HD116405</td><td>200.688</td><td>44.715</td><td>A0V</td><td>C</td><td>--</td><td>8.270</td><td>8.340</td><td>--</td><td>--</td><td>hd116405_stis_005.fits</td><td>8.050</td><td>8.237</td><td>8.296</td><td>8.324</td><td>8.360</td><td>0.20824</td><td>-0.063</td></tr>\n",
       "<tr><td>28</td><td>ETA1DOR</td><td>91.539</td><td>-66.040</td><td>A0V</td><td>C</td><td>--</td><td>5.679</td><td>5.690</td><td>--</td><td>--</td><td>eta1dor_stis_002.fits</td><td>5.565</td><td>5.646</td><td>5.665</td><td>5.679</td><td>5.696</td><td>0.018453</td><td>-0.031</td></tr>\n",
       "<tr><td>29</td><td>SIRIUS</td><td>101.287</td><td>-16.716</td><td>A0mA1Va</td><td>C</td><td>-1.510</td><td>-1.460</td><td>-1.460</td><td>-1.460</td><td>-1.430</td><td>sirius_stis_004.fits</td><td>-1.530</td><td>-1.477</td><td>-1.464</td><td>-1.458</td><td>-1.435</td><td>2.5966e-05</td><td>-0.029</td></tr>\n",
       "<tr><td>30</td><td>HD172167</td><td>279.235</td><td>38.784</td><td>A0Va</td><td>C</td><td>0.030</td><td>0.030</td><td>0.030</td><td>0.070</td><td>0.100</td><td>alpha_lyr_stis_010.fits</td><td>0.000</td><td>0.000</td><td>0.000</td><td>0.000</td><td>0.000</td><td>0.0001</td><td>0.000</td></tr>\n",
       "<tr><td>31</td><td>HD128998</td><td>219.563</td><td>54.023</td><td>A1V</td><td>C</td><td>5.830</td><td>5.830</td><td>5.830</td><td>--</td><td>--</td><td>hd128998_stis_002.fits</td><td>5.780</td><td>5.789</td><td>5.792</td><td>5.789</td><td>5.783</td><td>0.020738</td><td>0.009</td></tr>\n",
       "<tr><td>32</td><td>109VIR</td><td>221.562</td><td>1.893</td><td>A0IIInn</td><td>C</td><td>3.690</td><td>3.720</td><td>3.730</td><td>3.660</td><td>3.680</td><td>109vir_stis_002.fits</td><td>3.649</td><td>3.686</td><td>3.692</td><td>3.681</td><td>3.664</td><td>0.0029987</td><td>0.028</td></tr>\n",
       "<tr><td>33</td><td>GJ7541A</td><td>290.146</td><td>-7.667</td><td>DBQA5</td><td>C</td><td>11.553</td><td>12.345</td><td>12.290</td><td>12.229</td><td>12.164</td><td>gj7541a_stis_004.fits</td><td>11.513</td><td>12.326</td><td>12.278</td><td>12.207</td><td>12.233</td><td>8.1514</td><td>0.045</td></tr>\n",
       "<tr><td>34</td><td>HD165459</td><td>270.628</td><td>58.627</td><td>A1V</td><td>C</td><td>--</td><td>6.980</td><td>6.860</td><td>--</td><td>6.700</td><td>hd165459_stisnic_005.fits</td><td>7.043</td><td>6.966</td><td>6.831</td><td>6.749</td><td>6.696</td><td>0.054003</td><td>0.135</td></tr>\n",
       "<tr><td>35</td><td>HD55677</td><td>108.630</td><td>13.860</td><td>A4V</td><td>C</td><td>--</td><td>9.470</td><td>9.410</td><td>--</td><td>--</td><td>hd55677_stis_002.fits</td><td>9.577</td><td>9.505</td><td>9.431</td><td>9.355</td><td>9.285</td><td>0.59195</td><td>0.146</td></tr>\n",
       "<tr><td>36</td><td>HD180609</td><td>288.197</td><td>64.177</td><td>A0V</td><td>C</td><td>--</td><td>9.570</td><td>9.420</td><td>--</td><td>--</td><td>hd180609_stis_005.fits</td><td>9.617</td><td>9.528</td><td>9.405</td><td>9.317</td><td>9.245</td><td>0.57808</td><td>0.160</td></tr>\n",
       "<tr><td>37</td><td>HD158485</td><td>261.520</td><td>58.652</td><td>A4V</td><td>C</td><td>--</td><td>6.616</td><td>6.494</td><td>--</td><td>--</td><td>hd158485_stis_005.fits</td><td>6.684</td><td>6.605</td><td>6.464</td><td>6.365</td><td>6.290</td><td>0.038503</td><td>0.174</td></tr>\n",
       "<tr><td>38</td><td>HD37725</td><td>85.477</td><td>29.297</td><td>A3V</td><td>C</td><td>--</td><td>8.120</td><td>8.310</td><td>--</td><td>--</td><td>hd37725_stiswfc_003.fits</td><td>8.555</td><td>8.479</td><td>8.298</td><td>8.175</td><td>8.090</td><td>0.20849</td><td>0.208</td></tr>\n",
       "<tr><td>39</td><td>HD14943</td><td>35.728</td><td>-51.092</td><td>A5V</td><td>C</td><td>--</td><td>6.101</td><td>5.898</td><td>--</td><td>--</td><td>hd14943_stis_005.fits</td><td>6.177</td><td>6.078</td><td>5.878</td><td>5.742</td><td>5.653</td><td>0.022457</td><td>0.225</td></tr>\n",
       "<tr><td>40</td><td>HD2811</td><td>7.827</td><td>-43.606</td><td>A3V</td><td>C</td><td>--</td><td>7.670</td><td>7.500</td><td>--</td><td>--</td><td>hd2811_stis_002.fits</td><td>7.751</td><td>7.648</td><td>7.499</td><td>7.366</td><td>7.257</td><td>0.099885</td><td>0.242</td></tr>\n",
       "<tr><td>41</td><td>HD163466</td><td>268.106</td><td>60.396</td><td>A2</td><td>E</td><td>--</td><td>7.040</td><td>6.850</td><td>--</td><td>--</td><td>hd163466_stis_005.fits</td><td>7.143</td><td>7.023</td><td>6.831</td><td>6.685</td><td>6.582</td><td>0.05399</td><td>0.249</td></tr>\n",
       "<tr><td>42</td><td>HD101452</td><td>175.057</td><td>-39.147</td><td>A2/3(m)A8-F2</td><td>E</td><td>--</td><td>7.840</td><td>8.200</td><td>--</td><td>--</td><td>hd101452_stis_002.fits</td><td>7.898</td><td>7.809</td><td>7.508</td><td>7.289</td><td>7.142</td><td>0.10073</td><td>0.366</td></tr>\n",
       "<tr><td>43</td><td>HD074000</td><td>130.212</td><td>-16.345</td><td>F2</td><td>D</td><td>9.840</td><td>10.090</td><td>9.660</td><td>--</td><td>--</td><td>hd074000_stis_005.fits</td><td>9.837</td><td>10.052</td><td>9.637</td><td>9.260</td><td>8.980</td><td>0.71563</td><td>0.657</td></tr>\n",
       "<tr><td>44</td><td>HD209458</td><td>330.795</td><td>18.884</td><td>F9V</td><td>C</td><td>--</td><td>8.210</td><td>7.630</td><td>--</td><td>--</td><td>hd209458_stisnic_008.fits</td><td>8.223</td><td>8.178</td><td>7.622</td><td>7.215</td><td>6.942</td><td>0.11191</td><td>0.680</td></tr>\n",
       "<tr><td>45</td><td>HD38949</td><td>87.084</td><td>-24.464</td><td>G1V</td><td>C</td><td>--</td><td>8.370</td><td>7.800</td><td>--</td><td>--</td><td>hd38949_stis_005.fits</td><td>8.362</td><td>8.339</td><td>7.768</td><td>7.344</td><td>7.059</td><td>0.12802</td><td>0.709</td></tr>\n",
       "<tr><td>46</td><td>HD160617</td><td>265.706</td><td>-40.321</td><td>G0</td><td>D</td><td>--</td><td>9.180</td><td>8.730</td><td>8.394</td><td>8.065</td><td>hd160617_stis_005.fits</td><td>8.999</td><td>9.163</td><td>8.704</td><td>8.294</td><td>7.992</td><td>0.30309</td><td>0.712</td></tr>\n",
       "<tr><td>47</td><td>HD031128</td><td>73.041</td><td>-27.064</td><td>F3/5Vw</td><td>D</td><td>--</td><td>9.550</td><td>9.140</td><td>--</td><td>--</td><td>hd031128_stis_005.fits</td><td>9.398</td><td>9.591</td><td>9.109</td><td>8.693</td><td>8.389</td><td>0.43999</td><td>0.720</td></tr>\n",
       "<tr><td>48</td><td>HD205905</td><td>324.792</td><td>-27.307</td><td>G1.5IV-V</td><td>C</td><td>--</td><td>7.360</td><td>6.740</td><td>--</td><td>--</td><td>hd205905_stis_005.fits</td><td>7.482</td><td>7.340</td><td>6.715</td><td>6.268</td><td>5.970</td><td>0.048508</td><td>0.745</td></tr>\n",
       "<tr><td>49</td><td>HD106252</td><td>183.373</td><td>10.042</td><td>G0</td><td>E</td><td>--</td><td>8.000</td><td>--</td><td>7.000</td><td>--</td><td>hd106252_stis_005.fits</td><td>8.101</td><td>8.007</td><td>7.394</td><td>6.948</td><td>6.646</td><td>0.090687</td><td>0.748</td></tr>\n",
       "<tr><td>50</td><td>HD159222</td><td>263.004</td><td>34.271</td><td>G1V</td><td>C</td><td>7.380</td><td>7.210</td><td>--</td><td>6.100</td><td>--</td><td>hd159222_stis_005.fits</td><td>7.319</td><td>7.141</td><td>6.498</td><td>6.044</td><td>5.741</td><td>0.039738</td><td>0.757</td></tr>\n",
       "<tr><td>51</td><td>HD111980</td><td>193.313</td><td>-18.522</td><td>F7V</td><td>C</td><td>8.800</td><td>8.910</td><td>8.380</td><td>--</td><td>--</td><td>hd111980_stis_005.fits</td><td>8.778</td><td>8.878</td><td>8.350</td><td>7.912</td><td>7.590</td><td>0.21883</td><td>0.760</td></tr>\n",
       "<tr><td>52</td><td>HD167060</td><td>274.434</td><td>-61.709</td><td>G3V</td><td>C</td><td>--</td><td>9.560</td><td>8.920</td><td>--</td><td>--</td><td>hd167060_stis_002.fits</td><td>9.668</td><td>9.535</td><td>8.903</td><td>8.448</td><td>8.132</td><td>0.36417</td><td>0.771</td></tr>\n",
       "<tr><td>53</td><td>18SCO</td><td>243.905</td><td>-8.369</td><td>G2Va</td><td>B</td><td>--</td><td>6.150</td><td>5.500</td><td>--</td><td>--</td><td>18sco_stis_002.fits</td><td>6.272</td><td>6.107</td><td>5.463</td><td>5.000</td><td>4.683</td><td>0.015313</td><td>0.779</td></tr>\n",
       "<tr><td>54</td><td>HD37962</td><td>85.217</td><td>-31.351</td><td>G2V</td><td>C</td><td>--</td><td>8.500</td><td>7.850</td><td>--</td><td>--</td><td>hd37962_stis_005.fits</td><td>8.567</td><td>8.461</td><td>7.817</td><td>7.351</td><td>7.028</td><td>0.13394</td><td>0.790</td></tr>\n",
       "<tr><td>55</td><td>HD115169</td><td>198.947</td><td>-29.506</td><td>G3V</td><td>C</td><td>--</td><td>9.890</td><td>9.200</td><td>--</td><td>--</td><td>hd115169_stis_002.fits</td><td>10.003</td><td>9.867</td><td>9.222</td><td>8.752</td><td>8.427</td><td>0.48827</td><td>0.794</td></tr>\n",
       "<tr><td>56</td><td>16CYGB</td><td>295.455</td><td>50.525</td><td>--</td><td>--</td><td>--</td><td>--</td><td>--</td><td>--</td><td>--</td><td>16cygb_stis_002.fits</td><td>7.068</td><td>6.869</td><td>6.202</td><td>5.727</td><td>5.407</td><td>0.030256</td><td>0.795</td></tr>\n",
       "<tr><td>57</td><td>HD185975</td><td>307.078</td><td>-87.472</td><td>G3V</td><td>C</td><td>--</td><td>8.780</td><td>8.100</td><td>--</td><td>--</td><td>hd185975_stis_005.fits</td><td>8.997</td><td>8.764</td><td>8.078</td><td>7.591</td><td>7.261</td><td>0.17022</td><td>0.816</td></tr>\n",
       "<tr><td>58</td><td>HD142331</td><td>238.582</td><td>-8.580</td><td>G5V</td><td>C</td><td>--</td><td>9.390</td><td>8.750</td><td>--</td><td>--</td><td>hd142331_stis_002.fits</td><td>9.591</td><td>9.381</td><td>8.698</td><td>8.210</td><td>7.878</td><td>0.3014</td><td>0.819</td></tr>\n",
       "<tr><td>59</td><td>HD200654</td><td>316.645</td><td>-49.964</td><td>CEMP</td><td>C</td><td>--</td><td>9.740</td><td>9.110</td><td>--</td><td>--</td><td>hd200654_stis_005.fits</td><td>9.591</td><td>9.683</td><td>9.071</td><td>8.533</td><td>8.119</td><td>0.42495</td><td>0.952</td></tr>\n",
       "<tr><td>60</td><td>FLAT</td><td>0.000</td><td>0.000</td><td>flat</td><td>0</td><td>9.721</td><td>10.369</td><td>10.000</td><td>9.501</td><td>9.001</td><td>flat</td><td>9.721</td><td>10.369</td><td>10.000</td><td>9.501</td><td>9.001</td><td>1</td><td>0.999</td></tr>\n",
       "<tr><td>61</td><td>HD009051</td><td>22.194</td><td>-24.340</td><td>G6/8IIIwF5</td><td>D</td><td>--</td><td>9.730</td><td>8.920</td><td>--</td><td>--</td><td>hd009051_stis_005.fits</td><td>9.981</td><td>9.728</td><td>8.913</td><td>8.292</td><td>7.823</td><td>0.36761</td><td>1.091</td></tr>\n",
       "<tr><td>62</td><td>BD11D3759</td><td>218.570</td><td>-12.520</td><td>M3.5V</td><td>C</td><td>14.041</td><td>12.915</td><td>11.317</td><td>10.093</td><td>8.473</td><td>bd11d3759_stis_002.fits</td><td>14.016</td><td>12.874</td><td>11.294</td><td>9.484</td><td>8.081</td><td>3.2939</td><td>3.213</td></tr>\n",
       "<tr><td>63</td><td>VB8</td><td>253.897</td><td>-8.395</td><td>M7Ve</td><td>C</td><td>--</td><td>18.700</td><td>16.916</td><td>14.566</td><td>12.240</td><td>vb8_stiswfcnic_003.fits</td><td>20.269</td><td>18.759</td><td>16.778</td><td>13.688</td><td>11.389</td><td>514.2</td><td>5.389</td></tr>\n",
       "<tr><td>64</td><td>NGC6681-1</td><td>280.803</td><td>-32.292</td><td>--</td><td>--</td><td>--</td><td>9.760</td><td>9.060</td><td>--</td><td>--</td><td>ngc6681_1_stis_001.fits</td><td>16.087</td><td>15.924</td><td>16.052</td><td>18.905</td><td>--</td><td>263.41</td><td>--</td></tr>\n",
       "<tr><td>65</td><td>NGC6681-2</td><td>280.803</td><td>-32.292</td><td>--</td><td>--</td><td>--</td><td>9.760</td><td>9.060</td><td>--</td><td>--</td><td>ngc6681_2_stis_001.fits</td><td>16.162</td><td>16.174</td><td>16.367</td><td>19.278</td><td>--</td><td>352.11</td><td>--</td></tr>\n",
       "<tr><td>66</td><td>NGC6681-3</td><td>280.803</td><td>-32.292</td><td>--</td><td>--</td><td>--</td><td>9.760</td><td>9.060</td><td>--</td><td>--</td><td>ngc6681_3_stis_001.fits</td><td>16.400</td><td>16.766</td><td>16.953</td><td>19.696</td><td>--</td><td>604.17</td><td>--</td></tr>\n",
       "<tr><td>67</td><td>NGC6681-4</td><td>280.803</td><td>-32.292</td><td>--</td><td>--</td><td>--</td><td>9.760</td><td>9.060</td><td>--</td><td>--</td><td>ngc6681_4_stis_001.fits</td><td>15.894</td><td>15.997</td><td>16.186</td><td>19.125</td><td>--</td><td>298.25</td><td>--</td></tr>\n",
       "<tr><td>68</td><td>NGC6681-5</td><td>280.803</td><td>-32.292</td><td>--</td><td>--</td><td>--</td><td>9.760</td><td>9.060</td><td>--</td><td>--</td><td>ngc6681_5_stis_001.fits</td><td>15.960</td><td>16.024</td><td>16.120</td><td>19.054</td><td>--</td><td>280.51</td><td>--</td></tr>\n",
       "<tr><td>69</td><td>NGC6681-6</td><td>280.803</td><td>-32.292</td><td>--</td><td>--</td><td>--</td><td>9.760</td><td>9.060</td><td>--</td><td>--</td><td>ngc6681_6_stis_001.fits</td><td>15.985</td><td>16.074</td><td>16.204</td><td>18.940</td><td>--</td><td>303.01</td><td>--</td></tr>\n",
       "<tr><td>70</td><td>NGC6681-7</td><td>280.803</td><td>-32.292</td><td>--</td><td>--</td><td>--</td><td>9.760</td><td>9.060</td><td>--</td><td>--</td><td>ngc6681_7_stis_001.fits</td><td>16.221</td><td>15.836</td><td>15.316</td><td>18.182</td><td>--</td><td>133.78</td><td>--</td></tr>\n",
       "<tr><td>71</td><td>NGC6681-8</td><td>280.803</td><td>-32.292</td><td>--</td><td>--</td><td>--</td><td>9.760</td><td>9.060</td><td>--</td><td>--</td><td>ngc6681_8_stis_001.fits</td><td>16.417</td><td>16.749</td><td>16.930</td><td>19.879</td><td>--</td><td>591.49</td><td>--</td></tr>\n",
       "<tr><td>72</td><td>NGC6681-9</td><td>280.803</td><td>-32.292</td><td>--</td><td>--</td><td>--</td><td>9.760</td><td>9.060</td><td>--</td><td>--</td><td>ngc6681_9_stis_001.fits</td><td>16.054</td><td>15.896</td><td>15.977</td><td>18.783</td><td>--</td><td>246</td><td>--</td></tr>\n",
       "<tr><td>73</td><td>NGC6681-11</td><td>280.803</td><td>-32.292</td><td>--</td><td>--</td><td>--</td><td>9.760</td><td>9.060</td><td>--</td><td>--</td><td>ngc6681_11_stis_001.fits</td><td>16.014</td><td>15.852</td><td>15.893</td><td>18.730</td><td>--</td><td>227.65</td><td>--</td></tr>\n",
       "<tr><td>74</td><td>NGC6681-10</td><td>280.803</td><td>-32.292</td><td>--</td><td>--</td><td>--</td><td>9.760</td><td>9.060</td><td>--</td><td>--</td><td>ngc6681_10_stis_001.fits</td><td>17.843</td><td>18.313</td><td>18.308</td><td>20.980</td><td>--</td><td>2104.2</td><td>--</td></tr>\n",
       "<tr><td>75</td><td>NGC6681-12</td><td>280.803</td><td>-32.292</td><td>--</td><td>--</td><td>--</td><td>9.760</td><td>9.060</td><td>--</td><td>--</td><td>ngc6681_12_stis_001.fits</td><td>16.656</td><td>17.126</td><td>17.270</td><td>20.156</td><td>--</td><td>809.29</td><td>--</td></tr>\n",
       "</table><style>table.dataTable {clear: both; width: auto !important; margin: 0 !important;}\n",
       ".dataTables_info, .dataTables_length, .dataTables_filter, .dataTables_paginate{\n",
       "display: inline-block; margin-right: 1em; }\n",
       ".paginate_button { margin-right: 5px; }\n",
       "</style>\n",
       "<script>\n",
       "\n",
       "var astropy_sort_num = function(a, b) {\n",
       "    var a_num = parseFloat(a);\n",
       "    var b_num = parseFloat(b);\n",
       "\n",
       "    if (isNaN(a_num) && isNaN(b_num))\n",
       "        return ((a < b) ? -1 : ((a > b) ? 1 : 0));\n",
       "    else if (!isNaN(a_num) && !isNaN(b_num))\n",
       "        return ((a_num < b_num) ? -1 : ((a_num > b_num) ? 1 : 0));\n",
       "    else\n",
       "        return isNaN(a_num) ? -1 : 1;\n",
       "}\n",
       "\n",
       "require.config({paths: {\n",
       "    datatables: 'https://cdn.datatables.net/1.10.12/js/jquery.dataTables.min'\n",
       "}});\n",
       "require([\"datatables\"], function(){\n",
       "    console.log(\"$('#table140534963757744-418856').dataTable()\");\n",
       "    \n",
       "jQuery.extend( jQuery.fn.dataTableExt.oSort, {\n",
       "    \"optionalnum-asc\": astropy_sort_num,\n",
       "    \"optionalnum-desc\": function (a,b) { return -astropy_sort_num(a, b); }\n",
       "});\n",
       "\n",
       "    $('#table140534963757744-418856').dataTable({\n",
       "        order: [],\n",
       "        pageLength: 50,\n",
       "        lengthMenu: [[10, 25, 50, 100, 500, 1000, -1], [10, 25, 50, 100, 500, 1000, 'All']],\n",
       "        pagingType: \"full_numbers\",\n",
       "        columnDefs: [{targets: [0, 2, 3, 6, 7, 8, 9, 10, 12, 13, 14, 15, 16, 17, 18], type: \"optionalnum\"}]\n",
       "    });\n",
       "});\n",
       "</script>\n"
      ],
      "text/plain": [
       "<IPython.core.display.HTML object>"
      ]
     },
     "execution_count": 22,
     "metadata": {},
     "output_type": "execute_result"
    }
   ],
   "source": [
    "t.show_in_notebook()"
   ]
  },
  {
   "cell_type": "markdown",
   "metadata": {},
   "source": [
    "# Show the color V-I"
   ]
  },
  {
   "cell_type": "code",
   "execution_count": 23,
   "metadata": {},
   "outputs": [
    {
     "data": {
      "text/plain": [
       "Text(0, 0.5, 'color V - I')"
      ]
     },
     "execution_count": 23,
     "metadata": {},
     "output_type": "execute_result"
    },
    {
     "data": {
      "image/png": "[encoded data removed]",
      "text/plain": [
       "<Figure size 864x576 with 1 Axes>"
      ]
     },
     "metadata": {
      "needs_background": "light"
     },
     "output_type": "display_data"
    }
   ],
   "source": [
    "plt.plot(t[\"VmI\"],\"b-\")\n",
    "plt.grid()\n",
    "plt.title(\"V - I color\")\n",
    "plt.xlabel(\"file number\")\n",
    "plt.ylabel(\"color V - I\")"
   ]
  },
  {
   "cell_type": "markdown",
   "metadata": {},
   "source": [
    "# Select a few stars with target colors"
   ]
  },
  {
   "cell_type": "code",
   "execution_count": 24,
   "metadata": {},
   "outputs": [],
   "source": [
    "all_colors=t[\"VmI\"]"
   ]
  },
  {
   "cell_type": "code",
   "execution_count": 25,
   "metadata": {},
   "outputs": [],
   "source": [
    "def find_nearest(a, a0):\n",
    "    \"Element in nd array `a` closest to the scalar value `a0`\"\n",
    "    idx = np.abs(a - a0).argmin()\n",
    "    return a.flat[idx],int(idx)"
   ]
  },
  {
   "cell_type": "code",
   "execution_count": 26,
   "metadata": {},
   "outputs": [],
   "source": [
    "# list of target colors\n",
    "target_VmI=np.array([-0.75,-0.5,-0.25,0,0.25,0.5,0.75,1])\n",
    "NBVmItarget=len(target_VmI)"
   ]
  },
  {
   "cell_type": "code",
   "execution_count": 27,
   "metadata": {},
   "outputs": [],
   "source": [
    "filesselected_index=np.zeros(NBVmItarget)\n",
    "filesselected_VmI=np.zeros(NBVmItarget)"
   ]
  },
  {
   "cell_type": "code",
   "execution_count": 28,
   "metadata": {},
   "outputs": [
    {
     "name": "stdout",
     "output_type": "stream",
     "text": [
      "-0.6965962447104701 0\n",
      "-0.5060116298442292 5\n",
      "-0.2456967884279848 22\n",
      "0.0 30\n",
      "0.24880401434274013 41\n",
      "0.36564197139039134 42\n",
      "0.748126068457081 49\n",
      "0.9987431194359893 60\n"
     ]
    }
   ],
   "source": [
    "idx=0\n",
    "for vmi in target_VmI:\n",
    "    thevmi,theidx=find_nearest(all_colors,vmi)\n",
    "    print(thevmi,theidx)\n",
    "    filesselected_index[idx]=int(theidx)\n",
    "    filesselected_VmI[idx]=thevmi\n",
    "    idx+=1  "
   ]
  },
  {
   "cell_type": "code",
   "execution_count": 29,
   "metadata": {},
   "outputs": [
    {
     "data": {
      "text/plain": [
       "array([ 0.,  5., 22., 30., 41., 42., 49., 60.])"
      ]
     },
     "execution_count": 29,
     "metadata": {},
     "output_type": "execute_result"
    }
   ],
   "source": [
    "filesselected_index"
   ]
  },
  {
   "cell_type": "code",
   "execution_count": 30,
   "metadata": {},
   "outputs": [
    {
     "data": {
      "text/plain": [
       "array([-0.69659624, -0.50601163, -0.24569679,  0.        ,  0.24880401,\n",
       "        0.36564197,  0.74812607,  0.99874312])"
      ]
     },
     "execution_count": 30,
     "metadata": {},
     "output_type": "execute_result"
    }
   ],
   "source": [
    "filesselected_VmI"
   ]
  },
  {
   "cell_type": "code",
   "execution_count": 31,
   "metadata": {},
   "outputs": [],
   "source": [
    "t_selected=Table(t[0])\n",
    "for idx in filesselected_index[1:]:\n",
    "    t_selected.add_row(t[int(idx)])"
   ]
  },
  {
   "cell_type": "code",
   "execution_count": 32,
   "metadata": {},
   "outputs": [
    {
     "data": {
      "text/html": [
       "<i>Table length=8</i>\n",
       "<table id=\"table140534574703232-374284\" class=\"table-striped table-bordered table-condensed\">\n",
       "<thead><tr><th>idx</th><th>OBJNAME</th><th>RA</th><th>DEC</th><th>SP_TYPE</th><th>SP_QUAL</th><th>magU</th><th>magB</th><th>magV</th><th>magR</th><th>magI</th><th>FILES</th><th>calcU</th><th>calcB</th><th>calcV</th><th>calcR</th><th>calcI</th><th>factor</th><th>VmI</th></tr></thead>\n",
       "<tr><td>0</td><td>NGC7293</td><td>337.411</td><td>-20.837</td><td>DAO.5</td><td>C</td><td>11.894</td><td>13.158</td><td>13.524</td><td>13.689</td><td>13.898</td><td>ngc7293_005.fits</td><td>11.917</td><td>13.180</td><td>13.538</td><td>13.734</td><td>14.234</td><td>26.01</td><td>-0.697</td></tr>\n",
       "<tr><td>1</td><td>G93-48</td><td>328.106</td><td>2.389</td><td>DA2.8</td><td>C</td><td>11.942</td><td>12.732</td><td>12.743</td><td>12.839</td><td>12.938</td><td>g93_48_004.fits</td><td>11.982</td><td>12.717</td><td>12.728</td><td>12.836</td><td>13.234</td><td>12.34</td><td>-0.506</td></tr>\n",
       "<tr><td>2</td><td>HZ4</td><td>58.842</td><td>9.788</td><td>DA3.4</td><td>C</td><td>13.917</td><td>14.592</td><td>14.506</td><td>14.580</td><td>14.642</td><td>hz4_stis_007.fits</td><td>13.923</td><td>14.587</td><td>14.472</td><td>14.561</td><td>14.718</td><td>61.484</td><td>-0.246</td></tr>\n",
       "<tr><td>3</td><td>HD172167</td><td>279.235</td><td>38.784</td><td>A0Va</td><td>C</td><td>0.030</td><td>0.030</td><td>0.030</td><td>0.070</td><td>0.100</td><td>alpha_lyr_stis_010.fits</td><td>0.000</td><td>0.000</td><td>0.000</td><td>0.000</td><td>0.000</td><td>0.0001</td><td>0.000</td></tr>\n",
       "<tr><td>4</td><td>HD163466</td><td>268.106</td><td>60.396</td><td>A2</td><td>E</td><td>--</td><td>7.040</td><td>6.850</td><td>--</td><td>--</td><td>hd163466_stis_005.fits</td><td>7.143</td><td>7.023</td><td>6.831</td><td>6.685</td><td>6.582</td><td>0.05399</td><td>0.249</td></tr>\n",
       "<tr><td>5</td><td>HD101452</td><td>175.057</td><td>-39.147</td><td>A2/3(m)A8-F2</td><td>E</td><td>--</td><td>7.840</td><td>8.200</td><td>--</td><td>--</td><td>hd101452_stis_002.fits</td><td>7.898</td><td>7.809</td><td>7.508</td><td>7.289</td><td>7.142</td><td>0.10073</td><td>0.366</td></tr>\n",
       "<tr><td>6</td><td>HD106252</td><td>183.373</td><td>10.042</td><td>G0</td><td>E</td><td>--</td><td>8.000</td><td>--</td><td>7.000</td><td>--</td><td>hd106252_stis_005.fits</td><td>8.101</td><td>8.007</td><td>7.394</td><td>6.948</td><td>6.646</td><td>0.090687</td><td>0.748</td></tr>\n",
       "<tr><td>7</td><td>FLAT</td><td>0.000</td><td>0.000</td><td>flat</td><td>0</td><td>9.721</td><td>10.369</td><td>10.000</td><td>9.501</td><td>9.001</td><td>flat</td><td>9.721</td><td>10.369</td><td>10.000</td><td>9.501</td><td>9.001</td><td>1</td><td>0.999</td></tr>\n",
       "</table><style>table.dataTable {clear: both; width: auto !important; margin: 0 !important;}\n",
       ".dataTables_info, .dataTables_length, .dataTables_filter, .dataTables_paginate{\n",
       "display: inline-block; margin-right: 1em; }\n",
       ".paginate_button { margin-right: 5px; }\n",
       "</style>\n",
       "<script>\n",
       "\n",
       "var astropy_sort_num = function(a, b) {\n",
       "    var a_num = parseFloat(a);\n",
       "    var b_num = parseFloat(b);\n",
       "\n",
       "    if (isNaN(a_num) && isNaN(b_num))\n",
       "        return ((a < b) ? -1 : ((a > b) ? 1 : 0));\n",
       "    else if (!isNaN(a_num) && !isNaN(b_num))\n",
       "        return ((a_num < b_num) ? -1 : ((a_num > b_num) ? 1 : 0));\n",
       "    else\n",
       "        return isNaN(a_num) ? -1 : 1;\n",
       "}\n",
       "\n",
       "require.config({paths: {\n",
       "    datatables: 'https://cdn.datatables.net/1.10.12/js/jquery.dataTables.min'\n",
       "}});\n",
       "require([\"datatables\"], function(){\n",
       "    console.log(\"$('#table140534574703232-374284').dataTable()\");\n",
       "    \n",
       "jQuery.extend( jQuery.fn.dataTableExt.oSort, {\n",
       "    \"optionalnum-asc\": astropy_sort_num,\n",
       "    \"optionalnum-desc\": function (a,b) { return -astropy_sort_num(a, b); }\n",
       "});\n",
       "\n",
       "    $('#table140534574703232-374284').dataTable({\n",
       "        order: [],\n",
       "        pageLength: 50,\n",
       "        lengthMenu: [[10, 25, 50, 100, 500, 1000, -1], [10, 25, 50, 100, 500, 1000, 'All']],\n",
       "        pagingType: \"full_numbers\",\n",
       "        columnDefs: [{targets: [0, 2, 3, 6, 7, 8, 9, 10, 12, 13, 14, 15, 16, 17, 18], type: \"optionalnum\"}]\n",
       "    });\n",
       "});\n",
       "</script>\n"
      ],
      "text/plain": [
       "<IPython.core.display.HTML object>"
      ]
     },
     "execution_count": 32,
     "metadata": {},
     "output_type": "execute_result"
    }
   ],
   "source": [
    "t_selected.show_in_notebook()"
   ]
  },
  {
   "cell_type": "markdown",
   "metadata": {},
   "source": [
    "# Save selected stars sample"
   ]
  },
  {
   "cell_type": "code",
   "execution_count": 33,
   "metadata": {},
   "outputs": [],
   "source": [
    "t_selected.write('table_summary_selectedcalspec.fits', overwrite=True)  "
   ]
  },
  {
   "cell_type": "code",
   "execution_count": null,
   "metadata": {},
   "outputs": [],
   "source": []
  }
 ],
 "metadata": {
  "kernelspec": {
   "display_name": "Python 3 (ipykernel)",
   "language": "python",
   "name": "python3"
  },
  "language_info": {
   "codemirror_mode": {
    "name": "ipython",
    "version": 3
   },
   "file_extension": ".py",
   "mimetype": "text/x-python",
   "name": "python",
   "nbconvert_exporter": "python",
   "pygments_lexer": "ipython3",
   "version": "3.9.7"
  },
  "toc": {
   "nav_menu": {},
   "number_sections": true,
   "sideBar": true,
   "skip_h1_title": false,
   "toc_cell": false,
   "toc_position": {},
   "toc_section_display": "block",
   "toc_window_display": false
  }
 },
 "nbformat": 4,
 "nbformat_minor": 4
}
